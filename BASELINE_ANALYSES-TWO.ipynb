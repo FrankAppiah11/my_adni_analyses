{
 "cells": [
  {
   "cell_type": "markdown",
   "id": "a96d0e14",
   "metadata": {},
   "source": [
    "# Get subset data for next steps\n",
    "- Here we bring in the data to examine time as a feature for consideration.\n",
    "- we remove all highly correlated features\n",
    "- we also examine the distribution of features of interest to decide whether further transformation is needed\n",
    "- we save the subset feature for modeling"
   ]
  },
  {
   "cell_type": "code",
   "execution_count": 43,
   "id": "96569660",
   "metadata": {},
   "outputs": [],
   "source": [
    "import pandas as pd\n",
    "\n",
    "from sklearn.model_selection import train_test_split\n",
    "\n",
    "from sklearn.linear_model import LogisticRegression\n",
    "\n",
    "from sklearn.metrics import classification_report\n",
    "\n",
    "from sklearn.metrics import confusion_matrix,accuracy_score\n",
    "\n",
    "import numpy as np"
   ]
  },
  {
   "cell_type": "code",
   "execution_count": 2,
   "id": "fce26f9b",
   "metadata": {},
   "outputs": [],
   "source": [
    "baseline_df = pd.read_csv('./baseline_data_with_event_and_trans_time.csv')"
   ]
  },
  {
   "cell_type": "code",
   "execution_count": 3,
   "id": "1fc35cf9",
   "metadata": {},
   "outputs": [
    {
     "data": {
      "text/html": [
       "<div>\n",
       "<style scoped>\n",
       "    .dataframe tbody tr th:only-of-type {\n",
       "        vertical-align: middle;\n",
       "    }\n",
       "\n",
       "    .dataframe tbody tr th {\n",
       "        vertical-align: top;\n",
       "    }\n",
       "\n",
       "    .dataframe thead th {\n",
       "        text-align: right;\n",
       "    }\n",
       "</style>\n",
       "<table border=\"1\" class=\"dataframe\">\n",
       "  <thead>\n",
       "    <tr style=\"text-align: right;\">\n",
       "      <th></th>\n",
       "      <th>RID</th>\n",
       "      <th>VISCODE</th>\n",
       "      <th>DXCHANGE</th>\n",
       "      <th>DXCURREN</th>\n",
       "      <th>DXCONV</th>\n",
       "      <th>DXCONTYP</th>\n",
       "      <th>DXREV</th>\n",
       "      <th>DXNORM</th>\n",
       "      <th>DXNODEP</th>\n",
       "      <th>DXMCI</th>\n",
       "      <th>...</th>\n",
       "      <th>TAU_scaled</th>\n",
       "      <th>PTAU_scaled</th>\n",
       "      <th>TOTAL11_scaled</th>\n",
       "      <th>TOTALMOD_scaled</th>\n",
       "      <th>APGEN1_scaled</th>\n",
       "      <th>APGEN2_scaled</th>\n",
       "      <th>MMSCORE_scaled</th>\n",
       "      <th>Event</th>\n",
       "      <th>time</th>\n",
       "      <th>AGE</th>\n",
       "    </tr>\n",
       "  </thead>\n",
       "  <tbody>\n",
       "    <tr>\n",
       "      <th>0</th>\n",
       "      <td>514</td>\n",
       "      <td>bl</td>\n",
       "      <td>NaN</td>\n",
       "      <td>2.0</td>\n",
       "      <td>0.0</td>\n",
       "      <td>-4.0</td>\n",
       "      <td>-4.0</td>\n",
       "      <td>-4.0</td>\n",
       "      <td>-4.0</td>\n",
       "      <td>1.0</td>\n",
       "      <td>...</td>\n",
       "      <td>-1.550</td>\n",
       "      <td>-1.492</td>\n",
       "      <td>-2.305</td>\n",
       "      <td>-2.320</td>\n",
       "      <td>0.064</td>\n",
       "      <td>-0.937</td>\n",
       "      <td>0.209</td>\n",
       "      <td>1</td>\n",
       "      <td>48.0</td>\n",
       "      <td>97.0</td>\n",
       "    </tr>\n",
       "    <tr>\n",
       "      <th>1</th>\n",
       "      <td>3</td>\n",
       "      <td>bl</td>\n",
       "      <td>NaN</td>\n",
       "      <td>3.0</td>\n",
       "      <td>0.0</td>\n",
       "      <td>-4.0</td>\n",
       "      <td>-4.0</td>\n",
       "      <td>-4.0</td>\n",
       "      <td>-4.0</td>\n",
       "      <td>-4.0</td>\n",
       "      <td>...</td>\n",
       "      <td>-0.590</td>\n",
       "      <td>-0.574</td>\n",
       "      <td>2.065</td>\n",
       "      <td>1.996</td>\n",
       "      <td>0.064</td>\n",
       "      <td>1.067</td>\n",
       "      <td>-1.042</td>\n",
       "      <td>1</td>\n",
       "      <td>48.0</td>\n",
       "      <td>98.0</td>\n",
       "    </tr>\n",
       "    <tr>\n",
       "      <th>2</th>\n",
       "      <td>516</td>\n",
       "      <td>bl</td>\n",
       "      <td>NaN</td>\n",
       "      <td>1.0</td>\n",
       "      <td>0.0</td>\n",
       "      <td>-4.0</td>\n",
       "      <td>-4.0</td>\n",
       "      <td>1.0</td>\n",
       "      <td>-4.0</td>\n",
       "      <td>-4.0</td>\n",
       "      <td>...</td>\n",
       "      <td>0.124</td>\n",
       "      <td>-0.073</td>\n",
       "      <td>-0.636</td>\n",
       "      <td>-0.629</td>\n",
       "      <td>0.064</td>\n",
       "      <td>-0.937</td>\n",
       "      <td>0.418</td>\n",
       "      <td>0</td>\n",
       "      <td>NaN</td>\n",
       "      <td>104.0</td>\n",
       "    </tr>\n",
       "    <tr>\n",
       "      <th>3</th>\n",
       "      <td>5</td>\n",
       "      <td>bl</td>\n",
       "      <td>NaN</td>\n",
       "      <td>1.0</td>\n",
       "      <td>0.0</td>\n",
       "      <td>-4.0</td>\n",
       "      <td>-4.0</td>\n",
       "      <td>1.0</td>\n",
       "      <td>-4.0</td>\n",
       "      <td>-4.0</td>\n",
       "      <td>...</td>\n",
       "      <td>0.235</td>\n",
       "      <td>0.210</td>\n",
       "      <td>-0.733</td>\n",
       "      <td>-0.697</td>\n",
       "      <td>0.064</td>\n",
       "      <td>-0.937</td>\n",
       "      <td>0.835</td>\n",
       "      <td>1</td>\n",
       "      <td>48.0</td>\n",
       "      <td>91.0</td>\n",
       "    </tr>\n",
       "    <tr>\n",
       "      <th>4</th>\n",
       "      <td>1030</td>\n",
       "      <td>bl</td>\n",
       "      <td>NaN</td>\n",
       "      <td>2.0</td>\n",
       "      <td>0.0</td>\n",
       "      <td>-4.0</td>\n",
       "      <td>-4.0</td>\n",
       "      <td>-4.0</td>\n",
       "      <td>-4.0</td>\n",
       "      <td>1.0</td>\n",
       "      <td>...</td>\n",
       "      <td>0.737</td>\n",
       "      <td>0.683</td>\n",
       "      <td>-1.028</td>\n",
       "      <td>-0.490</td>\n",
       "      <td>0.064</td>\n",
       "      <td>-0.937</td>\n",
       "      <td>0.626</td>\n",
       "      <td>1</td>\n",
       "      <td>48.0</td>\n",
       "      <td>83.0</td>\n",
       "    </tr>\n",
       "  </tbody>\n",
       "</table>\n",
       "<p>5 rows × 90 columns</p>\n",
       "</div>"
      ],
      "text/plain": [
       "    RID VISCODE  DXCHANGE  DXCURREN  DXCONV  DXCONTYP  DXREV  DXNORM  DXNODEP  \\\n",
       "0   514      bl       NaN       2.0     0.0      -4.0   -4.0    -4.0     -4.0   \n",
       "1     3      bl       NaN       3.0     0.0      -4.0   -4.0    -4.0     -4.0   \n",
       "2   516      bl       NaN       1.0     0.0      -4.0   -4.0     1.0     -4.0   \n",
       "3     5      bl       NaN       1.0     0.0      -4.0   -4.0     1.0     -4.0   \n",
       "4  1030      bl       NaN       2.0     0.0      -4.0   -4.0    -4.0     -4.0   \n",
       "\n",
       "   DXMCI  ... TAU_scaled  PTAU_scaled  TOTAL11_scaled  TOTALMOD_scaled  \\\n",
       "0    1.0  ...     -1.550       -1.492          -2.305           -2.320   \n",
       "1   -4.0  ...     -0.590       -0.574           2.065            1.996   \n",
       "2   -4.0  ...      0.124       -0.073          -0.636           -0.629   \n",
       "3   -4.0  ...      0.235        0.210          -0.733           -0.697   \n",
       "4    1.0  ...      0.737        0.683          -1.028           -0.490   \n",
       "\n",
       "   APGEN1_scaled  APGEN2_scaled  MMSCORE_scaled  Event  time    AGE  \n",
       "0          0.064         -0.937           0.209      1  48.0   97.0  \n",
       "1          0.064          1.067          -1.042      1  48.0   98.0  \n",
       "2          0.064         -0.937           0.418      0   NaN  104.0  \n",
       "3          0.064         -0.937           0.835      1  48.0   91.0  \n",
       "4          0.064         -0.937           0.626      1  48.0   83.0  \n",
       "\n",
       "[5 rows x 90 columns]"
      ]
     },
     "execution_count": 3,
     "metadata": {},
     "output_type": "execute_result"
    }
   ],
   "source": [
    "baseline_df.head()"
   ]
  },
  {
   "cell_type": "markdown",
   "id": "340aced6",
   "metadata": {},
   "source": [
    "# Distribution of Age compared to what was read in from ADNI website\n",
    "\n",
    "- The ages beyond 90 maybe a concern so perhaps cutting off age at below 100 may make sense.\n",
    "- The distribution from ADNI website shown in ADNI EDA notebook shows some age byond 89 but not that many"
   ]
  },
  {
   "cell_type": "code",
   "execution_count": 7,
   "id": "906e7c64",
   "metadata": {},
   "outputs": [
    {
     "data": {
      "text/plain": [
       "<AxesSubplot:ylabel='Frequency'>"
      ]
     },
     "execution_count": 7,
     "metadata": {},
     "output_type": "execute_result"
    },
    {
     "data": {
      "image/png": "[encoded data removed]",
      "text/plain": [
       "<Figure size 432x288 with 1 Axes>"
      ]
     },
     "metadata": {
      "needs_background": "light"
     },
     "output_type": "display_data"
    }
   ],
   "source": [
    "baseline_df['AGE'].plot(kind='hist', bins = 20)"
   ]
  },
  {
   "cell_type": "markdown",
   "id": "e1161531",
   "metadata": {},
   "source": [
    "## With the age cut off at 100, the distribution stil skews left as the original"
   ]
  },
  {
   "cell_type": "code",
   "execution_count": 8,
   "id": "de613556",
   "metadata": {},
   "outputs": [
    {
     "data": {
      "text/plain": [
       "<AxesSubplot:ylabel='Frequency'>"
      ]
     },
     "execution_count": 8,
     "metadata": {},
     "output_type": "execute_result"
    },
    {
     "data": {
      "image/png": "[encoded data removed]",
      "text/plain": [
       "<Figure size 432x288 with 1 Axes>"
      ]
     },
     "metadata": {
      "needs_background": "light"
     },
     "output_type": "display_data"
    }
   ],
   "source": [
    "baseline_df[baseline_df['AGE']<100]['AGE'].plot(kind='hist', bins = 20)"
   ]
  },
  {
   "cell_type": "code",
   "execution_count": 10,
   "id": "9e85c626",
   "metadata": {},
   "outputs": [
    {
     "data": {
      "text/plain": [
       "Index(['RID', 'VISCODE', 'DXCHANGE', 'DXCURREN', 'DXCONV', 'DXCONTYP', 'DXREV',\n",
       "       'DXNORM', 'DXNODEP', 'DXMCI', 'DXMDES', 'DXMPTR1', 'DXMPTR2', 'DXMPTR3',\n",
       "       'DXMPTR4', 'DXMPTR5', 'DXMPTR6', 'DXMDUE', 'DXMOTHET', 'DXMOTHSP',\n",
       "       'DXDSEV', 'DXDDUE', 'DXAD', 'DXADES', 'DXAPP', 'DXAPROB', 'DXAMETASP',\n",
       "       'DXAOTHRSP', 'DXAPOSS', 'DXAATYSP', 'DXAMETSP', 'DXAOTHSP', 'DXPARK',\n",
       "       'DXPARKSP', 'DXPDES', 'DXPCOG', 'DXPATYP', 'DXPOTHSP', 'DXDEP',\n",
       "       'DXDEPSP', 'DXOTHDEM', 'DXODES', 'DXOOTHSP', 'DXCONFID', 'DIAGNOSIS',\n",
       "       'PTSOURCE', 'PTGENDER', 'PTDOBMM', 'PTDOBYY', 'PTHAND', 'PTMARRY',\n",
       "       'PTEDUCAT', 'PTWORKHS', 'PTWORK', 'PTWRECNT', 'PTNOTRT', 'PTRTYR',\n",
       "       'PTHOME', 'PTOTHOME', 'PTTLANG', 'PTPLANG', 'PTPSPEC', 'PTCOGBEG',\n",
       "       'PTMCIBEG', 'PTADBEG', 'PTADDX', 'PTETHCAT', 'PTRACCAT', 'RUNDATE',\n",
       "       'ABETA142', 'PTAU181P', 'TAU', 'ADAS11', 'TOTALMOD', 'APOE4', 'APGEN2',\n",
       "       'MMSE_bl', 'rtaubeta', 'rptaubeta', 'ABETA_scaled', 'TAU_scaled',\n",
       "       'PTAU_scaled', 'TOTAL11_scaled', 'TOTALMOD_scaled', 'APGEN1_scaled',\n",
       "       'APGEN2_scaled', 'MMSCORE_scaled', 'Event', 'time', 'AGE'],\n",
       "      dtype='object')"
      ]
     },
     "execution_count": 10,
     "metadata": {},
     "output_type": "execute_result"
    }
   ],
   "source": [
    "baseline_df.columns"
   ]
  },
  {
   "cell_type": "code",
   "execution_count": 15,
   "id": "eae3afb0",
   "metadata": {},
   "outputs": [
    {
     "data": {
      "text/plain": [
       "-4.0       96\n",
       " 2004.0     9\n",
       " 2001.0     5\n",
       " 1999.0     3\n",
       " 2000.0     3\n",
       " 2003.0     3\n",
       " 2006.0     2\n",
       " 2002.0     2\n",
       " 1998.0     2\n",
       " 2005.0     2\n",
       " 1996.0     1\n",
       " 1997.0     1\n",
       "Name: PTADBEG, dtype: int64"
      ]
     },
     "execution_count": 15,
     "metadata": {},
     "output_type": "execute_result"
    }
   ],
   "source": [
    "baseline_df['PTADBEG'].value_counts()"
   ]
  },
  {
   "cell_type": "markdown",
   "id": "5b53d5dc",
   "metadata": {},
   "source": [
    "## Apoe4 distributions\n",
    "- here we have two versions of Apoe4 similar in distributions but with an obvious shift. \n",
    "- we will drop APGEN1 from further consideration because it has fewer  coverage"
   ]
  },
  {
   "cell_type": "code",
   "execution_count": 21,
   "id": "2ce6e30e",
   "metadata": {},
   "outputs": [
    {
     "data": {
      "text/html": [
       "<div>\n",
       "<style scoped>\n",
       "    .dataframe tbody tr th:only-of-type {\n",
       "        vertical-align: middle;\n",
       "    }\n",
       "\n",
       "    .dataframe tbody tr th {\n",
       "        vertical-align: top;\n",
       "    }\n",
       "\n",
       "    .dataframe thead th {\n",
       "        text-align: right;\n",
       "    }\n",
       "</style>\n",
       "<table border=\"1\" class=\"dataframe\">\n",
       "  <thead>\n",
       "    <tr style=\"text-align: right;\">\n",
       "      <th></th>\n",
       "      <th>APGEN1_scaled</th>\n",
       "      <th>APGEN2_scaled</th>\n",
       "    </tr>\n",
       "  </thead>\n",
       "  <tbody>\n",
       "    <tr>\n",
       "      <th>count</th>\n",
       "      <td>129.000000</td>\n",
       "      <td>129.000000</td>\n",
       "    </tr>\n",
       "    <tr>\n",
       "      <th>mean</th>\n",
       "      <td>0.121543</td>\n",
       "      <td>0.150442</td>\n",
       "    </tr>\n",
       "    <tr>\n",
       "      <th>std</th>\n",
       "      <td>1.093802</td>\n",
       "      <td>1.002243</td>\n",
       "    </tr>\n",
       "    <tr>\n",
       "      <th>min</th>\n",
       "      <td>-2.415000</td>\n",
       "      <td>-0.937000</td>\n",
       "    </tr>\n",
       "    <tr>\n",
       "      <th>25%</th>\n",
       "      <td>0.064000</td>\n",
       "      <td>-0.937000</td>\n",
       "    </tr>\n",
       "    <tr>\n",
       "      <th>50%</th>\n",
       "      <td>0.064000</td>\n",
       "      <td>1.067000</td>\n",
       "    </tr>\n",
       "    <tr>\n",
       "      <th>75%</th>\n",
       "      <td>0.064000</td>\n",
       "      <td>1.067000</td>\n",
       "    </tr>\n",
       "    <tr>\n",
       "      <th>max</th>\n",
       "      <td>2.542000</td>\n",
       "      <td>1.067000</td>\n",
       "    </tr>\n",
       "  </tbody>\n",
       "</table>\n",
       "</div>"
      ],
      "text/plain": [
       "       APGEN1_scaled  APGEN2_scaled\n",
       "count     129.000000     129.000000\n",
       "mean        0.121543       0.150442\n",
       "std         1.093802       1.002243\n",
       "min        -2.415000      -0.937000\n",
       "25%         0.064000      -0.937000\n",
       "50%         0.064000       1.067000\n",
       "75%         0.064000       1.067000\n",
       "max         2.542000       1.067000"
      ]
     },
     "execution_count": 21,
     "metadata": {},
     "output_type": "execute_result"
    }
   ],
   "source": [
    "baseline_df[['APGEN1_scaled','APGEN2_scaled']].describe()"
   ]
  },
  {
   "cell_type": "code",
   "execution_count": 20,
   "id": "021c854a",
   "metadata": {},
   "outputs": [
    {
     "data": {
      "text/plain": [
       "<AxesSubplot:ylabel='Frequency'>"
      ]
     },
     "execution_count": 20,
     "metadata": {},
     "output_type": "execute_result"
    },
    {
     "data": {
      "image/png": "[encoded data removed]",
      "text/plain": [
       "<Figure size 432x288 with 1 Axes>"
      ]
     },
     "metadata": {
      "needs_background": "light"
     },
     "output_type": "display_data"
    }
   ],
   "source": [
    "baseline_df[['APGEN1_scaled','APGEN2_scaled']].plot(kind='hist', bins=10)"
   ]
  },
  {
   "cell_type": "markdown",
   "id": "959298b5",
   "metadata": {},
   "source": [
    "## Time distribution\n",
    "\n",
    "- very little variance may not useful for predicting event. We will include and drop to see the effect"
   ]
  },
  {
   "cell_type": "code",
   "execution_count": 22,
   "id": "d66cae6c",
   "metadata": {},
   "outputs": [
    {
     "data": {
      "text/plain": [
       "<AxesSubplot:ylabel='Frequency'>"
      ]
     },
     "execution_count": 22,
     "metadata": {},
     "output_type": "execute_result"
    },
    {
     "data": {
      "image/png": "[encoded data removed]",
      "text/plain": [
       "<Figure size 432x288 with 1 Axes>"
      ]
     },
     "metadata": {
      "needs_background": "light"
     },
     "output_type": "display_data"
    }
   ],
   "source": [
    "baseline_df['time'].plot(kind='hist')"
   ]
  },
  {
   "cell_type": "code",
   "execution_count": 23,
   "id": "d6869305",
   "metadata": {},
   "outputs": [
    {
     "data": {
      "text/plain": [
       "<AxesSubplot:ylabel='Frequency'>"
      ]
     },
     "execution_count": 23,
     "metadata": {},
     "output_type": "execute_result"
    },
    {
     "data": {
      "image/png": "[encoded data removed]",
      "text/plain": [
       "<Figure size 432x288 with 1 Axes>"
      ]
     },
     "metadata": {
      "needs_background": "light"
     },
     "output_type": "display_data"
    }
   ],
   "source": [
    "baseline_df[['APOE4', 'APGEN2']].plot(kind='hist')"
   ]
  },
  {
   "cell_type": "code",
   "execution_count": 28,
   "id": "e70e9128",
   "metadata": {},
   "outputs": [
    {
     "data": {
      "text/html": [
       "<div>\n",
       "<style scoped>\n",
       "    .dataframe tbody tr th:only-of-type {\n",
       "        vertical-align: middle;\n",
       "    }\n",
       "\n",
       "    .dataframe tbody tr th {\n",
       "        vertical-align: top;\n",
       "    }\n",
       "\n",
       "    .dataframe thead th {\n",
       "        text-align: right;\n",
       "    }\n",
       "</style>\n",
       "<table border=\"1\" class=\"dataframe\">\n",
       "  <thead>\n",
       "    <tr style=\"text-align: right;\">\n",
       "      <th></th>\n",
       "      <th>MMSE_bl</th>\n",
       "      <th>rtaubeta</th>\n",
       "      <th>rptaubeta</th>\n",
       "      <th>TOTAL11_scaled</th>\n",
       "      <th>TOTALMOD_scaled</th>\n",
       "      <th>APGEN1_scaled</th>\n",
       "      <th>MMSCORE_scaled</th>\n",
       "      <th>AGE</th>\n",
       "      <th>time</th>\n",
       "    </tr>\n",
       "  </thead>\n",
       "  <tbody>\n",
       "    <tr>\n",
       "      <th>MMSE_bl</th>\n",
       "      <td>1.000000</td>\n",
       "      <td>-0.320846</td>\n",
       "      <td>-0.308667</td>\n",
       "      <td>-0.550848</td>\n",
       "      <td>-0.580879</td>\n",
       "      <td>-0.195501</td>\n",
       "      <td>1.000000</td>\n",
       "      <td>-0.019375</td>\n",
       "      <td>0.056013</td>\n",
       "    </tr>\n",
       "    <tr>\n",
       "      <th>rtaubeta</th>\n",
       "      <td>-0.320846</td>\n",
       "      <td>1.000000</td>\n",
       "      <td>0.991347</td>\n",
       "      <td>0.258032</td>\n",
       "      <td>0.297257</td>\n",
       "      <td>0.381545</td>\n",
       "      <td>-0.320849</td>\n",
       "      <td>-0.109744</td>\n",
       "      <td>0.065058</td>\n",
       "    </tr>\n",
       "    <tr>\n",
       "      <th>rptaubeta</th>\n",
       "      <td>-0.308667</td>\n",
       "      <td>0.991347</td>\n",
       "      <td>1.000000</td>\n",
       "      <td>0.241118</td>\n",
       "      <td>0.278096</td>\n",
       "      <td>0.374351</td>\n",
       "      <td>-0.308666</td>\n",
       "      <td>-0.119953</td>\n",
       "      <td>0.067325</td>\n",
       "    </tr>\n",
       "    <tr>\n",
       "      <th>TOTAL11_scaled</th>\n",
       "      <td>-0.550848</td>\n",
       "      <td>0.258032</td>\n",
       "      <td>0.241118</td>\n",
       "      <td>1.000000</td>\n",
       "      <td>0.949203</td>\n",
       "      <td>0.270228</td>\n",
       "      <td>-0.550848</td>\n",
       "      <td>-0.042799</td>\n",
       "      <td>0.146769</td>\n",
       "    </tr>\n",
       "    <tr>\n",
       "      <th>TOTALMOD_scaled</th>\n",
       "      <td>-0.580879</td>\n",
       "      <td>0.297257</td>\n",
       "      <td>0.278096</td>\n",
       "      <td>0.949203</td>\n",
       "      <td>1.000000</td>\n",
       "      <td>0.290880</td>\n",
       "      <td>-0.580873</td>\n",
       "      <td>-0.054587</td>\n",
       "      <td>0.134737</td>\n",
       "    </tr>\n",
       "    <tr>\n",
       "      <th>APGEN1_scaled</th>\n",
       "      <td>-0.195501</td>\n",
       "      <td>0.381545</td>\n",
       "      <td>0.374351</td>\n",
       "      <td>0.270228</td>\n",
       "      <td>0.290880</td>\n",
       "      <td>1.000000</td>\n",
       "      <td>-0.195510</td>\n",
       "      <td>0.031001</td>\n",
       "      <td>0.009027</td>\n",
       "    </tr>\n",
       "    <tr>\n",
       "      <th>MMSCORE_scaled</th>\n",
       "      <td>1.000000</td>\n",
       "      <td>-0.320849</td>\n",
       "      <td>-0.308666</td>\n",
       "      <td>-0.550848</td>\n",
       "      <td>-0.580873</td>\n",
       "      <td>-0.195510</td>\n",
       "      <td>1.000000</td>\n",
       "      <td>-0.019406</td>\n",
       "      <td>0.056063</td>\n",
       "    </tr>\n",
       "    <tr>\n",
       "      <th>AGE</th>\n",
       "      <td>-0.019375</td>\n",
       "      <td>-0.109744</td>\n",
       "      <td>-0.119953</td>\n",
       "      <td>-0.042799</td>\n",
       "      <td>-0.054587</td>\n",
       "      <td>0.031001</td>\n",
       "      <td>-0.019406</td>\n",
       "      <td>1.000000</td>\n",
       "      <td>-0.018791</td>\n",
       "    </tr>\n",
       "    <tr>\n",
       "      <th>time</th>\n",
       "      <td>0.056013</td>\n",
       "      <td>0.065058</td>\n",
       "      <td>0.067325</td>\n",
       "      <td>0.146769</td>\n",
       "      <td>0.134737</td>\n",
       "      <td>0.009027</td>\n",
       "      <td>0.056063</td>\n",
       "      <td>-0.018791</td>\n",
       "      <td>1.000000</td>\n",
       "    </tr>\n",
       "  </tbody>\n",
       "</table>\n",
       "</div>"
      ],
      "text/plain": [
       "                  MMSE_bl  rtaubeta  rptaubeta  TOTAL11_scaled  \\\n",
       "MMSE_bl          1.000000 -0.320846  -0.308667       -0.550848   \n",
       "rtaubeta        -0.320846  1.000000   0.991347        0.258032   \n",
       "rptaubeta       -0.308667  0.991347   1.000000        0.241118   \n",
       "TOTAL11_scaled  -0.550848  0.258032   0.241118        1.000000   \n",
       "TOTALMOD_scaled -0.580879  0.297257   0.278096        0.949203   \n",
       "APGEN1_scaled   -0.195501  0.381545   0.374351        0.270228   \n",
       "MMSCORE_scaled   1.000000 -0.320849  -0.308666       -0.550848   \n",
       "AGE             -0.019375 -0.109744  -0.119953       -0.042799   \n",
       "time             0.056013  0.065058   0.067325        0.146769   \n",
       "\n",
       "                 TOTALMOD_scaled  APGEN1_scaled  MMSCORE_scaled       AGE  \\\n",
       "MMSE_bl                -0.580879      -0.195501        1.000000 -0.019375   \n",
       "rtaubeta                0.297257       0.381545       -0.320849 -0.109744   \n",
       "rptaubeta               0.278096       0.374351       -0.308666 -0.119953   \n",
       "TOTAL11_scaled          0.949203       0.270228       -0.550848 -0.042799   \n",
       "TOTALMOD_scaled         1.000000       0.290880       -0.580873 -0.054587   \n",
       "APGEN1_scaled           0.290880       1.000000       -0.195510  0.031001   \n",
       "MMSCORE_scaled         -0.580873      -0.195510        1.000000 -0.019406   \n",
       "AGE                    -0.054587       0.031001       -0.019406  1.000000   \n",
       "time                    0.134737       0.009027        0.056063 -0.018791   \n",
       "\n",
       "                     time  \n",
       "MMSE_bl          0.056013  \n",
       "rtaubeta         0.065058  \n",
       "rptaubeta        0.067325  \n",
       "TOTAL11_scaled   0.146769  \n",
       "TOTALMOD_scaled  0.134737  \n",
       "APGEN1_scaled    0.009027  \n",
       "MMSCORE_scaled   0.056063  \n",
       "AGE             -0.018791  \n",
       "time             1.000000  "
      ]
     },
     "execution_count": 28,
     "metadata": {},
     "output_type": "execute_result"
    }
   ],
   "source": [
    "baseline_df[['MMSE_bl', 'rtaubeta', 'rptaubeta',\n",
    "       'TOTAL11_scaled', 'TOTALMOD_scaled', 'APGEN1_scaled',\n",
    "       'MMSCORE_scaled', 'AGE','time']].corr()"
   ]
  },
  {
   "cell_type": "code",
   "execution_count": 29,
   "id": "97c2a8f6",
   "metadata": {},
   "outputs": [
    {
     "data": {
      "text/html": [
       "<div>\n",
       "<style scoped>\n",
       "    .dataframe tbody tr th:only-of-type {\n",
       "        vertical-align: middle;\n",
       "    }\n",
       "\n",
       "    .dataframe tbody tr th {\n",
       "        vertical-align: top;\n",
       "    }\n",
       "\n",
       "    .dataframe thead th {\n",
       "        text-align: right;\n",
       "    }\n",
       "</style>\n",
       "<table border=\"1\" class=\"dataframe\">\n",
       "  <thead>\n",
       "    <tr style=\"text-align: right;\">\n",
       "      <th></th>\n",
       "      <th>PTHOME</th>\n",
       "      <th>PTETHCAT</th>\n",
       "      <th>PTRACCAT</th>\n",
       "      <th>MMSE_bl</th>\n",
       "      <th>rtaubeta</th>\n",
       "      <th>rptaubeta</th>\n",
       "      <th>TOTAL11_scaled</th>\n",
       "      <th>TOTALMOD_scaled</th>\n",
       "      <th>APGEN1_scaled</th>\n",
       "      <th>MMSCORE_scaled</th>\n",
       "      <th>AGE</th>\n",
       "      <th>Event</th>\n",
       "      <th>time</th>\n",
       "    </tr>\n",
       "  </thead>\n",
       "  <tbody>\n",
       "    <tr>\n",
       "      <th>0</th>\n",
       "      <td>5.0</td>\n",
       "      <td>2.0</td>\n",
       "      <td>5.0</td>\n",
       "      <td>26.0</td>\n",
       "      <td>0.153120</td>\n",
       "      <td>0.012591</td>\n",
       "      <td>-2.305</td>\n",
       "      <td>-2.320</td>\n",
       "      <td>0.064</td>\n",
       "      <td>0.209</td>\n",
       "      <td>97.0</td>\n",
       "      <td>1</td>\n",
       "      <td>48.0</td>\n",
       "    </tr>\n",
       "    <tr>\n",
       "      <th>1</th>\n",
       "      <td>3.0</td>\n",
       "      <td>2.0</td>\n",
       "      <td>5.0</td>\n",
       "      <td>20.0</td>\n",
       "      <td>0.323264</td>\n",
       "      <td>0.030789</td>\n",
       "      <td>2.065</td>\n",
       "      <td>1.996</td>\n",
       "      <td>0.064</td>\n",
       "      <td>-1.042</td>\n",
       "      <td>98.0</td>\n",
       "      <td>1</td>\n",
       "      <td>48.0</td>\n",
       "    </tr>\n",
       "    <tr>\n",
       "      <th>2</th>\n",
       "      <td>1.0</td>\n",
       "      <td>2.0</td>\n",
       "      <td>5.0</td>\n",
       "      <td>27.0</td>\n",
       "      <td>0.174140</td>\n",
       "      <td>0.015914</td>\n",
       "      <td>-0.636</td>\n",
       "      <td>-0.629</td>\n",
       "      <td>0.064</td>\n",
       "      <td>0.418</td>\n",
       "      <td>104.0</td>\n",
       "      <td>0</td>\n",
       "      <td>NaN</td>\n",
       "    </tr>\n",
       "    <tr>\n",
       "      <th>3</th>\n",
       "      <td>1.0</td>\n",
       "      <td>2.0</td>\n",
       "      <td>5.0</td>\n",
       "      <td>29.0</td>\n",
       "      <td>0.615750</td>\n",
       "      <td>0.061082</td>\n",
       "      <td>-0.733</td>\n",
       "      <td>-0.697</td>\n",
       "      <td>0.064</td>\n",
       "      <td>0.835</td>\n",
       "      <td>91.0</td>\n",
       "      <td>1</td>\n",
       "      <td>48.0</td>\n",
       "    </tr>\n",
       "    <tr>\n",
       "      <th>4</th>\n",
       "      <td>1.0</td>\n",
       "      <td>2.0</td>\n",
       "      <td>5.0</td>\n",
       "      <td>28.0</td>\n",
       "      <td>0.459416</td>\n",
       "      <td>0.046173</td>\n",
       "      <td>-1.028</td>\n",
       "      <td>-0.490</td>\n",
       "      <td>0.064</td>\n",
       "      <td>0.626</td>\n",
       "      <td>83.0</td>\n",
       "      <td>1</td>\n",
       "      <td>48.0</td>\n",
       "    </tr>\n",
       "  </tbody>\n",
       "</table>\n",
       "</div>"
      ],
      "text/plain": [
       "   PTHOME  PTETHCAT  PTRACCAT  MMSE_bl  rtaubeta  rptaubeta  TOTAL11_scaled  \\\n",
       "0     5.0       2.0       5.0     26.0  0.153120   0.012591          -2.305   \n",
       "1     3.0       2.0       5.0     20.0  0.323264   0.030789           2.065   \n",
       "2     1.0       2.0       5.0     27.0  0.174140   0.015914          -0.636   \n",
       "3     1.0       2.0       5.0     29.0  0.615750   0.061082          -0.733   \n",
       "4     1.0       2.0       5.0     28.0  0.459416   0.046173          -1.028   \n",
       "\n",
       "   TOTALMOD_scaled  APGEN1_scaled  MMSCORE_scaled    AGE  Event  time  \n",
       "0           -2.320          0.064           0.209   97.0      1  48.0  \n",
       "1            1.996          0.064          -1.042   98.0      1  48.0  \n",
       "2           -0.629          0.064           0.418  104.0      0   NaN  \n",
       "3           -0.697          0.064           0.835   91.0      1  48.0  \n",
       "4           -0.490          0.064           0.626   83.0      1  48.0  "
      ]
     },
     "execution_count": 29,
     "metadata": {},
     "output_type": "execute_result"
    }
   ],
   "source": [
    "baseline_df[['PTHOME', 'PTETHCAT', 'PTRACCAT',\n",
    "       'MMSE_bl', 'rtaubeta', 'rptaubeta',\n",
    "       'TOTAL11_scaled', 'TOTALMOD_scaled', 'APGEN1_scaled',\n",
    "       'MMSCORE_scaled', 'AGE', 'Event', 'time']].head()"
   ]
  },
  {
   "cell_type": "code",
   "execution_count": 36,
   "id": "75ba4cde",
   "metadata": {},
   "outputs": [
    {
     "name": "stdout",
     "output_type": "stream",
     "text": [
      "<class 'pandas.core.frame.DataFrame'>\n",
      "RangeIndex: 129 entries, 0 to 128\n",
      "Data columns (total 13 columns):\n",
      " #   Column           Non-Null Count  Dtype  \n",
      "---  ------           --------------  -----  \n",
      " 0   PTHOME           129 non-null    float64\n",
      " 1   PTETHCAT         129 non-null    float64\n",
      " 2   PTRACCAT         129 non-null    float64\n",
      " 3   MMSE_bl          129 non-null    float64\n",
      " 4   rtaubeta         129 non-null    float64\n",
      " 5   rptaubeta        129 non-null    float64\n",
      " 6   TOTAL11_scaled   129 non-null    float64\n",
      " 7   TOTALMOD_scaled  129 non-null    float64\n",
      " 8   APGEN1_scaled    129 non-null    float64\n",
      " 9   MMSCORE_scaled   129 non-null    float64\n",
      " 10  AGE              129 non-null    float64\n",
      " 11  Event            129 non-null    int64  \n",
      " 12  time             101 non-null    float64\n",
      "dtypes: float64(12), int64(1)\n",
      "memory usage: 13.2 KB\n"
     ]
    }
   ],
   "source": [
    "baseline_df[['PTHOME', 'PTETHCAT', 'PTRACCAT',\n",
    "       'MMSE_bl', 'rtaubeta', 'rptaubeta',\n",
    "       'TOTAL11_scaled', 'TOTALMOD_scaled', 'APGEN1_scaled',\n",
    "       'MMSCORE_scaled', 'AGE', 'Event', 'time']].info()"
   ]
  },
  {
   "cell_type": "code",
   "execution_count": 41,
   "id": "ebd4592c",
   "metadata": {},
   "outputs": [],
   "source": [
    "def impute_num_feature(df_use, num_features_list):\n",
    "    \n",
    "    df = df_use\n",
    "    \n",
    "    for var in num_features_list:\n",
    "        \n",
    "        check = sum(df[var].isnull())\n",
    "        \n",
    "        if check is not None:\n",
    "            \n",
    "            use_median = df[var].median()\n",
    "            \n",
    "            df[var] = df[var].replace(np.nan,use_median)\n",
    "            \n",
    "        else:\n",
    "            \n",
    "            pass\n",
    "        \n",
    "    return df"
   ]
  },
  {
   "cell_type": "code",
   "execution_count": 44,
   "id": "4ec9eac3",
   "metadata": {},
   "outputs": [],
   "source": [
    "baseline_df2 = impute_num_feature(baseline_df, ['time'])"
   ]
  },
  {
   "cell_type": "code",
   "execution_count": 46,
   "id": "e81ae893",
   "metadata": {},
   "outputs": [
    {
     "name": "stdout",
     "output_type": "stream",
     "text": [
      "<class 'pandas.core.frame.DataFrame'>\n",
      "RangeIndex: 129 entries, 0 to 128\n",
      "Data columns (total 13 columns):\n",
      " #   Column           Non-Null Count  Dtype  \n",
      "---  ------           --------------  -----  \n",
      " 0   PTHOME           129 non-null    float64\n",
      " 1   PTETHCAT         129 non-null    float64\n",
      " 2   PTRACCAT         129 non-null    float64\n",
      " 3   MMSE_bl          129 non-null    float64\n",
      " 4   rtaubeta         129 non-null    float64\n",
      " 5   rptaubeta        129 non-null    float64\n",
      " 6   TOTAL11_scaled   129 non-null    float64\n",
      " 7   TOTALMOD_scaled  129 non-null    float64\n",
      " 8   APGEN1_scaled    129 non-null    float64\n",
      " 9   MMSCORE_scaled   129 non-null    float64\n",
      " 10  AGE              129 non-null    float64\n",
      " 11  Event            129 non-null    int64  \n",
      " 12  time             129 non-null    float64\n",
      "dtypes: float64(12), int64(1)\n",
      "memory usage: 13.2 KB\n"
     ]
    }
   ],
   "source": [
    "baseline_df2[['PTHOME', 'PTETHCAT', 'PTRACCAT',\n",
    "       'MMSE_bl', 'rtaubeta', 'rptaubeta',\n",
    "       'TOTAL11_scaled', 'TOTALMOD_scaled', 'APGEN1_scaled',\n",
    "       'MMSCORE_scaled', 'AGE', 'Event', 'time']].info()"
   ]
  },
  {
   "cell_type": "code",
   "execution_count": 31,
   "id": "0378b1ac",
   "metadata": {},
   "outputs": [],
   "source": [
    "feature_use = ['PTHOME', 'PTETHCAT', 'PTRACCAT',\n",
    "       'MMSE_bl', 'rtaubeta', 'rptaubeta',\n",
    "       'TOTAL11_scaled', 'TOTALMOD_scaled', 'APGEN1_scaled',\n",
    "       'MMSCORE_scaled', 'AGE', 'time']\n",
    "\n",
    "target = 'Event'"
   ]
  },
  {
   "cell_type": "markdown",
   "id": "8c45ad9e",
   "metadata": {},
   "source": [
    "## Get the features and target for next steps\n",
    "\n",
    "- we dropped all the correlated features post feature engineering\n",
    "\n",
    "- we also imputed the missing time with the median"
   ]
  },
  {
   "cell_type": "code",
   "execution_count": 50,
   "id": "681daa85",
   "metadata": {},
   "outputs": [],
   "source": [
    "baseline_df_use = baseline_df2[['PTHOME', 'PTETHCAT', 'PTRACCAT',\n",
    "       'MMSE_bl', 'rtaubeta', 'rptaubeta',\n",
    "       'TOTAL11_scaled', 'TOTALMOD_scaled', 'APGEN1_scaled',\n",
    "       'MMSCORE_scaled', 'AGE', 'Event', 'time']]"
   ]
  },
  {
   "cell_type": "code",
   "execution_count": 51,
   "id": "46e717b8",
   "metadata": {},
   "outputs": [],
   "source": [
    "x = baseline_df_use.drop(target, axis=1)\n",
    "y = baseline_df_use[target]"
   ]
  },
  {
   "cell_type": "markdown",
   "id": "657de6c2",
   "metadata": {},
   "source": [
    "### Sanity check"
   ]
  },
  {
   "cell_type": "code",
   "execution_count": 52,
   "id": "ad14f8b5",
   "metadata": {},
   "outputs": [
    {
     "name": "stdout",
     "output_type": "stream",
     "text": [
      "<class 'pandas.core.frame.DataFrame'>\n",
      "RangeIndex: 129 entries, 0 to 128\n",
      "Data columns (total 12 columns):\n",
      " #   Column           Non-Null Count  Dtype  \n",
      "---  ------           --------------  -----  \n",
      " 0   PTHOME           129 non-null    float64\n",
      " 1   PTETHCAT         129 non-null    float64\n",
      " 2   PTRACCAT         129 non-null    float64\n",
      " 3   MMSE_bl          129 non-null    float64\n",
      " 4   rtaubeta         129 non-null    float64\n",
      " 5   rptaubeta        129 non-null    float64\n",
      " 6   TOTAL11_scaled   129 non-null    float64\n",
      " 7   TOTALMOD_scaled  129 non-null    float64\n",
      " 8   APGEN1_scaled    129 non-null    float64\n",
      " 9   MMSCORE_scaled   129 non-null    float64\n",
      " 10  AGE              129 non-null    float64\n",
      " 11  time             129 non-null    float64\n",
      "dtypes: float64(12)\n",
      "memory usage: 12.2 KB\n"
     ]
    }
   ],
   "source": [
    "x.info()"
   ]
  },
  {
   "cell_type": "code",
   "execution_count": 55,
   "id": "98847eb3",
   "metadata": {},
   "outputs": [
    {
     "data": {
      "text/plain": [
       "0      1\n",
       "1      1\n",
       "2      0\n",
       "3      1\n",
       "4      1\n",
       "      ..\n",
       "124    0\n",
       "125    1\n",
       "126    1\n",
       "127    0\n",
       "128    1\n",
       "Name: Event, Length: 129, dtype: int64"
      ]
     },
     "execution_count": 55,
     "metadata": {},
     "output_type": "execute_result"
    }
   ],
   "source": [
    "y"
   ]
  },
  {
   "cell_type": "markdown",
   "id": "91dec87f",
   "metadata": {},
   "source": [
    "# 1a. Fit a logistic regression with time\n",
    "- this uses all the features to predict including and excluding time \n",
    "- the fscore, recal (sensitivity and precision) are all above 80% for the event class but not so good for the no event class.\n",
    "- this is due to class imbalance so we can use some techniques to help create a balance to improve the classification."
   ]
  },
  {
   "cell_type": "code",
   "execution_count": 57,
   "id": "f41c413f",
   "metadata": {},
   "outputs": [
    {
     "name": "stdout",
     "output_type": "stream",
     "text": [
      "              precision    recall  f1-score   support\n",
      "\n",
      "           0       0.50      0.20      0.29         5\n",
      "           1       0.83      0.95      0.89        21\n",
      "\n",
      "    accuracy                           0.81        26\n",
      "   macro avg       0.67      0.58      0.59        26\n",
      "weighted avg       0.77      0.81      0.77        26\n",
      "\n",
      "[[ 1  4]\n",
      " [ 1 20]]\n",
      "0.8076923076923077\n"
     ]
    },
    {
     "name": "stderr",
     "output_type": "stream",
     "text": [
      "/Users/leslieappiah/miniconda3/lib/python3.7/site-packages/sklearn/linear_model/_logistic.py:765: ConvergenceWarning: lbfgs failed to converge (status=1):\n",
      "STOP: TOTAL NO. of ITERATIONS REACHED LIMIT.\n",
      "\n",
      "Increase the number of iterations (max_iter) or scale the data as shown in:\n",
      "    https://scikit-learn.org/stable/modules/preprocessing.html\n",
      "Please also refer to the documentation for alternative solver options:\n",
      "    https://scikit-learn.org/stable/modules/linear_model.html#logistic-regression\n",
      "  extra_warning_msg=_LOGISTIC_SOLVER_CONVERGENCE_MSG)\n"
     ]
    }
   ],
   "source": [
    "x_train, x_test, y_train, y_test = train_test_split(x, y, test_size=0.20, random_state=1)\n",
    "\n",
    "logmodel = LogisticRegression()\n",
    "\n",
    "logmodel.fit(x_train, y_train)\n",
    " \n",
    "predictions = logmodel.predict(x_test)\n",
    "\n",
    "print(classification_report(y_test, predictions))\n",
    "\n",
    "print(confusion_matrix(y_test, predictions))\n",
    "\n",
    "print(accuracy_score(y_test, predictions))"
   ]
  },
  {
   "cell_type": "code",
   "execution_count": 61,
   "id": "2895f138",
   "metadata": {},
   "outputs": [
    {
     "data": {
      "text/plain": [
       "['Event', 'time']"
      ]
     },
     "execution_count": 61,
     "metadata": {},
     "output_type": "execute_result"
    }
   ],
   "source": [
    "[target]+ ['time']"
   ]
  },
  {
   "cell_type": "markdown",
   "id": "a6b27653",
   "metadata": {},
   "source": [
    "# 1b. Logistic regression with no time"
   ]
  },
  {
   "cell_type": "code",
   "execution_count": 62,
   "id": "c20e0f6f",
   "metadata": {},
   "outputs": [],
   "source": [
    "x_no_time = baseline_df_use.drop([target]+ ['time'], axis=1)"
   ]
  },
  {
   "cell_type": "markdown",
   "id": "d4aba937",
   "metadata": {},
   "source": [
    "### sanity check "
   ]
  },
  {
   "cell_type": "code",
   "execution_count": 63,
   "id": "e2c2d368",
   "metadata": {
    "scrolled": true
   },
   "outputs": [
    {
     "data": {
      "text/plain": [
       "Index(['PTHOME', 'PTETHCAT', 'PTRACCAT', 'MMSE_bl', 'rtaubeta', 'rptaubeta',\n",
       "       'TOTAL11_scaled', 'TOTALMOD_scaled', 'APGEN1_scaled', 'MMSCORE_scaled',\n",
       "       'AGE'],\n",
       "      dtype='object')"
      ]
     },
     "execution_count": 63,
     "metadata": {},
     "output_type": "execute_result"
    }
   ],
   "source": [
    "x_no_time.columns"
   ]
  },
  {
   "cell_type": "code",
   "execution_count": 64,
   "id": "b2846df9",
   "metadata": {},
   "outputs": [
    {
     "name": "stdout",
     "output_type": "stream",
     "text": [
      "              precision    recall  f1-score   support\n",
      "\n",
      "           0       0.50      0.20      0.29         5\n",
      "           1       0.83      0.95      0.89        21\n",
      "\n",
      "    accuracy                           0.81        26\n",
      "   macro avg       0.67      0.58      0.59        26\n",
      "weighted avg       0.77      0.81      0.77        26\n",
      "\n",
      "[[ 1  4]\n",
      " [ 1 20]]\n",
      "0.8076923076923077\n"
     ]
    },
    {
     "name": "stderr",
     "output_type": "stream",
     "text": [
      "/Users/leslieappiah/miniconda3/lib/python3.7/site-packages/sklearn/linear_model/_logistic.py:765: ConvergenceWarning: lbfgs failed to converge (status=1):\n",
      "STOP: TOTAL NO. of ITERATIONS REACHED LIMIT.\n",
      "\n",
      "Increase the number of iterations (max_iter) or scale the data as shown in:\n",
      "    https://scikit-learn.org/stable/modules/preprocessing.html\n",
      "Please also refer to the documentation for alternative solver options:\n",
      "    https://scikit-learn.org/stable/modules/linear_model.html#logistic-regression\n",
      "  extra_warning_msg=_LOGISTIC_SOLVER_CONVERGENCE_MSG)\n"
     ]
    }
   ],
   "source": [
    "x_train, x_test, y_train, y_test = train_test_split(x_no_time, y, test_size=0.20, random_state=1)\n",
    "\n",
    "logmodel = LogisticRegression()\n",
    "\n",
    "logmodel.fit(x_train, y_train)\n",
    " \n",
    "predictions = logmodel.predict(x_test)\n",
    "\n",
    "print(classification_report(y_test, predictions))\n",
    "\n",
    "print(confusion_matrix(y_test, predictions))\n",
    "\n",
    "print(accuracy_score(y_test, predictions))"
   ]
  },
  {
   "cell_type": "code",
   "execution_count": 74,
   "id": "82ff2af4",
   "metadata": {},
   "outputs": [],
   "source": [
    "baseline_df2.to_csv('./baseline_data_with_event_and_trans_time_imputed_time.csv', index=False)"
   ]
  },
  {
   "cell_type": "markdown",
   "id": "e5cd82b1",
   "metadata": {},
   "source": [
    "# Time inclusion/exclusion decision\n",
    "\n",
    "- time has no effect as expected. It's out going forward and we will be using the selected feature below"
   ]
  },
  {
   "cell_type": "code",
   "execution_count": 65,
   "id": "31fdcd9e",
   "metadata": {},
   "outputs": [],
   "source": [
    "baseline_df_use2 = baseline_df2[['PTHOME', 'PTETHCAT', 'PTRACCAT',\n",
    "       'MMSE_bl', 'rtaubeta', 'rptaubeta',\n",
    "       'TOTAL11_scaled', 'TOTALMOD_scaled', 'APGEN1_scaled',\n",
    "       'MMSCORE_scaled', 'AGE', 'Event']]"
   ]
  }
 ],
 "metadata": {
  "kernelspec": {
   "display_name": "Python 3",
   "language": "python",
   "name": "python3"
  },
  "language_info": {
   "codemirror_mode": {
    "name": "ipython",
    "version": 3
   },
   "file_extension": ".py",
   "mimetype": "text/x-python",
   "name": "python",
   "nbconvert_exporter": "python",
   "pygments_lexer": "ipython3",
   "version": "3.7.7"
  }
 },
 "nbformat": 4,
 "nbformat_minor": 5
}
