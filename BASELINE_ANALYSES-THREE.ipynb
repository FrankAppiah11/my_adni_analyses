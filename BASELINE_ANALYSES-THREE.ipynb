{
 "cells": [
  {
   "cell_type": "markdown",
   "id": "a1bccb13",
   "metadata": {},
   "source": [
    "# Model training and validation\n",
    "- We split the data into training ans testing\n",
    "- train two models: Gaussian mixture model and KMeans on derived vs original biomarkers\n",
    "- validate them on the test data held out\n",
    "- we use confusion matrix as the validation matrix\n",
    "- we make a decision on which model to move forward with"
   ]
  },
  {
   "cell_type": "code",
   "execution_count": 24,
   "id": "5c4881e7",
   "metadata": {},
   "outputs": [],
   "source": [
    "import imblearn # when you encounter problem loading, install with pip3 and run in a new notebook\n",
    "\n",
    "from imblearn.over_sampling import SMOTE, RandomOverSampler\n",
    "\n",
    "from imblearn.under_sampling import RandomUnderSampler\n",
    "\n",
    "from imblearn.pipeline import Pipeline\n",
    "\n",
    "import pandas as pd\n",
    "\n",
    "from sklearn.model_selection import train_test_split\n",
    "\n",
    "from sklearn.linear_model import LogisticRegression\n",
    "\n",
    "from sklearn.metrics import classification_report\n",
    "\n",
    "from sklearn.metrics import confusion_matrix,accuracy_score\n",
    "\n",
    "import numpy as np\n",
    "\n",
    "from sklearn.ensemble import RandomForestClassifier\n",
    "\n",
    "from sklearn.mixture import GaussianMixture\n",
    "\n",
    "from sklearn.decomposition import PCA\n",
    "\n",
    "from sklearn.cluster import KMeans\n",
    "\n",
    "from joblib import dump, load\n",
    "\n",
    "import seaborn as sns"
   ]
  },
  {
   "cell_type": "code",
   "execution_count": 2,
   "id": "bf5f4a3c",
   "metadata": {},
   "outputs": [],
   "source": [
    "baseline_df = pd.read_csv('./baseline_data_with_event_and_trans_time_imputed_time.csv')"
   ]
  },
  {
   "cell_type": "code",
   "execution_count": 100,
   "id": "01a88e14",
   "metadata": {},
   "outputs": [
    {
     "data": {
      "text/plain": [
       "Index(['RID', 'VISCODE', 'DXCHANGE', 'DXCURREN', 'DXCONV', 'DXCONTYP', 'DXREV',\n",
       "       'DXNORM', 'DXNODEP', 'DXMCI', 'DXMDES', 'DXMPTR1', 'DXMPTR2', 'DXMPTR3',\n",
       "       'DXMPTR4', 'DXMPTR5', 'DXMPTR6', 'DXMDUE', 'DXMOTHET', 'DXMOTHSP',\n",
       "       'DXDSEV', 'DXDDUE', 'DXAD', 'DXADES', 'DXAPP', 'DXAPROB', 'DXAMETASP',\n",
       "       'DXAOTHRSP', 'DXAPOSS', 'DXAATYSP', 'DXAMETSP', 'DXAOTHSP', 'DXPARK',\n",
       "       'DXPARKSP', 'DXPDES', 'DXPCOG', 'DXPATYP', 'DXPOTHSP', 'DXDEP',\n",
       "       'DXDEPSP', 'DXOTHDEM', 'DXODES', 'DXOOTHSP', 'DXCONFID', 'DIAGNOSIS',\n",
       "       'PTSOURCE', 'PTGENDER', 'PTDOBMM', 'PTDOBYY', 'PTHAND', 'PTMARRY',\n",
       "       'PTEDUCAT', 'PTWORKHS', 'PTWORK', 'PTWRECNT', 'PTNOTRT', 'PTRTYR',\n",
       "       'PTHOME', 'PTOTHOME', 'PTTLANG', 'PTPLANG', 'PTPSPEC', 'PTCOGBEG',\n",
       "       'PTMCIBEG', 'PTADBEG', 'PTADDX', 'PTETHCAT', 'PTRACCAT', 'RUNDATE',\n",
       "       'ABETA142', 'PTAU181P', 'TAU', 'ADAS11', 'TOTALMOD', 'APOE4', 'APGEN2',\n",
       "       'MMSE_bl', 'rtaubeta', 'rptaubeta', 'ABETA_scaled', 'TAU_scaled',\n",
       "       'PTAU_scaled', 'TOTAL11_scaled', 'TOTALMOD_scaled', 'APGEN1_scaled',\n",
       "       'APGEN2_scaled', 'MMSCORE_scaled', 'Event', 'time', 'AGE'],\n",
       "      dtype='object')"
      ]
     },
     "execution_count": 100,
     "metadata": {},
     "output_type": "execute_result"
    }
   ],
   "source": [
    "baseline_df.columns"
   ]
  },
  {
   "cell_type": "code",
   "execution_count": 6,
   "id": "03a2547e",
   "metadata": {},
   "outputs": [],
   "source": [
    "baseline_df2 = baseline_df[['PTHOME', 'PTETHCAT', 'PTRACCAT',\n",
    "       'MMSE_bl', 'rtaubeta', 'rptaubeta',\n",
    "       'TOTAL11_scaled', 'TOTALMOD_scaled', 'APGEN1_scaled',\n",
    "       'MMSCORE_scaled', 'AGE', 'Event']]"
   ]
  },
  {
   "cell_type": "code",
   "execution_count": 7,
   "id": "20d7bad4",
   "metadata": {},
   "outputs": [
    {
     "name": "stdout",
     "output_type": "stream",
     "text": [
      "<class 'pandas.core.frame.DataFrame'>\n",
      "RangeIndex: 129 entries, 0 to 128\n",
      "Data columns (total 12 columns):\n",
      " #   Column           Non-Null Count  Dtype  \n",
      "---  ------           --------------  -----  \n",
      " 0   PTHOME           129 non-null    float64\n",
      " 1   PTETHCAT         129 non-null    float64\n",
      " 2   PTRACCAT         129 non-null    float64\n",
      " 3   MMSE_bl          129 non-null    float64\n",
      " 4   rtaubeta         129 non-null    float64\n",
      " 5   rptaubeta        129 non-null    float64\n",
      " 6   TOTAL11_scaled   129 non-null    float64\n",
      " 7   TOTALMOD_scaled  129 non-null    float64\n",
      " 8   APGEN1_scaled    129 non-null    float64\n",
      " 9   MMSCORE_scaled   129 non-null    float64\n",
      " 10  AGE              129 non-null    float64\n",
      " 11  Event            129 non-null    int64  \n",
      "dtypes: float64(11), int64(1)\n",
      "memory usage: 12.2 KB\n"
     ]
    }
   ],
   "source": [
    "baseline_df2.info()"
   ]
  },
  {
   "cell_type": "code",
   "execution_count": 4,
   "id": "bee6c76c",
   "metadata": {},
   "outputs": [],
   "source": [
    "def get_over_under_resample_data(X,Y,under_s, over_s):\n",
    "    \n",
    "    over = SMOTE(sampling_strategy = over_s)\n",
    "    \n",
    "    under = RandomUnderSampler(sampling_strategy=under_s)\n",
    "    \n",
    "    steps = [('o', over), ('u', under)]\n",
    "    \n",
    "    pipeline = Pipeline(steps=steps)\n",
    "    \n",
    "    x, y = pipeline.fit_resample(X,Y)\n",
    "    \n",
    "    return x, y"
   ]
  },
  {
   "cell_type": "code",
   "execution_count": 8,
   "id": "3ef30b30",
   "metadata": {},
   "outputs": [],
   "source": [
    "target = ['Event']"
   ]
  },
  {
   "cell_type": "markdown",
   "id": "c70982a5",
   "metadata": {},
   "source": [
    "## Rationale for splitting before over/under sampling\n",
    "- we split first and only over and under sample the training data\n",
    "- we won't touch the test data because we really want to see how well the model performs against reality"
   ]
  },
  {
   "cell_type": "code",
   "execution_count": 9,
   "id": "3e5b9a7a",
   "metadata": {},
   "outputs": [],
   "source": [
    "X = baseline_df2.drop(target, axis=1)\n",
    "\n",
    "Y = baseline_df2[target]\n",
    "\n",
    "x_train, x_test, y_train, y_test = train_test_split(X, Y, test_size=0.20, random_state=1)"
   ]
  },
  {
   "cell_type": "code",
   "execution_count": 10,
   "id": "5adaf9ae",
   "metadata": {},
   "outputs": [],
   "source": [
    "import warnings\n",
    "warnings.filterwarnings('ignore')"
   ]
  },
  {
   "cell_type": "code",
   "execution_count": 38,
   "id": "88a49e39",
   "metadata": {},
   "outputs": [
    {
     "name": "stdout",
     "output_type": "stream",
     "text": [
      "we are under sampling by 50.000000%\n",
      "              precision    recall  f1-score   support\n",
      "\n",
      "           0       0.67      0.40      0.50         5\n",
      "           1       0.87      0.95      0.91        21\n",
      "\n",
      "    accuracy                           0.85        26\n",
      "   macro avg       0.77      0.68      0.70        26\n",
      "weighted avg       0.83      0.85      0.83        26\n",
      "\n",
      "[[ 2  3]\n",
      " [ 1 20]]\n",
      "0.8461538461538461\n",
      "we are under sampling by 54.444444%\n",
      "              precision    recall  f1-score   support\n",
      "\n",
      "           0       0.40      0.40      0.40         5\n",
      "           1       0.86      0.86      0.86        21\n",
      "\n",
      "    accuracy                           0.77        26\n",
      "   macro avg       0.63      0.63      0.63        26\n",
      "weighted avg       0.77      0.77      0.77        26\n",
      "\n",
      "[[ 2  3]\n",
      " [ 3 18]]\n",
      "0.7692307692307693\n",
      "we are under sampling by 58.888889%\n",
      "              precision    recall  f1-score   support\n",
      "\n",
      "           0       0.67      0.40      0.50         5\n",
      "           1       0.87      0.95      0.91        21\n",
      "\n",
      "    accuracy                           0.85        26\n",
      "   macro avg       0.77      0.68      0.70        26\n",
      "weighted avg       0.83      0.85      0.83        26\n",
      "\n",
      "[[ 2  3]\n",
      " [ 1 20]]\n",
      "0.8461538461538461\n",
      "we are under sampling by 63.333333%\n",
      "              precision    recall  f1-score   support\n",
      "\n",
      "           0       0.50      0.40      0.44         5\n",
      "           1       0.86      0.90      0.88        21\n",
      "\n",
      "    accuracy                           0.81        26\n",
      "   macro avg       0.68      0.65      0.66        26\n",
      "weighted avg       0.79      0.81      0.80        26\n",
      "\n",
      "[[ 2  3]\n",
      " [ 2 19]]\n",
      "0.8076923076923077\n",
      "we are under sampling by 67.777778%\n",
      "              precision    recall  f1-score   support\n",
      "\n",
      "           0       0.38      0.60      0.46         5\n",
      "           1       0.89      0.76      0.82        21\n",
      "\n",
      "    accuracy                           0.73        26\n",
      "   macro avg       0.63      0.68      0.64        26\n",
      "weighted avg       0.79      0.73      0.75        26\n",
      "\n",
      "[[ 3  2]\n",
      " [ 5 16]]\n",
      "0.7307692307692307\n",
      "we are under sampling by 72.222222%\n",
      "              precision    recall  f1-score   support\n",
      "\n",
      "           0       0.25      0.20      0.22         5\n",
      "           1       0.82      0.86      0.84        21\n",
      "\n",
      "    accuracy                           0.73        26\n",
      "   macro avg       0.53      0.53      0.53        26\n",
      "weighted avg       0.71      0.73      0.72        26\n",
      "\n",
      "[[ 1  4]\n",
      " [ 3 18]]\n",
      "0.7307692307692307\n",
      "we are under sampling by 76.666667%\n",
      "              precision    recall  f1-score   support\n",
      "\n",
      "           0       0.33      0.60      0.43         5\n",
      "           1       0.88      0.71      0.79        21\n",
      "\n",
      "    accuracy                           0.69        26\n",
      "   macro avg       0.61      0.66      0.61        26\n",
      "weighted avg       0.78      0.69      0.72        26\n",
      "\n",
      "[[ 3  2]\n",
      " [ 6 15]]\n",
      "0.6923076923076923\n",
      "we are under sampling by 81.111111%\n",
      "              precision    recall  f1-score   support\n",
      "\n",
      "           0       0.43      0.60      0.50         5\n",
      "           1       0.89      0.81      0.85        21\n",
      "\n",
      "    accuracy                           0.77        26\n",
      "   macro avg       0.66      0.70      0.68        26\n",
      "weighted avg       0.81      0.77      0.78        26\n",
      "\n",
      "[[ 3  2]\n",
      " [ 4 17]]\n",
      "0.7692307692307693\n",
      "we are under sampling by 85.555556%\n",
      "              precision    recall  f1-score   support\n",
      "\n",
      "           0       0.38      0.60      0.46         5\n",
      "           1       0.89      0.76      0.82        21\n",
      "\n",
      "    accuracy                           0.73        26\n",
      "   macro avg       0.63      0.68      0.64        26\n",
      "weighted avg       0.79      0.73      0.75        26\n",
      "\n",
      "[[ 3  2]\n",
      " [ 5 16]]\n",
      "0.7307692307692307\n",
      "we are under sampling by 90.000000%\n",
      "              precision    recall  f1-score   support\n",
      "\n",
      "           0       0.33      0.40      0.36         5\n",
      "           1       0.85      0.81      0.83        21\n",
      "\n",
      "    accuracy                           0.73        26\n",
      "   macro avg       0.59      0.60      0.60        26\n",
      "weighted avg       0.75      0.73      0.74        26\n",
      "\n",
      "[[ 2  3]\n",
      " [ 4 17]]\n",
      "0.7307692307692307\n"
     ]
    }
   ],
   "source": [
    "under_s_use = np.linspace(0.5,0.9,10).tolist()\n",
    "\n",
    "for u in under_s_use:\n",
    "    \n",
    "    print('we are under sampling by', format(u,'%'))\n",
    "    \n",
    "    x_balanced, y_balanced = get_over_under_resample_data(x_train,y_train,under_s=u,over_s=0.4)\n",
    "\n",
    "    logmodel = LogisticRegression()\n",
    "\n",
    "    logmodel.fit( x_balanced,  y_balanced)\n",
    " \n",
    "    predictions = logmodel.predict(x_test)\n",
    "\n",
    "    print(classification_report(y_test, predictions))\n",
    "\n",
    "    print(confusion_matrix(y_test, predictions))\n",
    "\n",
    "    print(accuracy_score(y_test, predictions))"
   ]
  },
  {
   "cell_type": "markdown",
   "id": "80727aea",
   "metadata": {},
   "source": [
    "- From the runs above we will undersampe at 58% and over sample at 40%\n",
    "\n",
    "- rationale is that that balance modification improved the model classification performance"
   ]
  },
  {
   "cell_type": "markdown",
   "id": "41dd23a5",
   "metadata": {},
   "source": [
    "## Revised model outperforms the one with imbalanced training data\n",
    "\n",
    "- the fscore, precision and recall all improved across the prediction of the mionority class\n",
    "- accuracy dropped but it is not very important in this context\n",
    "- the weighted metrics are all fairly balanced in this case"
   ]
  },
  {
   "cell_type": "code",
   "execution_count": 12,
   "id": "e77b2eae",
   "metadata": {},
   "outputs": [],
   "source": [
    "X_balanced, Y_balanced = get_over_under_resample_data(x_train,y_train,under_s=0.58,over_s=0.4)"
   ]
  },
  {
   "cell_type": "code",
   "execution_count": 40,
   "id": "35c433eb",
   "metadata": {},
   "outputs": [
    {
     "name": "stdout",
     "output_type": "stream",
     "text": [
      "              precision    recall  f1-score   support\n",
      "\n",
      "           0       0.40      0.40      0.40         5\n",
      "           1       0.86      0.86      0.86        21\n",
      "\n",
      "    accuracy                           0.77        26\n",
      "   macro avg       0.63      0.63      0.63        26\n",
      "weighted avg       0.77      0.77      0.77        26\n",
      "\n",
      "[[ 2  3]\n",
      " [ 3 18]]\n",
      "0.7692307692307693\n"
     ]
    }
   ],
   "source": [
    "logmodel = LogisticRegression()\n",
    "\n",
    "logmodel.fit(X_balanced, Y_balanced)\n",
    " \n",
    "predictions = logmodel.predict(x_test)\n",
    "\n",
    "print(classification_report(y_test, predictions))\n",
    "\n",
    "print(confusion_matrix(y_test, predictions))\n",
    "\n",
    "print(accuracy_score(y_test, predictions))"
   ]
  },
  {
   "cell_type": "markdown",
   "id": "a04d3cfe",
   "metadata": {},
   "source": [
    "# So what?\n",
    "- Well the model can use the information on patients at baseline to correcly classify what they will become in the future.\n",
    "- Specifically,the model can determine 86% of the time correctly if someone will transition in the future."
   ]
  },
  {
   "cell_type": "markdown",
   "id": "3f3472b3",
   "metadata": {},
   "source": [
    "# Let see what random forest classifier makes of this\n",
    "\n",
    "- first we train on the imbalanced data\n",
    "\n",
    "- second we train on the balanced data\n",
    "\n",
    "- we then test both on the imbalanced test\n",
    "\n",
    "- the logistic regression is still better"
   ]
  },
  {
   "cell_type": "code",
   "execution_count": 43,
   "id": "2252a809",
   "metadata": {},
   "outputs": [
    {
     "name": "stdout",
     "output_type": "stream",
     "text": [
      "              precision    recall  f1-score   support\n",
      "\n",
      "           0       0.50      0.20      0.29         5\n",
      "           1       0.83      0.95      0.89        21\n",
      "\n",
      "    accuracy                           0.81        26\n",
      "   macro avg       0.67      0.58      0.59        26\n",
      "weighted avg       0.77      0.81      0.77        26\n",
      "\n",
      "[[ 1  4]\n",
      " [ 1 20]]\n",
      "0.8076923076923077\n"
     ]
    }
   ],
   "source": [
    "rf = RandomForestClassifier()\n",
    "\n",
    "rf.fit(x_train, y_train)\n",
    " \n",
    "predictions = rf.predict(x_test)\n",
    "\n",
    "print(classification_report(y_test, predictions))\n",
    "\n",
    "print(confusion_matrix(y_test, predictions))\n",
    "\n",
    "print(accuracy_score(y_test, predictions))"
   ]
  },
  {
   "cell_type": "code",
   "execution_count": 42,
   "id": "7b81f5df",
   "metadata": {},
   "outputs": [
    {
     "name": "stdout",
     "output_type": "stream",
     "text": [
      "              precision    recall  f1-score   support\n",
      "\n",
      "           0       0.25      0.40      0.31         5\n",
      "           1       0.83      0.71      0.77        21\n",
      "\n",
      "    accuracy                           0.65        26\n",
      "   macro avg       0.54      0.56      0.54        26\n",
      "weighted avg       0.72      0.65      0.68        26\n",
      "\n",
      "[[ 2  3]\n",
      " [ 6 15]]\n",
      "0.6538461538461539\n"
     ]
    }
   ],
   "source": [
    "rf = RandomForestClassifier()\n",
    "\n",
    "rf.fit(X_balanced, Y_balanced)\n",
    " \n",
    "predictions = rf.predict(x_test)\n",
    "\n",
    "print(classification_report(y_test, predictions))\n",
    "\n",
    "print(confusion_matrix(y_test, predictions))\n",
    "\n",
    "print(accuracy_score(y_test, predictions))"
   ]
  },
  {
   "cell_type": "markdown",
   "id": "b6ad42c5",
   "metadata": {},
   "source": [
    "# Next: we will fit a clustering algorithm \n",
    "\n",
    "- The purpose is to get classes in an unsupervised manner\n",
    "- The compare the unsupervsied classes with the Event using confusion matrix"
   ]
  },
  {
   "cell_type": "markdown",
   "id": "3a0babf4",
   "metadata": {},
   "source": [
    "## Recall these functions from Baseline_Analyses-ONE notebook\n",
    "\n",
    "- when all is done, we will package these functions so we don't duplicate them in different notebooks\n",
    "- here we use all the data to train the clustering algorithms\n",
    "- then we compare with event (the ground truth) using confursion matrix"
   ]
  },
  {
   "cell_type": "code",
   "execution_count": 57,
   "id": "4ac9d8f2",
   "metadata": {},
   "outputs": [],
   "source": [
    "def relabel_clusters(df,cluster_type = 'km_clusters'):\n",
    "    \n",
    "    collect = []\n",
    "    \n",
    "    list_size = df[cluster_type].shape[0]\n",
    "    \n",
    "    list_use = df[cluster_type].tolist()\n",
    "    \n",
    "    for i in range(list_size):\n",
    "        \n",
    "        if list_use[i] == 3:\n",
    "            \n",
    "            collect.append(4)\n",
    "            \n",
    "        elif list_use[i] ==2:\n",
    "            \n",
    "            collect.append(3)\n",
    "            \n",
    "        elif list_use[i] == 1:\n",
    "            \n",
    "            collect.append(2)\n",
    "            \n",
    "        else:\n",
    "            \n",
    "            collect.append(1)\n",
    "            \n",
    "    df_use = df\n",
    "    \n",
    "    df_use[cluster_type] = collect\n",
    "    \n",
    "    df_use[cluster_type] = df_use[cluster_type].astype('category')\n",
    "    \n",
    "    return df_use\n",
    "\n",
    "\n",
    "def cluster_models_v1(df_use_features, comps, state_use):\n",
    "    \n",
    "    df = df_use_features\n",
    "    \n",
    "    df_num = np.array(df)\n",
    "    \n",
    "    gm = GaussianMixture(n_components = comps, random_state = state_use).fit(df_num)\n",
    "    \n",
    "    gm_clusters = gm.predict(df_num)\n",
    "    \n",
    "    km = KMeans(n_clusters = comps, random_state = state_use).fit(df_num)\n",
    "    \n",
    "    df['km_clusters'] = km.labels_\n",
    "    \n",
    "    df['gm_clusters'] = gm_clusters\n",
    "    \n",
    "    df[['km_clusters','gm_clusters']] = df[['km_clusters','gm_clusters']].astype('category')\n",
    "    \n",
    "    dump(gm, 'gm_cluster_model_v1.joblib')\n",
    "    \n",
    "    dump(km, 'km_clusters_model_v1.joblib')\n",
    "        \n",
    "    return df\n",
    "\n",
    "\n",
    "def cluster_models_v2(df_use_features, comps, state_use):\n",
    "    \n",
    "    df = df_use_features\n",
    "    \n",
    "    df_num = np.array(df)\n",
    "    \n",
    "    gm = GaussianMixture(n_components = comps, random_state = state_use).fit(df_num)\n",
    "    \n",
    "    gm_clusters = gm.predict(df_num)\n",
    "    \n",
    "    km = KMeans(n_clusters = comps, random_state = state_use).fit(df_num)\n",
    "    \n",
    "    df['km_clusters'] = km.labels_\n",
    "    \n",
    "    df['gm_clusters'] = gm_clusters\n",
    "    \n",
    "    df[['km_clusters','gm_clusters']] = df[['km_clusters','gm_clusters']].astype('category')\n",
    "    \n",
    "    dump(gm, 'gm_cluster_model_v2.joblib')\n",
    "    \n",
    "    dump(km, 'km_clusters_model_v2.joblib')\n",
    "   \n",
    "    return df\n",
    "\n",
    "\n",
    "def cluster_models_v3(df_use_features, comps, state_use):\n",
    "    \n",
    "    df = df_use_features\n",
    "    \n",
    "    df_num = np.array(df)\n",
    "    \n",
    "    gm = GaussianMixture(n_components = comps, random_state = state_use).fit(df_num)\n",
    "    \n",
    "    gm_clusters = gm.predict(df_num)\n",
    "    \n",
    "    km = KMeans(n_clusters = comps, random_state = state_use).fit(df_num)\n",
    "    \n",
    "    df['km_clusters'] = km.labels_\n",
    "    \n",
    "    df['gm_clusters'] = gm_clusters\n",
    "    \n",
    "    df[['km_clusters','gm_clusters']] = df[['km_clusters','gm_clusters']].astype('category')\n",
    "    \n",
    "    dump(gm, 'gm_cluster_model_v3.joblib')\n",
    "    \n",
    "    dump(km, 'km_clusters_model_v3.joblib')\n",
    "   \n",
    "    return df"
   ]
  },
  {
   "cell_type": "code",
   "execution_count": 13,
   "id": "e6bb0071",
   "metadata": {},
   "outputs": [
    {
     "data": {
      "text/plain": [
       "Index(['PTHOME', 'PTETHCAT', 'PTRACCAT', 'MMSE_bl', 'rtaubeta', 'rptaubeta',\n",
       "       'TOTAL11_scaled', 'TOTALMOD_scaled', 'APGEN1_scaled', 'MMSCORE_scaled',\n",
       "       'AGE', 'Event'],\n",
       "      dtype='object')"
      ]
     },
     "execution_count": 13,
     "metadata": {},
     "output_type": "execute_result"
    }
   ],
   "source": [
    "baseline_df2.columns"
   ]
  },
  {
   "cell_type": "code",
   "execution_count": 14,
   "id": "9d88558b",
   "metadata": {},
   "outputs": [],
   "source": [
    "num_feature = ['PTHOME', 'PTETHCAT', 'PTRACCAT', 'MMSE_bl', 'rtaubeta', 'rptaubeta',\n",
    "       'TOTAL11_scaled', 'TOTALMOD_scaled', 'APGEN1_scaled', 'MMSCORE_scaled',\n",
    "       'AGE']\n",
    "\n",
    "out = cluster_models_v1(x_train, comps=2, state_use=54)"
   ]
  },
  {
   "cell_type": "code",
   "execution_count": 15,
   "id": "09a76bc7",
   "metadata": {},
   "outputs": [
    {
     "data": {
      "text/plain": [
       "Index(['PTHOME', 'PTETHCAT', 'PTRACCAT', 'MMSE_bl', 'rtaubeta', 'rptaubeta',\n",
       "       'TOTAL11_scaled', 'TOTALMOD_scaled', 'APGEN1_scaled', 'MMSCORE_scaled',\n",
       "       'AGE', 'km_clusters', 'gm_clusters'],\n",
       "      dtype='object')"
      ]
     },
     "execution_count": 15,
     "metadata": {},
     "output_type": "execute_result"
    }
   ],
   "source": [
    "out.columns"
   ]
  },
  {
   "cell_type": "code",
   "execution_count": 75,
   "id": "ab9b5430",
   "metadata": {},
   "outputs": [
    {
     "data": {
      "text/html": [
       "<div>\n",
       "<style scoped>\n",
       "    .dataframe tbody tr th:only-of-type {\n",
       "        vertical-align: middle;\n",
       "    }\n",
       "\n",
       "    .dataframe tbody tr th {\n",
       "        vertical-align: top;\n",
       "    }\n",
       "\n",
       "    .dataframe thead th {\n",
       "        text-align: right;\n",
       "    }\n",
       "</style>\n",
       "<table border=\"1\" class=\"dataframe\">\n",
       "  <thead>\n",
       "    <tr style=\"text-align: right;\">\n",
       "      <th></th>\n",
       "      <th>PTHOME</th>\n",
       "      <th>PTETHCAT</th>\n",
       "      <th>PTRACCAT</th>\n",
       "      <th>MMSE_bl</th>\n",
       "      <th>rtaubeta</th>\n",
       "      <th>rptaubeta</th>\n",
       "      <th>TOTAL11_scaled</th>\n",
       "      <th>TOTALMOD_scaled</th>\n",
       "      <th>APGEN1_scaled</th>\n",
       "      <th>MMSCORE_scaled</th>\n",
       "      <th>AGE</th>\n",
       "      <th>km_clusters</th>\n",
       "      <th>gm_clusters</th>\n",
       "    </tr>\n",
       "  </thead>\n",
       "  <tbody>\n",
       "    <tr>\n",
       "      <th>80</th>\n",
       "      <td>1.0</td>\n",
       "      <td>2.0</td>\n",
       "      <td>5.0</td>\n",
       "      <td>26.0</td>\n",
       "      <td>0.130624</td>\n",
       "      <td>0.010369</td>\n",
       "      <td>0.689</td>\n",
       "      <td>0.304</td>\n",
       "      <td>0.064</td>\n",
       "      <td>0.209</td>\n",
       "      <td>96.0</td>\n",
       "      <td>0</td>\n",
       "      <td>0</td>\n",
       "    </tr>\n",
       "    <tr>\n",
       "      <th>44</th>\n",
       "      <td>1.0</td>\n",
       "      <td>2.0</td>\n",
       "      <td>5.0</td>\n",
       "      <td>25.0</td>\n",
       "      <td>0.426741</td>\n",
       "      <td>0.040692</td>\n",
       "      <td>1.623</td>\n",
       "      <td>1.686</td>\n",
       "      <td>0.064</td>\n",
       "      <td>0.001</td>\n",
       "      <td>96.0</td>\n",
       "      <td>0</td>\n",
       "      <td>0</td>\n",
       "    </tr>\n",
       "    <tr>\n",
       "      <th>99</th>\n",
       "      <td>1.0</td>\n",
       "      <td>2.0</td>\n",
       "      <td>5.0</td>\n",
       "      <td>24.0</td>\n",
       "      <td>0.337348</td>\n",
       "      <td>0.024681</td>\n",
       "      <td>3.144</td>\n",
       "      <td>2.963</td>\n",
       "      <td>0.064</td>\n",
       "      <td>-0.208</td>\n",
       "      <td>93.0</td>\n",
       "      <td>0</td>\n",
       "      <td>0</td>\n",
       "    </tr>\n",
       "    <tr>\n",
       "      <th>54</th>\n",
       "      <td>1.0</td>\n",
       "      <td>2.0</td>\n",
       "      <td>5.0</td>\n",
       "      <td>30.0</td>\n",
       "      <td>0.509381</td>\n",
       "      <td>0.054597</td>\n",
       "      <td>1.476</td>\n",
       "      <td>1.375</td>\n",
       "      <td>0.064</td>\n",
       "      <td>1.044</td>\n",
       "      <td>94.0</td>\n",
       "      <td>0</td>\n",
       "      <td>0</td>\n",
       "    </tr>\n",
       "    <tr>\n",
       "      <th>83</th>\n",
       "      <td>1.0</td>\n",
       "      <td>2.0</td>\n",
       "      <td>5.0</td>\n",
       "      <td>25.0</td>\n",
       "      <td>0.135618</td>\n",
       "      <td>0.011178</td>\n",
       "      <td>0.445</td>\n",
       "      <td>0.546</td>\n",
       "      <td>0.064</td>\n",
       "      <td>0.001</td>\n",
       "      <td>87.0</td>\n",
       "      <td>1</td>\n",
       "      <td>0</td>\n",
       "    </tr>\n",
       "  </tbody>\n",
       "</table>\n",
       "</div>"
      ],
      "text/plain": [
       "    PTHOME  PTETHCAT  PTRACCAT  MMSE_bl  rtaubeta  rptaubeta  TOTAL11_scaled  \\\n",
       "80     1.0       2.0       5.0     26.0  0.130624   0.010369           0.689   \n",
       "44     1.0       2.0       5.0     25.0  0.426741   0.040692           1.623   \n",
       "99     1.0       2.0       5.0     24.0  0.337348   0.024681           3.144   \n",
       "54     1.0       2.0       5.0     30.0  0.509381   0.054597           1.476   \n",
       "83     1.0       2.0       5.0     25.0  0.135618   0.011178           0.445   \n",
       "\n",
       "    TOTALMOD_scaled  APGEN1_scaled  MMSCORE_scaled   AGE km_clusters  \\\n",
       "80            0.304          0.064           0.209  96.0           0   \n",
       "44            1.686          0.064           0.001  96.0           0   \n",
       "99            2.963          0.064          -0.208  93.0           0   \n",
       "54            1.375          0.064           1.044  94.0           0   \n",
       "83            0.546          0.064           0.001  87.0           1   \n",
       "\n",
       "   gm_clusters  \n",
       "80           0  \n",
       "44           0  \n",
       "99           0  \n",
       "54           0  \n",
       "83           0  "
      ]
     },
     "execution_count": 75,
     "metadata": {},
     "output_type": "execute_result"
    }
   ],
   "source": [
    "out.head()"
   ]
  },
  {
   "cell_type": "markdown",
   "id": "4bc7eaa9",
   "metadata": {},
   "source": [
    "# Visualize clustering w.r.t the engineered biomarkers\n",
    "- We notice that the engineered bomarkers are linear and not separating well."
   ]
  },
  {
   "cell_type": "code",
   "execution_count": 99,
   "id": "bcf6be11",
   "metadata": {},
   "outputs": [
    {
     "data": {
      "text/plain": [
       "<seaborn.axisgrid.FacetGrid at 0x7fc88033f910>"
      ]
     },
     "execution_count": 99,
     "metadata": {},
     "output_type": "execute_result"
    },
    {
     "data": {
      "image/png": "[encoded data removed]",
      "text/plain": [
       "<Figure size 504.925x432 with 1 Axes>"
      ]
     },
     "metadata": {},
     "output_type": "display_data"
    }
   ],
   "source": [
    "sns.set_theme(style=\"white\")\n",
    "\n",
    "sns.relplot(x=\"rptaubeta\", y=\"rtaubeta\", hue=\"km_clusters\",\n",
    "            sizes=(40, 400), alpha=1, palette=\"muted\",\n",
    "            height=6, data=out)"
   ]
  },
  {
   "cell_type": "code",
   "execution_count": 98,
   "id": "1a7835ee",
   "metadata": {},
   "outputs": [
    {
     "data": {
      "text/plain": [
       "<seaborn.axisgrid.FacetGrid at 0x7fc8816c8190>"
      ]
     },
     "execution_count": 98,
     "metadata": {},
     "output_type": "execute_result"
    },
    {
     "data": {
      "image/png": "[encoded data removed]",
      "text/plain": [
       "<Figure size 505.55x432 with 1 Axes>"
      ]
     },
     "metadata": {},
     "output_type": "display_data"
    }
   ],
   "source": [
    "sns.set_theme(style=\"white\")\n",
    "\n",
    "sns.relplot(x=\"rptaubeta\", y=\"rtaubeta\", hue=\"gm_clusters\",\n",
    "            sizes=(40, 400), alpha=1, palette=\"muted\",\n",
    "            height=6, data=out)"
   ]
  },
  {
   "cell_type": "markdown",
   "id": "b51c245c",
   "metadata": {},
   "source": [
    "# Compare model performance with Ground truth (Event)\n",
    "\n",
    "- From the analyses below, Kmeans is slightly outperforming the agussian mixture model across all metrics\n",
    "- notice that here we used the imbalanced data"
   ]
  },
  {
   "cell_type": "markdown",
   "id": "b9f11ecf",
   "metadata": {},
   "source": [
    "# KMeans predictions and model validation\n",
    "\n",
    "- here we load the saved model and score it on an out of sample data\n",
    "\n",
    "- the metrics of interest are recall, precision and fscore\n",
    "\n",
    "- it is apparent the model is performing averagely across all metrics\n"
   ]
  },
  {
   "cell_type": "code",
   "execution_count": 79,
   "id": "5cf3abd2",
   "metadata": {},
   "outputs": [],
   "source": [
    "km = load('km_clusters_model_v1.joblib')\n",
    "\n",
    "km_pred = km.predict(x_test)"
   ]
  },
  {
   "cell_type": "code",
   "execution_count": 80,
   "id": "6b04f3b4",
   "metadata": {},
   "outputs": [
    {
     "name": "stdout",
     "output_type": "stream",
     "text": [
      "              precision    recall  f1-score   support\n",
      "\n",
      "           0       0.19      0.60      0.29         5\n",
      "           1       0.80      0.38      0.52        21\n",
      "\n",
      "    accuracy                           0.42        26\n",
      "   macro avg       0.49      0.49      0.40        26\n",
      "weighted avg       0.68      0.42      0.47        26\n",
      "\n",
      "[[ 3  2]\n",
      " [13  8]]\n",
      "0.4230769230769231\n"
     ]
    }
   ],
   "source": [
    "print(classification_report(y_test, km_pred))\n",
    "\n",
    "print(confusion_matrix(y_test, km_pred))\n",
    "\n",
    "print(accuracy_score(y_test, km_pred))"
   ]
  },
  {
   "cell_type": "markdown",
   "id": "521e4428",
   "metadata": {},
   "source": [
    "## Gaussiam mixture model predictions and model validation\n",
    "\n",
    "- it is apparent the model is performing averagely across "
   ]
  },
  {
   "cell_type": "code",
   "execution_count": null,
   "id": "e6820fe3",
   "metadata": {},
   "outputs": [],
   "source": [
    "gm = load('gm_cluster_model_v1.joblib')\n",
    "\n",
    "gm_pred = gm.predict(x_test)"
   ]
  },
  {
   "cell_type": "code",
   "execution_count": 78,
   "id": "0c148457",
   "metadata": {},
   "outputs": [
    {
     "name": "stdout",
     "output_type": "stream",
     "text": [
      "              precision    recall  f1-score   support\n",
      "\n",
      "           0       0.21      0.80      0.33         5\n",
      "           1       0.86      0.29      0.43        21\n",
      "\n",
      "    accuracy                           0.38        26\n",
      "   macro avg       0.53      0.54      0.38        26\n",
      "weighted avg       0.73      0.38      0.41        26\n",
      "\n",
      "[[ 4  1]\n",
      " [15  6]]\n",
      "0.38461538461538464\n"
     ]
    }
   ],
   "source": [
    "print(classification_report(y_test, gm_pred))\n",
    "\n",
    "print(confusion_matrix(y_test, gm_pred))\n",
    "\n",
    "print(accuracy_score(y_test, gm_pred))"
   ]
  },
  {
   "cell_type": "markdown",
   "id": "7bc8c25e",
   "metadata": {},
   "source": [
    "# Trying with the biomarkers prior to engineering\n",
    "- this means using abeta and ptau or tau to check the separation"
   ]
  },
  {
   "cell_type": "code",
   "execution_count": 16,
   "id": "053f115a",
   "metadata": {},
   "outputs": [],
   "source": [
    "baseline_df3 = baseline_df[['PTHOME', 'PTETHCAT', 'PTRACCAT',\n",
    "       'MMSE_bl', 'ABETA142', 'PTAU181P', 'TAU',\n",
    "       'TOTAL11_scaled', 'TOTALMOD_scaled', 'APGEN1_scaled',\n",
    "       'MMSCORE_scaled', 'AGE', 'Event']]"
   ]
  },
  {
   "cell_type": "code",
   "execution_count": 33,
   "id": "47fd00cb",
   "metadata": {},
   "outputs": [],
   "source": [
    "X1 = baseline_df3.drop(target, axis=1)\n",
    "\n",
    "Y1 = baseline_df2[target]\n",
    "\n",
    "x_train1, x_test1, y_train1, y_test1 = train_test_split(X1, Y1, test_size=0.20, random_state=1)"
   ]
  },
  {
   "cell_type": "code",
   "execution_count": 34,
   "id": "d5705266",
   "metadata": {},
   "outputs": [
    {
     "data": {
      "text/plain": [
       "12"
      ]
     },
     "execution_count": 34,
     "metadata": {},
     "output_type": "execute_result"
    }
   ],
   "source": [
    "len(x_train1.columns)"
   ]
  },
  {
   "cell_type": "code",
   "execution_count": 56,
   "id": "23eb10ef",
   "metadata": {},
   "outputs": [],
   "source": [
    "out2 = cluster_models_v2(x_train1, comps=2, state_use=54)"
   ]
  },
  {
   "cell_type": "code",
   "execution_count": 21,
   "id": "60cfc21d",
   "metadata": {
    "scrolled": true
   },
   "outputs": [
    {
     "data": {
      "text/html": [
       "<div>\n",
       "<style scoped>\n",
       "    .dataframe tbody tr th:only-of-type {\n",
       "        vertical-align: middle;\n",
       "    }\n",
       "\n",
       "    .dataframe tbody tr th {\n",
       "        vertical-align: top;\n",
       "    }\n",
       "\n",
       "    .dataframe thead th {\n",
       "        text-align: right;\n",
       "    }\n",
       "</style>\n",
       "<table border=\"1\" class=\"dataframe\">\n",
       "  <thead>\n",
       "    <tr style=\"text-align: right;\">\n",
       "      <th></th>\n",
       "      <th>PTHOME</th>\n",
       "      <th>PTETHCAT</th>\n",
       "      <th>PTRACCAT</th>\n",
       "      <th>MMSE_bl</th>\n",
       "      <th>ABETA142</th>\n",
       "      <th>PTAU181P</th>\n",
       "      <th>TAU</th>\n",
       "      <th>TOTAL11_scaled</th>\n",
       "      <th>TOTALMOD_scaled</th>\n",
       "      <th>APGEN1_scaled</th>\n",
       "      <th>MMSCORE_scaled</th>\n",
       "      <th>AGE</th>\n",
       "      <th>km_clusters</th>\n",
       "      <th>gm_clusters</th>\n",
       "    </tr>\n",
       "  </thead>\n",
       "  <tbody>\n",
       "    <tr>\n",
       "      <th>80</th>\n",
       "      <td>1.0</td>\n",
       "      <td>2.0</td>\n",
       "      <td>5.0</td>\n",
       "      <td>26.0</td>\n",
       "      <td>2387.0</td>\n",
       "      <td>24.75</td>\n",
       "      <td>311.8</td>\n",
       "      <td>0.689</td>\n",
       "      <td>0.304</td>\n",
       "      <td>0.064</td>\n",
       "      <td>0.209</td>\n",
       "      <td>96.0</td>\n",
       "      <td>1</td>\n",
       "      <td>1</td>\n",
       "    </tr>\n",
       "    <tr>\n",
       "      <th>44</th>\n",
       "      <td>1.0</td>\n",
       "      <td>2.0</td>\n",
       "      <td>5.0</td>\n",
       "      <td>25.0</td>\n",
       "      <td>756.9</td>\n",
       "      <td>30.80</td>\n",
       "      <td>323.0</td>\n",
       "      <td>1.623</td>\n",
       "      <td>1.686</td>\n",
       "      <td>0.064</td>\n",
       "      <td>0.001</td>\n",
       "      <td>96.0</td>\n",
       "      <td>0</td>\n",
       "      <td>0</td>\n",
       "    </tr>\n",
       "    <tr>\n",
       "      <th>99</th>\n",
       "      <td>1.0</td>\n",
       "      <td>2.0</td>\n",
       "      <td>5.0</td>\n",
       "      <td>24.0</td>\n",
       "      <td>689.2</td>\n",
       "      <td>17.01</td>\n",
       "      <td>232.5</td>\n",
       "      <td>3.144</td>\n",
       "      <td>2.963</td>\n",
       "      <td>0.064</td>\n",
       "      <td>-0.208</td>\n",
       "      <td>93.0</td>\n",
       "      <td>0</td>\n",
       "      <td>0</td>\n",
       "    </tr>\n",
       "    <tr>\n",
       "      <th>54</th>\n",
       "      <td>1.0</td>\n",
       "      <td>2.0</td>\n",
       "      <td>5.0</td>\n",
       "      <td>30.0</td>\n",
       "      <td>751.5</td>\n",
       "      <td>41.03</td>\n",
       "      <td>382.8</td>\n",
       "      <td>1.476</td>\n",
       "      <td>1.375</td>\n",
       "      <td>0.064</td>\n",
       "      <td>1.044</td>\n",
       "      <td>94.0</td>\n",
       "      <td>0</td>\n",
       "      <td>0</td>\n",
       "    </tr>\n",
       "    <tr>\n",
       "      <th>83</th>\n",
       "      <td>1.0</td>\n",
       "      <td>2.0</td>\n",
       "      <td>5.0</td>\n",
       "      <td>25.0</td>\n",
       "      <td>1036.0</td>\n",
       "      <td>11.58</td>\n",
       "      <td>140.5</td>\n",
       "      <td>0.445</td>\n",
       "      <td>0.546</td>\n",
       "      <td>0.064</td>\n",
       "      <td>0.001</td>\n",
       "      <td>87.0</td>\n",
       "      <td>0</td>\n",
       "      <td>0</td>\n",
       "    </tr>\n",
       "  </tbody>\n",
       "</table>\n",
       "</div>"
      ],
      "text/plain": [
       "    PTHOME  PTETHCAT  PTRACCAT  MMSE_bl  ABETA142  PTAU181P    TAU  \\\n",
       "80     1.0       2.0       5.0     26.0    2387.0     24.75  311.8   \n",
       "44     1.0       2.0       5.0     25.0     756.9     30.80  323.0   \n",
       "99     1.0       2.0       5.0     24.0     689.2     17.01  232.5   \n",
       "54     1.0       2.0       5.0     30.0     751.5     41.03  382.8   \n",
       "83     1.0       2.0       5.0     25.0    1036.0     11.58  140.5   \n",
       "\n",
       "    TOTAL11_scaled  TOTALMOD_scaled  APGEN1_scaled  MMSCORE_scaled   AGE  \\\n",
       "80           0.689            0.304          0.064           0.209  96.0   \n",
       "44           1.623            1.686          0.064           0.001  96.0   \n",
       "99           3.144            2.963          0.064          -0.208  93.0   \n",
       "54           1.476            1.375          0.064           1.044  94.0   \n",
       "83           0.445            0.546          0.064           0.001  87.0   \n",
       "\n",
       "   km_clusters gm_clusters  \n",
       "80           1           1  \n",
       "44           0           0  \n",
       "99           0           0  \n",
       "54           0           0  \n",
       "83           0           0  "
      ]
     },
     "execution_count": 21,
     "metadata": {},
     "output_type": "execute_result"
    }
   ],
   "source": [
    "out2.head()"
   ]
  },
  {
   "cell_type": "code",
   "execution_count": 25,
   "id": "4728380d",
   "metadata": {},
   "outputs": [
    {
     "data": {
      "text/plain": [
       "<seaborn.axisgrid.FacetGrid at 0x7fc0b63346d0>"
      ]
     },
     "execution_count": 25,
     "metadata": {},
     "output_type": "execute_result"
    },
    {
     "data": {
      "image/png": "[encoded data removed]",
      "text/plain": [
       "<Figure size 505.55x432 with 1 Axes>"
      ]
     },
     "metadata": {},
     "output_type": "display_data"
    }
   ],
   "source": [
    "sns.set_theme(style=\"white\")\n",
    "\n",
    "sns.relplot(x=\"ABETA142\", y=\"TAU\", hue=\"gm_clusters\",\n",
    "            sizes=(40, 400), alpha=1, palette=\"muted\",\n",
    "            height=6, data=out2)"
   ]
  },
  {
   "cell_type": "code",
   "execution_count": 27,
   "id": "9d9feb42",
   "metadata": {},
   "outputs": [
    {
     "data": {
      "text/plain": [
       "<seaborn.axisgrid.FacetGrid at 0x7fc0b5310510>"
      ]
     },
     "execution_count": 27,
     "metadata": {},
     "output_type": "execute_result"
    },
    {
     "data": {
      "image/png": "[encoded data removed]",
      "text/plain": [
       "<Figure size 504.925x432 with 1 Axes>"
      ]
     },
     "metadata": {},
     "output_type": "display_data"
    }
   ],
   "source": [
    "sns.set_theme(style=\"white\")\n",
    "\n",
    "sns.relplot(x=\"ABETA142\", y=\"TAU\", hue=\"km_clusters\",\n",
    "            sizes=(40, 400), alpha=1, palette=\"muted\",\n",
    "            height=6, data=out2)"
   ]
  },
  {
   "cell_type": "markdown",
   "id": "961f38fd",
   "metadata": {},
   "source": [
    "## Checking with KM \n",
    "- the model has high recal for non events and high precision for events. \n",
    "- Could be due to the high imbalance influencing the classification\n",
    "- we will use a balanced data to confirm"
   ]
  },
  {
   "cell_type": "code",
   "execution_count": 39,
   "id": "195b22ac",
   "metadata": {},
   "outputs": [],
   "source": [
    "km2 = load('km_clusters_model_v2.joblib')\n",
    "\n",
    "km_pred2 = km2.predict(x_test1)"
   ]
  },
  {
   "cell_type": "code",
   "execution_count": 40,
   "id": "9c1e10a7",
   "metadata": {},
   "outputs": [
    {
     "name": "stdout",
     "output_type": "stream",
     "text": [
      "              precision    recall  f1-score   support\n",
      "\n",
      "           0       0.19      0.80      0.31         5\n",
      "           1       0.80      0.19      0.31        21\n",
      "\n",
      "    accuracy                           0.31        26\n",
      "   macro avg       0.50      0.50      0.31        26\n",
      "weighted avg       0.68      0.31      0.31        26\n",
      "\n",
      "[[ 4  1]\n",
      " [17  4]]\n",
      "0.3076923076923077\n"
     ]
    }
   ],
   "source": [
    "print(classification_report(y_test1, km_pred2))\n",
    "\n",
    "print(confusion_matrix(y_test1, km_pred2))\n",
    "\n",
    "print(accuracy_score(y_test1, km_pred2))"
   ]
  },
  {
   "cell_type": "markdown",
   "id": "07dac674",
   "metadata": {},
   "source": [
    "## Checking from a GM standpoint\n",
    "- the model is doing poorly in identifying non-events and excellently identifying events"
   ]
  },
  {
   "cell_type": "code",
   "execution_count": 36,
   "id": "0cfbc28f",
   "metadata": {},
   "outputs": [],
   "source": [
    "gm2 = load('gm_cluster_model_v2.joblib')\n",
    "\n",
    "gm_pred2 = gm2.predict(x_test1)"
   ]
  },
  {
   "cell_type": "code",
   "execution_count": 37,
   "id": "612bca82",
   "metadata": {},
   "outputs": [
    {
     "name": "stdout",
     "output_type": "stream",
     "text": [
      "              precision    recall  f1-score   support\n",
      "\n",
      "           0       0.00      0.00      0.00         5\n",
      "           1       0.81      1.00      0.89        21\n",
      "\n",
      "    accuracy                           0.81        26\n",
      "   macro avg       0.40      0.50      0.45        26\n",
      "weighted avg       0.65      0.81      0.72        26\n",
      "\n",
      "[[ 0  5]\n",
      " [ 0 21]]\n",
      "0.8076923076923077\n"
     ]
    }
   ],
   "source": [
    "print(classification_report(y_test1, gm_pred2))\n",
    "\n",
    "print(confusion_matrix(y_test1, gm_pred2))\n",
    "\n",
    "print(accuracy_score(y_test1, gm_pred2))"
   ]
  },
  {
   "cell_type": "code",
   "execution_count": 44,
   "id": "c812a23c",
   "metadata": {},
   "outputs": [],
   "source": [
    "x_train1 = x_train1.drop(columns=['km_clusters', 'gm_clusters'])"
   ]
  },
  {
   "cell_type": "markdown",
   "id": "3a967b85",
   "metadata": {},
   "source": [
    "## How does it look with a random forest model\n",
    "- here the weighted fscore is better than the GM and KM models"
   ]
  },
  {
   "cell_type": "code",
   "execution_count": 47,
   "id": "32d689ef",
   "metadata": {},
   "outputs": [
    {
     "name": "stdout",
     "output_type": "stream",
     "text": [
      "              precision    recall  f1-score   support\n",
      "\n",
      "           0       0.33      0.20      0.25         5\n",
      "           1       0.83      0.90      0.86        21\n",
      "\n",
      "    accuracy                           0.77        26\n",
      "   macro avg       0.58      0.55      0.56        26\n",
      "weighted avg       0.73      0.77      0.75        26\n",
      "\n",
      "[[ 1  4]\n",
      " [ 2 19]]\n",
      "0.7692307692307693\n"
     ]
    }
   ],
   "source": [
    "rf2 = RandomForestClassifier()\n",
    "\n",
    "rf2.fit(x_train1, y_train1)\n",
    " \n",
    "predictions2 = rf2.predict(x_test1)\n",
    "\n",
    "print(classification_report(y_test1, predictions2))\n",
    "\n",
    "print(confusion_matrix(y_test1, predictions2))\n",
    "\n",
    "print(accuracy_score(y_test1, predictions2))"
   ]
  },
  {
   "cell_type": "markdown",
   "id": "b85e8f85",
   "metadata": {},
   "source": [
    "# Fit all three models to the balanced data\n",
    "- First we fit and test for the random forest which performed worse on the validation test set compared to the imbalanced data fit.\n",
    "- Second we fit the KM model which also worse compared to the one fitted to the imbalanced data.\n",
    "- Lastly we fit the GM model which beformed BETTER on the validation set compared to its version fitted on the imbalanced data."
   ]
  },
  {
   "cell_type": "code",
   "execution_count": 49,
   "id": "51cc131d",
   "metadata": {},
   "outputs": [],
   "source": [
    "X_balanced_1, Y_balanced_1 = get_over_under_resample_data(x_train1,y_train1,under_s=0.58,over_s=0.4)"
   ]
  },
  {
   "cell_type": "markdown",
   "id": "7d4d054e",
   "metadata": {},
   "source": [
    "## Ranfom forest\n",
    "- here again we have a classification model that we train with labels and then use to predict future occurence of the event"
   ]
  },
  {
   "cell_type": "code",
   "execution_count": 53,
   "id": "51707e39",
   "metadata": {},
   "outputs": [
    {
     "name": "stdout",
     "output_type": "stream",
     "text": [
      "              precision    recall  f1-score   support\n",
      "\n",
      "           0       0.12      0.20      0.15         5\n",
      "           1       0.78      0.67      0.72        21\n",
      "\n",
      "    accuracy                           0.58        26\n",
      "   macro avg       0.45      0.43      0.44        26\n",
      "weighted avg       0.65      0.58      0.61        26\n",
      "\n",
      "[[ 1  4]\n",
      " [ 7 14]]\n",
      "0.5769230769230769\n"
     ]
    }
   ],
   "source": [
    "rf3 = RandomForestClassifier()\n",
    "\n",
    "rf3.fit(X_balanced_1, Y_balanced_1)\n",
    " \n",
    "predictions3 = rf3.predict(x_test1)\n",
    "\n",
    "print(classification_report(y_test1, predictions3))\n",
    "\n",
    "print(confusion_matrix(y_test1, predictions3))\n",
    "\n",
    "print(accuracy_score(y_test1, predictions3))"
   ]
  },
  {
   "cell_type": "code",
   "execution_count": 61,
   "id": "5845177c",
   "metadata": {},
   "outputs": [],
   "source": [
    "X_balanced_1 = X_balanced_1.drop(columns=['km_clusters', 'gm_clusters'])"
   ]
  },
  {
   "cell_type": "markdown",
   "id": "92dc5160",
   "metadata": {},
   "source": [
    "# Train clustering algorithms\n",
    "\n",
    "- here we train the two clustering/unsupervised algorithms KM and GMM (GM) \n",
    "- tested them on out of sample data"
   ]
  },
  {
   "cell_type": "code",
   "execution_count": 62,
   "id": "305db7a2",
   "metadata": {},
   "outputs": [],
   "source": [
    "out3 = cluster_models_v3(X_balanced_1, comps=2, state_use=54)"
   ]
  },
  {
   "cell_type": "code",
   "execution_count": 63,
   "id": "9eb7e14d",
   "metadata": {},
   "outputs": [
    {
     "data": {
      "text/html": [
       "<div>\n",
       "<style scoped>\n",
       "    .dataframe tbody tr th:only-of-type {\n",
       "        vertical-align: middle;\n",
       "    }\n",
       "\n",
       "    .dataframe tbody tr th {\n",
       "        vertical-align: top;\n",
       "    }\n",
       "\n",
       "    .dataframe thead th {\n",
       "        text-align: right;\n",
       "    }\n",
       "</style>\n",
       "<table border=\"1\" class=\"dataframe\">\n",
       "  <thead>\n",
       "    <tr style=\"text-align: right;\">\n",
       "      <th></th>\n",
       "      <th>PTHOME</th>\n",
       "      <th>PTETHCAT</th>\n",
       "      <th>PTRACCAT</th>\n",
       "      <th>MMSE_bl</th>\n",
       "      <th>ABETA142</th>\n",
       "      <th>PTAU181P</th>\n",
       "      <th>TAU</th>\n",
       "      <th>TOTAL11_scaled</th>\n",
       "      <th>TOTALMOD_scaled</th>\n",
       "      <th>APGEN1_scaled</th>\n",
       "      <th>MMSCORE_scaled</th>\n",
       "      <th>AGE</th>\n",
       "      <th>km_clusters</th>\n",
       "      <th>gm_clusters</th>\n",
       "    </tr>\n",
       "  </thead>\n",
       "  <tbody>\n",
       "    <tr>\n",
       "      <th>0</th>\n",
       "      <td>1.0</td>\n",
       "      <td>2.0</td>\n",
       "      <td>5.0</td>\n",
       "      <td>25.0</td>\n",
       "      <td>1036.0</td>\n",
       "      <td>11.58</td>\n",
       "      <td>140.5</td>\n",
       "      <td>0.445</td>\n",
       "      <td>0.546</td>\n",
       "      <td>0.064</td>\n",
       "      <td>0.001</td>\n",
       "      <td>87.0</td>\n",
       "      <td>0</td>\n",
       "      <td>1</td>\n",
       "    </tr>\n",
       "    <tr>\n",
       "      <th>1</th>\n",
       "      <td>1.0</td>\n",
       "      <td>2.0</td>\n",
       "      <td>5.0</td>\n",
       "      <td>26.0</td>\n",
       "      <td>476.4</td>\n",
       "      <td>29.31</td>\n",
       "      <td>283.6</td>\n",
       "      <td>1.131</td>\n",
       "      <td>1.029</td>\n",
       "      <td>0.064</td>\n",
       "      <td>0.209</td>\n",
       "      <td>104.0</td>\n",
       "      <td>0</td>\n",
       "      <td>1</td>\n",
       "    </tr>\n",
       "    <tr>\n",
       "      <th>2</th>\n",
       "      <td>1.0</td>\n",
       "      <td>2.0</td>\n",
       "      <td>5.0</td>\n",
       "      <td>29.0</td>\n",
       "      <td>390.9</td>\n",
       "      <td>8.00</td>\n",
       "      <td>80.0</td>\n",
       "      <td>-0.733</td>\n",
       "      <td>-0.800</td>\n",
       "      <td>0.064</td>\n",
       "      <td>0.835</td>\n",
       "      <td>93.0</td>\n",
       "      <td>0</td>\n",
       "      <td>1</td>\n",
       "    </tr>\n",
       "    <tr>\n",
       "      <th>3</th>\n",
       "      <td>1.0</td>\n",
       "      <td>2.0</td>\n",
       "      <td>5.0</td>\n",
       "      <td>26.0</td>\n",
       "      <td>509.7</td>\n",
       "      <td>24.87</td>\n",
       "      <td>264.4</td>\n",
       "      <td>2.212</td>\n",
       "      <td>1.996</td>\n",
       "      <td>0.064</td>\n",
       "      <td>0.209</td>\n",
       "      <td>96.0</td>\n",
       "      <td>0</td>\n",
       "      <td>1</td>\n",
       "    </tr>\n",
       "    <tr>\n",
       "      <th>4</th>\n",
       "      <td>1.0</td>\n",
       "      <td>2.0</td>\n",
       "      <td>5.0</td>\n",
       "      <td>28.0</td>\n",
       "      <td>1737.0</td>\n",
       "      <td>17.65</td>\n",
       "      <td>203.3</td>\n",
       "      <td>-0.832</td>\n",
       "      <td>-0.973</td>\n",
       "      <td>-2.415</td>\n",
       "      <td>0.626</td>\n",
       "      <td>87.0</td>\n",
       "      <td>1</td>\n",
       "      <td>1</td>\n",
       "    </tr>\n",
       "  </tbody>\n",
       "</table>\n",
       "</div>"
      ],
      "text/plain": [
       "   PTHOME  PTETHCAT  PTRACCAT  MMSE_bl  ABETA142  PTAU181P    TAU  \\\n",
       "0     1.0       2.0       5.0     25.0    1036.0     11.58  140.5   \n",
       "1     1.0       2.0       5.0     26.0     476.4     29.31  283.6   \n",
       "2     1.0       2.0       5.0     29.0     390.9      8.00   80.0   \n",
       "3     1.0       2.0       5.0     26.0     509.7     24.87  264.4   \n",
       "4     1.0       2.0       5.0     28.0    1737.0     17.65  203.3   \n",
       "\n",
       "   TOTAL11_scaled  TOTALMOD_scaled  APGEN1_scaled  MMSCORE_scaled    AGE  \\\n",
       "0           0.445            0.546          0.064           0.001   87.0   \n",
       "1           1.131            1.029          0.064           0.209  104.0   \n",
       "2          -0.733           -0.800          0.064           0.835   93.0   \n",
       "3           2.212            1.996          0.064           0.209   96.0   \n",
       "4          -0.832           -0.973         -2.415           0.626   87.0   \n",
       "\n",
       "  km_clusters gm_clusters  \n",
       "0           0           1  \n",
       "1           0           1  \n",
       "2           0           1  \n",
       "3           0           1  \n",
       "4           1           1  "
      ]
     },
     "execution_count": 63,
     "metadata": {},
     "output_type": "execute_result"
    }
   ],
   "source": [
    "out3.head()"
   ]
  },
  {
   "cell_type": "code",
   "execution_count": 64,
   "id": "307baa4e",
   "metadata": {},
   "outputs": [
    {
     "name": "stdout",
     "output_type": "stream",
     "text": [
      "              precision    recall  f1-score   support\n",
      "\n",
      "           0       0.19      0.80      0.31         5\n",
      "           1       0.80      0.19      0.31        21\n",
      "\n",
      "    accuracy                           0.31        26\n",
      "   macro avg       0.50      0.50      0.31        26\n",
      "weighted avg       0.68      0.31      0.31        26\n",
      "\n",
      "[[ 4  1]\n",
      " [17  4]]\n",
      "0.3076923076923077\n"
     ]
    }
   ],
   "source": [
    "km3 = load('km_clusters_model_v3.joblib')\n",
    "\n",
    "km_pred3 = km3.predict(x_test1)\n",
    "\n",
    "print(classification_report(y_test1, km_pred3))\n",
    "\n",
    "print(confusion_matrix(y_test1, km_pred3))\n",
    "\n",
    "print(accuracy_score(y_test1, km_pred3))"
   ]
  },
  {
   "cell_type": "code",
   "execution_count": 65,
   "id": "23e1cf0a",
   "metadata": {},
   "outputs": [
    {
     "name": "stdout",
     "output_type": "stream",
     "text": [
      "              precision    recall  f1-score   support\n",
      "\n",
      "           0       0.50      0.20      0.29         5\n",
      "           1       0.83      0.95      0.89        21\n",
      "\n",
      "    accuracy                           0.81        26\n",
      "   macro avg       0.67      0.58      0.59        26\n",
      "weighted avg       0.77      0.81      0.77        26\n",
      "\n",
      "[[ 1  4]\n",
      " [ 1 20]]\n",
      "0.8076923076923077\n"
     ]
    }
   ],
   "source": [
    "gm3 = load('gm_cluster_model_v3.joblib')\n",
    "\n",
    "gm_pred3 = gm3.predict(x_test1)\n",
    "\n",
    "print(classification_report(y_test1, gm_pred3))\n",
    "\n",
    "print(confusion_matrix(y_test1, gm_pred3))\n",
    "\n",
    "print(accuracy_score(y_test1, gm_pred3))"
   ]
  },
  {
   "cell_type": "markdown",
   "id": "5332524a",
   "metadata": {},
   "source": [
    "# Visualize the clusters based on the balanced data"
   ]
  },
  {
   "cell_type": "code",
   "execution_count": 66,
   "id": "7067bc92",
   "metadata": {},
   "outputs": [
    {
     "data": {
      "text/plain": [
       "<seaborn.axisgrid.FacetGrid at 0x7fc0b5283210>"
      ]
     },
     "execution_count": 66,
     "metadata": {},
     "output_type": "execute_result"
    },
    {
     "data": {
      "image/png": "[encoded data removed]",
      "text/plain": [
       "<Figure size 505.55x432 with 1 Axes>"
      ]
     },
     "metadata": {},
     "output_type": "display_data"
    }
   ],
   "source": [
    "sns.set_theme(style=\"white\")\n",
    "\n",
    "sns.relplot(x=\"ABETA142\", y=\"TAU\", hue=\"gm_clusters\",\n",
    "            sizes=(40, 400), alpha=1, palette=\"muted\",\n",
    "            height=6, data=out3)"
   ]
  },
  {
   "cell_type": "code",
   "execution_count": 67,
   "id": "fbfd8dd8",
   "metadata": {},
   "outputs": [
    {
     "data": {
      "text/plain": [
       "<seaborn.axisgrid.FacetGrid at 0x7fc0b6c214d0>"
      ]
     },
     "execution_count": 67,
     "metadata": {},
     "output_type": "execute_result"
    },
    {
     "data": {
      "image/png": "[encoded data removed]",
      "text/plain": [
       "<Figure size 504.925x432 with 1 Axes>"
      ]
     },
     "metadata": {},
     "output_type": "display_data"
    }
   ],
   "source": [
    "sns.set_theme(style=\"white\")\n",
    "\n",
    "sns.relplot(x=\"ABETA142\", y=\"TAU\", hue=\"km_clusters\",\n",
    "            sizes=(40, 400), alpha=1, palette=\"muted\",\n",
    "            height=6, data=out3)"
   ]
  }
 ],
 "metadata": {
  "kernelspec": {
   "display_name": "Python 3",
   "language": "python",
   "name": "python3"
  },
  "language_info": {
   "codemirror_mode": {
    "name": "ipython",
    "version": 3
   },
   "file_extension": ".py",
   "mimetype": "text/x-python",
   "name": "python",
   "nbconvert_exporter": "python",
   "pygments_lexer": "ipython3",
   "version": "3.7.7"
  }
 },
 "nbformat": 4,
 "nbformat_minor": 5
}
