{
 "cells": [
  {
   "cell_type": "markdown",
   "metadata": {},
   "source": [
    "# Merge data sets & perform preliminary EDA\n",
    "- bring in data from different files\n",
    "- join on the RID\n",
    "- subset to baseline data\n",
    "- examine data validity by checking against the summary stats"
   ]
  },
  {
   "cell_type": "code",
   "execution_count": 10,
   "metadata": {},
   "outputs": [],
   "source": [
    "import pandas as pd\n",
    "\n",
    "import io\n",
    "\n",
    "import numpy as np\n",
    "\n",
    "import tokenize\n",
    "\n",
    "import nltk\n",
    "\n",
    "from tokenize import tokenize\n",
    "\n",
    "import matplotlib.pyplot as plt"
   ]
  },
  {
   "cell_type": "code",
   "execution_count": 3,
   "metadata": {},
   "outputs": [],
   "source": [
    "df = pd.read_csv('/Users/leslieappiah/Desktop/ADNI_DATA/ADNI_Participant_Age_Distribution_08-22-2022.csv')"
   ]
  },
  {
   "cell_type": "code",
   "execution_count": 4,
   "metadata": {},
   "outputs": [
    {
     "data": {
      "text/plain": [
       "(12, 2)"
      ]
     },
     "execution_count": 4,
     "metadata": {},
     "output_type": "execute_result"
    }
   ],
   "source": [
    "df.shape"
   ]
  },
  {
   "cell_type": "code",
   "execution_count": 3,
   "metadata": {},
   "outputs": [
    {
     "data": {
      "text/html": [
       "<div>\n",
       "<style scoped>\n",
       "    .dataframe tbody tr th:only-of-type {\n",
       "        vertical-align: middle;\n",
       "    }\n",
       "\n",
       "    .dataframe tbody tr th {\n",
       "        vertical-align: top;\n",
       "    }\n",
       "\n",
       "    .dataframe thead th {\n",
       "        text-align: right;\n",
       "    }\n",
       "</style>\n",
       "<table border=\"1\" class=\"dataframe\">\n",
       "  <thead>\n",
       "    <tr style=\"text-align: right;\">\n",
       "      <th></th>\n",
       "      <th>Age Group</th>\n",
       "      <th>Number of Subjects</th>\n",
       "    </tr>\n",
       "  </thead>\n",
       "  <tbody>\n",
       "    <tr>\n",
       "      <th>0</th>\n",
       "      <td>Under 2</td>\n",
       "      <td>2</td>\n",
       "    </tr>\n",
       "    <tr>\n",
       "      <th>1</th>\n",
       "      <td>2-11</td>\n",
       "      <td>0</td>\n",
       "    </tr>\n",
       "    <tr>\n",
       "      <th>2</th>\n",
       "      <td>12-18</td>\n",
       "      <td>0</td>\n",
       "    </tr>\n",
       "    <tr>\n",
       "      <th>3</th>\n",
       "      <td>19-29</td>\n",
       "      <td>0</td>\n",
       "    </tr>\n",
       "    <tr>\n",
       "      <th>4</th>\n",
       "      <td>30-39</td>\n",
       "      <td>0</td>\n",
       "    </tr>\n",
       "  </tbody>\n",
       "</table>\n",
       "</div>"
      ],
      "text/plain": [
       "  Age Group  Number of Subjects\n",
       "0   Under 2                   2\n",
       "1      2-11                   0\n",
       "2     12-18                   0\n",
       "3     19-29                   0\n",
       "4     30-39                   0"
      ]
     },
     "execution_count": 3,
     "metadata": {},
     "output_type": "execute_result"
    }
   ],
   "source": [
    "df.head()"
   ]
  },
  {
   "cell_type": "code",
   "execution_count": 8,
   "metadata": {},
   "outputs": [
    {
     "data": {
      "text/html": [
       "<div>\n",
       "<style scoped>\n",
       "    .dataframe tbody tr th:only-of-type {\n",
       "        vertical-align: middle;\n",
       "    }\n",
       "\n",
       "    .dataframe tbody tr th {\n",
       "        vertical-align: top;\n",
       "    }\n",
       "\n",
       "    .dataframe thead th {\n",
       "        text-align: right;\n",
       "    }\n",
       "</style>\n",
       "<table border=\"1\" class=\"dataframe\">\n",
       "  <thead>\n",
       "    <tr style=\"text-align: right;\">\n",
       "      <th></th>\n",
       "      <th>Age Group</th>\n",
       "      <th>Number of Subjects</th>\n",
       "    </tr>\n",
       "  </thead>\n",
       "  <tbody>\n",
       "    <tr>\n",
       "      <th>0</th>\n",
       "      <td>Under 2</td>\n",
       "      <td>2</td>\n",
       "    </tr>\n",
       "    <tr>\n",
       "      <th>1</th>\n",
       "      <td>2-11</td>\n",
       "      <td>0</td>\n",
       "    </tr>\n",
       "    <tr>\n",
       "      <th>2</th>\n",
       "      <td>12-18</td>\n",
       "      <td>0</td>\n",
       "    </tr>\n",
       "    <tr>\n",
       "      <th>3</th>\n",
       "      <td>19-29</td>\n",
       "      <td>0</td>\n",
       "    </tr>\n",
       "    <tr>\n",
       "      <th>4</th>\n",
       "      <td>30-39</td>\n",
       "      <td>0</td>\n",
       "    </tr>\n",
       "    <tr>\n",
       "      <th>5</th>\n",
       "      <td>40-49</td>\n",
       "      <td>1</td>\n",
       "    </tr>\n",
       "    <tr>\n",
       "      <th>6</th>\n",
       "      <td>50-59</td>\n",
       "      <td>128</td>\n",
       "    </tr>\n",
       "    <tr>\n",
       "      <th>7</th>\n",
       "      <td>60-69</td>\n",
       "      <td>804</td>\n",
       "    </tr>\n",
       "    <tr>\n",
       "      <th>8</th>\n",
       "      <td>70-79</td>\n",
       "      <td>1286</td>\n",
       "    </tr>\n",
       "    <tr>\n",
       "      <th>9</th>\n",
       "      <td>80-89</td>\n",
       "      <td>469</td>\n",
       "    </tr>\n",
       "    <tr>\n",
       "      <th>10</th>\n",
       "      <td>Above 89</td>\n",
       "      <td>29</td>\n",
       "    </tr>\n",
       "    <tr>\n",
       "      <th>11</th>\n",
       "      <td>Unknown</td>\n",
       "      <td>6</td>\n",
       "    </tr>\n",
       "  </tbody>\n",
       "</table>\n",
       "</div>"
      ],
      "text/plain": [
       "   Age Group  Number of Subjects\n",
       "0    Under 2                   2\n",
       "1       2-11                   0\n",
       "2      12-18                   0\n",
       "3      19-29                   0\n",
       "4      30-39                   0\n",
       "5      40-49                   1\n",
       "6      50-59                 128\n",
       "7      60-69                 804\n",
       "8      70-79                1286\n",
       "9      80-89                 469\n",
       "10  Above 89                  29\n",
       "11   Unknown                   6"
      ]
     },
     "execution_count": 8,
     "metadata": {},
     "output_type": "execute_result"
    }
   ],
   "source": [
    "df"
   ]
  },
  {
   "cell_type": "code",
   "execution_count": 11,
   "metadata": {},
   "outputs": [
    {
     "data": {
      "image/png": "[encoded data removed]",
      "text/plain": [
       "<Figure size 432x288 with 1 Axes>"
      ]
     },
     "metadata": {
      "needs_background": "light"
     },
     "output_type": "display_data"
    }
   ],
   "source": [
    "fig, ax1 = plt.subplots(1,1)\n",
    "\n",
    "ax1.barh(df['Age Group'],df['Number of Subjects'])\n",
    "\n",
    "plt.show()"
   ]
  },
  {
   "cell_type": "markdown",
   "metadata": {},
   "source": [
    "# Demographics"
   ]
  },
  {
   "cell_type": "code",
   "execution_count": 12,
   "metadata": {},
   "outputs": [],
   "source": [
    "df_demo = pd.read_csv('/Users/leslieappiah/Google Drive/My Drive/Desktop/ADNI_DATA/subject_demo.txt')"
   ]
  },
  {
   "cell_type": "code",
   "execution_count": 7,
   "metadata": {},
   "outputs": [
    {
     "data": {
      "text/plain": [
       "(4847, 32)"
      ]
     },
     "execution_count": 7,
     "metadata": {},
     "output_type": "execute_result"
    }
   ],
   "source": [
    "df_demo.shape"
   ]
  },
  {
   "cell_type": "code",
   "execution_count": 6,
   "metadata": {},
   "outputs": [
    {
     "data": {
      "text/html": [
       "<div>\n",
       "<style scoped>\n",
       "    .dataframe tbody tr th:only-of-type {\n",
       "        vertical-align: middle;\n",
       "    }\n",
       "\n",
       "    .dataframe tbody tr th {\n",
       "        vertical-align: top;\n",
       "    }\n",
       "\n",
       "    .dataframe thead th {\n",
       "        text-align: right;\n",
       "    }\n",
       "</style>\n",
       "<table border=\"1\" class=\"dataframe\">\n",
       "  <thead>\n",
       "    <tr style=\"text-align: right;\">\n",
       "      <th></th>\n",
       "      <th>Phase</th>\n",
       "      <th>ID</th>\n",
       "      <th>RID</th>\n",
       "      <th>SITEID</th>\n",
       "      <th>VISCODE</th>\n",
       "      <th>VISCODE2</th>\n",
       "      <th>USERDATE</th>\n",
       "      <th>USERDATE2</th>\n",
       "      <th>PTSOURCE</th>\n",
       "      <th>PTGENDER</th>\n",
       "      <th>...</th>\n",
       "      <th>PTTLANG</th>\n",
       "      <th>PTPLANG</th>\n",
       "      <th>PTPSPEC</th>\n",
       "      <th>PTCOGBEG</th>\n",
       "      <th>PTMCIBEG</th>\n",
       "      <th>PTADBEG</th>\n",
       "      <th>PTADDX</th>\n",
       "      <th>PTETHCAT</th>\n",
       "      <th>PTRACCAT</th>\n",
       "      <th>update_stamp</th>\n",
       "    </tr>\n",
       "  </thead>\n",
       "  <tbody>\n",
       "    <tr>\n",
       "      <th>0</th>\n",
       "      <td>ADNI1</td>\n",
       "      <td>18</td>\n",
       "      <td>2</td>\n",
       "      <td>107</td>\n",
       "      <td>sc</td>\n",
       "      <td>sc</td>\n",
       "      <td>2005-08-17</td>\n",
       "      <td>NaN</td>\n",
       "      <td>1.0</td>\n",
       "      <td>1.0</td>\n",
       "      <td>...</td>\n",
       "      <td>1.0</td>\n",
       "      <td>1.0</td>\n",
       "      <td>-4</td>\n",
       "      <td>NaN</td>\n",
       "      <td>NaN</td>\n",
       "      <td>-4.0</td>\n",
       "      <td>NaN</td>\n",
       "      <td>2.0</td>\n",
       "      <td>5.0</td>\n",
       "      <td>2005-08-17 00:00:00.0</td>\n",
       "    </tr>\n",
       "    <tr>\n",
       "      <th>1</th>\n",
       "      <td>ADNI1</td>\n",
       "      <td>20</td>\n",
       "      <td>1</td>\n",
       "      <td>10</td>\n",
       "      <td>f</td>\n",
       "      <td>f</td>\n",
       "      <td>2005-08-18</td>\n",
       "      <td>NaN</td>\n",
       "      <td>1.0</td>\n",
       "      <td>2.0</td>\n",
       "      <td>...</td>\n",
       "      <td>-4.0</td>\n",
       "      <td>-4.0</td>\n",
       "      <td>-4</td>\n",
       "      <td>NaN</td>\n",
       "      <td>NaN</td>\n",
       "      <td>-4.0</td>\n",
       "      <td>NaN</td>\n",
       "      <td>-4.0</td>\n",
       "      <td>-4.0</td>\n",
       "      <td>2005-08-18 00:00:00.0</td>\n",
       "    </tr>\n",
       "    <tr>\n",
       "      <th>2</th>\n",
       "      <td>ADNI1</td>\n",
       "      <td>22</td>\n",
       "      <td>3</td>\n",
       "      <td>107</td>\n",
       "      <td>sc</td>\n",
       "      <td>sc</td>\n",
       "      <td>2005-08-18</td>\n",
       "      <td>NaN</td>\n",
       "      <td>1.0</td>\n",
       "      <td>1.0</td>\n",
       "      <td>...</td>\n",
       "      <td>1.0</td>\n",
       "      <td>1.0</td>\n",
       "      <td>-4</td>\n",
       "      <td>NaN</td>\n",
       "      <td>NaN</td>\n",
       "      <td>1999.0</td>\n",
       "      <td>NaN</td>\n",
       "      <td>2.0</td>\n",
       "      <td>5.0</td>\n",
       "      <td>2005-08-18 00:00:00.0</td>\n",
       "    </tr>\n",
       "    <tr>\n",
       "      <th>3</th>\n",
       "      <td>ADNI1</td>\n",
       "      <td>24</td>\n",
       "      <td>4</td>\n",
       "      <td>10</td>\n",
       "      <td>sc</td>\n",
       "      <td>sc</td>\n",
       "      <td>2005-08-18</td>\n",
       "      <td>NaN</td>\n",
       "      <td>1.0</td>\n",
       "      <td>1.0</td>\n",
       "      <td>...</td>\n",
       "      <td>2.0</td>\n",
       "      <td>2.0</td>\n",
       "      <td>-4</td>\n",
       "      <td>NaN</td>\n",
       "      <td>NaN</td>\n",
       "      <td>-4.0</td>\n",
       "      <td>NaN</td>\n",
       "      <td>1.0</td>\n",
       "      <td>5.0</td>\n",
       "      <td>2005-08-18 00:00:00.0</td>\n",
       "    </tr>\n",
       "    <tr>\n",
       "      <th>4</th>\n",
       "      <td>ADNI1</td>\n",
       "      <td>26</td>\n",
       "      <td>5</td>\n",
       "      <td>107</td>\n",
       "      <td>sc</td>\n",
       "      <td>sc</td>\n",
       "      <td>2005-08-23</td>\n",
       "      <td>NaN</td>\n",
       "      <td>1.0</td>\n",
       "      <td>1.0</td>\n",
       "      <td>...</td>\n",
       "      <td>1.0</td>\n",
       "      <td>1.0</td>\n",
       "      <td>-4</td>\n",
       "      <td>NaN</td>\n",
       "      <td>NaN</td>\n",
       "      <td>-4.0</td>\n",
       "      <td>NaN</td>\n",
       "      <td>2.0</td>\n",
       "      <td>5.0</td>\n",
       "      <td>2005-08-23 00:00:00.0</td>\n",
       "    </tr>\n",
       "  </tbody>\n",
       "</table>\n",
       "<p>5 rows × 32 columns</p>\n",
       "</div>"
      ],
      "text/plain": [
       "   Phase  ID  RID  SITEID VISCODE VISCODE2    USERDATE USERDATE2  PTSOURCE  \\\n",
       "0  ADNI1  18    2     107      sc       sc  2005-08-17       NaN       1.0   \n",
       "1  ADNI1  20    1      10       f        f  2005-08-18       NaN       1.0   \n",
       "2  ADNI1  22    3     107      sc       sc  2005-08-18       NaN       1.0   \n",
       "3  ADNI1  24    4      10      sc       sc  2005-08-18       NaN       1.0   \n",
       "4  ADNI1  26    5     107      sc       sc  2005-08-23       NaN       1.0   \n",
       "\n",
       "   PTGENDER  ...  PTTLANG  PTPLANG  PTPSPEC  PTCOGBEG  PTMCIBEG  PTADBEG  \\\n",
       "0       1.0  ...      1.0      1.0       -4       NaN       NaN     -4.0   \n",
       "1       2.0  ...     -4.0     -4.0       -4       NaN       NaN     -4.0   \n",
       "2       1.0  ...      1.0      1.0       -4       NaN       NaN   1999.0   \n",
       "3       1.0  ...      2.0      2.0       -4       NaN       NaN     -4.0   \n",
       "4       1.0  ...      1.0      1.0       -4       NaN       NaN     -4.0   \n",
       "\n",
       "  PTADDX PTETHCAT  PTRACCAT           update_stamp  \n",
       "0    NaN      2.0       5.0  2005-08-17 00:00:00.0  \n",
       "1    NaN     -4.0      -4.0  2005-08-18 00:00:00.0  \n",
       "2    NaN      2.0       5.0  2005-08-18 00:00:00.0  \n",
       "3    NaN      1.0       5.0  2005-08-18 00:00:00.0  \n",
       "4    NaN      2.0       5.0  2005-08-23 00:00:00.0  \n",
       "\n",
       "[5 rows x 32 columns]"
      ]
     },
     "execution_count": 6,
     "metadata": {},
     "output_type": "execute_result"
    }
   ],
   "source": [
    "df_demo.head()"
   ]
  },
  {
   "cell_type": "markdown",
   "metadata": {},
   "source": [
    "# CFA Biomarkers"
   ]
  },
  {
   "cell_type": "code",
   "execution_count": 13,
   "metadata": {},
   "outputs": [],
   "source": [
    "df_biomarker2021 = pd.read_csv('/Users/leslieappiah/Google Drive/My Drive/Desktop/ADNI_DATA/csf_biomarker_4_2021.txt')"
   ]
  },
  {
   "cell_type": "code",
   "execution_count": 12,
   "metadata": {},
   "outputs": [
    {
     "data": {
      "text/plain": [
       "(216, 12)"
      ]
     },
     "execution_count": 12,
     "metadata": {},
     "output_type": "execute_result"
    }
   ],
   "source": [
    "df_biomarker2021.shape"
   ]
  },
  {
   "cell_type": "code",
   "execution_count": 13,
   "metadata": {},
   "outputs": [
    {
     "data": {
      "text/html": [
       "<div>\n",
       "<style scoped>\n",
       "    .dataframe tbody tr th:only-of-type {\n",
       "        vertical-align: middle;\n",
       "    }\n",
       "\n",
       "    .dataframe tbody tr th {\n",
       "        vertical-align: top;\n",
       "    }\n",
       "\n",
       "    .dataframe thead th {\n",
       "        text-align: right;\n",
       "    }\n",
       "</style>\n",
       "<table border=\"1\" class=\"dataframe\">\n",
       "  <thead>\n",
       "    <tr style=\"text-align: right;\">\n",
       "      <th></th>\n",
       "      <th>RID</th>\n",
       "      <th>VISCODE</th>\n",
       "      <th>VISCODE2</th>\n",
       "      <th>EXAMDATE</th>\n",
       "      <th>PROT</th>\n",
       "      <th>RUNDATE</th>\n",
       "      <th>AB40</th>\n",
       "      <th>ABETA</th>\n",
       "      <th>PTAU</th>\n",
       "      <th>TAU</th>\n",
       "      <th>AB4240</th>\n",
       "      <th>NOTE</th>\n",
       "    </tr>\n",
       "  </thead>\n",
       "  <tbody>\n",
       "    <tr>\n",
       "      <th>0</th>\n",
       "      <td>89</td>\n",
       "      <td>nv</td>\n",
       "      <td>nv</td>\n",
       "      <td>2019-08-07</td>\n",
       "      <td>ADNI3</td>\n",
       "      <td>2020-08-21</td>\n",
       "      <td>14760</td>\n",
       "      <td>1250.0</td>\n",
       "      <td>14.58</td>\n",
       "      <td>160.7</td>\n",
       "      <td>0.08469</td>\n",
       "      <td>NaN</td>\n",
       "    </tr>\n",
       "    <tr>\n",
       "      <th>1</th>\n",
       "      <td>96</td>\n",
       "      <td>y2</td>\n",
       "      <td>m156</td>\n",
       "      <td>2019-06-21</td>\n",
       "      <td>ADNI3</td>\n",
       "      <td>2020-08-21</td>\n",
       "      <td>9670</td>\n",
       "      <td>804.5</td>\n",
       "      <td>14.12</td>\n",
       "      <td>156.7</td>\n",
       "      <td>0.08320</td>\n",
       "      <td>NaN</td>\n",
       "    </tr>\n",
       "    <tr>\n",
       "      <th>2</th>\n",
       "      <td>139</td>\n",
       "      <td>nv</td>\n",
       "      <td>m48</td>\n",
       "      <td>2010-03-19</td>\n",
       "      <td>ADNI 1</td>\n",
       "      <td>2020-08-25</td>\n",
       "      <td>14330</td>\n",
       "      <td>544.4</td>\n",
       "      <td>40.37</td>\n",
       "      <td>389.8</td>\n",
       "      <td>0.03799</td>\n",
       "      <td>NaN</td>\n",
       "    </tr>\n",
       "    <tr>\n",
       "      <th>3</th>\n",
       "      <td>243</td>\n",
       "      <td>nv</td>\n",
       "      <td>m12</td>\n",
       "      <td>2007-04-10</td>\n",
       "      <td>ADNI 1</td>\n",
       "      <td>2020-08-24</td>\n",
       "      <td>16140</td>\n",
       "      <td>611.5</td>\n",
       "      <td>57.79</td>\n",
       "      <td>542.3</td>\n",
       "      <td>0.03789</td>\n",
       "      <td>NaN</td>\n",
       "    </tr>\n",
       "    <tr>\n",
       "      <th>4</th>\n",
       "      <td>316</td>\n",
       "      <td>nv</td>\n",
       "      <td>bl</td>\n",
       "      <td>2006-04-25</td>\n",
       "      <td>ADNI 1</td>\n",
       "      <td>2020-08-24</td>\n",
       "      <td>16890</td>\n",
       "      <td>336.9</td>\n",
       "      <td>40.60</td>\n",
       "      <td>372.2</td>\n",
       "      <td>0.01995</td>\n",
       "      <td>NaN</td>\n",
       "    </tr>\n",
       "  </tbody>\n",
       "</table>\n",
       "</div>"
      ],
      "text/plain": [
       "   RID VISCODE VISCODE2    EXAMDATE    PROT     RUNDATE   AB40   ABETA   PTAU  \\\n",
       "0   89      nv       nv  2019-08-07   ADNI3  2020-08-21  14760  1250.0  14.58   \n",
       "1   96      y2     m156  2019-06-21   ADNI3  2020-08-21   9670   804.5  14.12   \n",
       "2  139      nv      m48  2010-03-19  ADNI 1  2020-08-25  14330   544.4  40.37   \n",
       "3  243      nv      m12  2007-04-10  ADNI 1  2020-08-24  16140   611.5  57.79   \n",
       "4  316      nv       bl  2006-04-25  ADNI 1  2020-08-24  16890   336.9  40.60   \n",
       "\n",
       "     TAU   AB4240 NOTE  \n",
       "0  160.7  0.08469  NaN  \n",
       "1  156.7  0.08320  NaN  \n",
       "2  389.8  0.03799  NaN  \n",
       "3  542.3  0.03789  NaN  \n",
       "4  372.2  0.01995  NaN  "
      ]
     },
     "execution_count": 13,
     "metadata": {},
     "output_type": "execute_result"
    }
   ],
   "source": [
    "df_biomarker2021.head()"
   ]
  },
  {
   "cell_type": "code",
   "execution_count": 18,
   "metadata": {},
   "outputs": [
    {
     "data": {
      "text/html": [
       "<div>\n",
       "<style scoped>\n",
       "    .dataframe tbody tr th:only-of-type {\n",
       "        vertical-align: middle;\n",
       "    }\n",
       "\n",
       "    .dataframe tbody tr th {\n",
       "        vertical-align: top;\n",
       "    }\n",
       "\n",
       "    .dataframe thead th {\n",
       "        text-align: right;\n",
       "    }\n",
       "</style>\n",
       "<table border=\"1\" class=\"dataframe\">\n",
       "  <thead>\n",
       "    <tr style=\"text-align: right;\">\n",
       "      <th></th>\n",
       "      <th>ABETA</th>\n",
       "      <th>TAU</th>\n",
       "      <th>PTAU</th>\n",
       "    </tr>\n",
       "  </thead>\n",
       "  <tbody>\n",
       "    <tr>\n",
       "      <th>count</th>\n",
       "      <td>214.000000</td>\n",
       "      <td>215.000000</td>\n",
       "      <td>215.000000</td>\n",
       "    </tr>\n",
       "    <tr>\n",
       "      <th>mean</th>\n",
       "      <td>1140.707009</td>\n",
       "      <td>265.679721</td>\n",
       "      <td>24.972930</td>\n",
       "    </tr>\n",
       "    <tr>\n",
       "      <th>std</th>\n",
       "      <td>664.619267</td>\n",
       "      <td>124.330524</td>\n",
       "      <td>13.848932</td>\n",
       "    </tr>\n",
       "    <tr>\n",
       "      <th>min</th>\n",
       "      <td>245.200000</td>\n",
       "      <td>95.940000</td>\n",
       "      <td>8.500000</td>\n",
       "    </tr>\n",
       "    <tr>\n",
       "      <th>25%</th>\n",
       "      <td>648.675000</td>\n",
       "      <td>181.350000</td>\n",
       "      <td>15.790000</td>\n",
       "    </tr>\n",
       "    <tr>\n",
       "      <th>50%</th>\n",
       "      <td>1001.100000</td>\n",
       "      <td>236.600000</td>\n",
       "      <td>21.290000</td>\n",
       "    </tr>\n",
       "    <tr>\n",
       "      <th>75%</th>\n",
       "      <td>1497.500000</td>\n",
       "      <td>313.150000</td>\n",
       "      <td>29.135000</td>\n",
       "    </tr>\n",
       "    <tr>\n",
       "      <th>max</th>\n",
       "      <td>4779.000000</td>\n",
       "      <td>761.800000</td>\n",
       "      <td>89.500000</td>\n",
       "    </tr>\n",
       "  </tbody>\n",
       "</table>\n",
       "</div>"
      ],
      "text/plain": [
       "             ABETA         TAU        PTAU\n",
       "count   214.000000  215.000000  215.000000\n",
       "mean   1140.707009  265.679721   24.972930\n",
       "std     664.619267  124.330524   13.848932\n",
       "min     245.200000   95.940000    8.500000\n",
       "25%     648.675000  181.350000   15.790000\n",
       "50%    1001.100000  236.600000   21.290000\n",
       "75%    1497.500000  313.150000   29.135000\n",
       "max    4779.000000  761.800000   89.500000"
      ]
     },
     "execution_count": 18,
     "metadata": {},
     "output_type": "execute_result"
    }
   ],
   "source": [
    "df_biomarker2021[['ABETA','TAU','PTAU']].describe()"
   ]
  },
  {
   "cell_type": "code",
   "execution_count": 331,
   "metadata": {},
   "outputs": [],
   "source": [
    "df_biomarker2017 = pd.read_csv('/Users/leslieappiah/Google Drive/My Drive/Desktop/ADNI_DATA/csf_biomarker_4_2017.txt')"
   ]
  },
  {
   "cell_type": "code",
   "execution_count": 15,
   "metadata": {},
   "outputs": [
    {
     "data": {
      "text/plain": [
       "(2401, 14)"
      ]
     },
     "execution_count": 15,
     "metadata": {},
     "output_type": "execute_result"
    }
   ],
   "source": [
    "df_biomarker2017.shape"
   ]
  },
  {
   "cell_type": "code",
   "execution_count": 16,
   "metadata": {},
   "outputs": [
    {
     "data": {
      "text/html": [
       "<div>\n",
       "<style scoped>\n",
       "    .dataframe tbody tr th:only-of-type {\n",
       "        vertical-align: middle;\n",
       "    }\n",
       "\n",
       "    .dataframe tbody tr th {\n",
       "        vertical-align: top;\n",
       "    }\n",
       "\n",
       "    .dataframe thead th {\n",
       "        text-align: right;\n",
       "    }\n",
       "</style>\n",
       "<table border=\"1\" class=\"dataframe\">\n",
       "  <thead>\n",
       "    <tr style=\"text-align: right;\">\n",
       "      <th></th>\n",
       "      <th>RID</th>\n",
       "      <th>VISCODE</th>\n",
       "      <th>VISCODE2</th>\n",
       "      <th>EXAMDATE</th>\n",
       "      <th>PHASE</th>\n",
       "      <th>BATCH</th>\n",
       "      <th>KIT</th>\n",
       "      <th>STDS</th>\n",
       "      <th>RUNDATE</th>\n",
       "      <th>ABETA</th>\n",
       "      <th>TAU</th>\n",
       "      <th>PTAU</th>\n",
       "      <th>COMMENT</th>\n",
       "      <th>update_stamp</th>\n",
       "    </tr>\n",
       "  </thead>\n",
       "  <tbody>\n",
       "    <tr>\n",
       "      <th>0</th>\n",
       "      <td>3</td>\n",
       "      <td>bl</td>\n",
       "      <td>bl</td>\n",
       "      <td>2005-09-12</td>\n",
       "      <td>ADNI1</td>\n",
       "      <td>UPENNBIOMK9</td>\n",
       "      <td>P06-MP02-MP01</td>\n",
       "      <td>P06-MP02-MP01/2</td>\n",
       "      <td>2016-12-14</td>\n",
       "      <td>741.5</td>\n",
       "      <td>239.7</td>\n",
       "      <td>22.83</td>\n",
       "      <td>NaN</td>\n",
       "      <td>2017-04-20 14:39:54.0</td>\n",
       "    </tr>\n",
       "    <tr>\n",
       "      <th>1</th>\n",
       "      <td>3</td>\n",
       "      <td>m12</td>\n",
       "      <td>m12</td>\n",
       "      <td>2006-09-13</td>\n",
       "      <td>ADNI1</td>\n",
       "      <td>UPENNBIOMK9</td>\n",
       "      <td>P06-MP02-MP01</td>\n",
       "      <td>P06-MP02-MP01/2</td>\n",
       "      <td>2016-12-14</td>\n",
       "      <td>601.4</td>\n",
       "      <td>251.7</td>\n",
       "      <td>24.18</td>\n",
       "      <td>NaN</td>\n",
       "      <td>2017-04-20 14:39:54.0</td>\n",
       "    </tr>\n",
       "    <tr>\n",
       "      <th>2</th>\n",
       "      <td>4</td>\n",
       "      <td>bl</td>\n",
       "      <td>bl</td>\n",
       "      <td>2005-11-22</td>\n",
       "      <td>ADNI1</td>\n",
       "      <td>UPENNBIOMK9</td>\n",
       "      <td>P06-MP02-MP01</td>\n",
       "      <td>P06-MP02-MP01/2</td>\n",
       "      <td>2017-01-09</td>\n",
       "      <td>1501</td>\n",
       "      <td>153.1</td>\n",
       "      <td>13.29</td>\n",
       "      <td>NaN</td>\n",
       "      <td>2017-04-20 14:39:54.0</td>\n",
       "    </tr>\n",
       "    <tr>\n",
       "      <th>3</th>\n",
       "      <td>4</td>\n",
       "      <td>m12</td>\n",
       "      <td>m12</td>\n",
       "      <td>2006-11-28</td>\n",
       "      <td>ADNI1</td>\n",
       "      <td>UPENNBIOMK9</td>\n",
       "      <td>P06-MP02-MP01</td>\n",
       "      <td>P06-MP02-MP01/2</td>\n",
       "      <td>2017-01-09</td>\n",
       "      <td>1176</td>\n",
       "      <td>159.7</td>\n",
       "      <td>13.3</td>\n",
       "      <td>NaN</td>\n",
       "      <td>2017-04-20 14:39:54.0</td>\n",
       "    </tr>\n",
       "    <tr>\n",
       "      <th>4</th>\n",
       "      <td>5</td>\n",
       "      <td>m12</td>\n",
       "      <td>m12</td>\n",
       "      <td>2006-09-06</td>\n",
       "      <td>ADNI1</td>\n",
       "      <td>UPENNBIOMK9</td>\n",
       "      <td>P06-MP02-MP01</td>\n",
       "      <td>P06-MP02-MP01/2</td>\n",
       "      <td>2016-11-22</td>\n",
       "      <td>472.8</td>\n",
       "      <td>334.1</td>\n",
       "      <td>34.04</td>\n",
       "      <td>NaN</td>\n",
       "      <td>2017-04-20 14:39:54.0</td>\n",
       "    </tr>\n",
       "  </tbody>\n",
       "</table>\n",
       "</div>"
      ],
      "text/plain": [
       "   RID VISCODE VISCODE2    EXAMDATE  PHASE        BATCH            KIT  \\\n",
       "0    3      bl       bl  2005-09-12  ADNI1  UPENNBIOMK9  P06-MP02-MP01   \n",
       "1    3     m12      m12  2006-09-13  ADNI1  UPENNBIOMK9  P06-MP02-MP01   \n",
       "2    4      bl       bl  2005-11-22  ADNI1  UPENNBIOMK9  P06-MP02-MP01   \n",
       "3    4     m12      m12  2006-11-28  ADNI1  UPENNBIOMK9  P06-MP02-MP01   \n",
       "4    5     m12      m12  2006-09-06  ADNI1  UPENNBIOMK9  P06-MP02-MP01   \n",
       "\n",
       "              STDS     RUNDATE  ABETA    TAU   PTAU COMMENT  \\\n",
       "0  P06-MP02-MP01/2  2016-12-14  741.5  239.7  22.83     NaN   \n",
       "1  P06-MP02-MP01/2  2016-12-14  601.4  251.7  24.18     NaN   \n",
       "2  P06-MP02-MP01/2  2017-01-09   1501  153.1  13.29     NaN   \n",
       "3  P06-MP02-MP01/2  2017-01-09   1176  159.7   13.3     NaN   \n",
       "4  P06-MP02-MP01/2  2016-11-22  472.8  334.1  34.04     NaN   \n",
       "\n",
       "            update_stamp  \n",
       "0  2017-04-20 14:39:54.0  \n",
       "1  2017-04-20 14:39:54.0  \n",
       "2  2017-04-20 14:39:54.0  \n",
       "3  2017-04-20 14:39:54.0  \n",
       "4  2017-04-20 14:39:54.0  "
      ]
     },
     "execution_count": 16,
     "metadata": {},
     "output_type": "execute_result"
    }
   ],
   "source": [
    "df_biomarker2017.head()"
   ]
  },
  {
   "cell_type": "code",
   "execution_count": 24,
   "metadata": {},
   "outputs": [
    {
     "data": {
      "text/html": [
       "<div>\n",
       "<style scoped>\n",
       "    .dataframe tbody tr th:only-of-type {\n",
       "        vertical-align: middle;\n",
       "    }\n",
       "\n",
       "    .dataframe tbody tr th {\n",
       "        vertical-align: top;\n",
       "    }\n",
       "\n",
       "    .dataframe thead th {\n",
       "        text-align: right;\n",
       "    }\n",
       "</style>\n",
       "<table border=\"1\" class=\"dataframe\">\n",
       "  <thead>\n",
       "    <tr style=\"text-align: right;\">\n",
       "      <th></th>\n",
       "      <th>ABETA</th>\n",
       "      <th>TAU</th>\n",
       "      <th>PTAU</th>\n",
       "    </tr>\n",
       "  </thead>\n",
       "  <tbody>\n",
       "    <tr>\n",
       "      <th>count</th>\n",
       "      <td>2399</td>\n",
       "      <td>2399</td>\n",
       "      <td>2398</td>\n",
       "    </tr>\n",
       "    <tr>\n",
       "      <th>unique</th>\n",
       "      <td>1733</td>\n",
       "      <td>1795</td>\n",
       "      <td>1801</td>\n",
       "    </tr>\n",
       "    <tr>\n",
       "      <th>top</th>\n",
       "      <td>&gt;1700</td>\n",
       "      <td>&lt;80</td>\n",
       "      <td>&lt;8</td>\n",
       "    </tr>\n",
       "    <tr>\n",
       "      <th>freq</th>\n",
       "      <td>356</td>\n",
       "      <td>8</td>\n",
       "      <td>11</td>\n",
       "    </tr>\n",
       "  </tbody>\n",
       "</table>\n",
       "</div>"
      ],
      "text/plain": [
       "        ABETA   TAU  PTAU\n",
       "count    2399  2399  2398\n",
       "unique   1733  1795  1801\n",
       "top     >1700   <80    <8\n",
       "freq      356     8    11"
      ]
     },
     "execution_count": 24,
     "metadata": {},
     "output_type": "execute_result"
    }
   ],
   "source": [
    "df_biomarker2017[['ABETA','TAU','PTAU']].describe()"
   ]
  },
  {
   "cell_type": "markdown",
   "metadata": {},
   "source": [
    "# Replace all ptau <8 and tau <80 with 8 and 80 respectively since their corresponding comments are NaN"
   ]
  },
  {
   "cell_type": "code",
   "execution_count": 175,
   "metadata": {},
   "outputs": [],
   "source": [
    "def drop_less_or_greater_than_signs(df,feature_use, char_use_1, char_use_2):\n",
    "    \n",
    "    collect = []\n",
    "    \n",
    "    feature_list = df[feature_use].tolist()\n",
    "    \n",
    "    for instance in feature_list:\n",
    "        \n",
    "        instance_use = str(instance)\n",
    "            \n",
    "        if instance_use.startswith(char_use_1) | instance_use.startswith(char_use_2):\n",
    "                \n",
    "            collect.append(float(instance_use[1:len(instance_use)]))\n",
    "                \n",
    "        else:\n",
    "                \n",
    "            collect.append(float(instance_use))\n",
    "            \n",
    "    df_use = df\n",
    "    \n",
    "    df_use[feature_use] = collect\n",
    "            \n",
    "    return df_use"
   ]
  },
  {
   "cell_type": "raw",
   "metadata": {},
   "source": [
    "Here we encountered situation where float(str_var) was not converting str to float. That's because there's a NaN in the str_var which had to be taken care of."
   ]
  },
  {
   "cell_type": "code",
   "execution_count": 330,
   "metadata": {},
   "outputs": [],
   "source": [
    "def drop_less_or_greater_than_signs_abeta(df,feature_use, char_use_1, char_use_2):\n",
    "    \n",
    "    collect = []\n",
    "    \n",
    "    # fetch data from comments\n",
    "\n",
    "    for abeta, comment in zip(df[feature_use],df['COMMENT']):\n",
    "        \n",
    "        abeta_use = str(abeta); comment_use = str(comment)\n",
    "        \n",
    "        if abeta_use.startswith(char_use_1) | abeta_use.startswith(char_use_2) and len(comment_use[28:32]) != 0:\n",
    "            \n",
    "            collect.append(float(comment_use[28:32]))\n",
    "            \n",
    "        elif abeta_use.startswith(char_use_1) | abeta_use.startswith(char_use_2) and len(comment_use[28:32]) == 0 or len(comment_use[28:32]) == np.nan:\n",
    "            \n",
    "            collect.append(831) # replace with the median\n",
    "            \n",
    "        else:\n",
    "            \n",
    "            collect.append(float(abeta_use))\n",
    "        \n",
    "    df_use = df\n",
    "    \n",
    "    df_use['ABETA'] = collect\n",
    "    \n",
    "    return df_use"
   ]
  },
  {
   "cell_type": "code",
   "execution_count": 332,
   "metadata": {},
   "outputs": [],
   "source": [
    "df_abeta_cleaned = drop_less_or_greater_than_signs_abeta(df_biomarker2017,'ABETA', '>', '<')"
   ]
  },
  {
   "cell_type": "code",
   "execution_count": 344,
   "metadata": {},
   "outputs": [
    {
     "data": {
      "text/plain": [
       "(2401, 14)"
      ]
     },
     "execution_count": 344,
     "metadata": {},
     "output_type": "execute_result"
    }
   ],
   "source": [
    "df_abeta_cleaned.shape"
   ]
  },
  {
   "cell_type": "code",
   "execution_count": 333,
   "metadata": {},
   "outputs": [
    {
     "data": {
      "text/plain": [
       "count    2399.000000\n",
       "mean     1023.110713\n",
       "std       596.840298\n",
       "min       203.000000\n",
       "25%       571.800000\n",
       "50%       831.300000\n",
       "75%      1376.000000\n",
       "max      3592.000000\n",
       "Name: ABETA, dtype: float64"
      ]
     },
     "execution_count": 333,
     "metadata": {},
     "output_type": "execute_result"
    }
   ],
   "source": [
    "df_abeta_cleaned['ABETA'].describe()"
   ]
  },
  {
   "cell_type": "code",
   "execution_count": 335,
   "metadata": {},
   "outputs": [
    {
     "data": {
      "text/plain": [
       "<AxesSubplot:ylabel='Frequency'>"
      ]
     },
     "execution_count": 335,
     "metadata": {},
     "output_type": "execute_result"
    },
    {
     "data": {
      "image/png": "[encoded data removed]",
      "text/plain": [
       "<Figure size 432x288 with 1 Axes>"
      ]
     },
     "metadata": {
      "needs_background": "light"
     },
     "output_type": "display_data"
    }
   ],
   "source": [
    "df_abeta_cleaned['ABETA'].plot(kind='hist',bins=150)"
   ]
  },
  {
   "cell_type": "code",
   "execution_count": 336,
   "metadata": {},
   "outputs": [],
   "source": [
    "df_abeta_tau_cleaned = drop_less_or_greater_than_signs(df_abeta_cleaned,'TAU', '<','>')"
   ]
  },
  {
   "cell_type": "code",
   "execution_count": 345,
   "metadata": {},
   "outputs": [
    {
     "data": {
      "text/plain": [
       "(2401, 14)"
      ]
     },
     "execution_count": 345,
     "metadata": {},
     "output_type": "execute_result"
    }
   ],
   "source": [
    "df_abeta_tau_cleaned.shape"
   ]
  },
  {
   "cell_type": "code",
   "execution_count": 337,
   "metadata": {},
   "outputs": [
    {
     "data": {
      "text/plain": [
       "count    2399.000000\n",
       "mean      293.679483\n",
       "std       131.459787\n",
       "min        80.000000\n",
       "25%       203.200000\n",
       "50%       264.900000\n",
       "75%       357.800000\n",
       "max      1300.000000\n",
       "Name: TAU, dtype: float64"
      ]
     },
     "execution_count": 337,
     "metadata": {},
     "output_type": "execute_result"
    }
   ],
   "source": [
    "df_abeta_tau_cleaned['TAU'].describe()"
   ]
  },
  {
   "cell_type": "code",
   "execution_count": 339,
   "metadata": {},
   "outputs": [
    {
     "data": {
      "text/plain": [
       "<AxesSubplot:ylabel='Frequency'>"
      ]
     },
     "execution_count": 339,
     "metadata": {},
     "output_type": "execute_result"
    },
    {
     "data": {
      "image/png": "[encoded data removed]",
      "text/plain": [
       "<Figure size 432x288 with 1 Axes>"
      ]
     },
     "metadata": {
      "needs_background": "light"
     },
     "output_type": "display_data"
    }
   ],
   "source": [
    "df_abeta_tau_cleaned['TAU'].plot(kind = 'hist', bins = 150)"
   ]
  },
  {
   "cell_type": "code",
   "execution_count": 340,
   "metadata": {},
   "outputs": [],
   "source": [
    "df_abeta_tau_ptau_cleaned= drop_less_or_greater_than_signs(df_abeta_tau_cleaned,'PTAU', '<','>')"
   ]
  },
  {
   "cell_type": "code",
   "execution_count": 346,
   "metadata": {},
   "outputs": [
    {
     "data": {
      "text/plain": [
       "(2401, 14)"
      ]
     },
     "execution_count": 346,
     "metadata": {},
     "output_type": "execute_result"
    }
   ],
   "source": [
    "df_abeta_tau_ptau_cleaned.shape"
   ]
  },
  {
   "cell_type": "code",
   "execution_count": 341,
   "metadata": {},
   "outputs": [
    {
     "data": {
      "text/plain": [
       "count    2398.000000\n",
       "mean       28.130179\n",
       "std        14.458531\n",
       "min         8.000000\n",
       "25%        17.850000\n",
       "50%        24.540000\n",
       "75%        34.572500\n",
       "max       120.000000\n",
       "Name: PTAU, dtype: float64"
      ]
     },
     "execution_count": 341,
     "metadata": {},
     "output_type": "execute_result"
    }
   ],
   "source": [
    "df_abeta_tau_ptau_cleaned['PTAU'].describe()"
   ]
  },
  {
   "cell_type": "code",
   "execution_count": 343,
   "metadata": {},
   "outputs": [
    {
     "data": {
      "text/plain": [
       "<AxesSubplot:ylabel='Frequency'>"
      ]
     },
     "execution_count": 343,
     "metadata": {},
     "output_type": "execute_result"
    },
    {
     "data": {
      "image/png": "[encoded data removed]",
      "text/plain": [
       "<Figure size 432x288 with 1 Axes>"
      ]
     },
     "metadata": {
      "needs_background": "light"
     },
     "output_type": "display_data"
    }
   ],
   "source": [
    "df_abeta_tau_ptau_cleaned['PTAU'].plot(kind = 'hist', bins = 150)"
   ]
  },
  {
   "cell_type": "markdown",
   "metadata": {},
   "source": [
    "# Combine the 2021 and 2017 biomarker datasets on common columns"
   ]
  },
  {
   "cell_type": "code",
   "execution_count": 348,
   "metadata": {},
   "outputs": [
    {
     "data": {
      "text/plain": [
       "['RID', 'VISCODE', 'VISCODE2', 'EXAMDATE', 'RUNDATE', 'ABETA', 'PTAU', 'TAU']"
      ]
     },
     "execution_count": 348,
     "metadata": {},
     "output_type": "execute_result"
    }
   ],
   "source": [
    "collect_common_biomarker_columns_2017_2021 = []\n",
    "\n",
    "for i in df_biomarker2021.columns:\n",
    "    \n",
    "    for j in df_biomarker2017.columns:\n",
    "        \n",
    "        if i == j:\n",
    "            \n",
    "            collect_common_biomarker_columns_2017_2021.append(i)\n",
    "        \n",
    "        else:\n",
    "            \n",
    "            pass\n",
    "\n",
    "collect_common_biomarker_columns_2017_2021"
   ]
  },
  {
   "cell_type": "code",
   "execution_count": 350,
   "metadata": {},
   "outputs": [],
   "source": [
    "biomarker_df_2021_subset = df_biomarker2021[collect_common_biomarker_columns_2017_2021]\n",
    "\n",
    "biomarker_df_2017_subset = df_biomarker2017[collect_common_biomarker_columns_2017_2021]"
   ]
  },
  {
   "cell_type": "code",
   "execution_count": 353,
   "metadata": {},
   "outputs": [
    {
     "data": {
      "text/plain": [
       "(216, 8)"
      ]
     },
     "execution_count": 353,
     "metadata": {},
     "output_type": "execute_result"
    }
   ],
   "source": [
    "biomarker_df_2021_subset.shape"
   ]
  },
  {
   "cell_type": "code",
   "execution_count": 354,
   "metadata": {},
   "outputs": [
    {
     "data": {
      "text/plain": [
       "(2401, 8)"
      ]
     },
     "execution_count": 354,
     "metadata": {},
     "output_type": "execute_result"
    }
   ],
   "source": [
    "biomarker_df_2017_subset.shape"
   ]
  },
  {
   "cell_type": "code",
   "execution_count": 351,
   "metadata": {},
   "outputs": [],
   "source": [
    "df_biomarkers2017_2021 = pd.concat([biomarker_df_2021_subset,biomarker_df_2017_subset])"
   ]
  },
  {
   "cell_type": "code",
   "execution_count": 352,
   "metadata": {},
   "outputs": [
    {
     "data": {
      "text/plain": [
       "(2617, 8)"
      ]
     },
     "execution_count": 352,
     "metadata": {},
     "output_type": "execute_result"
    }
   ],
   "source": [
    "df_biomarkers2017_2021.shape"
   ]
  },
  {
   "cell_type": "code",
   "execution_count": 360,
   "metadata": {},
   "outputs": [
    {
     "data": {
      "text/html": [
       "<div>\n",
       "<style scoped>\n",
       "    .dataframe tbody tr th:only-of-type {\n",
       "        vertical-align: middle;\n",
       "    }\n",
       "\n",
       "    .dataframe tbody tr th {\n",
       "        vertical-align: top;\n",
       "    }\n",
       "\n",
       "    .dataframe thead th {\n",
       "        text-align: right;\n",
       "    }\n",
       "</style>\n",
       "<table border=\"1\" class=\"dataframe\">\n",
       "  <thead>\n",
       "    <tr style=\"text-align: right;\">\n",
       "      <th></th>\n",
       "      <th>RID</th>\n",
       "      <th>VISCODE</th>\n",
       "      <th>VISCODE2</th>\n",
       "      <th>EXAMDATE</th>\n",
       "      <th>RUNDATE</th>\n",
       "      <th>ABETA</th>\n",
       "      <th>PTAU</th>\n",
       "      <th>TAU</th>\n",
       "    </tr>\n",
       "  </thead>\n",
       "  <tbody>\n",
       "    <tr>\n",
       "      <th>0</th>\n",
       "      <td>89</td>\n",
       "      <td>nv</td>\n",
       "      <td>nv</td>\n",
       "      <td>2019-08-07</td>\n",
       "      <td>2020-08-21</td>\n",
       "      <td>1250.0</td>\n",
       "      <td>14.58</td>\n",
       "      <td>160.7</td>\n",
       "    </tr>\n",
       "    <tr>\n",
       "      <th>1</th>\n",
       "      <td>96</td>\n",
       "      <td>y2</td>\n",
       "      <td>m156</td>\n",
       "      <td>2019-06-21</td>\n",
       "      <td>2020-08-21</td>\n",
       "      <td>804.5</td>\n",
       "      <td>14.12</td>\n",
       "      <td>156.7</td>\n",
       "    </tr>\n",
       "    <tr>\n",
       "      <th>2</th>\n",
       "      <td>139</td>\n",
       "      <td>nv</td>\n",
       "      <td>m48</td>\n",
       "      <td>2010-03-19</td>\n",
       "      <td>2020-08-25</td>\n",
       "      <td>544.4</td>\n",
       "      <td>40.37</td>\n",
       "      <td>389.8</td>\n",
       "    </tr>\n",
       "    <tr>\n",
       "      <th>3</th>\n",
       "      <td>243</td>\n",
       "      <td>nv</td>\n",
       "      <td>m12</td>\n",
       "      <td>2007-04-10</td>\n",
       "      <td>2020-08-24</td>\n",
       "      <td>611.5</td>\n",
       "      <td>57.79</td>\n",
       "      <td>542.3</td>\n",
       "    </tr>\n",
       "    <tr>\n",
       "      <th>4</th>\n",
       "      <td>316</td>\n",
       "      <td>nv</td>\n",
       "      <td>bl</td>\n",
       "      <td>2006-04-25</td>\n",
       "      <td>2020-08-24</td>\n",
       "      <td>336.9</td>\n",
       "      <td>40.60</td>\n",
       "      <td>372.2</td>\n",
       "    </tr>\n",
       "  </tbody>\n",
       "</table>\n",
       "</div>"
      ],
      "text/plain": [
       "   RID VISCODE VISCODE2    EXAMDATE     RUNDATE   ABETA   PTAU    TAU\n",
       "0   89      nv       nv  2019-08-07  2020-08-21  1250.0  14.58  160.7\n",
       "1   96      y2     m156  2019-06-21  2020-08-21   804.5  14.12  156.7\n",
       "2  139      nv      m48  2010-03-19  2020-08-25   544.4  40.37  389.8\n",
       "3  243      nv      m12  2007-04-10  2020-08-24   611.5  57.79  542.3\n",
       "4  316      nv       bl  2006-04-25  2020-08-24   336.9  40.60  372.2"
      ]
     },
     "execution_count": 360,
     "metadata": {},
     "output_type": "execute_result"
    }
   ],
   "source": [
    "df_biomarkers2017_2021.head()"
   ]
  },
  {
   "cell_type": "code",
   "execution_count": 361,
   "metadata": {},
   "outputs": [
    {
     "name": "stdout",
     "output_type": "stream",
     "text": [
      "<class 'pandas.core.frame.DataFrame'>\n",
      "Int64Index: 2617 entries, 0 to 2400\n",
      "Data columns (total 8 columns):\n",
      " #   Column    Non-Null Count  Dtype  \n",
      "---  ------    --------------  -----  \n",
      " 0   RID       2617 non-null   int64  \n",
      " 1   VISCODE   2617 non-null   object \n",
      " 2   VISCODE2  2617 non-null   object \n",
      " 3   EXAMDATE  2617 non-null   object \n",
      " 4   RUNDATE   2617 non-null   object \n",
      " 5   ABETA     2613 non-null   float64\n",
      " 6   PTAU      2613 non-null   float64\n",
      " 7   TAU       2614 non-null   float64\n",
      "dtypes: float64(3), int64(1), object(4)\n",
      "memory usage: 184.0+ KB\n"
     ]
    }
   ],
   "source": [
    "df_biomarkers2017_2021.info()"
   ]
  },
  {
   "cell_type": "markdown",
   "metadata": {},
   "source": [
    "# Merge biomarker data and demographics"
   ]
  },
  {
   "cell_type": "markdown",
   "metadata": {},
   "source": [
    "### ****Check comon RID's"
   ]
  },
  {
   "cell_type": "code",
   "execution_count": 362,
   "metadata": {},
   "outputs": [
    {
     "data": {
      "text/plain": [
       "4082"
      ]
     },
     "execution_count": 362,
     "metadata": {},
     "output_type": "execute_result"
    }
   ],
   "source": [
    "common = []\n",
    "\n",
    "for i in df_biomarkers2017_2021['RID']:\n",
    "    \n",
    "    for j in df_demo['RID']:\n",
    "        \n",
    "        if i == j:\n",
    "            \n",
    "            common.append(i)\n",
    "len(common)"
   ]
  },
  {
   "cell_type": "code",
   "execution_count": 358,
   "metadata": {},
   "outputs": [
    {
     "data": {
      "text/plain": [
       "Index(['Phase', 'ID', 'RID', 'SITEID', 'VISCODE', 'VISCODE2', 'USERDATE',\n",
       "       'USERDATE2', 'PTSOURCE', 'PTGENDER', 'PTDOBMM', 'PTDOBYY', 'PTHAND',\n",
       "       'PTMARRY', 'PTEDUCAT', 'PTWORKHS', 'PTWORK', 'PTWRECNT', 'PTNOTRT',\n",
       "       'PTRTYR', 'PTHOME', 'PTOTHOME', 'PTTLANG', 'PTPLANG', 'PTPSPEC',\n",
       "       'PTCOGBEG', 'PTMCIBEG', 'PTADBEG', 'PTADDX', 'PTETHCAT', 'PTRACCAT',\n",
       "       'update_stamp'],\n",
       "      dtype='object')"
      ]
     },
     "execution_count": 358,
     "metadata": {},
     "output_type": "execute_result"
    }
   ],
   "source": [
    "df_demo.columns"
   ]
  },
  {
   "cell_type": "code",
   "execution_count": 363,
   "metadata": {},
   "outputs": [],
   "source": [
    "df_demo.merge?"
   ]
  },
  {
   "cell_type": "code",
   "execution_count": 376,
   "metadata": {},
   "outputs": [],
   "source": [
    "df_demo_biomarker = df_demo.merge(df_biomarkers2017_2021,how='inner',on='RID')"
   ]
  },
  {
   "cell_type": "code",
   "execution_count": 377,
   "metadata": {},
   "outputs": [
    {
     "data": {
      "text/plain": [
       "(4082, 39)"
      ]
     },
     "execution_count": 377,
     "metadata": {},
     "output_type": "execute_result"
    }
   ],
   "source": [
    "df_demo_biomarker.shape"
   ]
  },
  {
   "cell_type": "code",
   "execution_count": 367,
   "metadata": {},
   "outputs": [],
   "source": [
    "df_demo_biomarker_deduped = df_demo_biomarker.drop_duplicates()"
   ]
  },
  {
   "cell_type": "code",
   "execution_count": 368,
   "metadata": {},
   "outputs": [
    {
     "data": {
      "text/plain": [
       "(4082, 39)"
      ]
     },
     "execution_count": 368,
     "metadata": {},
     "output_type": "execute_result"
    }
   ],
   "source": [
    "df_demo_biomarker_deduped.shape"
   ]
  },
  {
   "cell_type": "code",
   "execution_count": 369,
   "metadata": {},
   "outputs": [
    {
     "data": {
      "text/html": [
       "<div>\n",
       "<style scoped>\n",
       "    .dataframe tbody tr th:only-of-type {\n",
       "        vertical-align: middle;\n",
       "    }\n",
       "\n",
       "    .dataframe tbody tr th {\n",
       "        vertical-align: top;\n",
       "    }\n",
       "\n",
       "    .dataframe thead th {\n",
       "        text-align: right;\n",
       "    }\n",
       "</style>\n",
       "<table border=\"1\" class=\"dataframe\">\n",
       "  <thead>\n",
       "    <tr style=\"text-align: right;\">\n",
       "      <th></th>\n",
       "      <th>Phase</th>\n",
       "      <th>ID</th>\n",
       "      <th>RID</th>\n",
       "      <th>SITEID</th>\n",
       "      <th>VISCODE_x</th>\n",
       "      <th>VISCODE2_x</th>\n",
       "      <th>USERDATE</th>\n",
       "      <th>USERDATE2</th>\n",
       "      <th>PTSOURCE</th>\n",
       "      <th>PTGENDER</th>\n",
       "      <th>...</th>\n",
       "      <th>PTETHCAT</th>\n",
       "      <th>PTRACCAT</th>\n",
       "      <th>update_stamp</th>\n",
       "      <th>VISCODE_y</th>\n",
       "      <th>VISCODE2_y</th>\n",
       "      <th>EXAMDATE</th>\n",
       "      <th>RUNDATE</th>\n",
       "      <th>ABETA</th>\n",
       "      <th>PTAU</th>\n",
       "      <th>TAU</th>\n",
       "    </tr>\n",
       "  </thead>\n",
       "  <tbody>\n",
       "    <tr>\n",
       "      <th>0</th>\n",
       "      <td>ADNI1</td>\n",
       "      <td>22</td>\n",
       "      <td>3</td>\n",
       "      <td>107</td>\n",
       "      <td>sc</td>\n",
       "      <td>sc</td>\n",
       "      <td>2005-08-18</td>\n",
       "      <td>NaN</td>\n",
       "      <td>1.0</td>\n",
       "      <td>1.0</td>\n",
       "      <td>...</td>\n",
       "      <td>2.0</td>\n",
       "      <td>5.0</td>\n",
       "      <td>2005-08-18 00:00:00.0</td>\n",
       "      <td>bl</td>\n",
       "      <td>bl</td>\n",
       "      <td>2005-09-12</td>\n",
       "      <td>2016-12-14</td>\n",
       "      <td>741.5</td>\n",
       "      <td>22.83</td>\n",
       "      <td>239.7</td>\n",
       "    </tr>\n",
       "    <tr>\n",
       "      <th>1</th>\n",
       "      <td>ADNI1</td>\n",
       "      <td>22</td>\n",
       "      <td>3</td>\n",
       "      <td>107</td>\n",
       "      <td>sc</td>\n",
       "      <td>sc</td>\n",
       "      <td>2005-08-18</td>\n",
       "      <td>NaN</td>\n",
       "      <td>1.0</td>\n",
       "      <td>1.0</td>\n",
       "      <td>...</td>\n",
       "      <td>2.0</td>\n",
       "      <td>5.0</td>\n",
       "      <td>2005-08-18 00:00:00.0</td>\n",
       "      <td>m12</td>\n",
       "      <td>m12</td>\n",
       "      <td>2006-09-13</td>\n",
       "      <td>2016-12-14</td>\n",
       "      <td>601.4</td>\n",
       "      <td>24.18</td>\n",
       "      <td>251.7</td>\n",
       "    </tr>\n",
       "    <tr>\n",
       "      <th>2</th>\n",
       "      <td>ADNI1</td>\n",
       "      <td>24</td>\n",
       "      <td>4</td>\n",
       "      <td>10</td>\n",
       "      <td>sc</td>\n",
       "      <td>sc</td>\n",
       "      <td>2005-08-18</td>\n",
       "      <td>NaN</td>\n",
       "      <td>1.0</td>\n",
       "      <td>1.0</td>\n",
       "      <td>...</td>\n",
       "      <td>1.0</td>\n",
       "      <td>5.0</td>\n",
       "      <td>2005-08-18 00:00:00.0</td>\n",
       "      <td>bl</td>\n",
       "      <td>bl</td>\n",
       "      <td>2005-11-22</td>\n",
       "      <td>2017-01-09</td>\n",
       "      <td>1501.0</td>\n",
       "      <td>13.29</td>\n",
       "      <td>153.1</td>\n",
       "    </tr>\n",
       "    <tr>\n",
       "      <th>3</th>\n",
       "      <td>ADNI1</td>\n",
       "      <td>24</td>\n",
       "      <td>4</td>\n",
       "      <td>10</td>\n",
       "      <td>sc</td>\n",
       "      <td>sc</td>\n",
       "      <td>2005-08-18</td>\n",
       "      <td>NaN</td>\n",
       "      <td>1.0</td>\n",
       "      <td>1.0</td>\n",
       "      <td>...</td>\n",
       "      <td>1.0</td>\n",
       "      <td>5.0</td>\n",
       "      <td>2005-08-18 00:00:00.0</td>\n",
       "      <td>m12</td>\n",
       "      <td>m12</td>\n",
       "      <td>2006-11-28</td>\n",
       "      <td>2017-01-09</td>\n",
       "      <td>1176.0</td>\n",
       "      <td>13.30</td>\n",
       "      <td>159.7</td>\n",
       "    </tr>\n",
       "    <tr>\n",
       "      <th>4</th>\n",
       "      <td>ADNI1</td>\n",
       "      <td>26</td>\n",
       "      <td>5</td>\n",
       "      <td>107</td>\n",
       "      <td>sc</td>\n",
       "      <td>sc</td>\n",
       "      <td>2005-08-23</td>\n",
       "      <td>NaN</td>\n",
       "      <td>1.0</td>\n",
       "      <td>1.0</td>\n",
       "      <td>...</td>\n",
       "      <td>2.0</td>\n",
       "      <td>5.0</td>\n",
       "      <td>2005-08-23 00:00:00.0</td>\n",
       "      <td>m12</td>\n",
       "      <td>m12</td>\n",
       "      <td>2006-09-06</td>\n",
       "      <td>2016-11-22</td>\n",
       "      <td>472.8</td>\n",
       "      <td>34.04</td>\n",
       "      <td>334.1</td>\n",
       "    </tr>\n",
       "  </tbody>\n",
       "</table>\n",
       "<p>5 rows × 39 columns</p>\n",
       "</div>"
      ],
      "text/plain": [
       "   Phase  ID  RID  SITEID VISCODE_x VISCODE2_x    USERDATE USERDATE2  \\\n",
       "0  ADNI1  22    3     107        sc         sc  2005-08-18       NaN   \n",
       "1  ADNI1  22    3     107        sc         sc  2005-08-18       NaN   \n",
       "2  ADNI1  24    4      10        sc         sc  2005-08-18       NaN   \n",
       "3  ADNI1  24    4      10        sc         sc  2005-08-18       NaN   \n",
       "4  ADNI1  26    5     107        sc         sc  2005-08-23       NaN   \n",
       "\n",
       "   PTSOURCE  PTGENDER  ...  PTETHCAT  PTRACCAT           update_stamp  \\\n",
       "0       1.0       1.0  ...       2.0       5.0  2005-08-18 00:00:00.0   \n",
       "1       1.0       1.0  ...       2.0       5.0  2005-08-18 00:00:00.0   \n",
       "2       1.0       1.0  ...       1.0       5.0  2005-08-18 00:00:00.0   \n",
       "3       1.0       1.0  ...       1.0       5.0  2005-08-18 00:00:00.0   \n",
       "4       1.0       1.0  ...       2.0       5.0  2005-08-23 00:00:00.0   \n",
       "\n",
       "   VISCODE_y  VISCODE2_y    EXAMDATE     RUNDATE   ABETA   PTAU    TAU  \n",
       "0         bl          bl  2005-09-12  2016-12-14   741.5  22.83  239.7  \n",
       "1        m12         m12  2006-09-13  2016-12-14   601.4  24.18  251.7  \n",
       "2         bl          bl  2005-11-22  2017-01-09  1501.0  13.29  153.1  \n",
       "3        m12         m12  2006-11-28  2017-01-09  1176.0  13.30  159.7  \n",
       "4        m12         m12  2006-09-06  2016-11-22   472.8  34.04  334.1  \n",
       "\n",
       "[5 rows x 39 columns]"
      ]
     },
     "execution_count": 369,
     "metadata": {},
     "output_type": "execute_result"
    }
   ],
   "source": [
    "df_demo_biomarker_deduped.head()"
   ]
  },
  {
   "cell_type": "code",
   "execution_count": 4,
   "metadata": {},
   "outputs": [],
   "source": [
    "# df_visits = pd.read_csv('/Users/leslieappiah/Desktop/ADNI_DATA/ADNI_Participant_Visit_Distribution_08-22-2022.csv')"
   ]
  },
  {
   "cell_type": "code",
   "execution_count": 379,
   "metadata": {},
   "outputs": [],
   "source": [
    "# df_diagnosis = pd.read_csv('./Diagnosis/ADSXLIST.csv')"
   ]
  },
  {
   "cell_type": "markdown",
   "metadata": {},
   "source": [
    "## ** We use the all diagnosis because it covers all the phases ADNI1,2,3 & GO"
   ]
  },
  {
   "cell_type": "code",
   "execution_count": 384,
   "metadata": {},
   "outputs": [],
   "source": [
    "df_diagnosis_all = pd.read_csv('./Diagnosis/DXSUM_PDXCONV_ADNIALL.csv')"
   ]
  },
  {
   "cell_type": "code",
   "execution_count": 385,
   "metadata": {},
   "outputs": [
    {
     "data": {
      "text/html": [
       "<div>\n",
       "<style scoped>\n",
       "    .dataframe tbody tr th:only-of-type {\n",
       "        vertical-align: middle;\n",
       "    }\n",
       "\n",
       "    .dataframe tbody tr th {\n",
       "        vertical-align: top;\n",
       "    }\n",
       "\n",
       "    .dataframe thead th {\n",
       "        text-align: right;\n",
       "    }\n",
       "</style>\n",
       "<table border=\"1\" class=\"dataframe\">\n",
       "  <thead>\n",
       "    <tr style=\"text-align: right;\">\n",
       "      <th></th>\n",
       "      <th>Phase</th>\n",
       "      <th>ID</th>\n",
       "      <th>RID</th>\n",
       "      <th>PTID</th>\n",
       "      <th>SITEID</th>\n",
       "      <th>VISCODE</th>\n",
       "      <th>VISCODE2</th>\n",
       "      <th>USERDATE</th>\n",
       "      <th>USERDATE2</th>\n",
       "      <th>EXAMDATE</th>\n",
       "      <th>...</th>\n",
       "      <th>DXPATYP</th>\n",
       "      <th>DXPOTHSP</th>\n",
       "      <th>DXDEP</th>\n",
       "      <th>DXDEPSP</th>\n",
       "      <th>DXOTHDEM</th>\n",
       "      <th>DXODES</th>\n",
       "      <th>DXOOTHSP</th>\n",
       "      <th>DXCONFID</th>\n",
       "      <th>DIAGNOSIS</th>\n",
       "      <th>update_stamp</th>\n",
       "    </tr>\n",
       "  </thead>\n",
       "  <tbody>\n",
       "    <tr>\n",
       "      <th>0</th>\n",
       "      <td>ADNI1</td>\n",
       "      <td>2.0</td>\n",
       "      <td>2</td>\n",
       "      <td>011_S_0002</td>\n",
       "      <td>107</td>\n",
       "      <td>bl</td>\n",
       "      <td>bl</td>\n",
       "      <td>2005-10-01</td>\n",
       "      <td>NaN</td>\n",
       "      <td>2005-09-29</td>\n",
       "      <td>...</td>\n",
       "      <td>-4.0</td>\n",
       "      <td>-4</td>\n",
       "      <td>NaN</td>\n",
       "      <td>NaN</td>\n",
       "      <td>-4.0</td>\n",
       "      <td>-4.0</td>\n",
       "      <td>-4</td>\n",
       "      <td>4.0</td>\n",
       "      <td>NaN</td>\n",
       "      <td>2005-10-01 00:00:00.0</td>\n",
       "    </tr>\n",
       "    <tr>\n",
       "      <th>1</th>\n",
       "      <td>ADNI1</td>\n",
       "      <td>336.0</td>\n",
       "      <td>2</td>\n",
       "      <td>011_S_0002</td>\n",
       "      <td>107</td>\n",
       "      <td>m06</td>\n",
       "      <td>m06</td>\n",
       "      <td>2006-04-27</td>\n",
       "      <td>NaN</td>\n",
       "      <td>2006-03-06</td>\n",
       "      <td>...</td>\n",
       "      <td>-4.0</td>\n",
       "      <td>-4</td>\n",
       "      <td>NaN</td>\n",
       "      <td>NaN</td>\n",
       "      <td>-4.0</td>\n",
       "      <td>-4.0</td>\n",
       "      <td>-4</td>\n",
       "      <td>3.0</td>\n",
       "      <td>NaN</td>\n",
       "      <td>2006-04-27 00:00:00.0</td>\n",
       "    </tr>\n",
       "    <tr>\n",
       "      <th>2</th>\n",
       "      <td>ADNI1</td>\n",
       "      <td>4.0</td>\n",
       "      <td>3</td>\n",
       "      <td>011_S_0003</td>\n",
       "      <td>107</td>\n",
       "      <td>bl</td>\n",
       "      <td>bl</td>\n",
       "      <td>2005-10-01</td>\n",
       "      <td>NaN</td>\n",
       "      <td>2005-09-30</td>\n",
       "      <td>...</td>\n",
       "      <td>-4.0</td>\n",
       "      <td>-4</td>\n",
       "      <td>NaN</td>\n",
       "      <td>NaN</td>\n",
       "      <td>-4.0</td>\n",
       "      <td>-4.0</td>\n",
       "      <td>-4</td>\n",
       "      <td>3.0</td>\n",
       "      <td>NaN</td>\n",
       "      <td>2005-10-01 00:00:00.0</td>\n",
       "    </tr>\n",
       "    <tr>\n",
       "      <th>3</th>\n",
       "      <td>ADNI1</td>\n",
       "      <td>338.0</td>\n",
       "      <td>3</td>\n",
       "      <td>011_S_0003</td>\n",
       "      <td>107</td>\n",
       "      <td>m06</td>\n",
       "      <td>m06</td>\n",
       "      <td>2006-04-27</td>\n",
       "      <td>NaN</td>\n",
       "      <td>2006-03-13</td>\n",
       "      <td>...</td>\n",
       "      <td>-4.0</td>\n",
       "      <td>-4</td>\n",
       "      <td>NaN</td>\n",
       "      <td>NaN</td>\n",
       "      <td>-4.0</td>\n",
       "      <td>-4.0</td>\n",
       "      <td>-4</td>\n",
       "      <td>4.0</td>\n",
       "      <td>NaN</td>\n",
       "      <td>2006-04-27 00:00:00.0</td>\n",
       "    </tr>\n",
       "    <tr>\n",
       "      <th>4</th>\n",
       "      <td>ADNI1</td>\n",
       "      <td>990.0</td>\n",
       "      <td>3</td>\n",
       "      <td>011_S_0003</td>\n",
       "      <td>107</td>\n",
       "      <td>m12</td>\n",
       "      <td>m12</td>\n",
       "      <td>2006-09-14</td>\n",
       "      <td>NaN</td>\n",
       "      <td>2006-09-13</td>\n",
       "      <td>...</td>\n",
       "      <td>-4.0</td>\n",
       "      <td>-4</td>\n",
       "      <td>NaN</td>\n",
       "      <td>NaN</td>\n",
       "      <td>-4.0</td>\n",
       "      <td>-4.0</td>\n",
       "      <td>-4</td>\n",
       "      <td>4.0</td>\n",
       "      <td>NaN</td>\n",
       "      <td>2006-09-14 00:00:00.0</td>\n",
       "    </tr>\n",
       "  </tbody>\n",
       "</table>\n",
       "<p>5 rows × 54 columns</p>\n",
       "</div>"
      ],
      "text/plain": [
       "   Phase     ID  RID        PTID  SITEID VISCODE VISCODE2    USERDATE  \\\n",
       "0  ADNI1    2.0    2  011_S_0002     107      bl       bl  2005-10-01   \n",
       "1  ADNI1  336.0    2  011_S_0002     107     m06      m06  2006-04-27   \n",
       "2  ADNI1    4.0    3  011_S_0003     107      bl       bl  2005-10-01   \n",
       "3  ADNI1  338.0    3  011_S_0003     107     m06      m06  2006-04-27   \n",
       "4  ADNI1  990.0    3  011_S_0003     107     m12      m12  2006-09-14   \n",
       "\n",
       "  USERDATE2    EXAMDATE  ...  DXPATYP  DXPOTHSP  DXDEP  DXDEPSP  DXOTHDEM  \\\n",
       "0       NaN  2005-09-29  ...     -4.0        -4    NaN      NaN      -4.0   \n",
       "1       NaN  2006-03-06  ...     -4.0        -4    NaN      NaN      -4.0   \n",
       "2       NaN  2005-09-30  ...     -4.0        -4    NaN      NaN      -4.0   \n",
       "3       NaN  2006-03-13  ...     -4.0        -4    NaN      NaN      -4.0   \n",
       "4       NaN  2006-09-13  ...     -4.0        -4    NaN      NaN      -4.0   \n",
       "\n",
       "   DXODES  DXOOTHSP  DXCONFID DIAGNOSIS           update_stamp  \n",
       "0    -4.0        -4       4.0       NaN  2005-10-01 00:00:00.0  \n",
       "1    -4.0        -4       3.0       NaN  2006-04-27 00:00:00.0  \n",
       "2    -4.0        -4       3.0       NaN  2005-10-01 00:00:00.0  \n",
       "3    -4.0        -4       4.0       NaN  2006-04-27 00:00:00.0  \n",
       "4    -4.0        -4       4.0       NaN  2006-09-14 00:00:00.0  \n",
       "\n",
       "[5 rows x 54 columns]"
      ]
     },
     "execution_count": 385,
     "metadata": {},
     "output_type": "execute_result"
    }
   ],
   "source": [
    "df_diagnosis_all.head()"
   ]
  },
  {
   "cell_type": "code",
   "execution_count": 386,
   "metadata": {},
   "outputs": [
    {
     "data": {
      "text/plain": [
       "ADNI2     5671\n",
       "ADNI1     3868\n",
       "ADNI3     3232\n",
       "ADNIGO     475\n",
       "Name: Phase, dtype: int64"
      ]
     },
     "execution_count": 386,
     "metadata": {},
     "output_type": "execute_result"
    }
   ],
   "source": [
    "df_diagnosis_all.Phase.value_counts()"
   ]
  },
  {
   "cell_type": "code",
   "execution_count": 387,
   "metadata": {},
   "outputs": [
    {
     "data": {
      "text/plain": [
       "(13246, 54)"
      ]
     },
     "execution_count": 387,
     "metadata": {},
     "output_type": "execute_result"
    }
   ],
   "source": [
    "df_diagnosis_all.shape"
   ]
  },
  {
   "cell_type": "code",
   "execution_count": 388,
   "metadata": {},
   "outputs": [
    {
     "data": {
      "text/plain": [
       "1.0    1679\n",
       "2.0    1138\n",
       "3.0     401\n",
       "Name: DIAGNOSIS, dtype: int64"
      ]
     },
     "execution_count": 388,
     "metadata": {},
     "output_type": "execute_result"
    }
   ],
   "source": [
    "df_diagnosis_all.DIAGNOSIS.value_counts()"
   ]
  },
  {
   "cell_type": "code",
   "execution_count": 393,
   "metadata": {},
   "outputs": [
    {
     "data": {
      "text/plain": [
       "Index(['Phase', 'ID', 'RID', 'PTID', 'SITEID', 'VISCODE', 'VISCODE2',\n",
       "       'USERDATE', 'USERDATE2', 'EXAMDATE', 'DXCHANGE', 'DXCURREN', 'DXCONV',\n",
       "       'DXCONTYP', 'DXREV', 'DXNORM', 'DXNODEP', 'DXMCI', 'DXMDES', 'DXMPTR1',\n",
       "       'DXMPTR2', 'DXMPTR3', 'DXMPTR4', 'DXMPTR5', 'DXMPTR6', 'DXMDUE',\n",
       "       'DXMOTHET', 'DXMOTHSP', 'DXDSEV', 'DXDDUE', 'DXAD', 'DXADES', 'DXAPP',\n",
       "       'DXAPROB', 'DXAMETASP', 'DXAOTHRSP', 'DXAPOSS', 'DXAATYSP', 'DXAMETSP',\n",
       "       'DXAOTHSP', 'DXPARK', 'DXPARKSP', 'DXPDES', 'DXPCOG', 'DXPATYP',\n",
       "       'DXPOTHSP', 'DXDEP', 'DXDEPSP', 'DXOTHDEM', 'DXODES', 'DXOOTHSP',\n",
       "       'DXCONFID', 'DIAGNOSIS', 'update_stamp'],\n",
       "      dtype='object')"
      ]
     },
     "execution_count": 393,
     "metadata": {},
     "output_type": "execute_result"
    }
   ],
   "source": [
    "df_diagnosis_all.columns"
   ]
  },
  {
   "cell_type": "markdown",
   "metadata": {},
   "source": [
    "# Merge diagnoses data with demo and biomarker data"
   ]
  },
  {
   "cell_type": "code",
   "execution_count": 394,
   "metadata": {},
   "outputs": [],
   "source": [
    "df_demo_biomarker_diagnoses = df_diagnosis_all.merge(df_demo_biomarker_deduped, how='inner', on=['RID'])"
   ]
  },
  {
   "cell_type": "code",
   "execution_count": 395,
   "metadata": {},
   "outputs": [],
   "source": [
    "df_demo_biomarker_diagnoses_deduped = df_demo_biomarker_diagnoses.drop_duplicates()"
   ]
  },
  {
   "cell_type": "code",
   "execution_count": 396,
   "metadata": {},
   "outputs": [
    {
     "data": {
      "text/plain": [
       "(33136, 92)"
      ]
     },
     "execution_count": 396,
     "metadata": {},
     "output_type": "execute_result"
    }
   ],
   "source": [
    "df_demo_biomarker_diagnoses_deduped.shape"
   ]
  },
  {
   "cell_type": "code",
   "execution_count": 397,
   "metadata": {},
   "outputs": [
    {
     "data": {
      "text/html": [
       "<div>\n",
       "<style scoped>\n",
       "    .dataframe tbody tr th:only-of-type {\n",
       "        vertical-align: middle;\n",
       "    }\n",
       "\n",
       "    .dataframe tbody tr th {\n",
       "        vertical-align: top;\n",
       "    }\n",
       "\n",
       "    .dataframe thead th {\n",
       "        text-align: right;\n",
       "    }\n",
       "</style>\n",
       "<table border=\"1\" class=\"dataframe\">\n",
       "  <thead>\n",
       "    <tr style=\"text-align: right;\">\n",
       "      <th></th>\n",
       "      <th>Phase_x</th>\n",
       "      <th>ID_x</th>\n",
       "      <th>RID</th>\n",
       "      <th>PTID</th>\n",
       "      <th>SITEID_x</th>\n",
       "      <th>VISCODE</th>\n",
       "      <th>VISCODE2</th>\n",
       "      <th>USERDATE_x</th>\n",
       "      <th>USERDATE2_x</th>\n",
       "      <th>EXAMDATE_x</th>\n",
       "      <th>...</th>\n",
       "      <th>PTETHCAT</th>\n",
       "      <th>PTRACCAT</th>\n",
       "      <th>update_stamp_y</th>\n",
       "      <th>VISCODE_y</th>\n",
       "      <th>VISCODE2_y</th>\n",
       "      <th>EXAMDATE_y</th>\n",
       "      <th>RUNDATE</th>\n",
       "      <th>ABETA</th>\n",
       "      <th>PTAU</th>\n",
       "      <th>TAU</th>\n",
       "    </tr>\n",
       "  </thead>\n",
       "  <tbody>\n",
       "    <tr>\n",
       "      <th>0</th>\n",
       "      <td>ADNI1</td>\n",
       "      <td>4.0</td>\n",
       "      <td>3</td>\n",
       "      <td>011_S_0003</td>\n",
       "      <td>107</td>\n",
       "      <td>bl</td>\n",
       "      <td>bl</td>\n",
       "      <td>2005-10-01</td>\n",
       "      <td>NaN</td>\n",
       "      <td>2005-09-30</td>\n",
       "      <td>...</td>\n",
       "      <td>2.0</td>\n",
       "      <td>5.0</td>\n",
       "      <td>2005-08-18 00:00:00.0</td>\n",
       "      <td>bl</td>\n",
       "      <td>bl</td>\n",
       "      <td>2005-09-12</td>\n",
       "      <td>2016-12-14</td>\n",
       "      <td>741.5</td>\n",
       "      <td>22.83</td>\n",
       "      <td>239.7</td>\n",
       "    </tr>\n",
       "    <tr>\n",
       "      <th>1</th>\n",
       "      <td>ADNI1</td>\n",
       "      <td>4.0</td>\n",
       "      <td>3</td>\n",
       "      <td>011_S_0003</td>\n",
       "      <td>107</td>\n",
       "      <td>bl</td>\n",
       "      <td>bl</td>\n",
       "      <td>2005-10-01</td>\n",
       "      <td>NaN</td>\n",
       "      <td>2005-09-30</td>\n",
       "      <td>...</td>\n",
       "      <td>2.0</td>\n",
       "      <td>5.0</td>\n",
       "      <td>2005-08-18 00:00:00.0</td>\n",
       "      <td>m12</td>\n",
       "      <td>m12</td>\n",
       "      <td>2006-09-13</td>\n",
       "      <td>2016-12-14</td>\n",
       "      <td>601.4</td>\n",
       "      <td>24.18</td>\n",
       "      <td>251.7</td>\n",
       "    </tr>\n",
       "    <tr>\n",
       "      <th>2</th>\n",
       "      <td>ADNI1</td>\n",
       "      <td>338.0</td>\n",
       "      <td>3</td>\n",
       "      <td>011_S_0003</td>\n",
       "      <td>107</td>\n",
       "      <td>m06</td>\n",
       "      <td>m06</td>\n",
       "      <td>2006-04-27</td>\n",
       "      <td>NaN</td>\n",
       "      <td>2006-03-13</td>\n",
       "      <td>...</td>\n",
       "      <td>2.0</td>\n",
       "      <td>5.0</td>\n",
       "      <td>2005-08-18 00:00:00.0</td>\n",
       "      <td>bl</td>\n",
       "      <td>bl</td>\n",
       "      <td>2005-09-12</td>\n",
       "      <td>2016-12-14</td>\n",
       "      <td>741.5</td>\n",
       "      <td>22.83</td>\n",
       "      <td>239.7</td>\n",
       "    </tr>\n",
       "    <tr>\n",
       "      <th>3</th>\n",
       "      <td>ADNI1</td>\n",
       "      <td>338.0</td>\n",
       "      <td>3</td>\n",
       "      <td>011_S_0003</td>\n",
       "      <td>107</td>\n",
       "      <td>m06</td>\n",
       "      <td>m06</td>\n",
       "      <td>2006-04-27</td>\n",
       "      <td>NaN</td>\n",
       "      <td>2006-03-13</td>\n",
       "      <td>...</td>\n",
       "      <td>2.0</td>\n",
       "      <td>5.0</td>\n",
       "      <td>2005-08-18 00:00:00.0</td>\n",
       "      <td>m12</td>\n",
       "      <td>m12</td>\n",
       "      <td>2006-09-13</td>\n",
       "      <td>2016-12-14</td>\n",
       "      <td>601.4</td>\n",
       "      <td>24.18</td>\n",
       "      <td>251.7</td>\n",
       "    </tr>\n",
       "    <tr>\n",
       "      <th>4</th>\n",
       "      <td>ADNI1</td>\n",
       "      <td>990.0</td>\n",
       "      <td>3</td>\n",
       "      <td>011_S_0003</td>\n",
       "      <td>107</td>\n",
       "      <td>m12</td>\n",
       "      <td>m12</td>\n",
       "      <td>2006-09-14</td>\n",
       "      <td>NaN</td>\n",
       "      <td>2006-09-13</td>\n",
       "      <td>...</td>\n",
       "      <td>2.0</td>\n",
       "      <td>5.0</td>\n",
       "      <td>2005-08-18 00:00:00.0</td>\n",
       "      <td>bl</td>\n",
       "      <td>bl</td>\n",
       "      <td>2005-09-12</td>\n",
       "      <td>2016-12-14</td>\n",
       "      <td>741.5</td>\n",
       "      <td>22.83</td>\n",
       "      <td>239.7</td>\n",
       "    </tr>\n",
       "  </tbody>\n",
       "</table>\n",
       "<p>5 rows × 92 columns</p>\n",
       "</div>"
      ],
      "text/plain": [
       "  Phase_x   ID_x  RID        PTID  SITEID_x VISCODE VISCODE2  USERDATE_x  \\\n",
       "0   ADNI1    4.0    3  011_S_0003       107      bl       bl  2005-10-01   \n",
       "1   ADNI1    4.0    3  011_S_0003       107      bl       bl  2005-10-01   \n",
       "2   ADNI1  338.0    3  011_S_0003       107     m06      m06  2006-04-27   \n",
       "3   ADNI1  338.0    3  011_S_0003       107     m06      m06  2006-04-27   \n",
       "4   ADNI1  990.0    3  011_S_0003       107     m12      m12  2006-09-14   \n",
       "\n",
       "  USERDATE2_x  EXAMDATE_x  ...  PTETHCAT  PTRACCAT         update_stamp_y  \\\n",
       "0         NaN  2005-09-30  ...       2.0       5.0  2005-08-18 00:00:00.0   \n",
       "1         NaN  2005-09-30  ...       2.0       5.0  2005-08-18 00:00:00.0   \n",
       "2         NaN  2006-03-13  ...       2.0       5.0  2005-08-18 00:00:00.0   \n",
       "3         NaN  2006-03-13  ...       2.0       5.0  2005-08-18 00:00:00.0   \n",
       "4         NaN  2006-09-13  ...       2.0       5.0  2005-08-18 00:00:00.0   \n",
       "\n",
       "   VISCODE_y  VISCODE2_y  EXAMDATE_y     RUNDATE  ABETA   PTAU    TAU  \n",
       "0         bl          bl  2005-09-12  2016-12-14  741.5  22.83  239.7  \n",
       "1        m12         m12  2006-09-13  2016-12-14  601.4  24.18  251.7  \n",
       "2         bl          bl  2005-09-12  2016-12-14  741.5  22.83  239.7  \n",
       "3        m12         m12  2006-09-13  2016-12-14  601.4  24.18  251.7  \n",
       "4         bl          bl  2005-09-12  2016-12-14  741.5  22.83  239.7  \n",
       "\n",
       "[5 rows x 92 columns]"
      ]
     },
     "execution_count": 397,
     "metadata": {},
     "output_type": "execute_result"
    }
   ],
   "source": [
    "df_demo_biomarker_diagnoses_deduped.head()"
   ]
  },
  {
   "cell_type": "markdown",
   "metadata": {},
   "source": [
    "## ** Baseline data"
   ]
  },
  {
   "cell_type": "code",
   "execution_count": 399,
   "metadata": {},
   "outputs": [
    {
     "data": {
      "text/plain": [
       "(2904, 92)"
      ]
     },
     "execution_count": 399,
     "metadata": {},
     "output_type": "execute_result"
    }
   ],
   "source": [
    "df_baseline = df_demo_biomarker_diagnoses_deduped[df_demo_biomarker_diagnoses_deduped['VISCODE']=='bl']\n",
    "\n",
    "df_baseline.shape"
   ]
  },
  {
   "cell_type": "markdown",
   "metadata": {},
   "source": [
    "## ** Baseline data and no diagnosis"
   ]
  },
  {
   "cell_type": "code",
   "execution_count": 400,
   "metadata": {},
   "outputs": [],
   "source": [
    "filter_use_bn = (df_demo_biomarker_diagnoses_deduped['VISCODE']=='bl') & (df_demo_biomarker_diagnoses_deduped['DIAGNOSIS'].isnull())\n",
    "\n",
    "df_baseline_normal = df_demo_biomarker_diagnoses_deduped[filter_use_bn]"
   ]
  },
  {
   "cell_type": "code",
   "execution_count": 401,
   "metadata": {},
   "outputs": [
    {
     "data": {
      "text/plain": [
       "(2778, 92)"
      ]
     },
     "execution_count": 401,
     "metadata": {},
     "output_type": "execute_result"
    }
   ],
   "source": [
    "df_baseline_normal.shape"
   ]
  },
  {
   "cell_type": "code",
   "execution_count": 404,
   "metadata": {},
   "outputs": [
    {
     "data": {
      "text/plain": [
       "Index(['Phase_x', 'ID_x', 'RID', 'PTID', 'SITEID_x', 'VISCODE', 'VISCODE2',\n",
       "       'USERDATE_x', 'USERDATE2_x', 'EXAMDATE_x', 'DXCHANGE', 'DXCURREN',\n",
       "       'DXCONV', 'DXCONTYP', 'DXREV', 'DXNORM', 'DXNODEP', 'DXMCI', 'DXMDES',\n",
       "       'DXMPTR1', 'DXMPTR2', 'DXMPTR3', 'DXMPTR4', 'DXMPTR5', 'DXMPTR6',\n",
       "       'DXMDUE', 'DXMOTHET', 'DXMOTHSP', 'DXDSEV', 'DXDDUE', 'DXAD', 'DXADES',\n",
       "       'DXAPP', 'DXAPROB', 'DXAMETASP', 'DXAOTHRSP', 'DXAPOSS', 'DXAATYSP',\n",
       "       'DXAMETSP', 'DXAOTHSP', 'DXPARK', 'DXPARKSP', 'DXPDES', 'DXPCOG',\n",
       "       'DXPATYP', 'DXPOTHSP', 'DXDEP', 'DXDEPSP', 'DXOTHDEM', 'DXODES',\n",
       "       'DXOOTHSP', 'DXCONFID', 'DIAGNOSIS', 'update_stamp_x', 'Phase_y',\n",
       "       'ID_y', 'SITEID_y', 'VISCODE_x', 'VISCODE2_x', 'USERDATE_y',\n",
       "       'USERDATE2_y', 'PTSOURCE', 'PTGENDER', 'PTDOBMM', 'PTDOBYY', 'PTHAND',\n",
       "       'PTMARRY', 'PTEDUCAT', 'PTWORKHS', 'PTWORK', 'PTWRECNT', 'PTNOTRT',\n",
       "       'PTRTYR', 'PTHOME', 'PTOTHOME', 'PTTLANG', 'PTPLANG', 'PTPSPEC',\n",
       "       'PTCOGBEG', 'PTMCIBEG', 'PTADBEG', 'PTADDX', 'PTETHCAT', 'PTRACCAT',\n",
       "       'update_stamp_y', 'VISCODE_y', 'VISCODE2_y', 'EXAMDATE_y', 'RUNDATE',\n",
       "       'ABETA', 'PTAU', 'TAU'],\n",
       "      dtype='object')"
      ]
     },
     "execution_count": 404,
     "metadata": {},
     "output_type": "execute_result"
    }
   ],
   "source": [
    "df_baseline_normal.columns"
   ]
  },
  {
   "cell_type": "code",
   "execution_count": 418,
   "metadata": {},
   "outputs": [
    {
     "data": {
      "text/plain": [
       "-4.0    2329\n",
       " 3.0       2\n",
       "Name: DXCONTYP, dtype: int64"
      ]
     },
     "execution_count": 418,
     "metadata": {},
     "output_type": "execute_result"
    }
   ],
   "source": [
    "df_baseline_normal['DXCONTYP'].value_counts()"
   ]
  },
  {
   "cell_type": "code",
   "execution_count": 411,
   "metadata": {},
   "outputs": [
    {
     "data": {
      "text/plain": [
       "ADNI2     15680\n",
       "ADNI1      9074\n",
       "ADNIGO     7960\n",
       "ADNI3       422\n",
       "Name: Phase_y, dtype: int64"
      ]
     },
     "execution_count": 411,
     "metadata": {},
     "output_type": "execute_result"
    }
   ],
   "source": [
    "df_demo_biomarker_diagnoses_deduped.Phase_y.value_counts()"
   ]
  },
  {
   "cell_type": "code",
   "execution_count": 412,
   "metadata": {},
   "outputs": [
    {
     "data": {
      "text/plain": [
       "ADNI1     1196\n",
       "ADNIGO     800\n",
       "ADNI2      782\n",
       "Name: Phase_y, dtype: int64"
      ]
     },
     "execution_count": 412,
     "metadata": {},
     "output_type": "execute_result"
    }
   ],
   "source": [
    "df_baseline_normal.Phase_y.value_counts()"
   ]
  },
  {
   "cell_type": "markdown",
   "metadata": {},
   "source": [
    "## ** Baseline with diagnosis"
   ]
  },
  {
   "cell_type": "code",
   "execution_count": 402,
   "metadata": {},
   "outputs": [],
   "source": [
    "filter_use_bn = (df_demo_biomarker_diagnoses_deduped['VISCODE']=='bl') & (df_demo_biomarker_diagnoses_deduped['DIAGNOSIS'].notnull())\n",
    "\n",
    "df_baseline_not = df_demo_biomarker_diagnoses_deduped[filter_use_bn]"
   ]
  },
  {
   "cell_type": "code",
   "execution_count": 403,
   "metadata": {},
   "outputs": [
    {
     "data": {
      "text/plain": [
       "1.0    56\n",
       "2.0    52\n",
       "3.0    18\n",
       "Name: DIAGNOSIS, dtype: int64"
      ]
     },
     "execution_count": 403,
     "metadata": {},
     "output_type": "execute_result"
    }
   ],
   "source": [
    "df_baseline_not['DIAGNOSIS'].value_counts()"
   ]
  },
  {
   "cell_type": "code",
   "execution_count": 419,
   "metadata": {
    "scrolled": true
   },
   "outputs": [
    {
     "data": {
      "text/plain": [
       "Series([], Name: DXCONTYP, dtype: int64)"
      ]
     },
     "execution_count": 419,
     "metadata": {},
     "output_type": "execute_result"
    }
   ],
   "source": [
    "df_baseline_not['DXCONTYP'].value_counts()"
   ]
  },
  {
   "cell_type": "markdown",
   "metadata": {},
   "source": [
    "# Baseline diagnosis change"
   ]
  },
  {
   "cell_type": "code",
   "execution_count": 421,
   "metadata": {},
   "outputs": [],
   "source": [
    "diagno_baseline = pd.read_csv('/Users/leslieappiah/Google Drive/My Drive/Desktop/ADNI_DATA/diagno_baseline_changes.txt')"
   ]
  },
  {
   "cell_type": "code",
   "execution_count": 423,
   "metadata": {},
   "outputs": [
    {
     "data": {
      "text/plain": [
       "(13411, 27)"
      ]
     },
     "execution_count": 423,
     "metadata": {},
     "output_type": "execute_result"
    }
   ],
   "source": [
    "diagno_baseline.shape"
   ]
  },
  {
   "cell_type": "code",
   "execution_count": 422,
   "metadata": {},
   "outputs": [
    {
     "data": {
      "text/html": [
       "<div>\n",
       "<style scoped>\n",
       "    .dataframe tbody tr th:only-of-type {\n",
       "        vertical-align: middle;\n",
       "    }\n",
       "\n",
       "    .dataframe tbody tr th {\n",
       "        vertical-align: top;\n",
       "    }\n",
       "\n",
       "    .dataframe thead th {\n",
       "        text-align: right;\n",
       "    }\n",
       "</style>\n",
       "<table border=\"1\" class=\"dataframe\">\n",
       "  <thead>\n",
       "    <tr style=\"text-align: right;\">\n",
       "      <th></th>\n",
       "      <th>Phase</th>\n",
       "      <th>ID</th>\n",
       "      <th>RID</th>\n",
       "      <th>SITEID</th>\n",
       "      <th>VISCODE</th>\n",
       "      <th>VISCODE2</th>\n",
       "      <th>USERDATE</th>\n",
       "      <th>USERDATE2</th>\n",
       "      <th>EXAMDATE</th>\n",
       "      <th>BCPREDX</th>\n",
       "      <th>...</th>\n",
       "      <th>BCCDR</th>\n",
       "      <th>BCDEPRES</th>\n",
       "      <th>BCSTROKE</th>\n",
       "      <th>BCDELIR</th>\n",
       "      <th>BCEXTCIR</th>\n",
       "      <th>BCEXTSP</th>\n",
       "      <th>BCCORADL</th>\n",
       "      <th>BCCORCOG</th>\n",
       "      <th>BCSUMM</th>\n",
       "      <th>update_stamp</th>\n",
       "    </tr>\n",
       "  </thead>\n",
       "  <tbody>\n",
       "    <tr>\n",
       "      <th>0</th>\n",
       "      <td>ADNI1</td>\n",
       "      <td>2</td>\n",
       "      <td>7</td>\n",
       "      <td>10</td>\n",
       "      <td>bl</td>\n",
       "      <td>bl</td>\n",
       "      <td>2005-10-13</td>\n",
       "      <td>NaN</td>\n",
       "      <td>2005-10-06</td>\n",
       "      <td>-4.0</td>\n",
       "      <td>...</td>\n",
       "      <td>-4.0</td>\n",
       "      <td>-4.0</td>\n",
       "      <td>-4.0</td>\n",
       "      <td>-4.0</td>\n",
       "      <td>-4.0</td>\n",
       "      <td>-4</td>\n",
       "      <td>-4.0</td>\n",
       "      <td>-4.0</td>\n",
       "      <td>Patient has a three year history of gradually ...</td>\n",
       "      <td>2005-10-13 00:00:00.0</td>\n",
       "    </tr>\n",
       "    <tr>\n",
       "      <th>1</th>\n",
       "      <td>ADNI1</td>\n",
       "      <td>4</td>\n",
       "      <td>15</td>\n",
       "      <td>4</td>\n",
       "      <td>bl</td>\n",
       "      <td>bl</td>\n",
       "      <td>2005-10-19</td>\n",
       "      <td>NaN</td>\n",
       "      <td>2005-10-19</td>\n",
       "      <td>-4.0</td>\n",
       "      <td>...</td>\n",
       "      <td>-4.0</td>\n",
       "      <td>-4.0</td>\n",
       "      <td>-4.0</td>\n",
       "      <td>-4.0</td>\n",
       "      <td>-4.0</td>\n",
       "      <td>-4</td>\n",
       "      <td>-4.0</td>\n",
       "      <td>-4.0</td>\n",
       "      <td>The subject has no complaints of memory proble...</td>\n",
       "      <td>2005-10-19 00:00:00.0</td>\n",
       "    </tr>\n",
       "    <tr>\n",
       "      <th>2</th>\n",
       "      <td>ADNI1</td>\n",
       "      <td>6</td>\n",
       "      <td>30</td>\n",
       "      <td>11</td>\n",
       "      <td>bl</td>\n",
       "      <td>bl</td>\n",
       "      <td>2005-10-20</td>\n",
       "      <td>NaN</td>\n",
       "      <td>2005-10-20</td>\n",
       "      <td>-4.0</td>\n",
       "      <td>...</td>\n",
       "      <td>-4.0</td>\n",
       "      <td>-4.0</td>\n",
       "      <td>-4.0</td>\n",
       "      <td>-4.0</td>\n",
       "      <td>-4.0</td>\n",
       "      <td>-4</td>\n",
       "      <td>-4.0</td>\n",
       "      <td>-4.0</td>\n",
       "      <td>MCI-stable.  Developed severe constipation/abd...</td>\n",
       "      <td>2005-10-20 00:00:00.0</td>\n",
       "    </tr>\n",
       "    <tr>\n",
       "      <th>3</th>\n",
       "      <td>ADNI1</td>\n",
       "      <td>8</td>\n",
       "      <td>31</td>\n",
       "      <td>11</td>\n",
       "      <td>bl</td>\n",
       "      <td>bl</td>\n",
       "      <td>2005-10-24</td>\n",
       "      <td>NaN</td>\n",
       "      <td>2005-10-24</td>\n",
       "      <td>-4.0</td>\n",
       "      <td>...</td>\n",
       "      <td>-4.0</td>\n",
       "      <td>-4.0</td>\n",
       "      <td>-4.0</td>\n",
       "      <td>-4.0</td>\n",
       "      <td>-4.0</td>\n",
       "      <td>-4</td>\n",
       "      <td>-4.0</td>\n",
       "      <td>-4.0</td>\n",
       "      <td>Few minor symptoms.</td>\n",
       "      <td>2005-10-24 00:00:00.0</td>\n",
       "    </tr>\n",
       "    <tr>\n",
       "      <th>4</th>\n",
       "      <td>ADNI1</td>\n",
       "      <td>10</td>\n",
       "      <td>14</td>\n",
       "      <td>10</td>\n",
       "      <td>bl</td>\n",
       "      <td>bl</td>\n",
       "      <td>2005-11-08</td>\n",
       "      <td>NaN</td>\n",
       "      <td>2005-11-04</td>\n",
       "      <td>-4.0</td>\n",
       "      <td>...</td>\n",
       "      <td>-4.0</td>\n",
       "      <td>-4.0</td>\n",
       "      <td>-4.0</td>\n",
       "      <td>-4.0</td>\n",
       "      <td>-4.0</td>\n",
       "      <td>-4</td>\n",
       "      <td>-4.0</td>\n",
       "      <td>-4.0</td>\n",
       "      <td>A 78 year old hispanic female with no memory c...</td>\n",
       "      <td>2005-11-08 00:00:00.0</td>\n",
       "    </tr>\n",
       "  </tbody>\n",
       "</table>\n",
       "<p>5 rows × 27 columns</p>\n",
       "</div>"
      ],
      "text/plain": [
       "   Phase  ID  RID  SITEID VISCODE VISCODE2    USERDATE USERDATE2    EXAMDATE  \\\n",
       "0  ADNI1   2    7      10      bl       bl  2005-10-13       NaN  2005-10-06   \n",
       "1  ADNI1   4   15       4      bl       bl  2005-10-19       NaN  2005-10-19   \n",
       "2  ADNI1   6   30      11      bl       bl  2005-10-20       NaN  2005-10-20   \n",
       "3  ADNI1   8   31      11      bl       bl  2005-10-24       NaN  2005-10-24   \n",
       "4  ADNI1  10   14      10      bl       bl  2005-11-08       NaN  2005-11-04   \n",
       "\n",
       "   BCPREDX  ...  BCCDR  BCDEPRES  BCSTROKE  BCDELIR  BCEXTCIR  BCEXTSP  \\\n",
       "0     -4.0  ...   -4.0      -4.0      -4.0     -4.0      -4.0       -4   \n",
       "1     -4.0  ...   -4.0      -4.0      -4.0     -4.0      -4.0       -4   \n",
       "2     -4.0  ...   -4.0      -4.0      -4.0     -4.0      -4.0       -4   \n",
       "3     -4.0  ...   -4.0      -4.0      -4.0     -4.0      -4.0       -4   \n",
       "4     -4.0  ...   -4.0      -4.0      -4.0     -4.0      -4.0       -4   \n",
       "\n",
       "   BCCORADL  BCCORCOG                                             BCSUMM  \\\n",
       "0      -4.0      -4.0  Patient has a three year history of gradually ...   \n",
       "1      -4.0      -4.0  The subject has no complaints of memory proble...   \n",
       "2      -4.0      -4.0  MCI-stable.  Developed severe constipation/abd...   \n",
       "3      -4.0      -4.0                                Few minor symptoms.   \n",
       "4      -4.0      -4.0  A 78 year old hispanic female with no memory c...   \n",
       "\n",
       "            update_stamp  \n",
       "0  2005-10-13 00:00:00.0  \n",
       "1  2005-10-19 00:00:00.0  \n",
       "2  2005-10-20 00:00:00.0  \n",
       "3  2005-10-24 00:00:00.0  \n",
       "4  2005-11-08 00:00:00.0  \n",
       "\n",
       "[5 rows x 27 columns]"
      ]
     },
     "execution_count": 422,
     "metadata": {},
     "output_type": "execute_result"
    }
   ],
   "source": [
    "diagno_baseline.head()"
   ]
  },
  {
   "cell_type": "code",
   "execution_count": 424,
   "metadata": {},
   "outputs": [
    {
     "data": {
      "text/plain": [
       "Index(['Phase', 'ID', 'RID', 'SITEID', 'VISCODE', 'VISCODE2', 'USERDATE',\n",
       "       'USERDATE2', 'EXAMDATE', 'BCPREDX', 'BCADAS', 'BCMMSE', 'BCMMSREC',\n",
       "       'BCNMMMS', 'BCNEUPSY', 'BCNONMEM', 'BCFAQ', 'BCCDR', 'BCDEPRES',\n",
       "       'BCSTROKE', 'BCDELIR', 'BCEXTCIR', 'BCEXTSP', 'BCCORADL', 'BCCORCOG',\n",
       "       'BCSUMM', 'update_stamp'],\n",
       "      dtype='object')"
      ]
     },
     "execution_count": 424,
     "metadata": {},
     "output_type": "execute_result"
    }
   ],
   "source": [
    "diagno_baseline.columns"
   ]
  },
  {
   "cell_type": "markdown",
   "metadata": {},
   "source": [
    "## Look at patients rid from baseline with no diagno and diagno baseline change"
   ]
  },
  {
   "cell_type": "code",
   "execution_count": 509,
   "metadata": {},
   "outputs": [],
   "source": [
    "rid_baseline_no_diagno = df_baseline_normal['RID'].tolist()\n",
    "\n",
    "rid_diagno_baseline = diagno_baseline['RID'].tolist()"
   ]
  },
  {
   "cell_type": "code",
   "execution_count": 511,
   "metadata": {},
   "outputs": [
    {
     "data": {
      "text/plain": [
       "548"
      ]
     },
     "execution_count": 511,
     "metadata": {},
     "output_type": "execute_result"
    }
   ],
   "source": [
    "common_rids = []\n",
    "\n",
    "for i in rid_baseline_no_diagno:\n",
    "    \n",
    "    for j in rid_diagno_baseline:\n",
    "        \n",
    "        if i == j:\n",
    "            \n",
    "            common_rids.append(i)\n",
    "        \n",
    "        else:\n",
    "            \n",
    "            pass\n",
    "\n",
    "        # get unique rid\n",
    "len([*set(common_rids)])"
   ]
  },
  {
   "cell_type": "code",
   "execution_count": 522,
   "metadata": {},
   "outputs": [],
   "source": [
    "unique_common_rids = [*set(common_rids)]"
   ]
  },
  {
   "cell_type": "code",
   "execution_count": 523,
   "metadata": {},
   "outputs": [
    {
     "data": {
      "text/plain": [
       "548"
      ]
     },
     "execution_count": 523,
     "metadata": {},
     "output_type": "execute_result"
    }
   ],
   "source": [
    "len(unique_common_rids)"
   ]
  },
  {
   "cell_type": "raw",
   "metadata": {},
   "source": [
    "Get the df info for the 548 RID "
   ]
  },
  {
   "cell_type": "code",
   "execution_count": 544,
   "metadata": {},
   "outputs": [],
   "source": [
    "collect_common_rid_list = []\n",
    "\n",
    "for rid in unique_common_rids:\n",
    "    \n",
    "    collect_common_rid_list.append(diagno_baseline[diagno_baseline['RID']==rid])\n",
    "\n",
    "collect_common_rid_df = pd.concat(collect_common_rid_list)"
   ]
  },
  {
   "cell_type": "code",
   "execution_count": 545,
   "metadata": {},
   "outputs": [
    {
     "data": {
      "text/plain": [
       "(3624, 27)"
      ]
     },
     "execution_count": 545,
     "metadata": {},
     "output_type": "execute_result"
    }
   ],
   "source": [
    "collect_common_rid_df.shape"
   ]
  },
  {
   "cell_type": "raw",
   "metadata": {},
   "source": [
    "From below it looks like there's still some elements of inconsistencies with the "
   ]
  },
  {
   "cell_type": "code",
   "execution_count": 546,
   "metadata": {},
   "outputs": [
    {
     "data": {
      "text/plain": [
       "-4                                                                                                                                                                                                                                                                     1573\n",
       "no change                                                                                                                                                                                                                                                                20\n",
       "no changes                                                                                                                                                                                                                                                               16\n",
       "No change                                                                                                                                                                                                                                                                13\n",
       "stable MCI                                                                                                                                                                                                                                                                7\n",
       "                                                                                                                                                                                                                                                                       ... \n",
       "76 yo WF nl subject. No cognitive deficits. Live with husband in house. Functions without difficulties. 'Not good with names' (not a new deficit). No other cognitive issues.                                                                                             1\n",
       "No changes noted.                                                                                                                                                                                                                                                         1\n",
       "Participant's dementia has deteriorated in the last year to the point that it is difficult for him to complete all aspects of protocol, especially NP testing. Subject also became agitated very often, though study partner was able to effectively calm him down.       1\n",
       "Still in the mild AD range.                                                                                                                                                                                                                                               1\n",
       "memory continues to decline. loss in longterm memory. he was upset and irritable regarding loss of driving [priviledges]. It is harder to shower due to lack of motivation.                                                                                               1\n",
       "Name: BCSUMM, Length: 1857, dtype: int64"
      ]
     },
     "execution_count": 546,
     "metadata": {},
     "output_type": "execute_result"
    }
   ],
   "source": [
    "collect_common_rid_df['BCSUMM'].value_counts()"
   ]
  },
  {
   "cell_type": "markdown",
   "metadata": {},
   "source": [
    "## Get all rid that matches no change in baseline diagnosis"
   ]
  },
  {
   "cell_type": "raw",
   "metadata": {},
   "source": [
    "This will help us filter to the baseline info with no change in diagnosis"
   ]
  },
  {
   "cell_type": "code",
   "execution_count": 547,
   "metadata": {},
   "outputs": [],
   "source": [
    "w = collect_common_rid_df['BCSUMM'].str.lower()"
   ]
  },
  {
   "cell_type": "code",
   "execution_count": 548,
   "metadata": {},
   "outputs": [],
   "source": [
    "rid = collect_common_rid_df['RID']"
   ]
  },
  {
   "cell_type": "code",
   "execution_count": 549,
   "metadata": {},
   "outputs": [],
   "source": [
    "collect_rid = []\n",
    "for j, r in zip(w,rid):\n",
    "    if type(j) == str and j != np.nan:\n",
    "        t = nltk.word_tokenize(j)\n",
    "        if 'no' in t and 'change' in t:\n",
    "            collect_rid.append(r)\n",
    "        else:\n",
    "            pass\n",
    "    else:\n",
    "        pass"
   ]
  },
  {
   "cell_type": "code",
   "execution_count": 550,
   "metadata": {},
   "outputs": [],
   "source": [
    "unique_collect_rid = [*set(collect_rid)]"
   ]
  },
  {
   "cell_type": "code",
   "execution_count": 551,
   "metadata": {},
   "outputs": [
    {
     "data": {
      "text/plain": [
       "200"
      ]
     },
     "execution_count": 551,
     "metadata": {},
     "output_type": "execute_result"
    }
   ],
   "source": [
    "len(unique_collect_rid)"
   ]
  },
  {
   "cell_type": "code",
   "execution_count": 553,
   "metadata": {},
   "outputs": [],
   "source": [
    "collect_rid_list = []\n",
    "\n",
    "for rid in unique_collect_rid:\n",
    "    \n",
    "    collect_rid_list.append(collect_common_rid_df[collect_common_rid_df['RID']==rid])\n",
    "    \n",
    "collect_rid_df = pd.concat(collect_rid_list)"
   ]
  },
  {
   "cell_type": "code",
   "execution_count": 554,
   "metadata": {},
   "outputs": [
    {
     "data": {
      "text/plain": [
       "(1513, 27)"
      ]
     },
     "execution_count": 554,
     "metadata": {},
     "output_type": "execute_result"
    }
   ],
   "source": [
    "collect_rid_df.shape"
   ]
  },
  {
   "cell_type": "code",
   "execution_count": 555,
   "metadata": {},
   "outputs": [
    {
     "data": {
      "text/plain": [
       "-4                                                                                                                                                                             441\n",
       "no change                                                                                                                                                                       20\n",
       "No change                                                                                                                                                                       13\n",
       "No change.                                                                                                                                                                       5\n",
       "no changes                                                                                                                                                                       5\n",
       "                                                                                                                                                                              ... \n",
       "Appears to be doing well overall                                                                                                                                                 1\n",
       "Based on CDR, she is a little worse (SOB score increased from 1.0 to 2.0) but no significant change in Neuropsych scores and FAQ is 0                                            1\n",
       "some variability and perhaps soft progression of perhaps age related decline. No functional loss                                                                                 1\n",
       "Subject is a 78-year-old female who was enrolled as an MCI subject based on cognitive and clinical evaluation. No change in clinical status from baseline visit.                 1\n",
       "memory continues to decline. loss in longterm memory. he was upset and irritable regarding loss of driving [priviledges]. It is harder to shower due to lack of motivation.      1\n",
       "Name: BCSUMM, Length: 973, dtype: int64"
      ]
     },
     "execution_count": 555,
     "metadata": {},
     "output_type": "execute_result"
    }
   ],
   "source": [
    "collect_rid_df['BCSUMM'].value_counts()"
   ]
  },
  {
   "cell_type": "raw",
   "metadata": {},
   "source": [
    "Repeat the removal of mci ad etc"
   ]
  },
  {
   "cell_type": "code",
   "execution_count": 556,
   "metadata": {},
   "outputs": [],
   "source": [
    "w_1 = collect_rid_df['BCSUMM']\n",
    "\n",
    "rid_1 = collect_rid_df['RID']"
   ]
  },
  {
   "cell_type": "code",
   "execution_count": 557,
   "metadata": {},
   "outputs": [],
   "source": [
    "collect_rid_with_no_ad_mci = []\n",
    "for j, r in zip(w_1,rid_1):\n",
    "    if type(j) == str and j != np.nan:\n",
    "        t = nltk.word_tokenize(j)\n",
    "        if 'no' in t and 'change' in t:\n",
    "            collect_rid_with_no_ad_mci.append(r)\n",
    "        else:\n",
    "            pass\n",
    "    else:\n",
    "        pass"
   ]
  },
  {
   "cell_type": "code",
   "execution_count": 558,
   "metadata": {},
   "outputs": [],
   "source": [
    "unique_collect_rid_with_no_ad_mci = [*set(collect_rid_with_no_ad_mci)]"
   ]
  },
  {
   "cell_type": "code",
   "execution_count": 559,
   "metadata": {},
   "outputs": [
    {
     "data": {
      "text/plain": [
       "106"
      ]
     },
     "execution_count": 559,
     "metadata": {},
     "output_type": "execute_result"
    }
   ],
   "source": [
    "len(unique_collect_rid_with_no_ad_mci)"
   ]
  },
  {
   "cell_type": "code",
   "execution_count": 560,
   "metadata": {},
   "outputs": [],
   "source": [
    "collect_further_rid_list =[]\n",
    "\n",
    "for rid in unique_collect_rid_with_no_ad_mci:\n",
    "    \n",
    "    collect_further_rid_list.append(collect_rid_df[collect_rid_df['RID']==rid])\n",
    "    \n",
    "collect_further_rid_df = pd.concat(collect_further_rid_list)"
   ]
  },
  {
   "cell_type": "code",
   "execution_count": 562,
   "metadata": {},
   "outputs": [
    {
     "data": {
      "text/plain": [
       "(831, 27)"
      ]
     },
     "execution_count": 562,
     "metadata": {},
     "output_type": "execute_result"
    }
   ],
   "source": [
    "collect_further_rid_df.shape"
   ]
  },
  {
   "cell_type": "code",
   "execution_count": 563,
   "metadata": {},
   "outputs": [
    {
     "data": {
      "text/plain": [
       "-4                                                                                                                                                                             208\n",
       "no change                                                                                                                                                                       20\n",
       "stable MCI                                                                                                                                                                       3\n",
       "no changes                                                                                                                                                                       3\n",
       "patient remains normal control                                                                                                                                                   2\n",
       "                                                                                                                                                                              ... \n",
       "Declining but still consistent with MCI                                                                                                                                          1\n",
       "More functionally impaired from memory loss.  Some variability in neuropsych scores since baseline but not a consistent decline.                                                 1\n",
       "test as well or better but funtion has clearly worsened.                                                                                                                         1\n",
       "Remains early AD                                                                                                                                                                 1\n",
       "memory continues to decline. loss in longterm memory. he was upset and irritable regarding loss of driving [priviledges]. It is harder to shower due to lack of motivation.      1\n",
       "Name: BCSUMM, Length: 577, dtype: int64"
      ]
     },
     "execution_count": 563,
     "metadata": {},
     "output_type": "execute_result"
    }
   ],
   "source": [
    "collect_further_rid_df['BCSUMM'].value_counts()"
   ]
  },
  {
   "cell_type": "code",
   "execution_count": 564,
   "metadata": {},
   "outputs": [
    {
     "data": {
      "text/html": [
       "<div>\n",
       "<style scoped>\n",
       "    .dataframe tbody tr th:only-of-type {\n",
       "        vertical-align: middle;\n",
       "    }\n",
       "\n",
       "    .dataframe tbody tr th {\n",
       "        vertical-align: top;\n",
       "    }\n",
       "\n",
       "    .dataframe thead th {\n",
       "        text-align: right;\n",
       "    }\n",
       "</style>\n",
       "<table border=\"1\" class=\"dataframe\">\n",
       "  <thead>\n",
       "    <tr style=\"text-align: right;\">\n",
       "      <th></th>\n",
       "      <th>Phase</th>\n",
       "      <th>ID</th>\n",
       "      <th>RID</th>\n",
       "      <th>SITEID</th>\n",
       "      <th>VISCODE</th>\n",
       "      <th>VISCODE2</th>\n",
       "      <th>USERDATE</th>\n",
       "      <th>USERDATE2</th>\n",
       "      <th>EXAMDATE</th>\n",
       "      <th>BCPREDX</th>\n",
       "      <th>...</th>\n",
       "      <th>BCCDR</th>\n",
       "      <th>BCDEPRES</th>\n",
       "      <th>BCSTROKE</th>\n",
       "      <th>BCDELIR</th>\n",
       "      <th>BCEXTCIR</th>\n",
       "      <th>BCEXTSP</th>\n",
       "      <th>BCCORADL</th>\n",
       "      <th>BCCORCOG</th>\n",
       "      <th>BCSUMM</th>\n",
       "      <th>update_stamp</th>\n",
       "    </tr>\n",
       "  </thead>\n",
       "  <tbody>\n",
       "    <tr>\n",
       "      <th>28</th>\n",
       "      <td>ADNI1</td>\n",
       "      <td>58</td>\n",
       "      <td>8</td>\n",
       "      <td>107</td>\n",
       "      <td>bl</td>\n",
       "      <td>bl</td>\n",
       "      <td>2006-01-05</td>\n",
       "      <td>NaN</td>\n",
       "      <td>2005-09-19</td>\n",
       "      <td>-4.0</td>\n",
       "      <td>...</td>\n",
       "      <td>-4.0</td>\n",
       "      <td>-4.0</td>\n",
       "      <td>-4.0</td>\n",
       "      <td>-4.0</td>\n",
       "      <td>-4.0</td>\n",
       "      <td>-4</td>\n",
       "      <td>-4.0</td>\n",
       "      <td>-4.0</td>\n",
       "      <td>-4</td>\n",
       "      <td>2006-01-05 00:00:00.0</td>\n",
       "    </tr>\n",
       "    <tr>\n",
       "      <th>170</th>\n",
       "      <td>ADNI1</td>\n",
       "      <td>344</td>\n",
       "      <td>8</td>\n",
       "      <td>107</td>\n",
       "      <td>m06</td>\n",
       "      <td>m06</td>\n",
       "      <td>2006-04-27</td>\n",
       "      <td>NaN</td>\n",
       "      <td>2006-03-20</td>\n",
       "      <td>1.0</td>\n",
       "      <td>...</td>\n",
       "      <td>0.0</td>\n",
       "      <td>0.0</td>\n",
       "      <td>0.0</td>\n",
       "      <td>0.0</td>\n",
       "      <td>0.0</td>\n",
       "      <td>-4</td>\n",
       "      <td>0.0</td>\n",
       "      <td>0.0</td>\n",
       "      <td>-4</td>\n",
       "      <td>2006-04-27 00:00:00.0</td>\n",
       "    </tr>\n",
       "    <tr>\n",
       "      <th>524</th>\n",
       "      <td>ADNI1</td>\n",
       "      <td>1052</td>\n",
       "      <td>8</td>\n",
       "      <td>107</td>\n",
       "      <td>m12</td>\n",
       "      <td>m12</td>\n",
       "      <td>2006-09-20</td>\n",
       "      <td>NaN</td>\n",
       "      <td>2006-09-20</td>\n",
       "      <td>1.0</td>\n",
       "      <td>...</td>\n",
       "      <td>0.0</td>\n",
       "      <td>0.0</td>\n",
       "      <td>0.0</td>\n",
       "      <td>0.0</td>\n",
       "      <td>0.0</td>\n",
       "      <td>-4</td>\n",
       "      <td>0.0</td>\n",
       "      <td>0.0</td>\n",
       "      <td>-4</td>\n",
       "      <td>2006-09-20 00:00:00.0</td>\n",
       "    </tr>\n",
       "    <tr>\n",
       "      <th>2895</th>\n",
       "      <td>ADNI1</td>\n",
       "      <td>5798</td>\n",
       "      <td>8</td>\n",
       "      <td>107</td>\n",
       "      <td>m36</td>\n",
       "      <td>m36</td>\n",
       "      <td>2008-09-17</td>\n",
       "      <td>NaN</td>\n",
       "      <td>2008-09-09</td>\n",
       "      <td>1.0</td>\n",
       "      <td>...</td>\n",
       "      <td>0.0</td>\n",
       "      <td>0.0</td>\n",
       "      <td>0.0</td>\n",
       "      <td>0.0</td>\n",
       "      <td>0.0</td>\n",
       "      <td>-4</td>\n",
       "      <td>-1.0</td>\n",
       "      <td>-1.0</td>\n",
       "      <td>NO CHANGE REMAINS NORMAL CONTROL</td>\n",
       "      <td>2008-09-17 00:00:00.0</td>\n",
       "    </tr>\n",
       "    <tr>\n",
       "      <th>3494</th>\n",
       "      <td>ADNI1</td>\n",
       "      <td>6996</td>\n",
       "      <td>8</td>\n",
       "      <td>107</td>\n",
       "      <td>m48</td>\n",
       "      <td>m48</td>\n",
       "      <td>2009-10-16</td>\n",
       "      <td>NaN</td>\n",
       "      <td>2009-10-12</td>\n",
       "      <td>1.0</td>\n",
       "      <td>...</td>\n",
       "      <td>0.0</td>\n",
       "      <td>0.0</td>\n",
       "      <td>0.0</td>\n",
       "      <td>0.0</td>\n",
       "      <td>0.0</td>\n",
       "      <td>-4</td>\n",
       "      <td>-1.0</td>\n",
       "      <td>-1.0</td>\n",
       "      <td>There is no change in the participant's clinic...</td>\n",
       "      <td>2009-10-16 00:00:00.0</td>\n",
       "    </tr>\n",
       "  </tbody>\n",
       "</table>\n",
       "<p>5 rows × 27 columns</p>\n",
       "</div>"
      ],
      "text/plain": [
       "      Phase    ID  RID  SITEID VISCODE VISCODE2    USERDATE USERDATE2  \\\n",
       "28    ADNI1    58    8     107      bl       bl  2006-01-05       NaN   \n",
       "170   ADNI1   344    8     107     m06      m06  2006-04-27       NaN   \n",
       "524   ADNI1  1052    8     107     m12      m12  2006-09-20       NaN   \n",
       "2895  ADNI1  5798    8     107     m36      m36  2008-09-17       NaN   \n",
       "3494  ADNI1  6996    8     107     m48      m48  2009-10-16       NaN   \n",
       "\n",
       "        EXAMDATE  BCPREDX  ...  BCCDR  BCDEPRES  BCSTROKE  BCDELIR  BCEXTCIR  \\\n",
       "28    2005-09-19     -4.0  ...   -4.0      -4.0      -4.0     -4.0      -4.0   \n",
       "170   2006-03-20      1.0  ...    0.0       0.0       0.0      0.0       0.0   \n",
       "524   2006-09-20      1.0  ...    0.0       0.0       0.0      0.0       0.0   \n",
       "2895  2008-09-09      1.0  ...    0.0       0.0       0.0      0.0       0.0   \n",
       "3494  2009-10-12      1.0  ...    0.0       0.0       0.0      0.0       0.0   \n",
       "\n",
       "      BCEXTSP  BCCORADL  BCCORCOG  \\\n",
       "28         -4      -4.0      -4.0   \n",
       "170        -4       0.0       0.0   \n",
       "524        -4       0.0       0.0   \n",
       "2895       -4      -1.0      -1.0   \n",
       "3494       -4      -1.0      -1.0   \n",
       "\n",
       "                                                 BCSUMM           update_stamp  \n",
       "28                                                   -4  2006-01-05 00:00:00.0  \n",
       "170                                                  -4  2006-04-27 00:00:00.0  \n",
       "524                                                  -4  2006-09-20 00:00:00.0  \n",
       "2895                   NO CHANGE REMAINS NORMAL CONTROL  2008-09-17 00:00:00.0  \n",
       "3494  There is no change in the participant's clinic...  2009-10-16 00:00:00.0  \n",
       "\n",
       "[5 rows x 27 columns]"
      ]
     },
     "execution_count": 564,
     "metadata": {},
     "output_type": "execute_result"
    }
   ],
   "source": [
    "collect_further_rid_df.head()"
   ]
  },
  {
   "cell_type": "code",
   "execution_count": 565,
   "metadata": {},
   "outputs": [
    {
     "data": {
      "text/plain": [
       "bl      106\n",
       "m06     105\n",
       "m12      77\n",
       "v06      73\n",
       "v11      68\n",
       "m24      59\n",
       "v21      54\n",
       "v31      52\n",
       "m36      51\n",
       "v41      37\n",
       "m18      34\n",
       "m48      30\n",
       "init     23\n",
       "y1       17\n",
       "y2       13\n",
       "m60       8\n",
       "v51       8\n",
       "y4        6\n",
       "y3        6\n",
       "y5        3\n",
       "m72       1\n",
       "Name: VISCODE, dtype: int64"
      ]
     },
     "execution_count": 565,
     "metadata": {},
     "output_type": "execute_result"
    }
   ],
   "source": [
    "collect_further_rid_df['VISCODE'].value_counts()"
   ]
  },
  {
   "cell_type": "markdown",
   "metadata": {},
   "source": [
    "## We get the bl from collect_further_rid_df and use that to subset the dataset  df_demo_biomarker_diagnoses"
   ]
  },
  {
   "cell_type": "raw",
   "metadata": {},
   "source": [
    "We want to use the df_demo_biomarker_diagnoses_deduped to get the actual baseline by combining with diagno baseline data in a similar way we did with the baseline data we subset from df_demo_biomarker_diagnoses_deduped. This will help us get the baseline and the change from baseline info for the patients"
   ]
  },
  {
   "cell_type": "code",
   "execution_count": 567,
   "metadata": {},
   "outputs": [],
   "source": [
    "get_common_rid = []\n",
    "\n",
    "for i in df_demo_biomarker_diagnoses_deduped['RID']:\n",
    "    \n",
    "    for j in diagno_baseline['RID']:\n",
    "        \n",
    "        if i == j:\n",
    "            \n",
    "            get_common_rid.append(i)\n",
    "        \n",
    "        else:\n",
    "            \n",
    "            pass\n",
    "                \n",
    "                \n",
    "unique_get_common_rid = [*set(get_common_rid)]"
   ]
  },
  {
   "cell_type": "code",
   "execution_count": 568,
   "metadata": {},
   "outputs": [
    {
     "data": {
      "text/plain": [
       "1383"
      ]
     },
     "execution_count": 568,
     "metadata": {},
     "output_type": "execute_result"
    }
   ],
   "source": [
    "len(unique_get_common_rid)"
   ]
  },
  {
   "cell_type": "code",
   "execution_count": 569,
   "metadata": {},
   "outputs": [],
   "source": [
    "get_common_rid_list = []\n",
    "\n",
    "for rid in unique_get_common_rid:\n",
    "    \n",
    "    get_common_rid_list.append(diagno_baseline[diagno_baseline['RID']==rid])\n",
    "    \n",
    "get_common_rid_list_df = pd.concat(get_common_rid_list)"
   ]
  },
  {
   "cell_type": "code",
   "execution_count": 570,
   "metadata": {},
   "outputs": [
    {
     "data": {
      "text/plain": [
       "(8437, 27)"
      ]
     },
     "execution_count": 570,
     "metadata": {},
     "output_type": "execute_result"
    }
   ],
   "source": [
    "get_common_rid_list_df.shape"
   ]
  },
  {
   "cell_type": "code",
   "execution_count": 573,
   "metadata": {},
   "outputs": [
    {
     "data": {
      "text/plain": [
       "v11     789\n",
       "v03     710\n",
       "v01     710\n",
       "v21     693\n",
       "bl      673\n",
       "v05     661\n",
       "m06     528\n",
       "m12     409\n",
       "v31     397\n",
       "v41     378\n",
       "m24     359\n",
       "init    342\n",
       "y2      295\n",
       "v06     256\n",
       "m36     253\n",
       "y1      227\n",
       "m18     179\n",
       "y4      145\n",
       "m48     136\n",
       "sc      125\n",
       "v51      57\n",
       "y3       55\n",
       "m60      34\n",
       "y5       23\n",
       "m72       3\n",
       "Name: VISCODE, dtype: int64"
      ]
     },
     "execution_count": 573,
     "metadata": {},
     "output_type": "execute_result"
    }
   ],
   "source": [
    "get_common_rid_list_df['VISCODE'].value_counts()"
   ]
  },
  {
   "cell_type": "markdown",
   "metadata": {},
   "source": [
    "# Now we get the bl to define our baseline"
   ]
  },
  {
   "cell_type": "code",
   "execution_count": 590,
   "metadata": {},
   "outputs": [
    {
     "data": {
      "text/html": [
       "<div>\n",
       "<style scoped>\n",
       "    .dataframe tbody tr th:only-of-type {\n",
       "        vertical-align: middle;\n",
       "    }\n",
       "\n",
       "    .dataframe tbody tr th {\n",
       "        vertical-align: top;\n",
       "    }\n",
       "\n",
       "    .dataframe thead th {\n",
       "        text-align: right;\n",
       "    }\n",
       "</style>\n",
       "<table border=\"1\" class=\"dataframe\">\n",
       "  <thead>\n",
       "    <tr style=\"text-align: right;\">\n",
       "      <th></th>\n",
       "      <th>Phase</th>\n",
       "      <th>ID</th>\n",
       "      <th>RID</th>\n",
       "      <th>SITEID</th>\n",
       "      <th>VISCODE</th>\n",
       "      <th>VISCODE2</th>\n",
       "      <th>USERDATE</th>\n",
       "      <th>USERDATE2</th>\n",
       "      <th>EXAMDATE</th>\n",
       "      <th>BCPREDX</th>\n",
       "      <th>...</th>\n",
       "      <th>BCCDR</th>\n",
       "      <th>BCDEPRES</th>\n",
       "      <th>BCSTROKE</th>\n",
       "      <th>BCDELIR</th>\n",
       "      <th>BCEXTCIR</th>\n",
       "      <th>BCEXTSP</th>\n",
       "      <th>BCCORADL</th>\n",
       "      <th>BCCORCOG</th>\n",
       "      <th>BCSUMM</th>\n",
       "      <th>update_stamp</th>\n",
       "    </tr>\n",
       "  </thead>\n",
       "  <tbody>\n",
       "    <tr>\n",
       "      <th>26</th>\n",
       "      <td>ADNI1</td>\n",
       "      <td>54</td>\n",
       "      <td>3</td>\n",
       "      <td>107</td>\n",
       "      <td>bl</td>\n",
       "      <td>bl</td>\n",
       "      <td>2006-01-05</td>\n",
       "      <td>NaN</td>\n",
       "      <td>2005-09-12</td>\n",
       "      <td>-4.0</td>\n",
       "      <td>...</td>\n",
       "      <td>-4.0</td>\n",
       "      <td>-4.0</td>\n",
       "      <td>-4.0</td>\n",
       "      <td>-4.0</td>\n",
       "      <td>-4.0</td>\n",
       "      <td>-4</td>\n",
       "      <td>-4.0</td>\n",
       "      <td>-4.0</td>\n",
       "      <td>-4</td>\n",
       "      <td>2006-01-05 00:00:00.0</td>\n",
       "    </tr>\n",
       "    <tr>\n",
       "      <th>168</th>\n",
       "      <td>ADNI1</td>\n",
       "      <td>340</td>\n",
       "      <td>3</td>\n",
       "      <td>107</td>\n",
       "      <td>m06</td>\n",
       "      <td>m06</td>\n",
       "      <td>2006-04-27</td>\n",
       "      <td>NaN</td>\n",
       "      <td>2006-03-13</td>\n",
       "      <td>3.0</td>\n",
       "      <td>...</td>\n",
       "      <td>0.0</td>\n",
       "      <td>0.0</td>\n",
       "      <td>0.0</td>\n",
       "      <td>0.0</td>\n",
       "      <td>0.0</td>\n",
       "      <td>-4</td>\n",
       "      <td>0.0</td>\n",
       "      <td>0.0</td>\n",
       "      <td>-4</td>\n",
       "      <td>2006-04-27 00:00:00.0</td>\n",
       "    </tr>\n",
       "    <tr>\n",
       "      <th>493</th>\n",
       "      <td>ADNI1</td>\n",
       "      <td>990</td>\n",
       "      <td>3</td>\n",
       "      <td>107</td>\n",
       "      <td>m12</td>\n",
       "      <td>m12</td>\n",
       "      <td>2006-09-14</td>\n",
       "      <td>NaN</td>\n",
       "      <td>2006-09-13</td>\n",
       "      <td>3.0</td>\n",
       "      <td>...</td>\n",
       "      <td>0.0</td>\n",
       "      <td>0.0</td>\n",
       "      <td>0.0</td>\n",
       "      <td>0.0</td>\n",
       "      <td>0.0</td>\n",
       "      <td>-4</td>\n",
       "      <td>0.0</td>\n",
       "      <td>0.0</td>\n",
       "      <td>-4</td>\n",
       "      <td>2006-09-14 00:00:00.0</td>\n",
       "    </tr>\n",
       "    <tr>\n",
       "      <th>1893</th>\n",
       "      <td>ADNI1</td>\n",
       "      <td>3792</td>\n",
       "      <td>3</td>\n",
       "      <td>107</td>\n",
       "      <td>m24</td>\n",
       "      <td>m24</td>\n",
       "      <td>2007-09-22</td>\n",
       "      <td>NaN</td>\n",
       "      <td>2007-09-12</td>\n",
       "      <td>3.0</td>\n",
       "      <td>...</td>\n",
       "      <td>1.0</td>\n",
       "      <td>0.0</td>\n",
       "      <td>0.0</td>\n",
       "      <td>0.0</td>\n",
       "      <td>0.0</td>\n",
       "      <td>-4</td>\n",
       "      <td>-1.0</td>\n",
       "      <td>1.0</td>\n",
       "      <td>-4</td>\n",
       "      <td>2007-09-22 00:00:00.0</td>\n",
       "    </tr>\n",
       "    <tr>\n",
       "      <th>9</th>\n",
       "      <td>ADNI1</td>\n",
       "      <td>20</td>\n",
       "      <td>4</td>\n",
       "      <td>10</td>\n",
       "      <td>bl</td>\n",
       "      <td>bl</td>\n",
       "      <td>2005-11-18</td>\n",
       "      <td>NaN</td>\n",
       "      <td>2005-11-08</td>\n",
       "      <td>-4.0</td>\n",
       "      <td>...</td>\n",
       "      <td>-4.0</td>\n",
       "      <td>-4.0</td>\n",
       "      <td>-4.0</td>\n",
       "      <td>-4.0</td>\n",
       "      <td>-4.0</td>\n",
       "      <td>-4</td>\n",
       "      <td>-4.0</td>\n",
       "      <td>-4.0</td>\n",
       "      <td>A 67 year old hispanic male with cognitive pro...</td>\n",
       "      <td>2005-11-18 00:00:00.0</td>\n",
       "    </tr>\n",
       "  </tbody>\n",
       "</table>\n",
       "<p>5 rows × 27 columns</p>\n",
       "</div>"
      ],
      "text/plain": [
       "      Phase    ID  RID  SITEID VISCODE VISCODE2    USERDATE USERDATE2  \\\n",
       "26    ADNI1    54    3     107      bl       bl  2006-01-05       NaN   \n",
       "168   ADNI1   340    3     107     m06      m06  2006-04-27       NaN   \n",
       "493   ADNI1   990    3     107     m12      m12  2006-09-14       NaN   \n",
       "1893  ADNI1  3792    3     107     m24      m24  2007-09-22       NaN   \n",
       "9     ADNI1    20    4      10      bl       bl  2005-11-18       NaN   \n",
       "\n",
       "        EXAMDATE  BCPREDX  ...  BCCDR  BCDEPRES  BCSTROKE  BCDELIR  BCEXTCIR  \\\n",
       "26    2005-09-12     -4.0  ...   -4.0      -4.0      -4.0     -4.0      -4.0   \n",
       "168   2006-03-13      3.0  ...    0.0       0.0       0.0      0.0       0.0   \n",
       "493   2006-09-13      3.0  ...    0.0       0.0       0.0      0.0       0.0   \n",
       "1893  2007-09-12      3.0  ...    1.0       0.0       0.0      0.0       0.0   \n",
       "9     2005-11-08     -4.0  ...   -4.0      -4.0      -4.0     -4.0      -4.0   \n",
       "\n",
       "      BCEXTSP  BCCORADL  BCCORCOG  \\\n",
       "26         -4      -4.0      -4.0   \n",
       "168        -4       0.0       0.0   \n",
       "493        -4       0.0       0.0   \n",
       "1893       -4      -1.0       1.0   \n",
       "9          -4      -4.0      -4.0   \n",
       "\n",
       "                                                 BCSUMM           update_stamp  \n",
       "26                                                   -4  2006-01-05 00:00:00.0  \n",
       "168                                                  -4  2006-04-27 00:00:00.0  \n",
       "493                                                  -4  2006-09-14 00:00:00.0  \n",
       "1893                                                 -4  2007-09-22 00:00:00.0  \n",
       "9     A 67 year old hispanic male with cognitive pro...  2005-11-18 00:00:00.0  \n",
       "\n",
       "[5 rows x 27 columns]"
      ]
     },
     "execution_count": 590,
     "metadata": {},
     "output_type": "execute_result"
    }
   ],
   "source": [
    "get_common_rid_list_df.head()"
   ]
  },
  {
   "cell_type": "code",
   "execution_count": 574,
   "metadata": {},
   "outputs": [],
   "source": [
    "get_common_rid_list_df_baseline = get_common_rid_list_df[get_common_rid_list_df['VISCODE']=='bl']"
   ]
  },
  {
   "cell_type": "code",
   "execution_count": 575,
   "metadata": {},
   "outputs": [
    {
     "data": {
      "text/plain": [
       "(673, 27)"
      ]
     },
     "execution_count": 575,
     "metadata": {},
     "output_type": "execute_result"
    }
   ],
   "source": [
    "get_common_rid_list_df_baseline.shape"
   ]
  },
  {
   "cell_type": "markdown",
   "metadata": {},
   "source": [
    "## Let's check the BCSUMM comments"
   ]
  },
  {
   "cell_type": "code",
   "execution_count": 576,
   "metadata": {},
   "outputs": [
    {
     "data": {
      "text/plain": [
       "-4                                                                 227\n",
       "no change                                                           12\n",
       "no changes                                                          11\n",
       "No change in diagnosis. Remains MCI.                                 3\n",
       "No change in diagnosis                                               3\n",
       "                                                                  ... \n",
       "No changes from screening visit.                                     1\n",
       "Major problem is memory.                                             1\n",
       "No change in diagnosis since screening visit                         1\n",
       "Patient confirmed - probable Alzheimer disease diagnosis (mild)      1\n",
       "MCI                                                                  1\n",
       "Name: BCSUMM, Length: 358, dtype: int64"
      ]
     },
     "execution_count": 576,
     "metadata": {},
     "output_type": "execute_result"
    }
   ],
   "source": [
    "get_common_rid_list_df_baseline['BCSUMM'].value_counts()"
   ]
  },
  {
   "cell_type": "markdown",
   "metadata": {},
   "source": [
    "## For now we take the missing comment -4 as indicative of normal (227)"
   ]
  },
  {
   "cell_type": "code",
   "execution_count": 577,
   "metadata": {},
   "outputs": [],
   "source": [
    "get_common_rid_list_df_baseline_normal = get_common_rid_list_df_baseline[get_common_rid_list_df_baseline['BCSUMM']=='-4']"
   ]
  },
  {
   "cell_type": "code",
   "execution_count": 578,
   "metadata": {},
   "outputs": [
    {
     "data": {
      "text/plain": [
       "(227, 27)"
      ]
     },
     "execution_count": 578,
     "metadata": {},
     "output_type": "execute_result"
    }
   ],
   "source": [
    "get_common_rid_list_df_baseline_normal.shape"
   ]
  },
  {
   "cell_type": "raw",
   "metadata": {},
   "source": [
    "We will use the RID from get_common_rid_list_df_baseline_normal to select what we want from df_demo_biomarker_diagnoses_deduped as our normal baseline to start"
   ]
  },
  {
   "cell_type": "code",
   "execution_count": 583,
   "metadata": {},
   "outputs": [],
   "source": [
    "baseline_pt_rid = [*set(get_common_rid_list_df_baseline_normal['RID'])]\n",
    "\n",
    "collect_normal_bline_pt_list = []\n",
    "\n",
    "for rid in baseline_pt_rid:\n",
    "    \n",
    "    collect_normal_bline_pt_list.append(df_demo_biomarker_diagnoses_deduped[df_demo_biomarker_diagnoses_deduped['RID']==rid])\n",
    "    \n",
    "collect_normal_bline_pt_df = pd.concat(collect_normal_bline_pt_list)"
   ]
  },
  {
   "cell_type": "code",
   "execution_count": 584,
   "metadata": {},
   "outputs": [
    {
     "data": {
      "text/plain": [
       "(9601, 92)"
      ]
     },
     "execution_count": 584,
     "metadata": {},
     "output_type": "execute_result"
    }
   ],
   "source": [
    "collect_normal_bline_pt_df.shape"
   ]
  },
  {
   "cell_type": "code",
   "execution_count": 585,
   "metadata": {},
   "outputs": [
    {
     "data": {
      "text/html": [
       "<div>\n",
       "<style scoped>\n",
       "    .dataframe tbody tr th:only-of-type {\n",
       "        vertical-align: middle;\n",
       "    }\n",
       "\n",
       "    .dataframe tbody tr th {\n",
       "        vertical-align: top;\n",
       "    }\n",
       "\n",
       "    .dataframe thead th {\n",
       "        text-align: right;\n",
       "    }\n",
       "</style>\n",
       "<table border=\"1\" class=\"dataframe\">\n",
       "  <thead>\n",
       "    <tr style=\"text-align: right;\">\n",
       "      <th></th>\n",
       "      <th>Phase_x</th>\n",
       "      <th>ID_x</th>\n",
       "      <th>RID</th>\n",
       "      <th>PTID</th>\n",
       "      <th>SITEID_x</th>\n",
       "      <th>VISCODE</th>\n",
       "      <th>VISCODE2</th>\n",
       "      <th>USERDATE_x</th>\n",
       "      <th>USERDATE2_x</th>\n",
       "      <th>EXAMDATE_x</th>\n",
       "      <th>...</th>\n",
       "      <th>PTETHCAT</th>\n",
       "      <th>PTRACCAT</th>\n",
       "      <th>update_stamp_y</th>\n",
       "      <th>VISCODE_y</th>\n",
       "      <th>VISCODE2_y</th>\n",
       "      <th>EXAMDATE_y</th>\n",
       "      <th>RUNDATE</th>\n",
       "      <th>ABETA</th>\n",
       "      <th>PTAU</th>\n",
       "      <th>TAU</th>\n",
       "    </tr>\n",
       "  </thead>\n",
       "  <tbody>\n",
       "    <tr>\n",
       "      <th>9339</th>\n",
       "      <td>ADNI1</td>\n",
       "      <td>560.0</td>\n",
       "      <td>514</td>\n",
       "      <td>033_S_0514</td>\n",
       "      <td>52</td>\n",
       "      <td>bl</td>\n",
       "      <td>bl</td>\n",
       "      <td>2006-06-12</td>\n",
       "      <td>NaN</td>\n",
       "      <td>2006-06-09</td>\n",
       "      <td>...</td>\n",
       "      <td>2.0</td>\n",
       "      <td>5.0</td>\n",
       "      <td>2006-05-12 00:00:00.0</td>\n",
       "      <td>m12</td>\n",
       "      <td>m12</td>\n",
       "      <td>2007-06-13</td>\n",
       "      <td>2016-11-28</td>\n",
       "      <td>873.0</td>\n",
       "      <td>11.26</td>\n",
       "      <td>137.6</td>\n",
       "    </tr>\n",
       "    <tr>\n",
       "      <th>9340</th>\n",
       "      <td>ADNI1</td>\n",
       "      <td>560.0</td>\n",
       "      <td>514</td>\n",
       "      <td>033_S_0514</td>\n",
       "      <td>52</td>\n",
       "      <td>bl</td>\n",
       "      <td>bl</td>\n",
       "      <td>2006-06-12</td>\n",
       "      <td>NaN</td>\n",
       "      <td>2006-06-09</td>\n",
       "      <td>...</td>\n",
       "      <td>2.0</td>\n",
       "      <td>5.0</td>\n",
       "      <td>2006-05-12 00:00:00.0</td>\n",
       "      <td>bl</td>\n",
       "      <td>bl</td>\n",
       "      <td>2006-06-16</td>\n",
       "      <td>2016-11-28</td>\n",
       "      <td>826.8</td>\n",
       "      <td>10.41</td>\n",
       "      <td>126.6</td>\n",
       "    </tr>\n",
       "    <tr>\n",
       "      <th>9341</th>\n",
       "      <td>ADNI1</td>\n",
       "      <td>560.0</td>\n",
       "      <td>514</td>\n",
       "      <td>033_S_0514</td>\n",
       "      <td>52</td>\n",
       "      <td>bl</td>\n",
       "      <td>bl</td>\n",
       "      <td>2006-06-12</td>\n",
       "      <td>NaN</td>\n",
       "      <td>2006-06-09</td>\n",
       "      <td>...</td>\n",
       "      <td>2.0</td>\n",
       "      <td>5.0</td>\n",
       "      <td>2006-05-12 00:00:00.0</td>\n",
       "      <td>m48</td>\n",
       "      <td>m48</td>\n",
       "      <td>2010-06-16</td>\n",
       "      <td>2016-11-28</td>\n",
       "      <td>653.6</td>\n",
       "      <td>9.80</td>\n",
       "      <td>122.9</td>\n",
       "    </tr>\n",
       "    <tr>\n",
       "      <th>9342</th>\n",
       "      <td>ADNI1</td>\n",
       "      <td>560.0</td>\n",
       "      <td>514</td>\n",
       "      <td>033_S_0514</td>\n",
       "      <td>52</td>\n",
       "      <td>bl</td>\n",
       "      <td>bl</td>\n",
       "      <td>2006-06-12</td>\n",
       "      <td>NaN</td>\n",
       "      <td>2006-06-09</td>\n",
       "      <td>...</td>\n",
       "      <td>2.0</td>\n",
       "      <td>5.0</td>\n",
       "      <td>2006-05-12 00:00:00.0</td>\n",
       "      <td>m36</td>\n",
       "      <td>m36</td>\n",
       "      <td>2009-06-17</td>\n",
       "      <td>2016-11-28</td>\n",
       "      <td>879.2</td>\n",
       "      <td>11.38</td>\n",
       "      <td>138.6</td>\n",
       "    </tr>\n",
       "    <tr>\n",
       "      <th>9343</th>\n",
       "      <td>ADNI1</td>\n",
       "      <td>560.0</td>\n",
       "      <td>514</td>\n",
       "      <td>033_S_0514</td>\n",
       "      <td>52</td>\n",
       "      <td>bl</td>\n",
       "      <td>bl</td>\n",
       "      <td>2006-06-12</td>\n",
       "      <td>NaN</td>\n",
       "      <td>2006-06-09</td>\n",
       "      <td>...</td>\n",
       "      <td>2.0</td>\n",
       "      <td>5.0</td>\n",
       "      <td>2013-05-30 10:05:05.0</td>\n",
       "      <td>m12</td>\n",
       "      <td>m12</td>\n",
       "      <td>2007-06-13</td>\n",
       "      <td>2016-11-28</td>\n",
       "      <td>873.0</td>\n",
       "      <td>11.26</td>\n",
       "      <td>137.6</td>\n",
       "    </tr>\n",
       "  </tbody>\n",
       "</table>\n",
       "<p>5 rows × 92 columns</p>\n",
       "</div>"
      ],
      "text/plain": [
       "     Phase_x   ID_x  RID        PTID  SITEID_x VISCODE VISCODE2  USERDATE_x  \\\n",
       "9339   ADNI1  560.0  514  033_S_0514        52      bl       bl  2006-06-12   \n",
       "9340   ADNI1  560.0  514  033_S_0514        52      bl       bl  2006-06-12   \n",
       "9341   ADNI1  560.0  514  033_S_0514        52      bl       bl  2006-06-12   \n",
       "9342   ADNI1  560.0  514  033_S_0514        52      bl       bl  2006-06-12   \n",
       "9343   ADNI1  560.0  514  033_S_0514        52      bl       bl  2006-06-12   \n",
       "\n",
       "     USERDATE2_x  EXAMDATE_x  ...  PTETHCAT  PTRACCAT         update_stamp_y  \\\n",
       "9339         NaN  2006-06-09  ...       2.0       5.0  2006-05-12 00:00:00.0   \n",
       "9340         NaN  2006-06-09  ...       2.0       5.0  2006-05-12 00:00:00.0   \n",
       "9341         NaN  2006-06-09  ...       2.0       5.0  2006-05-12 00:00:00.0   \n",
       "9342         NaN  2006-06-09  ...       2.0       5.0  2006-05-12 00:00:00.0   \n",
       "9343         NaN  2006-06-09  ...       2.0       5.0  2013-05-30 10:05:05.0   \n",
       "\n",
       "      VISCODE_y  VISCODE2_y  EXAMDATE_y     RUNDATE  ABETA   PTAU    TAU  \n",
       "9339        m12         m12  2007-06-13  2016-11-28  873.0  11.26  137.6  \n",
       "9340         bl          bl  2006-06-16  2016-11-28  826.8  10.41  126.6  \n",
       "9341        m48         m48  2010-06-16  2016-11-28  653.6   9.80  122.9  \n",
       "9342        m36         m36  2009-06-17  2016-11-28  879.2  11.38  138.6  \n",
       "9343        m12         m12  2007-06-13  2016-11-28  873.0  11.26  137.6  \n",
       "\n",
       "[5 rows x 92 columns]"
      ]
     },
     "execution_count": 585,
     "metadata": {},
     "output_type": "execute_result"
    }
   ],
   "source": [
    "collect_normal_bline_pt_df.head()"
   ]
  },
  {
   "cell_type": "code",
   "execution_count": 592,
   "metadata": {},
   "outputs": [],
   "source": [
    "filter_bl = (collect_normal_bline_pt_df['VISCODE']=='bl') & (collect_normal_bline_pt_df['VISCODE_y']=='bl')"
   ]
  },
  {
   "cell_type": "code",
   "execution_count": 593,
   "metadata": {},
   "outputs": [],
   "source": [
    "collect_normal_bline_pt_df2 = collect_normal_bline_pt_df[filter_bl]"
   ]
  },
  {
   "cell_type": "code",
   "execution_count": 594,
   "metadata": {},
   "outputs": [
    {
     "data": {
      "text/plain": [
       "(381, 92)"
      ]
     },
     "execution_count": 594,
     "metadata": {},
     "output_type": "execute_result"
    }
   ],
   "source": [
    "collect_normal_bline_pt_df2.shape"
   ]
  },
  {
   "cell_type": "code",
   "execution_count": 595,
   "metadata": {},
   "outputs": [
    {
     "data": {
      "text/html": [
       "<div>\n",
       "<style scoped>\n",
       "    .dataframe tbody tr th:only-of-type {\n",
       "        vertical-align: middle;\n",
       "    }\n",
       "\n",
       "    .dataframe tbody tr th {\n",
       "        vertical-align: top;\n",
       "    }\n",
       "\n",
       "    .dataframe thead th {\n",
       "        text-align: right;\n",
       "    }\n",
       "</style>\n",
       "<table border=\"1\" class=\"dataframe\">\n",
       "  <thead>\n",
       "    <tr style=\"text-align: right;\">\n",
       "      <th></th>\n",
       "      <th>Phase_x</th>\n",
       "      <th>ID_x</th>\n",
       "      <th>RID</th>\n",
       "      <th>PTID</th>\n",
       "      <th>SITEID_x</th>\n",
       "      <th>VISCODE</th>\n",
       "      <th>VISCODE2</th>\n",
       "      <th>USERDATE_x</th>\n",
       "      <th>USERDATE2_x</th>\n",
       "      <th>EXAMDATE_x</th>\n",
       "      <th>...</th>\n",
       "      <th>PTETHCAT</th>\n",
       "      <th>PTRACCAT</th>\n",
       "      <th>update_stamp_y</th>\n",
       "      <th>VISCODE_y</th>\n",
       "      <th>VISCODE2_y</th>\n",
       "      <th>EXAMDATE_y</th>\n",
       "      <th>RUNDATE</th>\n",
       "      <th>ABETA</th>\n",
       "      <th>PTAU</th>\n",
       "      <th>TAU</th>\n",
       "    </tr>\n",
       "  </thead>\n",
       "  <tbody>\n",
       "    <tr>\n",
       "      <th>9340</th>\n",
       "      <td>ADNI1</td>\n",
       "      <td>560.0</td>\n",
       "      <td>514</td>\n",
       "      <td>033_S_0514</td>\n",
       "      <td>52</td>\n",
       "      <td>bl</td>\n",
       "      <td>bl</td>\n",
       "      <td>2006-06-12</td>\n",
       "      <td>NaN</td>\n",
       "      <td>2006-06-09</td>\n",
       "      <td>...</td>\n",
       "      <td>2.0</td>\n",
       "      <td>5.0</td>\n",
       "      <td>2006-05-12 00:00:00.0</td>\n",
       "      <td>bl</td>\n",
       "      <td>bl</td>\n",
       "      <td>2006-06-16</td>\n",
       "      <td>2016-11-28</td>\n",
       "      <td>826.8</td>\n",
       "      <td>10.41</td>\n",
       "      <td>126.6</td>\n",
       "    </tr>\n",
       "    <tr>\n",
       "      <th>9344</th>\n",
       "      <td>ADNI1</td>\n",
       "      <td>560.0</td>\n",
       "      <td>514</td>\n",
       "      <td>033_S_0514</td>\n",
       "      <td>52</td>\n",
       "      <td>bl</td>\n",
       "      <td>bl</td>\n",
       "      <td>2006-06-12</td>\n",
       "      <td>NaN</td>\n",
       "      <td>2006-06-09</td>\n",
       "      <td>...</td>\n",
       "      <td>2.0</td>\n",
       "      <td>5.0</td>\n",
       "      <td>2013-05-30 10:05:05.0</td>\n",
       "      <td>bl</td>\n",
       "      <td>bl</td>\n",
       "      <td>2006-06-16</td>\n",
       "      <td>2016-11-28</td>\n",
       "      <td>826.8</td>\n",
       "      <td>10.41</td>\n",
       "      <td>126.6</td>\n",
       "    </tr>\n",
       "    <tr>\n",
       "      <th>0</th>\n",
       "      <td>ADNI1</td>\n",
       "      <td>4.0</td>\n",
       "      <td>3</td>\n",
       "      <td>011_S_0003</td>\n",
       "      <td>107</td>\n",
       "      <td>bl</td>\n",
       "      <td>bl</td>\n",
       "      <td>2005-10-01</td>\n",
       "      <td>NaN</td>\n",
       "      <td>2005-09-30</td>\n",
       "      <td>...</td>\n",
       "      <td>2.0</td>\n",
       "      <td>5.0</td>\n",
       "      <td>2005-08-18 00:00:00.0</td>\n",
       "      <td>bl</td>\n",
       "      <td>bl</td>\n",
       "      <td>2005-09-12</td>\n",
       "      <td>2016-12-14</td>\n",
       "      <td>741.5</td>\n",
       "      <td>22.83</td>\n",
       "      <td>239.7</td>\n",
       "    </tr>\n",
       "    <tr>\n",
       "      <th>9403</th>\n",
       "      <td>ADNI1</td>\n",
       "      <td>566.0</td>\n",
       "      <td>516</td>\n",
       "      <td>033_S_0516</td>\n",
       "      <td>52</td>\n",
       "      <td>bl</td>\n",
       "      <td>bl</td>\n",
       "      <td>2006-06-12</td>\n",
       "      <td>NaN</td>\n",
       "      <td>2006-06-09</td>\n",
       "      <td>...</td>\n",
       "      <td>2.0</td>\n",
       "      <td>5.0</td>\n",
       "      <td>2006-05-15 00:00:00.0</td>\n",
       "      <td>bl</td>\n",
       "      <td>bl</td>\n",
       "      <td>2006-06-14</td>\n",
       "      <td>2017-01-12</td>\n",
       "      <td>1860.0</td>\n",
       "      <td>29.60</td>\n",
       "      <td>323.9</td>\n",
       "    </tr>\n",
       "    <tr>\n",
       "      <th>19</th>\n",
       "      <td>ADNI1</td>\n",
       "      <td>6.0</td>\n",
       "      <td>5</td>\n",
       "      <td>011_S_0005</td>\n",
       "      <td>107</td>\n",
       "      <td>bl</td>\n",
       "      <td>bl</td>\n",
       "      <td>2005-10-01</td>\n",
       "      <td>NaN</td>\n",
       "      <td>2005-09-30</td>\n",
       "      <td>...</td>\n",
       "      <td>2.0</td>\n",
       "      <td>5.0</td>\n",
       "      <td>2005-08-23 00:00:00.0</td>\n",
       "      <td>bl</td>\n",
       "      <td>bl</td>\n",
       "      <td>2005-09-07</td>\n",
       "      <td>2016-11-22</td>\n",
       "      <td>547.3</td>\n",
       "      <td>33.43</td>\n",
       "      <td>337.0</td>\n",
       "    </tr>\n",
       "  </tbody>\n",
       "</table>\n",
       "<p>5 rows × 92 columns</p>\n",
       "</div>"
      ],
      "text/plain": [
       "     Phase_x   ID_x  RID        PTID  SITEID_x VISCODE VISCODE2  USERDATE_x  \\\n",
       "9340   ADNI1  560.0  514  033_S_0514        52      bl       bl  2006-06-12   \n",
       "9344   ADNI1  560.0  514  033_S_0514        52      bl       bl  2006-06-12   \n",
       "0      ADNI1    4.0    3  011_S_0003       107      bl       bl  2005-10-01   \n",
       "9403   ADNI1  566.0  516  033_S_0516        52      bl       bl  2006-06-12   \n",
       "19     ADNI1    6.0    5  011_S_0005       107      bl       bl  2005-10-01   \n",
       "\n",
       "     USERDATE2_x  EXAMDATE_x  ...  PTETHCAT  PTRACCAT         update_stamp_y  \\\n",
       "9340         NaN  2006-06-09  ...       2.0       5.0  2006-05-12 00:00:00.0   \n",
       "9344         NaN  2006-06-09  ...       2.0       5.0  2013-05-30 10:05:05.0   \n",
       "0            NaN  2005-09-30  ...       2.0       5.0  2005-08-18 00:00:00.0   \n",
       "9403         NaN  2006-06-09  ...       2.0       5.0  2006-05-15 00:00:00.0   \n",
       "19           NaN  2005-09-30  ...       2.0       5.0  2005-08-23 00:00:00.0   \n",
       "\n",
       "      VISCODE_y  VISCODE2_y  EXAMDATE_y     RUNDATE   ABETA   PTAU    TAU  \n",
       "9340         bl          bl  2006-06-16  2016-11-28   826.8  10.41  126.6  \n",
       "9344         bl          bl  2006-06-16  2016-11-28   826.8  10.41  126.6  \n",
       "0            bl          bl  2005-09-12  2016-12-14   741.5  22.83  239.7  \n",
       "9403         bl          bl  2006-06-14  2017-01-12  1860.0  29.60  323.9  \n",
       "19           bl          bl  2005-09-07  2016-11-22   547.3  33.43  337.0  \n",
       "\n",
       "[5 rows x 92 columns]"
      ]
     },
     "execution_count": 595,
     "metadata": {},
     "output_type": "execute_result"
    }
   ],
   "source": [
    "collect_normal_bline_pt_df2.head()"
   ]
  },
  {
   "cell_type": "code",
   "execution_count": 597,
   "metadata": {},
   "outputs": [],
   "source": [
    "collect_normal_bline_pt_df2.to_csv('./baseline_data_use.csv',index = False)"
   ]
  },
  {
   "cell_type": "code",
   "execution_count": 20,
   "metadata": {},
   "outputs": [],
   "source": [
    "base = pd.read_csv('./baseline_data_use.csv')"
   ]
  },
  {
   "cell_type": "markdown",
   "metadata": {},
   "source": [
    "## We get those who were cognitively normal at baseline but have transitioned "
   ]
  },
  {
   "cell_type": "code",
   "execution_count": 598,
   "metadata": {},
   "outputs": [],
   "source": [
    "rid_of_cog_normal = [*set(collect_normal_bline_pt_df2['RID'])]"
   ]
  },
  {
   "cell_type": "code",
   "execution_count": 599,
   "metadata": {},
   "outputs": [
    {
     "data": {
      "text/plain": [
       "211"
      ]
     },
     "execution_count": 599,
     "metadata": {},
     "output_type": "execute_result"
    }
   ],
   "source": [
    "len(rid_of_cog_normal)"
   ]
  },
  {
   "cell_type": "code",
   "execution_count": 601,
   "metadata": {},
   "outputs": [
    {
     "data": {
      "text/plain": [
       "(8437, 27)"
      ]
     },
     "execution_count": 601,
     "metadata": {},
     "output_type": "execute_result"
    }
   ],
   "source": [
    "get_common_rid_list_df.shape"
   ]
  },
  {
   "cell_type": "code",
   "execution_count": 604,
   "metadata": {},
   "outputs": [],
   "source": [
    "filter_not_baseline = (get_common_rid_list_df['VISCODE']!='bl') & (get_common_rid_list_df['VISCODE2']!='bl')"
   ]
  },
  {
   "cell_type": "code",
   "execution_count": 606,
   "metadata": {},
   "outputs": [],
   "source": [
    "get_common_rid_list_NOT_baseline_df = get_common_rid_list_df[filter_not_baseline]"
   ]
  },
  {
   "cell_type": "code",
   "execution_count": 607,
   "metadata": {},
   "outputs": [
    {
     "data": {
      "text/plain": [
       "(7054, 27)"
      ]
     },
     "execution_count": 607,
     "metadata": {},
     "output_type": "execute_result"
    }
   ],
   "source": [
    "get_common_rid_list_NOT_baseline_df.shape"
   ]
  },
  {
   "cell_type": "raw",
   "metadata": {},
   "source": [
    "Now we find those in the baseline that live in this no baseline space"
   ]
  },
  {
   "cell_type": "code",
   "execution_count": 609,
   "metadata": {},
   "outputs": [],
   "source": [
    "all_baseline_normal_with_future_cog_changes = []\n",
    "\n",
    "for rid in rid_of_cog_normal:\n",
    "    \n",
    "    all_baseline_normal_with_future_cog_changes.append(get_common_rid_list_NOT_baseline_df[get_common_rid_list_NOT_baseline_df['RID']==rid])\n",
    "    \n",
    "all_baseline_normal_with_future_cog_changes_df = pd.concat(all_baseline_normal_with_future_cog_changes)"
   ]
  },
  {
   "cell_type": "code",
   "execution_count": 610,
   "metadata": {},
   "outputs": [
    {
     "data": {
      "text/plain": [
       "(1128, 27)"
      ]
     },
     "execution_count": 610,
     "metadata": {},
     "output_type": "execute_result"
    }
   ],
   "source": [
    "all_baseline_normal_with_future_cog_changes_df.shape"
   ]
  },
  {
   "cell_type": "code",
   "execution_count": 612,
   "metadata": {},
   "outputs": [
    {
     "data": {
      "text/html": [
       "<div>\n",
       "<style scoped>\n",
       "    .dataframe tbody tr th:only-of-type {\n",
       "        vertical-align: middle;\n",
       "    }\n",
       "\n",
       "    .dataframe tbody tr th {\n",
       "        vertical-align: top;\n",
       "    }\n",
       "\n",
       "    .dataframe thead th {\n",
       "        text-align: right;\n",
       "    }\n",
       "</style>\n",
       "<table border=\"1\" class=\"dataframe\">\n",
       "  <thead>\n",
       "    <tr style=\"text-align: right;\">\n",
       "      <th></th>\n",
       "      <th>Phase</th>\n",
       "      <th>ID</th>\n",
       "      <th>RID</th>\n",
       "      <th>SITEID</th>\n",
       "      <th>VISCODE</th>\n",
       "      <th>VISCODE2</th>\n",
       "      <th>USERDATE</th>\n",
       "      <th>USERDATE2</th>\n",
       "      <th>EXAMDATE</th>\n",
       "      <th>BCPREDX</th>\n",
       "      <th>...</th>\n",
       "      <th>BCCDR</th>\n",
       "      <th>BCDEPRES</th>\n",
       "      <th>BCSTROKE</th>\n",
       "      <th>BCDELIR</th>\n",
       "      <th>BCEXTCIR</th>\n",
       "      <th>BCEXTSP</th>\n",
       "      <th>BCCORADL</th>\n",
       "      <th>BCCORCOG</th>\n",
       "      <th>BCSUMM</th>\n",
       "      <th>update_stamp</th>\n",
       "    </tr>\n",
       "  </thead>\n",
       "  <tbody>\n",
       "    <tr>\n",
       "      <th>799</th>\n",
       "      <td>ADNI1</td>\n",
       "      <td>1602</td>\n",
       "      <td>514</td>\n",
       "      <td>52</td>\n",
       "      <td>m06</td>\n",
       "      <td>m06</td>\n",
       "      <td>2006-12-14</td>\n",
       "      <td>NaN</td>\n",
       "      <td>2006-12-06</td>\n",
       "      <td>2.0</td>\n",
       "      <td>...</td>\n",
       "      <td>0.0</td>\n",
       "      <td>0.0</td>\n",
       "      <td>0.0</td>\n",
       "      <td>0.0</td>\n",
       "      <td>0.0</td>\n",
       "      <td>-4</td>\n",
       "      <td>0.0</td>\n",
       "      <td>0.0</td>\n",
       "      <td>-4</td>\n",
       "      <td>2006-12-14 00:00:00.0</td>\n",
       "    </tr>\n",
       "    <tr>\n",
       "      <th>1550</th>\n",
       "      <td>ADNI1</td>\n",
       "      <td>3106</td>\n",
       "      <td>514</td>\n",
       "      <td>52</td>\n",
       "      <td>m12</td>\n",
       "      <td>m12</td>\n",
       "      <td>2007-06-19</td>\n",
       "      <td>NaN</td>\n",
       "      <td>2007-06-06</td>\n",
       "      <td>2.0</td>\n",
       "      <td>...</td>\n",
       "      <td>0.0</td>\n",
       "      <td>0.0</td>\n",
       "      <td>0.0</td>\n",
       "      <td>0.0</td>\n",
       "      <td>0.0</td>\n",
       "      <td>-4</td>\n",
       "      <td>-1.0</td>\n",
       "      <td>-1.0</td>\n",
       "      <td>-4</td>\n",
       "      <td>2007-06-19 00:00:00.0</td>\n",
       "    </tr>\n",
       "    <tr>\n",
       "      <th>2121</th>\n",
       "      <td>ADNI1</td>\n",
       "      <td>4248</td>\n",
       "      <td>514</td>\n",
       "      <td>52</td>\n",
       "      <td>m18</td>\n",
       "      <td>m18</td>\n",
       "      <td>2007-11-28</td>\n",
       "      <td>NaN</td>\n",
       "      <td>2007-11-28</td>\n",
       "      <td>2.0</td>\n",
       "      <td>...</td>\n",
       "      <td>0.0</td>\n",
       "      <td>0.0</td>\n",
       "      <td>0.0</td>\n",
       "      <td>0.0</td>\n",
       "      <td>0.0</td>\n",
       "      <td>-4</td>\n",
       "      <td>0.0</td>\n",
       "      <td>0.0</td>\n",
       "      <td>-4</td>\n",
       "      <td>2007-11-28 00:00:00.0</td>\n",
       "    </tr>\n",
       "    <tr>\n",
       "      <th>2698</th>\n",
       "      <td>ADNI1</td>\n",
       "      <td>5404</td>\n",
       "      <td>514</td>\n",
       "      <td>52</td>\n",
       "      <td>m24</td>\n",
       "      <td>m24</td>\n",
       "      <td>2008-06-13</td>\n",
       "      <td>NaN</td>\n",
       "      <td>2008-06-11</td>\n",
       "      <td>2.0</td>\n",
       "      <td>...</td>\n",
       "      <td>0.0</td>\n",
       "      <td>0.0</td>\n",
       "      <td>0.0</td>\n",
       "      <td>0.0</td>\n",
       "      <td>0.0</td>\n",
       "      <td>-4</td>\n",
       "      <td>-1.0</td>\n",
       "      <td>-1.0</td>\n",
       "      <td>-4</td>\n",
       "      <td>2008-06-13 00:00:00.0</td>\n",
       "    </tr>\n",
       "    <tr>\n",
       "      <th>3359</th>\n",
       "      <td>ADNI1</td>\n",
       "      <td>6726</td>\n",
       "      <td>514</td>\n",
       "      <td>52</td>\n",
       "      <td>m36</td>\n",
       "      <td>m36</td>\n",
       "      <td>2009-06-15</td>\n",
       "      <td>NaN</td>\n",
       "      <td>2009-06-12</td>\n",
       "      <td>2.0</td>\n",
       "      <td>...</td>\n",
       "      <td>0.0</td>\n",
       "      <td>0.0</td>\n",
       "      <td>0.0</td>\n",
       "      <td>0.0</td>\n",
       "      <td>0.0</td>\n",
       "      <td>-4</td>\n",
       "      <td>0.0</td>\n",
       "      <td>0.0</td>\n",
       "      <td>-4</td>\n",
       "      <td>2009-06-15 00:00:00.0</td>\n",
       "    </tr>\n",
       "  </tbody>\n",
       "</table>\n",
       "<p>5 rows × 27 columns</p>\n",
       "</div>"
      ],
      "text/plain": [
       "      Phase    ID  RID  SITEID VISCODE VISCODE2    USERDATE USERDATE2  \\\n",
       "799   ADNI1  1602  514      52     m06      m06  2006-12-14       NaN   \n",
       "1550  ADNI1  3106  514      52     m12      m12  2007-06-19       NaN   \n",
       "2121  ADNI1  4248  514      52     m18      m18  2007-11-28       NaN   \n",
       "2698  ADNI1  5404  514      52     m24      m24  2008-06-13       NaN   \n",
       "3359  ADNI1  6726  514      52     m36      m36  2009-06-15       NaN   \n",
       "\n",
       "        EXAMDATE  BCPREDX  ...  BCCDR  BCDEPRES  BCSTROKE  BCDELIR  BCEXTCIR  \\\n",
       "799   2006-12-06      2.0  ...    0.0       0.0       0.0      0.0       0.0   \n",
       "1550  2007-06-06      2.0  ...    0.0       0.0       0.0      0.0       0.0   \n",
       "2121  2007-11-28      2.0  ...    0.0       0.0       0.0      0.0       0.0   \n",
       "2698  2008-06-11      2.0  ...    0.0       0.0       0.0      0.0       0.0   \n",
       "3359  2009-06-12      2.0  ...    0.0       0.0       0.0      0.0       0.0   \n",
       "\n",
       "      BCEXTSP  BCCORADL  BCCORCOG  BCSUMM           update_stamp  \n",
       "799        -4       0.0       0.0      -4  2006-12-14 00:00:00.0  \n",
       "1550       -4      -1.0      -1.0      -4  2007-06-19 00:00:00.0  \n",
       "2121       -4       0.0       0.0      -4  2007-11-28 00:00:00.0  \n",
       "2698       -4      -1.0      -1.0      -4  2008-06-13 00:00:00.0  \n",
       "3359       -4       0.0       0.0      -4  2009-06-15 00:00:00.0  \n",
       "\n",
       "[5 rows x 27 columns]"
      ]
     },
     "execution_count": 612,
     "metadata": {},
     "output_type": "execute_result"
    }
   ],
   "source": [
    "all_baseline_normal_with_future_cog_changes_df.head()"
   ]
  },
  {
   "cell_type": "code",
   "execution_count": 613,
   "metadata": {},
   "outputs": [],
   "source": [
    "get_unique_rid_for_future_trans = [*set(all_baseline_normal_with_future_cog_changes_df['RID'])]"
   ]
  },
  {
   "cell_type": "code",
   "execution_count": 614,
   "metadata": {},
   "outputs": [
    {
     "data": {
      "text/plain": [
       "204"
      ]
     },
     "execution_count": 614,
     "metadata": {},
     "output_type": "execute_result"
    }
   ],
   "source": [
    "len(get_unique_rid_for_future_trans)"
   ]
  },
  {
   "cell_type": "code",
   "execution_count": 617,
   "metadata": {},
   "outputs": [
    {
     "data": {
      "text/plain": [
       "(9057, 92)"
      ]
     },
     "execution_count": 617,
     "metadata": {},
     "output_type": "execute_result"
    }
   ],
   "source": [
    "baselin_cog_normal_that_transitioned_list = []\n",
    "\n",
    "for rid in get_unique_rid_for_future_trans:\n",
    "    \n",
    "    baselin_cog_normal_that_transitioned_list.append(df_demo_biomarker_diagnoses_deduped[df_demo_biomarker_diagnoses_deduped['RID']==rid])\n",
    "\n",
    "baseline_cog_normal_that_transitioned_df = pd.concat(baselin_cog_normal_that_transitioned_list)\n",
    "\n",
    "baseline_cog_normal_that_transitioned_df.shape"
   ]
  },
  {
   "cell_type": "code",
   "execution_count": 618,
   "metadata": {},
   "outputs": [
    {
     "data": {
      "text/html": [
       "<div>\n",
       "<style scoped>\n",
       "    .dataframe tbody tr th:only-of-type {\n",
       "        vertical-align: middle;\n",
       "    }\n",
       "\n",
       "    .dataframe tbody tr th {\n",
       "        vertical-align: top;\n",
       "    }\n",
       "\n",
       "    .dataframe thead th {\n",
       "        text-align: right;\n",
       "    }\n",
       "</style>\n",
       "<table border=\"1\" class=\"dataframe\">\n",
       "  <thead>\n",
       "    <tr style=\"text-align: right;\">\n",
       "      <th></th>\n",
       "      <th>Phase_x</th>\n",
       "      <th>ID_x</th>\n",
       "      <th>RID</th>\n",
       "      <th>PTID</th>\n",
       "      <th>SITEID_x</th>\n",
       "      <th>VISCODE</th>\n",
       "      <th>VISCODE2</th>\n",
       "      <th>USERDATE_x</th>\n",
       "      <th>USERDATE2_x</th>\n",
       "      <th>EXAMDATE_x</th>\n",
       "      <th>...</th>\n",
       "      <th>PTETHCAT</th>\n",
       "      <th>PTRACCAT</th>\n",
       "      <th>update_stamp_y</th>\n",
       "      <th>VISCODE_y</th>\n",
       "      <th>VISCODE2_y</th>\n",
       "      <th>EXAMDATE_y</th>\n",
       "      <th>RUNDATE</th>\n",
       "      <th>ABETA</th>\n",
       "      <th>PTAU</th>\n",
       "      <th>TAU</th>\n",
       "    </tr>\n",
       "  </thead>\n",
       "  <tbody>\n",
       "    <tr>\n",
       "      <th>9339</th>\n",
       "      <td>ADNI1</td>\n",
       "      <td>560.0</td>\n",
       "      <td>514</td>\n",
       "      <td>033_S_0514</td>\n",
       "      <td>52</td>\n",
       "      <td>bl</td>\n",
       "      <td>bl</td>\n",
       "      <td>2006-06-12</td>\n",
       "      <td>NaN</td>\n",
       "      <td>2006-06-09</td>\n",
       "      <td>...</td>\n",
       "      <td>2.0</td>\n",
       "      <td>5.0</td>\n",
       "      <td>2006-05-12 00:00:00.0</td>\n",
       "      <td>m12</td>\n",
       "      <td>m12</td>\n",
       "      <td>2007-06-13</td>\n",
       "      <td>2016-11-28</td>\n",
       "      <td>873.0</td>\n",
       "      <td>11.26</td>\n",
       "      <td>137.6</td>\n",
       "    </tr>\n",
       "    <tr>\n",
       "      <th>9340</th>\n",
       "      <td>ADNI1</td>\n",
       "      <td>560.0</td>\n",
       "      <td>514</td>\n",
       "      <td>033_S_0514</td>\n",
       "      <td>52</td>\n",
       "      <td>bl</td>\n",
       "      <td>bl</td>\n",
       "      <td>2006-06-12</td>\n",
       "      <td>NaN</td>\n",
       "      <td>2006-06-09</td>\n",
       "      <td>...</td>\n",
       "      <td>2.0</td>\n",
       "      <td>5.0</td>\n",
       "      <td>2006-05-12 00:00:00.0</td>\n",
       "      <td>bl</td>\n",
       "      <td>bl</td>\n",
       "      <td>2006-06-16</td>\n",
       "      <td>2016-11-28</td>\n",
       "      <td>826.8</td>\n",
       "      <td>10.41</td>\n",
       "      <td>126.6</td>\n",
       "    </tr>\n",
       "    <tr>\n",
       "      <th>9341</th>\n",
       "      <td>ADNI1</td>\n",
       "      <td>560.0</td>\n",
       "      <td>514</td>\n",
       "      <td>033_S_0514</td>\n",
       "      <td>52</td>\n",
       "      <td>bl</td>\n",
       "      <td>bl</td>\n",
       "      <td>2006-06-12</td>\n",
       "      <td>NaN</td>\n",
       "      <td>2006-06-09</td>\n",
       "      <td>...</td>\n",
       "      <td>2.0</td>\n",
       "      <td>5.0</td>\n",
       "      <td>2006-05-12 00:00:00.0</td>\n",
       "      <td>m48</td>\n",
       "      <td>m48</td>\n",
       "      <td>2010-06-16</td>\n",
       "      <td>2016-11-28</td>\n",
       "      <td>653.6</td>\n",
       "      <td>9.80</td>\n",
       "      <td>122.9</td>\n",
       "    </tr>\n",
       "    <tr>\n",
       "      <th>9342</th>\n",
       "      <td>ADNI1</td>\n",
       "      <td>560.0</td>\n",
       "      <td>514</td>\n",
       "      <td>033_S_0514</td>\n",
       "      <td>52</td>\n",
       "      <td>bl</td>\n",
       "      <td>bl</td>\n",
       "      <td>2006-06-12</td>\n",
       "      <td>NaN</td>\n",
       "      <td>2006-06-09</td>\n",
       "      <td>...</td>\n",
       "      <td>2.0</td>\n",
       "      <td>5.0</td>\n",
       "      <td>2006-05-12 00:00:00.0</td>\n",
       "      <td>m36</td>\n",
       "      <td>m36</td>\n",
       "      <td>2009-06-17</td>\n",
       "      <td>2016-11-28</td>\n",
       "      <td>879.2</td>\n",
       "      <td>11.38</td>\n",
       "      <td>138.6</td>\n",
       "    </tr>\n",
       "    <tr>\n",
       "      <th>9343</th>\n",
       "      <td>ADNI1</td>\n",
       "      <td>560.0</td>\n",
       "      <td>514</td>\n",
       "      <td>033_S_0514</td>\n",
       "      <td>52</td>\n",
       "      <td>bl</td>\n",
       "      <td>bl</td>\n",
       "      <td>2006-06-12</td>\n",
       "      <td>NaN</td>\n",
       "      <td>2006-06-09</td>\n",
       "      <td>...</td>\n",
       "      <td>2.0</td>\n",
       "      <td>5.0</td>\n",
       "      <td>2013-05-30 10:05:05.0</td>\n",
       "      <td>m12</td>\n",
       "      <td>m12</td>\n",
       "      <td>2007-06-13</td>\n",
       "      <td>2016-11-28</td>\n",
       "      <td>873.0</td>\n",
       "      <td>11.26</td>\n",
       "      <td>137.6</td>\n",
       "    </tr>\n",
       "  </tbody>\n",
       "</table>\n",
       "<p>5 rows × 92 columns</p>\n",
       "</div>"
      ],
      "text/plain": [
       "     Phase_x   ID_x  RID        PTID  SITEID_x VISCODE VISCODE2  USERDATE_x  \\\n",
       "9339   ADNI1  560.0  514  033_S_0514        52      bl       bl  2006-06-12   \n",
       "9340   ADNI1  560.0  514  033_S_0514        52      bl       bl  2006-06-12   \n",
       "9341   ADNI1  560.0  514  033_S_0514        52      bl       bl  2006-06-12   \n",
       "9342   ADNI1  560.0  514  033_S_0514        52      bl       bl  2006-06-12   \n",
       "9343   ADNI1  560.0  514  033_S_0514        52      bl       bl  2006-06-12   \n",
       "\n",
       "     USERDATE2_x  EXAMDATE_x  ...  PTETHCAT  PTRACCAT         update_stamp_y  \\\n",
       "9339         NaN  2006-06-09  ...       2.0       5.0  2006-05-12 00:00:00.0   \n",
       "9340         NaN  2006-06-09  ...       2.0       5.0  2006-05-12 00:00:00.0   \n",
       "9341         NaN  2006-06-09  ...       2.0       5.0  2006-05-12 00:00:00.0   \n",
       "9342         NaN  2006-06-09  ...       2.0       5.0  2006-05-12 00:00:00.0   \n",
       "9343         NaN  2006-06-09  ...       2.0       5.0  2013-05-30 10:05:05.0   \n",
       "\n",
       "      VISCODE_y  VISCODE2_y  EXAMDATE_y     RUNDATE  ABETA   PTAU    TAU  \n",
       "9339        m12         m12  2007-06-13  2016-11-28  873.0  11.26  137.6  \n",
       "9340         bl          bl  2006-06-16  2016-11-28  826.8  10.41  126.6  \n",
       "9341        m48         m48  2010-06-16  2016-11-28  653.6   9.80  122.9  \n",
       "9342        m36         m36  2009-06-17  2016-11-28  879.2  11.38  138.6  \n",
       "9343        m12         m12  2007-06-13  2016-11-28  873.0  11.26  137.6  \n",
       "\n",
       "[5 rows x 92 columns]"
      ]
     },
     "execution_count": 618,
     "metadata": {},
     "output_type": "execute_result"
    }
   ],
   "source": [
    "baseline_cog_normal_that_transitioned_df.head()"
   ]
  },
  {
   "cell_type": "raw",
   "metadata": {},
   "source": [
    "No filter out the baseline "
   ]
  },
  {
   "cell_type": "code",
   "execution_count": 619,
   "metadata": {},
   "outputs": [],
   "source": [
    "filter_out_baseline = (baseline_cog_normal_that_transitioned_df['VISCODE']!='bl') & (baseline_cog_normal_that_transitioned_df['VISCODE_y']!='bl')"
   ]
  },
  {
   "cell_type": "code",
   "execution_count": 620,
   "metadata": {},
   "outputs": [],
   "source": [
    "baseline_cog_normal_that_transitioned_without_bl_info_df = baseline_cog_normal_that_transitioned_df[filter_out_baseline]"
   ]
  },
  {
   "cell_type": "code",
   "execution_count": 621,
   "metadata": {},
   "outputs": [
    {
     "data": {
      "text/plain": [
       "(5627, 92)"
      ]
     },
     "execution_count": 621,
     "metadata": {},
     "output_type": "execute_result"
    }
   ],
   "source": [
    "baseline_cog_normal_that_transitioned_without_bl_info_df.shape"
   ]
  },
  {
   "cell_type": "code",
   "execution_count": 622,
   "metadata": {},
   "outputs": [
    {
     "data": {
      "text/html": [
       "<div>\n",
       "<style scoped>\n",
       "    .dataframe tbody tr th:only-of-type {\n",
       "        vertical-align: middle;\n",
       "    }\n",
       "\n",
       "    .dataframe tbody tr th {\n",
       "        vertical-align: top;\n",
       "    }\n",
       "\n",
       "    .dataframe thead th {\n",
       "        text-align: right;\n",
       "    }\n",
       "</style>\n",
       "<table border=\"1\" class=\"dataframe\">\n",
       "  <thead>\n",
       "    <tr style=\"text-align: right;\">\n",
       "      <th></th>\n",
       "      <th>Phase_x</th>\n",
       "      <th>ID_x</th>\n",
       "      <th>RID</th>\n",
       "      <th>PTID</th>\n",
       "      <th>SITEID_x</th>\n",
       "      <th>VISCODE</th>\n",
       "      <th>VISCODE2</th>\n",
       "      <th>USERDATE_x</th>\n",
       "      <th>USERDATE2_x</th>\n",
       "      <th>EXAMDATE_x</th>\n",
       "      <th>...</th>\n",
       "      <th>PTETHCAT</th>\n",
       "      <th>PTRACCAT</th>\n",
       "      <th>update_stamp_y</th>\n",
       "      <th>VISCODE_y</th>\n",
       "      <th>VISCODE2_y</th>\n",
       "      <th>EXAMDATE_y</th>\n",
       "      <th>RUNDATE</th>\n",
       "      <th>ABETA</th>\n",
       "      <th>PTAU</th>\n",
       "      <th>TAU</th>\n",
       "    </tr>\n",
       "  </thead>\n",
       "  <tbody>\n",
       "    <tr>\n",
       "      <th>9347</th>\n",
       "      <td>ADNI1</td>\n",
       "      <td>1552.0</td>\n",
       "      <td>514</td>\n",
       "      <td>033_S_0514</td>\n",
       "      <td>52</td>\n",
       "      <td>m06</td>\n",
       "      <td>m06</td>\n",
       "      <td>2006-12-08</td>\n",
       "      <td>NaN</td>\n",
       "      <td>2006-12-06</td>\n",
       "      <td>...</td>\n",
       "      <td>2.0</td>\n",
       "      <td>5.0</td>\n",
       "      <td>2006-05-12 00:00:00.0</td>\n",
       "      <td>m12</td>\n",
       "      <td>m12</td>\n",
       "      <td>2007-06-13</td>\n",
       "      <td>2016-11-28</td>\n",
       "      <td>873.0</td>\n",
       "      <td>11.26</td>\n",
       "      <td>137.6</td>\n",
       "    </tr>\n",
       "    <tr>\n",
       "      <th>9349</th>\n",
       "      <td>ADNI1</td>\n",
       "      <td>1552.0</td>\n",
       "      <td>514</td>\n",
       "      <td>033_S_0514</td>\n",
       "      <td>52</td>\n",
       "      <td>m06</td>\n",
       "      <td>m06</td>\n",
       "      <td>2006-12-08</td>\n",
       "      <td>NaN</td>\n",
       "      <td>2006-12-06</td>\n",
       "      <td>...</td>\n",
       "      <td>2.0</td>\n",
       "      <td>5.0</td>\n",
       "      <td>2006-05-12 00:00:00.0</td>\n",
       "      <td>m48</td>\n",
       "      <td>m48</td>\n",
       "      <td>2010-06-16</td>\n",
       "      <td>2016-11-28</td>\n",
       "      <td>653.6</td>\n",
       "      <td>9.80</td>\n",
       "      <td>122.9</td>\n",
       "    </tr>\n",
       "    <tr>\n",
       "      <th>9350</th>\n",
       "      <td>ADNI1</td>\n",
       "      <td>1552.0</td>\n",
       "      <td>514</td>\n",
       "      <td>033_S_0514</td>\n",
       "      <td>52</td>\n",
       "      <td>m06</td>\n",
       "      <td>m06</td>\n",
       "      <td>2006-12-08</td>\n",
       "      <td>NaN</td>\n",
       "      <td>2006-12-06</td>\n",
       "      <td>...</td>\n",
       "      <td>2.0</td>\n",
       "      <td>5.0</td>\n",
       "      <td>2006-05-12 00:00:00.0</td>\n",
       "      <td>m36</td>\n",
       "      <td>m36</td>\n",
       "      <td>2009-06-17</td>\n",
       "      <td>2016-11-28</td>\n",
       "      <td>879.2</td>\n",
       "      <td>11.38</td>\n",
       "      <td>138.6</td>\n",
       "    </tr>\n",
       "    <tr>\n",
       "      <th>9351</th>\n",
       "      <td>ADNI1</td>\n",
       "      <td>1552.0</td>\n",
       "      <td>514</td>\n",
       "      <td>033_S_0514</td>\n",
       "      <td>52</td>\n",
       "      <td>m06</td>\n",
       "      <td>m06</td>\n",
       "      <td>2006-12-08</td>\n",
       "      <td>NaN</td>\n",
       "      <td>2006-12-06</td>\n",
       "      <td>...</td>\n",
       "      <td>2.0</td>\n",
       "      <td>5.0</td>\n",
       "      <td>2013-05-30 10:05:05.0</td>\n",
       "      <td>m12</td>\n",
       "      <td>m12</td>\n",
       "      <td>2007-06-13</td>\n",
       "      <td>2016-11-28</td>\n",
       "      <td>873.0</td>\n",
       "      <td>11.26</td>\n",
       "      <td>137.6</td>\n",
       "    </tr>\n",
       "    <tr>\n",
       "      <th>9353</th>\n",
       "      <td>ADNI1</td>\n",
       "      <td>1552.0</td>\n",
       "      <td>514</td>\n",
       "      <td>033_S_0514</td>\n",
       "      <td>52</td>\n",
       "      <td>m06</td>\n",
       "      <td>m06</td>\n",
       "      <td>2006-12-08</td>\n",
       "      <td>NaN</td>\n",
       "      <td>2006-12-06</td>\n",
       "      <td>...</td>\n",
       "      <td>2.0</td>\n",
       "      <td>5.0</td>\n",
       "      <td>2013-05-30 10:05:05.0</td>\n",
       "      <td>m48</td>\n",
       "      <td>m48</td>\n",
       "      <td>2010-06-16</td>\n",
       "      <td>2016-11-28</td>\n",
       "      <td>653.6</td>\n",
       "      <td>9.80</td>\n",
       "      <td>122.9</td>\n",
       "    </tr>\n",
       "  </tbody>\n",
       "</table>\n",
       "<p>5 rows × 92 columns</p>\n",
       "</div>"
      ],
      "text/plain": [
       "     Phase_x    ID_x  RID        PTID  SITEID_x VISCODE VISCODE2  USERDATE_x  \\\n",
       "9347   ADNI1  1552.0  514  033_S_0514        52     m06      m06  2006-12-08   \n",
       "9349   ADNI1  1552.0  514  033_S_0514        52     m06      m06  2006-12-08   \n",
       "9350   ADNI1  1552.0  514  033_S_0514        52     m06      m06  2006-12-08   \n",
       "9351   ADNI1  1552.0  514  033_S_0514        52     m06      m06  2006-12-08   \n",
       "9353   ADNI1  1552.0  514  033_S_0514        52     m06      m06  2006-12-08   \n",
       "\n",
       "     USERDATE2_x  EXAMDATE_x  ...  PTETHCAT  PTRACCAT         update_stamp_y  \\\n",
       "9347         NaN  2006-12-06  ...       2.0       5.0  2006-05-12 00:00:00.0   \n",
       "9349         NaN  2006-12-06  ...       2.0       5.0  2006-05-12 00:00:00.0   \n",
       "9350         NaN  2006-12-06  ...       2.0       5.0  2006-05-12 00:00:00.0   \n",
       "9351         NaN  2006-12-06  ...       2.0       5.0  2013-05-30 10:05:05.0   \n",
       "9353         NaN  2006-12-06  ...       2.0       5.0  2013-05-30 10:05:05.0   \n",
       "\n",
       "      VISCODE_y  VISCODE2_y  EXAMDATE_y     RUNDATE  ABETA   PTAU    TAU  \n",
       "9347        m12         m12  2007-06-13  2016-11-28  873.0  11.26  137.6  \n",
       "9349        m48         m48  2010-06-16  2016-11-28  653.6   9.80  122.9  \n",
       "9350        m36         m36  2009-06-17  2016-11-28  879.2  11.38  138.6  \n",
       "9351        m12         m12  2007-06-13  2016-11-28  873.0  11.26  137.6  \n",
       "9353        m48         m48  2010-06-16  2016-11-28  653.6   9.80  122.9  \n",
       "\n",
       "[5 rows x 92 columns]"
      ]
     },
     "execution_count": 622,
     "metadata": {},
     "output_type": "execute_result"
    }
   ],
   "source": [
    "baseline_cog_normal_that_transitioned_without_bl_info_df.head()"
   ]
  },
  {
   "cell_type": "code",
   "execution_count": 623,
   "metadata": {},
   "outputs": [],
   "source": [
    "baseline_cog_normal_that_transitioned_without_bl_info_df.to_csv('./normal_bl_that_transitioned.csv', index = False)"
   ]
  },
  {
   "cell_type": "code",
   "execution_count": 72,
   "metadata": {},
   "outputs": [],
   "source": [
    "b_no_bl = pd.read_csv('./normal_bl_that_transitioned.csv')"
   ]
  },
  {
   "cell_type": "code",
   "execution_count": 73,
   "metadata": {},
   "outputs": [
    {
     "data": {
      "text/plain": [
       "(5627, 92)"
      ]
     },
     "execution_count": 73,
     "metadata": {},
     "output_type": "execute_result"
    }
   ],
   "source": [
    "b_no_bl.shape"
   ]
  },
  {
   "cell_type": "markdown",
   "metadata": {},
   "source": [
    "# Include Apoe4, ADAS & MMSE Measurements"
   ]
  },
  {
   "cell_type": "code",
   "execution_count": 36,
   "metadata": {},
   "outputs": [],
   "source": [
    "apoe4 =  pd.read_csv('./apoe_adni_1_2_go.txt')\n",
    "\n",
    "adas = pd.read_csv('./adas_11.txt')\n",
    "\n",
    "mmse = pd.read_csv('./mmse_test.txt')"
   ]
  },
  {
   "cell_type": "code",
   "execution_count": 6,
   "metadata": {},
   "outputs": [
    {
     "data": {
      "text/plain": [
       "(2556, 16)"
      ]
     },
     "execution_count": 6,
     "metadata": {},
     "output_type": "execute_result"
    }
   ],
   "source": [
    "apoe4.shape"
   ]
  },
  {
   "cell_type": "code",
   "execution_count": 7,
   "metadata": {},
   "outputs": [
    {
     "data": {
      "text/html": [
       "<div>\n",
       "<style scoped>\n",
       "    .dataframe tbody tr th:only-of-type {\n",
       "        vertical-align: middle;\n",
       "    }\n",
       "\n",
       "    .dataframe tbody tr th {\n",
       "        vertical-align: top;\n",
       "    }\n",
       "\n",
       "    .dataframe thead th {\n",
       "        text-align: right;\n",
       "    }\n",
       "</style>\n",
       "<table border=\"1\" class=\"dataframe\">\n",
       "  <thead>\n",
       "    <tr style=\"text-align: right;\">\n",
       "      <th></th>\n",
       "      <th>Phase</th>\n",
       "      <th>ID</th>\n",
       "      <th>RID</th>\n",
       "      <th>SITEID</th>\n",
       "      <th>VISCODE</th>\n",
       "      <th>USERDATE</th>\n",
       "      <th>USERDATE2</th>\n",
       "      <th>APTESTDT</th>\n",
       "      <th>APGEN1</th>\n",
       "      <th>APGEN2</th>\n",
       "      <th>APVOLUME</th>\n",
       "      <th>APRECEIVE</th>\n",
       "      <th>APAMBTEMP</th>\n",
       "      <th>APRESAMP</th>\n",
       "      <th>APUSABLE</th>\n",
       "      <th>update_stamp</th>\n",
       "    </tr>\n",
       "  </thead>\n",
       "  <tbody>\n",
       "    <tr>\n",
       "      <th>0</th>\n",
       "      <td>ADNI1</td>\n",
       "      <td>4.0</td>\n",
       "      <td>2</td>\n",
       "      <td>107.0</td>\n",
       "      <td>sc</td>\n",
       "      <td>2005-08-23</td>\n",
       "      <td>NaN</td>\n",
       "      <td>8/22/2005</td>\n",
       "      <td>3</td>\n",
       "      <td>3</td>\n",
       "      <td>5.0</td>\n",
       "      <td>1.0</td>\n",
       "      <td>1.0</td>\n",
       "      <td>0.0</td>\n",
       "      <td>1.0</td>\n",
       "      <td>2005-08-23 00:00:00.0</td>\n",
       "    </tr>\n",
       "    <tr>\n",
       "      <th>1</th>\n",
       "      <td>ADNI1</td>\n",
       "      <td>6.0</td>\n",
       "      <td>3</td>\n",
       "      <td>107.0</td>\n",
       "      <td>sc</td>\n",
       "      <td>2005-08-23</td>\n",
       "      <td>NaN</td>\n",
       "      <td>8/22/2005</td>\n",
       "      <td>3</td>\n",
       "      <td>4</td>\n",
       "      <td>10.0</td>\n",
       "      <td>1.0</td>\n",
       "      <td>1.0</td>\n",
       "      <td>0.0</td>\n",
       "      <td>1.0</td>\n",
       "      <td>2005-08-23 00:00:00.0</td>\n",
       "    </tr>\n",
       "    <tr>\n",
       "      <th>2</th>\n",
       "      <td>ADNI1</td>\n",
       "      <td>8.0</td>\n",
       "      <td>4</td>\n",
       "      <td>10.0</td>\n",
       "      <td>sc</td>\n",
       "      <td>2005-08-23</td>\n",
       "      <td>NaN</td>\n",
       "      <td>8/22/2005</td>\n",
       "      <td>3</td>\n",
       "      <td>3</td>\n",
       "      <td>9.2</td>\n",
       "      <td>1.0</td>\n",
       "      <td>1.0</td>\n",
       "      <td>0.0</td>\n",
       "      <td>1.0</td>\n",
       "      <td>2005-08-23 00:00:00.0</td>\n",
       "    </tr>\n",
       "    <tr>\n",
       "      <th>3</th>\n",
       "      <td>ADNI1</td>\n",
       "      <td>10.0</td>\n",
       "      <td>5</td>\n",
       "      <td>107.0</td>\n",
       "      <td>sc</td>\n",
       "      <td>2005-08-29</td>\n",
       "      <td>NaN</td>\n",
       "      <td>8/29/2005</td>\n",
       "      <td>3</td>\n",
       "      <td>3</td>\n",
       "      <td>10.0</td>\n",
       "      <td>1.0</td>\n",
       "      <td>1.0</td>\n",
       "      <td>0.0</td>\n",
       "      <td>1.0</td>\n",
       "      <td>2005-08-29 00:00:00.0</td>\n",
       "    </tr>\n",
       "    <tr>\n",
       "      <th>4</th>\n",
       "      <td>ADNI1</td>\n",
       "      <td>12.0</td>\n",
       "      <td>7</td>\n",
       "      <td>10.0</td>\n",
       "      <td>sc</td>\n",
       "      <td>2005-09-06</td>\n",
       "      <td>NaN</td>\n",
       "      <td>9/5/2005</td>\n",
       "      <td>3</td>\n",
       "      <td>4</td>\n",
       "      <td>9.0</td>\n",
       "      <td>1.0</td>\n",
       "      <td>1.0</td>\n",
       "      <td>0.0</td>\n",
       "      <td>1.0</td>\n",
       "      <td>2005-09-06 00:00:00.0</td>\n",
       "    </tr>\n",
       "  </tbody>\n",
       "</table>\n",
       "</div>"
      ],
      "text/plain": [
       "   Phase    ID  RID  SITEID VISCODE    USERDATE  USERDATE2   APTESTDT  APGEN1  \\\n",
       "0  ADNI1   4.0    2   107.0      sc  2005-08-23        NaN  8/22/2005       3   \n",
       "1  ADNI1   6.0    3   107.0      sc  2005-08-23        NaN  8/22/2005       3   \n",
       "2  ADNI1   8.0    4    10.0      sc  2005-08-23        NaN  8/22/2005       3   \n",
       "3  ADNI1  10.0    5   107.0      sc  2005-08-29        NaN  8/29/2005       3   \n",
       "4  ADNI1  12.0    7    10.0      sc  2005-09-06        NaN   9/5/2005       3   \n",
       "\n",
       "   APGEN2  APVOLUME  APRECEIVE  APAMBTEMP  APRESAMP  APUSABLE  \\\n",
       "0       3       5.0        1.0        1.0       0.0       1.0   \n",
       "1       4      10.0        1.0        1.0       0.0       1.0   \n",
       "2       3       9.2        1.0        1.0       0.0       1.0   \n",
       "3       3      10.0        1.0        1.0       0.0       1.0   \n",
       "4       4       9.0        1.0        1.0       0.0       1.0   \n",
       "\n",
       "            update_stamp  \n",
       "0  2005-08-23 00:00:00.0  \n",
       "1  2005-08-23 00:00:00.0  \n",
       "2  2005-08-23 00:00:00.0  \n",
       "3  2005-08-29 00:00:00.0  \n",
       "4  2005-09-06 00:00:00.0  "
      ]
     },
     "execution_count": 7,
     "metadata": {},
     "output_type": "execute_result"
    }
   ],
   "source": [
    "apoe4.head()"
   ]
  },
  {
   "cell_type": "code",
   "execution_count": 37,
   "metadata": {},
   "outputs": [],
   "source": [
    "apoe4[['APGEN1','APGEN2']] = apoe4[['APGEN1','APGEN2']].astype('category')"
   ]
  },
  {
   "cell_type": "code",
   "execution_count": 38,
   "metadata": {},
   "outputs": [],
   "source": [
    "apoe4_use = apoe4[['RID','APGEN1','APGEN2']]"
   ]
  },
  {
   "cell_type": "code",
   "execution_count": 39,
   "metadata": {},
   "outputs": [
    {
     "data": {
      "text/plain": [
       "APGEN1  APGEN2\n",
       "3       3         1206\n",
       "        4          858\n",
       "4       4          235\n",
       "2       3          175\n",
       "        4           51\n",
       "4       3           18\n",
       "2       2            6\n",
       "3       2            5\n",
       "4       2            2\n",
       "dtype: int64"
      ]
     },
     "execution_count": 39,
     "metadata": {},
     "output_type": "execute_result"
    }
   ],
   "source": [
    "apoe4_use[['APGEN1','APGEN2']].value_counts()"
   ]
  },
  {
   "cell_type": "code",
   "execution_count": 13,
   "metadata": {},
   "outputs": [
    {
     "data": {
      "text/plain": [
       "(3873, 23)"
      ]
     },
     "execution_count": 13,
     "metadata": {},
     "output_type": "execute_result"
    }
   ],
   "source": [
    "adas.shape"
   ]
  },
  {
   "cell_type": "code",
   "execution_count": 14,
   "metadata": {},
   "outputs": [
    {
     "data": {
      "text/html": [
       "<div>\n",
       "<style scoped>\n",
       "    .dataframe tbody tr th:only-of-type {\n",
       "        vertical-align: middle;\n",
       "    }\n",
       "\n",
       "    .dataframe tbody tr th {\n",
       "        vertical-align: top;\n",
       "    }\n",
       "\n",
       "    .dataframe thead th {\n",
       "        text-align: right;\n",
       "    }\n",
       "</style>\n",
       "<table border=\"1\" class=\"dataframe\">\n",
       "  <thead>\n",
       "    <tr style=\"text-align: right;\">\n",
       "      <th></th>\n",
       "      <th>ID</th>\n",
       "      <th>RID</th>\n",
       "      <th>SITEID</th>\n",
       "      <th>VISCODE</th>\n",
       "      <th>USERDATE</th>\n",
       "      <th>USERDATE2</th>\n",
       "      <th>EXAMDATE</th>\n",
       "      <th>Q1</th>\n",
       "      <th>Q2</th>\n",
       "      <th>Q3</th>\n",
       "      <th>...</th>\n",
       "      <th>Q7</th>\n",
       "      <th>Q8</th>\n",
       "      <th>Q9</th>\n",
       "      <th>Q10</th>\n",
       "      <th>Q11</th>\n",
       "      <th>Q12</th>\n",
       "      <th>Q14</th>\n",
       "      <th>TOTAL11</th>\n",
       "      <th>TOTALMOD</th>\n",
       "      <th>update_stamp</th>\n",
       "    </tr>\n",
       "  </thead>\n",
       "  <tbody>\n",
       "    <tr>\n",
       "      <th>0</th>\n",
       "      <td>16500125</td>\n",
       "      <td>1412</td>\n",
       "      <td>20</td>\n",
       "      <td>m12</td>\n",
       "      <td>2014-08-20</td>\n",
       "      <td>NaN</td>\n",
       "      <td>2008-07-28</td>\n",
       "      <td>5.33</td>\n",
       "      <td>0</td>\n",
       "      <td>0</td>\n",
       "      <td>...</td>\n",
       "      <td>0</td>\n",
       "      <td>4</td>\n",
       "      <td>0</td>\n",
       "      <td>0</td>\n",
       "      <td>0</td>\n",
       "      <td>0</td>\n",
       "      <td>0</td>\n",
       "      <td>10.33</td>\n",
       "      <td>16.33</td>\n",
       "      <td>2014-08-20 00:00:00.0</td>\n",
       "    </tr>\n",
       "    <tr>\n",
       "      <th>1</th>\n",
       "      <td>16500123</td>\n",
       "      <td>1412</td>\n",
       "      <td>20</td>\n",
       "      <td>m06</td>\n",
       "      <td>2014-08-20</td>\n",
       "      <td>NaN</td>\n",
       "      <td>2008-02-05</td>\n",
       "      <td>5.33</td>\n",
       "      <td>0</td>\n",
       "      <td>0</td>\n",
       "      <td>...</td>\n",
       "      <td>0</td>\n",
       "      <td>5</td>\n",
       "      <td>0</td>\n",
       "      <td>0</td>\n",
       "      <td>0</td>\n",
       "      <td>0</td>\n",
       "      <td>1</td>\n",
       "      <td>10.33</td>\n",
       "      <td>19.33</td>\n",
       "      <td>2014-08-20 00:00:00.0</td>\n",
       "    </tr>\n",
       "    <tr>\n",
       "      <th>2</th>\n",
       "      <td>16500121</td>\n",
       "      <td>1412</td>\n",
       "      <td>20</td>\n",
       "      <td>bl</td>\n",
       "      <td>2014-08-20</td>\n",
       "      <td>NaN</td>\n",
       "      <td>2007-07-30</td>\n",
       "      <td>3.67</td>\n",
       "      <td>0</td>\n",
       "      <td>1</td>\n",
       "      <td>...</td>\n",
       "      <td>0</td>\n",
       "      <td>8</td>\n",
       "      <td>0</td>\n",
       "      <td>0</td>\n",
       "      <td>1</td>\n",
       "      <td>0</td>\n",
       "      <td>1</td>\n",
       "      <td>13.67</td>\n",
       "      <td>17.67</td>\n",
       "      <td>2014-08-20 00:00:00.0</td>\n",
       "    </tr>\n",
       "    <tr>\n",
       "      <th>3</th>\n",
       "      <td>16500119</td>\n",
       "      <td>1411</td>\n",
       "      <td>20</td>\n",
       "      <td>m06</td>\n",
       "      <td>2014-08-20</td>\n",
       "      <td>NaN</td>\n",
       "      <td>2008-03-25</td>\n",
       "      <td>6.00</td>\n",
       "      <td>0</td>\n",
       "      <td>0</td>\n",
       "      <td>...</td>\n",
       "      <td>0</td>\n",
       "      <td>2</td>\n",
       "      <td>0</td>\n",
       "      <td>0</td>\n",
       "      <td>0</td>\n",
       "      <td>0</td>\n",
       "      <td>1</td>\n",
       "      <td>8.00</td>\n",
       "      <td>17.00</td>\n",
       "      <td>2014-08-20 00:00:00.0</td>\n",
       "    </tr>\n",
       "    <tr>\n",
       "      <th>4</th>\n",
       "      <td>16500117</td>\n",
       "      <td>1411</td>\n",
       "      <td>20</td>\n",
       "      <td>bl</td>\n",
       "      <td>2014-08-20</td>\n",
       "      <td>NaN</td>\n",
       "      <td>2007-08-08</td>\n",
       "      <td>4.67</td>\n",
       "      <td>0</td>\n",
       "      <td>0</td>\n",
       "      <td>...</td>\n",
       "      <td>0</td>\n",
       "      <td>4</td>\n",
       "      <td>0</td>\n",
       "      <td>0</td>\n",
       "      <td>0</td>\n",
       "      <td>0</td>\n",
       "      <td>0</td>\n",
       "      <td>8.67</td>\n",
       "      <td>13.67</td>\n",
       "      <td>2014-08-20 00:00:00.0</td>\n",
       "    </tr>\n",
       "  </tbody>\n",
       "</table>\n",
       "<p>5 rows × 23 columns</p>\n",
       "</div>"
      ],
      "text/plain": [
       "         ID   RID  SITEID VISCODE    USERDATE  USERDATE2    EXAMDATE    Q1  \\\n",
       "0  16500125  1412      20     m12  2014-08-20        NaN  2008-07-28  5.33   \n",
       "1  16500123  1412      20     m06  2014-08-20        NaN  2008-02-05  5.33   \n",
       "2  16500121  1412      20      bl  2014-08-20        NaN  2007-07-30  3.67   \n",
       "3  16500119  1411      20     m06  2014-08-20        NaN  2008-03-25  6.00   \n",
       "4  16500117  1411      20      bl  2014-08-20        NaN  2007-08-08  4.67   \n",
       "\n",
       "   Q2  Q3  ...  Q7  Q8  Q9  Q10  Q11  Q12  Q14  TOTAL11  TOTALMOD  \\\n",
       "0   0   0  ...   0   4   0    0    0    0    0    10.33     16.33   \n",
       "1   0   0  ...   0   5   0    0    0    0    1    10.33     19.33   \n",
       "2   0   1  ...   0   8   0    0    1    0    1    13.67     17.67   \n",
       "3   0   0  ...   0   2   0    0    0    0    1     8.00     17.00   \n",
       "4   0   0  ...   0   4   0    0    0    0    0     8.67     13.67   \n",
       "\n",
       "            update_stamp  \n",
       "0  2014-08-20 00:00:00.0  \n",
       "1  2014-08-20 00:00:00.0  \n",
       "2  2014-08-20 00:00:00.0  \n",
       "3  2014-08-20 00:00:00.0  \n",
       "4  2014-08-20 00:00:00.0  \n",
       "\n",
       "[5 rows x 23 columns]"
      ]
     },
     "execution_count": 14,
     "metadata": {},
     "output_type": "execute_result"
    }
   ],
   "source": [
    "adas.head()"
   ]
  },
  {
   "cell_type": "code",
   "execution_count": 26,
   "metadata": {},
   "outputs": [],
   "source": [
    "adas_use = adas[['RID','TOTAL11','TOTALMOD']]"
   ]
  },
  {
   "cell_type": "code",
   "execution_count": 23,
   "metadata": {},
   "outputs": [
    {
     "data": {
      "text/html": [
       "<div>\n",
       "<style scoped>\n",
       "    .dataframe tbody tr th:only-of-type {\n",
       "        vertical-align: middle;\n",
       "    }\n",
       "\n",
       "    .dataframe tbody tr th {\n",
       "        vertical-align: top;\n",
       "    }\n",
       "\n",
       "    .dataframe thead th {\n",
       "        text-align: right;\n",
       "    }\n",
       "</style>\n",
       "<table border=\"1\" class=\"dataframe\">\n",
       "  <thead>\n",
       "    <tr style=\"text-align: right;\">\n",
       "      <th></th>\n",
       "      <th>TOTAL11</th>\n",
       "      <th>TOTALMOD</th>\n",
       "    </tr>\n",
       "  </thead>\n",
       "  <tbody>\n",
       "    <tr>\n",
       "      <th>count</th>\n",
       "      <td>3873.000000</td>\n",
       "      <td>3873.000000</td>\n",
       "    </tr>\n",
       "    <tr>\n",
       "      <th>mean</th>\n",
       "      <td>12.556478</td>\n",
       "      <td>18.999799</td>\n",
       "    </tr>\n",
       "    <tr>\n",
       "      <th>std</th>\n",
       "      <td>8.657324</td>\n",
       "      <td>11.702684</td>\n",
       "    </tr>\n",
       "    <tr>\n",
       "      <th>min</th>\n",
       "      <td>-4.000000</td>\n",
       "      <td>-4.000000</td>\n",
       "    </tr>\n",
       "    <tr>\n",
       "      <th>25%</th>\n",
       "      <td>6.330000</td>\n",
       "      <td>10.330000</td>\n",
       "    </tr>\n",
       "    <tr>\n",
       "      <th>50%</th>\n",
       "      <td>10.670000</td>\n",
       "      <td>17.670000</td>\n",
       "    </tr>\n",
       "    <tr>\n",
       "      <th>75%</th>\n",
       "      <td>17.000000</td>\n",
       "      <td>26.330000</td>\n",
       "    </tr>\n",
       "    <tr>\n",
       "      <th>max</th>\n",
       "      <td>70.000000</td>\n",
       "      <td>72.670000</td>\n",
       "    </tr>\n",
       "  </tbody>\n",
       "</table>\n",
       "</div>"
      ],
      "text/plain": [
       "           TOTAL11     TOTALMOD\n",
       "count  3873.000000  3873.000000\n",
       "mean     12.556478    18.999799\n",
       "std       8.657324    11.702684\n",
       "min      -4.000000    -4.000000\n",
       "25%       6.330000    10.330000\n",
       "50%      10.670000    17.670000\n",
       "75%      17.000000    26.330000\n",
       "max      70.000000    72.670000"
      ]
     },
     "execution_count": 23,
     "metadata": {},
     "output_type": "execute_result"
    }
   ],
   "source": [
    "adas[['TOTAL11','TOTALMOD']].describe()"
   ]
  },
  {
   "cell_type": "code",
   "execution_count": 29,
   "metadata": {},
   "outputs": [
    {
     "data": {
      "text/plain": [
       "<AxesSubplot:ylabel='Frequency'>"
      ]
     },
     "execution_count": 29,
     "metadata": {},
     "output_type": "execute_result"
    },
    {
     "data": {
      "image/png": "[encoded data removed]",
      "text/plain": [
       "<Figure size 432x288 with 1 Axes>"
      ]
     },
     "metadata": {
      "needs_background": "light"
     },
     "output_type": "display_data"
    }
   ],
   "source": [
    "adas[['TOTAL11','TOTALMOD']].plot(kind='hist', bins=50)"
   ]
  },
  {
   "cell_type": "code",
   "execution_count": 15,
   "metadata": {},
   "outputs": [
    {
     "data": {
      "text/plain": [
       "(12949, 76)"
      ]
     },
     "execution_count": 15,
     "metadata": {},
     "output_type": "execute_result"
    }
   ],
   "source": [
    "mmse.shape"
   ]
  },
  {
   "cell_type": "code",
   "execution_count": 16,
   "metadata": {},
   "outputs": [
    {
     "data": {
      "text/html": [
       "<div>\n",
       "<style scoped>\n",
       "    .dataframe tbody tr th:only-of-type {\n",
       "        vertical-align: middle;\n",
       "    }\n",
       "\n",
       "    .dataframe tbody tr th {\n",
       "        vertical-align: top;\n",
       "    }\n",
       "\n",
       "    .dataframe thead th {\n",
       "        text-align: right;\n",
       "    }\n",
       "</style>\n",
       "<table border=\"1\" class=\"dataframe\">\n",
       "  <thead>\n",
       "    <tr style=\"text-align: right;\">\n",
       "      <th></th>\n",
       "      <th>Phase</th>\n",
       "      <th>ID</th>\n",
       "      <th>RID</th>\n",
       "      <th>SITEID</th>\n",
       "      <th>VISCODE</th>\n",
       "      <th>VISCODE2</th>\n",
       "      <th>USERDATE</th>\n",
       "      <th>USERDATE2</th>\n",
       "      <th>EXAMDATE</th>\n",
       "      <th>MMDATE</th>\n",
       "      <th>...</th>\n",
       "      <th>WORD1DL</th>\n",
       "      <th>WORD2</th>\n",
       "      <th>WORD2DL</th>\n",
       "      <th>WORD3</th>\n",
       "      <th>WORD3DL</th>\n",
       "      <th>WORDLIST</th>\n",
       "      <th>WORLDSCORE</th>\n",
       "      <th>DATE</th>\n",
       "      <th>SOURCE</th>\n",
       "      <th>update_stamp</th>\n",
       "    </tr>\n",
       "  </thead>\n",
       "  <tbody>\n",
       "    <tr>\n",
       "      <th>0</th>\n",
       "      <td>ADNI1</td>\n",
       "      <td>10</td>\n",
       "      <td>2</td>\n",
       "      <td>107</td>\n",
       "      <td>sc</td>\n",
       "      <td>sc</td>\n",
       "      <td>2005-08-17</td>\n",
       "      <td>NaN</td>\n",
       "      <td>2005-08-17</td>\n",
       "      <td>1.0</td>\n",
       "      <td>...</td>\n",
       "      <td>NaN</td>\n",
       "      <td>NaN</td>\n",
       "      <td>NaN</td>\n",
       "      <td>NaN</td>\n",
       "      <td>NaN</td>\n",
       "      <td>NaN</td>\n",
       "      <td>NaN</td>\n",
       "      <td>NaN</td>\n",
       "      <td>NaN</td>\n",
       "      <td>2005-08-17 00:00:00.0</td>\n",
       "    </tr>\n",
       "    <tr>\n",
       "      <th>1</th>\n",
       "      <td>ADNI1</td>\n",
       "      <td>12</td>\n",
       "      <td>1</td>\n",
       "      <td>10</td>\n",
       "      <td>f</td>\n",
       "      <td>f</td>\n",
       "      <td>2005-08-18</td>\n",
       "      <td>NaN</td>\n",
       "      <td>2005-08-18</td>\n",
       "      <td>1.0</td>\n",
       "      <td>...</td>\n",
       "      <td>NaN</td>\n",
       "      <td>NaN</td>\n",
       "      <td>NaN</td>\n",
       "      <td>NaN</td>\n",
       "      <td>NaN</td>\n",
       "      <td>NaN</td>\n",
       "      <td>NaN</td>\n",
       "      <td>NaN</td>\n",
       "      <td>NaN</td>\n",
       "      <td>2005-08-18 00:00:00.0</td>\n",
       "    </tr>\n",
       "    <tr>\n",
       "      <th>2</th>\n",
       "      <td>ADNI1</td>\n",
       "      <td>14</td>\n",
       "      <td>3</td>\n",
       "      <td>107</td>\n",
       "      <td>sc</td>\n",
       "      <td>sc</td>\n",
       "      <td>2005-08-18</td>\n",
       "      <td>NaN</td>\n",
       "      <td>2005-08-18</td>\n",
       "      <td>2.0</td>\n",
       "      <td>...</td>\n",
       "      <td>NaN</td>\n",
       "      <td>NaN</td>\n",
       "      <td>NaN</td>\n",
       "      <td>NaN</td>\n",
       "      <td>NaN</td>\n",
       "      <td>NaN</td>\n",
       "      <td>NaN</td>\n",
       "      <td>NaN</td>\n",
       "      <td>NaN</td>\n",
       "      <td>2005-08-18 00:00:00.0</td>\n",
       "    </tr>\n",
       "    <tr>\n",
       "      <th>3</th>\n",
       "      <td>ADNI1</td>\n",
       "      <td>16</td>\n",
       "      <td>4</td>\n",
       "      <td>10</td>\n",
       "      <td>sc</td>\n",
       "      <td>sc</td>\n",
       "      <td>2005-08-18</td>\n",
       "      <td>NaN</td>\n",
       "      <td>2005-08-18</td>\n",
       "      <td>1.0</td>\n",
       "      <td>...</td>\n",
       "      <td>NaN</td>\n",
       "      <td>NaN</td>\n",
       "      <td>NaN</td>\n",
       "      <td>NaN</td>\n",
       "      <td>NaN</td>\n",
       "      <td>NaN</td>\n",
       "      <td>NaN</td>\n",
       "      <td>NaN</td>\n",
       "      <td>NaN</td>\n",
       "      <td>2005-08-18 00:00:00.0</td>\n",
       "    </tr>\n",
       "    <tr>\n",
       "      <th>4</th>\n",
       "      <td>ADNI1</td>\n",
       "      <td>18</td>\n",
       "      <td>5</td>\n",
       "      <td>107</td>\n",
       "      <td>sc</td>\n",
       "      <td>sc</td>\n",
       "      <td>2005-08-23</td>\n",
       "      <td>NaN</td>\n",
       "      <td>2005-08-23</td>\n",
       "      <td>1.0</td>\n",
       "      <td>...</td>\n",
       "      <td>NaN</td>\n",
       "      <td>NaN</td>\n",
       "      <td>NaN</td>\n",
       "      <td>NaN</td>\n",
       "      <td>NaN</td>\n",
       "      <td>NaN</td>\n",
       "      <td>NaN</td>\n",
       "      <td>NaN</td>\n",
       "      <td>NaN</td>\n",
       "      <td>2005-08-23 00:00:00.0</td>\n",
       "    </tr>\n",
       "  </tbody>\n",
       "</table>\n",
       "<p>5 rows × 76 columns</p>\n",
       "</div>"
      ],
      "text/plain": [
       "   Phase  ID  RID  SITEID VISCODE VISCODE2    USERDATE USERDATE2    EXAMDATE  \\\n",
       "0  ADNI1  10    2     107      sc       sc  2005-08-17       NaN  2005-08-17   \n",
       "1  ADNI1  12    1      10       f        f  2005-08-18       NaN  2005-08-18   \n",
       "2  ADNI1  14    3     107      sc       sc  2005-08-18       NaN  2005-08-18   \n",
       "3  ADNI1  16    4      10      sc       sc  2005-08-18       NaN  2005-08-18   \n",
       "4  ADNI1  18    5     107      sc       sc  2005-08-23       NaN  2005-08-23   \n",
       "\n",
       "   MMDATE  ... WORD1DL  WORD2 WORD2DL  WORD3 WORD3DL  WORDLIST WORLDSCORE  \\\n",
       "0     1.0  ...     NaN    NaN     NaN    NaN     NaN       NaN        NaN   \n",
       "1     1.0  ...     NaN    NaN     NaN    NaN     NaN       NaN        NaN   \n",
       "2     2.0  ...     NaN    NaN     NaN    NaN     NaN       NaN        NaN   \n",
       "3     1.0  ...     NaN    NaN     NaN    NaN     NaN       NaN        NaN   \n",
       "4     1.0  ...     NaN    NaN     NaN    NaN     NaN       NaN        NaN   \n",
       "\n",
       "   DATE SOURCE           update_stamp  \n",
       "0   NaN    NaN  2005-08-17 00:00:00.0  \n",
       "1   NaN    NaN  2005-08-18 00:00:00.0  \n",
       "2   NaN    NaN  2005-08-18 00:00:00.0  \n",
       "3   NaN    NaN  2005-08-18 00:00:00.0  \n",
       "4   NaN    NaN  2005-08-23 00:00:00.0  \n",
       "\n",
       "[5 rows x 76 columns]"
      ]
     },
     "execution_count": 16,
     "metadata": {},
     "output_type": "execute_result"
    }
   ],
   "source": [
    "mmse.head()"
   ]
  },
  {
   "cell_type": "code",
   "execution_count": 21,
   "metadata": {},
   "outputs": [],
   "source": [
    "mmse_use = mmse[['RID','MMSCORE']]"
   ]
  },
  {
   "cell_type": "code",
   "execution_count": 28,
   "metadata": {},
   "outputs": [
    {
     "data": {
      "text/plain": [
       "<AxesSubplot:ylabel='Frequency'>"
      ]
     },
     "execution_count": 28,
     "metadata": {},
     "output_type": "execute_result"
    },
    {
     "data": {
      "image/png": "[encoded data removed]",
      "text/plain": [
       "<Figure size 432x288 with 1 Axes>"
      ]
     },
     "metadata": {
      "needs_background": "light"
     },
     "output_type": "display_data"
    }
   ],
   "source": [
    "mmse_use['MMSCORE'].plot(kind='hist',bins=50)"
   ]
  },
  {
   "cell_type": "code",
   "execution_count": 41,
   "metadata": {},
   "outputs": [],
   "source": [
    "base.merge?"
   ]
  },
  {
   "cell_type": "code",
   "execution_count": 101,
   "metadata": {},
   "outputs": [],
   "source": [
    "base_apoe4 = base.merge(apoe4_use, how='inner', on='RID')\n",
    "\n",
    "base_apoe4_mmse = base_apoe4.merge(mmse_use, how = 'inner', on = 'RID')\n",
    "\n",
    "base_apoe4_mmse_adas = base_apoe4_mmse.merge(adas_use, how ='inner', on ='RID')\n",
    "\n",
    "base_apoe4_mmse_adas = base_apoe4_mmse_adas.drop_duplicates()"
   ]
  },
  {
   "cell_type": "code",
   "execution_count": 102,
   "metadata": {},
   "outputs": [
    {
     "data": {
      "text/html": [
       "<div>\n",
       "<style scoped>\n",
       "    .dataframe tbody tr th:only-of-type {\n",
       "        vertical-align: middle;\n",
       "    }\n",
       "\n",
       "    .dataframe tbody tr th {\n",
       "        vertical-align: top;\n",
       "    }\n",
       "\n",
       "    .dataframe thead th {\n",
       "        text-align: right;\n",
       "    }\n",
       "</style>\n",
       "<table border=\"1\" class=\"dataframe\">\n",
       "  <thead>\n",
       "    <tr style=\"text-align: right;\">\n",
       "      <th></th>\n",
       "      <th>Phase_x</th>\n",
       "      <th>ID_x</th>\n",
       "      <th>RID</th>\n",
       "      <th>PTID</th>\n",
       "      <th>SITEID_x</th>\n",
       "      <th>VISCODE</th>\n",
       "      <th>VISCODE2</th>\n",
       "      <th>USERDATE_x</th>\n",
       "      <th>USERDATE2_x</th>\n",
       "      <th>EXAMDATE_x</th>\n",
       "      <th>...</th>\n",
       "      <th>EXAMDATE_y</th>\n",
       "      <th>RUNDATE</th>\n",
       "      <th>ABETA</th>\n",
       "      <th>PTAU</th>\n",
       "      <th>TAU</th>\n",
       "      <th>APGEN1</th>\n",
       "      <th>APGEN2</th>\n",
       "      <th>MMSCORE</th>\n",
       "      <th>TOTAL11</th>\n",
       "      <th>TOTALMOD</th>\n",
       "    </tr>\n",
       "  </thead>\n",
       "  <tbody>\n",
       "    <tr>\n",
       "      <th>0</th>\n",
       "      <td>ADNI1</td>\n",
       "      <td>560.0</td>\n",
       "      <td>514</td>\n",
       "      <td>033_S_0514</td>\n",
       "      <td>52</td>\n",
       "      <td>bl</td>\n",
       "      <td>bl</td>\n",
       "      <td>2006-06-12</td>\n",
       "      <td>NaN</td>\n",
       "      <td>2006-06-09</td>\n",
       "      <td>...</td>\n",
       "      <td>2006-06-16</td>\n",
       "      <td>2016-11-28</td>\n",
       "      <td>826.8</td>\n",
       "      <td>10.41</td>\n",
       "      <td>126.6</td>\n",
       "      <td>3</td>\n",
       "      <td>3</td>\n",
       "      <td>26.0</td>\n",
       "      <td>-4.00</td>\n",
       "      <td>-4.00</td>\n",
       "    </tr>\n",
       "    <tr>\n",
       "      <th>1</th>\n",
       "      <td>ADNI1</td>\n",
       "      <td>560.0</td>\n",
       "      <td>514</td>\n",
       "      <td>033_S_0514</td>\n",
       "      <td>52</td>\n",
       "      <td>bl</td>\n",
       "      <td>bl</td>\n",
       "      <td>2006-06-12</td>\n",
       "      <td>NaN</td>\n",
       "      <td>2006-06-09</td>\n",
       "      <td>...</td>\n",
       "      <td>2006-06-16</td>\n",
       "      <td>2016-11-28</td>\n",
       "      <td>826.8</td>\n",
       "      <td>10.41</td>\n",
       "      <td>126.6</td>\n",
       "      <td>3</td>\n",
       "      <td>3</td>\n",
       "      <td>26.0</td>\n",
       "      <td>6.00</td>\n",
       "      <td>8.00</td>\n",
       "    </tr>\n",
       "    <tr>\n",
       "      <th>2</th>\n",
       "      <td>ADNI1</td>\n",
       "      <td>560.0</td>\n",
       "      <td>514</td>\n",
       "      <td>033_S_0514</td>\n",
       "      <td>52</td>\n",
       "      <td>bl</td>\n",
       "      <td>bl</td>\n",
       "      <td>2006-06-12</td>\n",
       "      <td>NaN</td>\n",
       "      <td>2006-06-09</td>\n",
       "      <td>...</td>\n",
       "      <td>2006-06-16</td>\n",
       "      <td>2016-11-28</td>\n",
       "      <td>826.8</td>\n",
       "      <td>10.41</td>\n",
       "      <td>126.6</td>\n",
       "      <td>3</td>\n",
       "      <td>3</td>\n",
       "      <td>26.0</td>\n",
       "      <td>4.67</td>\n",
       "      <td>12.67</td>\n",
       "    </tr>\n",
       "    <tr>\n",
       "      <th>3</th>\n",
       "      <td>ADNI1</td>\n",
       "      <td>560.0</td>\n",
       "      <td>514</td>\n",
       "      <td>033_S_0514</td>\n",
       "      <td>52</td>\n",
       "      <td>bl</td>\n",
       "      <td>bl</td>\n",
       "      <td>2006-06-12</td>\n",
       "      <td>NaN</td>\n",
       "      <td>2006-06-09</td>\n",
       "      <td>...</td>\n",
       "      <td>2006-06-16</td>\n",
       "      <td>2016-11-28</td>\n",
       "      <td>826.8</td>\n",
       "      <td>10.41</td>\n",
       "      <td>126.6</td>\n",
       "      <td>3</td>\n",
       "      <td>3</td>\n",
       "      <td>26.0</td>\n",
       "      <td>7.67</td>\n",
       "      <td>12.67</td>\n",
       "    </tr>\n",
       "    <tr>\n",
       "      <th>4</th>\n",
       "      <td>ADNI1</td>\n",
       "      <td>560.0</td>\n",
       "      <td>514</td>\n",
       "      <td>033_S_0514</td>\n",
       "      <td>52</td>\n",
       "      <td>bl</td>\n",
       "      <td>bl</td>\n",
       "      <td>2006-06-12</td>\n",
       "      <td>NaN</td>\n",
       "      <td>2006-06-09</td>\n",
       "      <td>...</td>\n",
       "      <td>2006-06-16</td>\n",
       "      <td>2016-11-28</td>\n",
       "      <td>826.8</td>\n",
       "      <td>10.41</td>\n",
       "      <td>126.6</td>\n",
       "      <td>3</td>\n",
       "      <td>3</td>\n",
       "      <td>26.0</td>\n",
       "      <td>5.00</td>\n",
       "      <td>10.00</td>\n",
       "    </tr>\n",
       "  </tbody>\n",
       "</table>\n",
       "<p>5 rows × 97 columns</p>\n",
       "</div>"
      ],
      "text/plain": [
       "  Phase_x   ID_x  RID        PTID  SITEID_x VISCODE VISCODE2  USERDATE_x  \\\n",
       "0   ADNI1  560.0  514  033_S_0514        52      bl       bl  2006-06-12   \n",
       "1   ADNI1  560.0  514  033_S_0514        52      bl       bl  2006-06-12   \n",
       "2   ADNI1  560.0  514  033_S_0514        52      bl       bl  2006-06-12   \n",
       "3   ADNI1  560.0  514  033_S_0514        52      bl       bl  2006-06-12   \n",
       "4   ADNI1  560.0  514  033_S_0514        52      bl       bl  2006-06-12   \n",
       "\n",
       "  USERDATE2_x  EXAMDATE_x  ...  EXAMDATE_y     RUNDATE  ABETA   PTAU    TAU  \\\n",
       "0         NaN  2006-06-09  ...  2006-06-16  2016-11-28  826.8  10.41  126.6   \n",
       "1         NaN  2006-06-09  ...  2006-06-16  2016-11-28  826.8  10.41  126.6   \n",
       "2         NaN  2006-06-09  ...  2006-06-16  2016-11-28  826.8  10.41  126.6   \n",
       "3         NaN  2006-06-09  ...  2006-06-16  2016-11-28  826.8  10.41  126.6   \n",
       "4         NaN  2006-06-09  ...  2006-06-16  2016-11-28  826.8  10.41  126.6   \n",
       "\n",
       "   APGEN1  APGEN2  MMSCORE TOTAL11  TOTALMOD  \n",
       "0       3       3     26.0   -4.00     -4.00  \n",
       "1       3       3     26.0    6.00      8.00  \n",
       "2       3       3     26.0    4.67     12.67  \n",
       "3       3       3     26.0    7.67     12.67  \n",
       "4       3       3     26.0    5.00     10.00  \n",
       "\n",
       "[5 rows x 97 columns]"
      ]
     },
     "execution_count": 102,
     "metadata": {},
     "output_type": "execute_result"
    }
   ],
   "source": [
    "base_apoe4_mmse_adas.head()"
   ]
  },
  {
   "cell_type": "markdown",
   "metadata": {},
   "source": [
    "## Unique RID"
   ]
  },
  {
   "cell_type": "code",
   "execution_count": 107,
   "metadata": {},
   "outputs": [
    {
     "name": "stdout",
     "output_type": "stream",
     "text": [
      "129 unique patients\n"
     ]
    }
   ],
   "source": [
    "print(len([*set(base_apoe4_mmse_adas['RID'])]),'unique patients')"
   ]
  },
  {
   "cell_type": "raw",
   "metadata": {},
   "source": [
    "notice that adas and mmse are going to vary form different periods"
   ]
  },
  {
   "cell_type": "code",
   "execution_count": 103,
   "metadata": {},
   "outputs": [
    {
     "data": {
      "text/plain": [
       "(4852, 97)"
      ]
     },
     "execution_count": 103,
     "metadata": {},
     "output_type": "execute_result"
    }
   ],
   "source": [
    "base_apoe4_mmse_adas.shape"
   ]
  },
  {
   "cell_type": "code",
   "execution_count": 109,
   "metadata": {},
   "outputs": [],
   "source": [
    "base_apoe4_mmse_adas.to_csv('./baseline_data_revised.csv', index = False)"
   ]
  },
  {
   "cell_type": "markdown",
   "metadata": {},
   "source": [
    "## Join MMSE, ADAS and Apoe4 to longitudinal baseline data"
   ]
  },
  {
   "cell_type": "code",
   "execution_count": 89,
   "metadata": {},
   "outputs": [],
   "source": [
    "b_no_bl_mmse = b_no_bl.merge(mmse_use, how = 'inner', on = 'RID')\n",
    "\n",
    "b_no_bl_mmse_apoe4 = b_no_bl_mmse.merge(apoe4_use, how='inner', on= 'RID')\n",
    "\n",
    "b_no_bl_mmse_apoe4_adas = b_no_bl_mmse_apoe4.merge(adas_use, how = 'inner', on = 'RID')"
   ]
  },
  {
   "cell_type": "code",
   "execution_count": 90,
   "metadata": {},
   "outputs": [
    {
     "data": {
      "text/html": [
       "<div>\n",
       "<style scoped>\n",
       "    .dataframe tbody tr th:only-of-type {\n",
       "        vertical-align: middle;\n",
       "    }\n",
       "\n",
       "    .dataframe tbody tr th {\n",
       "        vertical-align: top;\n",
       "    }\n",
       "\n",
       "    .dataframe thead th {\n",
       "        text-align: right;\n",
       "    }\n",
       "</style>\n",
       "<table border=\"1\" class=\"dataframe\">\n",
       "  <thead>\n",
       "    <tr style=\"text-align: right;\">\n",
       "      <th></th>\n",
       "      <th>Phase_x</th>\n",
       "      <th>ID_x</th>\n",
       "      <th>RID</th>\n",
       "      <th>PTID</th>\n",
       "      <th>SITEID_x</th>\n",
       "      <th>VISCODE</th>\n",
       "      <th>VISCODE2</th>\n",
       "      <th>USERDATE_x</th>\n",
       "      <th>USERDATE2_x</th>\n",
       "      <th>EXAMDATE_x</th>\n",
       "      <th>...</th>\n",
       "      <th>EXAMDATE_y</th>\n",
       "      <th>RUNDATE</th>\n",
       "      <th>ABETA</th>\n",
       "      <th>PTAU</th>\n",
       "      <th>TAU</th>\n",
       "      <th>MMSCORE</th>\n",
       "      <th>APGEN1</th>\n",
       "      <th>APGEN2</th>\n",
       "      <th>TOTAL11</th>\n",
       "      <th>TOTALMOD</th>\n",
       "    </tr>\n",
       "  </thead>\n",
       "  <tbody>\n",
       "    <tr>\n",
       "      <th>0</th>\n",
       "      <td>ADNI1</td>\n",
       "      <td>1552.0</td>\n",
       "      <td>514</td>\n",
       "      <td>033_S_0514</td>\n",
       "      <td>52</td>\n",
       "      <td>m06</td>\n",
       "      <td>m06</td>\n",
       "      <td>2006-12-08</td>\n",
       "      <td>NaN</td>\n",
       "      <td>2006-12-06</td>\n",
       "      <td>...</td>\n",
       "      <td>2007-06-13</td>\n",
       "      <td>2016-11-28</td>\n",
       "      <td>873.0</td>\n",
       "      <td>11.26</td>\n",
       "      <td>137.6</td>\n",
       "      <td>26.0</td>\n",
       "      <td>3</td>\n",
       "      <td>3</td>\n",
       "      <td>-4.00</td>\n",
       "      <td>-4.00</td>\n",
       "    </tr>\n",
       "    <tr>\n",
       "      <th>1</th>\n",
       "      <td>ADNI1</td>\n",
       "      <td>1552.0</td>\n",
       "      <td>514</td>\n",
       "      <td>033_S_0514</td>\n",
       "      <td>52</td>\n",
       "      <td>m06</td>\n",
       "      <td>m06</td>\n",
       "      <td>2006-12-08</td>\n",
       "      <td>NaN</td>\n",
       "      <td>2006-12-06</td>\n",
       "      <td>...</td>\n",
       "      <td>2007-06-13</td>\n",
       "      <td>2016-11-28</td>\n",
       "      <td>873.0</td>\n",
       "      <td>11.26</td>\n",
       "      <td>137.6</td>\n",
       "      <td>26.0</td>\n",
       "      <td>3</td>\n",
       "      <td>3</td>\n",
       "      <td>6.00</td>\n",
       "      <td>8.00</td>\n",
       "    </tr>\n",
       "    <tr>\n",
       "      <th>2</th>\n",
       "      <td>ADNI1</td>\n",
       "      <td>1552.0</td>\n",
       "      <td>514</td>\n",
       "      <td>033_S_0514</td>\n",
       "      <td>52</td>\n",
       "      <td>m06</td>\n",
       "      <td>m06</td>\n",
       "      <td>2006-12-08</td>\n",
       "      <td>NaN</td>\n",
       "      <td>2006-12-06</td>\n",
       "      <td>...</td>\n",
       "      <td>2007-06-13</td>\n",
       "      <td>2016-11-28</td>\n",
       "      <td>873.0</td>\n",
       "      <td>11.26</td>\n",
       "      <td>137.6</td>\n",
       "      <td>26.0</td>\n",
       "      <td>3</td>\n",
       "      <td>3</td>\n",
       "      <td>4.67</td>\n",
       "      <td>12.67</td>\n",
       "    </tr>\n",
       "    <tr>\n",
       "      <th>3</th>\n",
       "      <td>ADNI1</td>\n",
       "      <td>1552.0</td>\n",
       "      <td>514</td>\n",
       "      <td>033_S_0514</td>\n",
       "      <td>52</td>\n",
       "      <td>m06</td>\n",
       "      <td>m06</td>\n",
       "      <td>2006-12-08</td>\n",
       "      <td>NaN</td>\n",
       "      <td>2006-12-06</td>\n",
       "      <td>...</td>\n",
       "      <td>2007-06-13</td>\n",
       "      <td>2016-11-28</td>\n",
       "      <td>873.0</td>\n",
       "      <td>11.26</td>\n",
       "      <td>137.6</td>\n",
       "      <td>26.0</td>\n",
       "      <td>3</td>\n",
       "      <td>3</td>\n",
       "      <td>7.67</td>\n",
       "      <td>12.67</td>\n",
       "    </tr>\n",
       "    <tr>\n",
       "      <th>4</th>\n",
       "      <td>ADNI1</td>\n",
       "      <td>1552.0</td>\n",
       "      <td>514</td>\n",
       "      <td>033_S_0514</td>\n",
       "      <td>52</td>\n",
       "      <td>m06</td>\n",
       "      <td>m06</td>\n",
       "      <td>2006-12-08</td>\n",
       "      <td>NaN</td>\n",
       "      <td>2006-12-06</td>\n",
       "      <td>...</td>\n",
       "      <td>2007-06-13</td>\n",
       "      <td>2016-11-28</td>\n",
       "      <td>873.0</td>\n",
       "      <td>11.26</td>\n",
       "      <td>137.6</td>\n",
       "      <td>26.0</td>\n",
       "      <td>3</td>\n",
       "      <td>3</td>\n",
       "      <td>5.00</td>\n",
       "      <td>10.00</td>\n",
       "    </tr>\n",
       "  </tbody>\n",
       "</table>\n",
       "<p>5 rows × 97 columns</p>\n",
       "</div>"
      ],
      "text/plain": [
       "  Phase_x    ID_x  RID        PTID  SITEID_x VISCODE VISCODE2  USERDATE_x  \\\n",
       "0   ADNI1  1552.0  514  033_S_0514        52     m06      m06  2006-12-08   \n",
       "1   ADNI1  1552.0  514  033_S_0514        52     m06      m06  2006-12-08   \n",
       "2   ADNI1  1552.0  514  033_S_0514        52     m06      m06  2006-12-08   \n",
       "3   ADNI1  1552.0  514  033_S_0514        52     m06      m06  2006-12-08   \n",
       "4   ADNI1  1552.0  514  033_S_0514        52     m06      m06  2006-12-08   \n",
       "\n",
       "  USERDATE2_x  EXAMDATE_x  ...  EXAMDATE_y     RUNDATE  ABETA   PTAU    TAU  \\\n",
       "0         NaN  2006-12-06  ...  2007-06-13  2016-11-28  873.0  11.26  137.6   \n",
       "1         NaN  2006-12-06  ...  2007-06-13  2016-11-28  873.0  11.26  137.6   \n",
       "2         NaN  2006-12-06  ...  2007-06-13  2016-11-28  873.0  11.26  137.6   \n",
       "3         NaN  2006-12-06  ...  2007-06-13  2016-11-28  873.0  11.26  137.6   \n",
       "4         NaN  2006-12-06  ...  2007-06-13  2016-11-28  873.0  11.26  137.6   \n",
       "\n",
       "   MMSCORE  APGEN1  APGEN2 TOTAL11  TOTALMOD  \n",
       "0     26.0       3       3   -4.00     -4.00  \n",
       "1     26.0       3       3    6.00      8.00  \n",
       "2     26.0       3       3    4.67     12.67  \n",
       "3     26.0       3       3    7.67     12.67  \n",
       "4     26.0       3       3    5.00     10.00  \n",
       "\n",
       "[5 rows x 97 columns]"
      ]
     },
     "execution_count": 90,
     "metadata": {},
     "output_type": "execute_result"
    }
   ],
   "source": [
    "b_no_bl_mmse_apoe4_adas.head()"
   ]
  },
  {
   "cell_type": "code",
   "execution_count": 108,
   "metadata": {},
   "outputs": [
    {
     "name": "stdout",
     "output_type": "stream",
     "text": [
      "101 unique patients\n"
     ]
    }
   ],
   "source": [
    "print(len([*set(b_no_bl_mmse_apoe4_adas['RID'])]),'unique patients')"
   ]
  },
  {
   "cell_type": "code",
   "execution_count": 91,
   "metadata": {},
   "outputs": [
    {
     "data": {
      "text/html": [
       "<div>\n",
       "<style scoped>\n",
       "    .dataframe tbody tr th:only-of-type {\n",
       "        vertical-align: middle;\n",
       "    }\n",
       "\n",
       "    .dataframe tbody tr th {\n",
       "        vertical-align: top;\n",
       "    }\n",
       "\n",
       "    .dataframe thead th {\n",
       "        text-align: right;\n",
       "    }\n",
       "</style>\n",
       "<table border=\"1\" class=\"dataframe\">\n",
       "  <thead>\n",
       "    <tr style=\"text-align: right;\">\n",
       "      <th></th>\n",
       "      <th>VISCODE</th>\n",
       "      <th>TOTAL11</th>\n",
       "      <th>TOTALMOD</th>\n",
       "      <th>MMSCORE</th>\n",
       "    </tr>\n",
       "  </thead>\n",
       "  <tbody>\n",
       "    <tr>\n",
       "      <th>0</th>\n",
       "      <td>m06</td>\n",
       "      <td>-4.00</td>\n",
       "      <td>-4.00</td>\n",
       "      <td>26.0</td>\n",
       "    </tr>\n",
       "    <tr>\n",
       "      <th>1</th>\n",
       "      <td>m06</td>\n",
       "      <td>6.00</td>\n",
       "      <td>8.00</td>\n",
       "      <td>26.0</td>\n",
       "    </tr>\n",
       "    <tr>\n",
       "      <th>2</th>\n",
       "      <td>m06</td>\n",
       "      <td>4.67</td>\n",
       "      <td>12.67</td>\n",
       "      <td>26.0</td>\n",
       "    </tr>\n",
       "    <tr>\n",
       "      <th>3</th>\n",
       "      <td>m06</td>\n",
       "      <td>7.67</td>\n",
       "      <td>12.67</td>\n",
       "      <td>26.0</td>\n",
       "    </tr>\n",
       "    <tr>\n",
       "      <th>4</th>\n",
       "      <td>m06</td>\n",
       "      <td>5.00</td>\n",
       "      <td>10.00</td>\n",
       "      <td>26.0</td>\n",
       "    </tr>\n",
       "  </tbody>\n",
       "</table>\n",
       "</div>"
      ],
      "text/plain": [
       "  VISCODE  TOTAL11  TOTALMOD  MMSCORE\n",
       "0     m06    -4.00     -4.00     26.0\n",
       "1     m06     6.00      8.00     26.0\n",
       "2     m06     4.67     12.67     26.0\n",
       "3     m06     7.67     12.67     26.0\n",
       "4     m06     5.00     10.00     26.0"
      ]
     },
     "execution_count": 91,
     "metadata": {},
     "output_type": "execute_result"
    }
   ],
   "source": [
    "b_no_bl_mmse_apoe4_adas[b_no_bl_mmse_apoe4_adas['RID']==514][['VISCODE','TOTAL11','TOTALMOD','MMSCORE']].head()"
   ]
  },
  {
   "cell_type": "code",
   "execution_count": 92,
   "metadata": {},
   "outputs": [
    {
     "data": {
      "text/plain": [
       "(263900, 97)"
      ]
     },
     "execution_count": 92,
     "metadata": {},
     "output_type": "execute_result"
    }
   ],
   "source": [
    "b_no_bl_mmse_apoe4_adas.shape"
   ]
  },
  {
   "cell_type": "code",
   "execution_count": 112,
   "metadata": {},
   "outputs": [],
   "source": [
    "b_no_bl_mmse_apoe4_adas.to_csv('./normal_bl_that_transitioned_revised.csv')"
   ]
  },
  {
   "cell_type": "markdown",
   "metadata": {},
   "source": [
    "# Baseline with NaN diagnosis"
   ]
  },
  {
   "cell_type": "code",
   "execution_count": 47,
   "metadata": {
    "scrolled": true
   },
   "outputs": [
    {
     "name": "stderr",
     "output_type": "stream",
     "text": [
      "/Users/leslieappiah/miniconda3/lib/python3.7/site-packages/ipykernel_launcher.py:1: UserWarning: Boolean Series key will be reindexed to match DataFrame index.\n",
      "  \"\"\"Entry point for launching an IPython kernel.\n"
     ]
    },
    {
     "data": {
      "text/plain": [
       "(950, 54)"
      ]
     },
     "execution_count": 47,
     "metadata": {},
     "output_type": "execute_result"
    }
   ],
   "source": [
    "df1[(df2.VISCODE=='bl') & (df1.DIAGNOSIS.isnull())].shape"
   ]
  },
  {
   "cell_type": "markdown",
   "metadata": {},
   "source": [
    "# Baseline with diagnosis"
   ]
  },
  {
   "cell_type": "code",
   "execution_count": 50,
   "metadata": {},
   "outputs": [
    {
     "name": "stderr",
     "output_type": "stream",
     "text": [
      "/Users/leslieappiah/miniconda3/lib/python3.7/site-packages/ipykernel_launcher.py:1: UserWarning: Boolean Series key will be reindexed to match DataFrame index.\n",
      "  \"\"\"Entry point for launching an IPython kernel.\n"
     ]
    },
    {
     "data": {
      "text/plain": [
       "(662, 54)"
      ]
     },
     "execution_count": 50,
     "metadata": {},
     "output_type": "execute_result"
    }
   ],
   "source": [
    "df1[(df2.VISCODE=='bl') & (df1.DIAGNOSIS.notnull())].shape"
   ]
  },
  {
   "cell_type": "code",
   "execution_count": 51,
   "metadata": {},
   "outputs": [
    {
     "name": "stderr",
     "output_type": "stream",
     "text": [
      "/Users/leslieappiah/miniconda3/lib/python3.7/site-packages/ipykernel_launcher.py:1: UserWarning: Boolean Series key will be reindexed to match DataFrame index.\n",
      "  \"\"\"Entry point for launching an IPython kernel.\n"
     ]
    },
    {
     "data": {
      "text/html": [
       "<div>\n",
       "<style scoped>\n",
       "    .dataframe tbody tr th:only-of-type {\n",
       "        vertical-align: middle;\n",
       "    }\n",
       "\n",
       "    .dataframe tbody tr th {\n",
       "        vertical-align: top;\n",
       "    }\n",
       "\n",
       "    .dataframe thead th {\n",
       "        text-align: right;\n",
       "    }\n",
       "</style>\n",
       "<table border=\"1\" class=\"dataframe\">\n",
       "  <thead>\n",
       "    <tr style=\"text-align: right;\">\n",
       "      <th></th>\n",
       "      <th>Phase</th>\n",
       "      <th>ID</th>\n",
       "      <th>RID</th>\n",
       "      <th>PTID</th>\n",
       "      <th>SITEID</th>\n",
       "      <th>VISCODE</th>\n",
       "      <th>VISCODE2</th>\n",
       "      <th>USERDATE</th>\n",
       "      <th>USERDATE2</th>\n",
       "      <th>EXAMDATE</th>\n",
       "      <th>...</th>\n",
       "      <th>DXPATYP</th>\n",
       "      <th>DXPOTHSP</th>\n",
       "      <th>DXDEP</th>\n",
       "      <th>DXDEPSP</th>\n",
       "      <th>DXOTHDEM</th>\n",
       "      <th>DXODES</th>\n",
       "      <th>DXOOTHSP</th>\n",
       "      <th>DXCONFID</th>\n",
       "      <th>DIAGNOSIS</th>\n",
       "      <th>update_stamp</th>\n",
       "    </tr>\n",
       "  </thead>\n",
       "  <tbody>\n",
       "    <tr>\n",
       "      <th>10019</th>\n",
       "      <td>ADNI3</td>\n",
       "      <td>NaN</td>\n",
       "      <td>4873</td>\n",
       "      <td>027_S_4873</td>\n",
       "      <td>20</td>\n",
       "      <td>init</td>\n",
       "      <td>m54</td>\n",
       "      <td>2017-01-06</td>\n",
       "      <td>2017-01-06</td>\n",
       "      <td>2016-12-02</td>\n",
       "      <td>...</td>\n",
       "      <td>NaN</td>\n",
       "      <td>NaN</td>\n",
       "      <td>0.0</td>\n",
       "      <td>NaN</td>\n",
       "      <td>NaN</td>\n",
       "      <td>9.0</td>\n",
       "      <td>NaN</td>\n",
       "      <td>NaN</td>\n",
       "      <td>3.0</td>\n",
       "      <td>2021-07-29 04:17:59.0</td>\n",
       "    </tr>\n",
       "    <tr>\n",
       "      <th>10021</th>\n",
       "      <td>ADNI3</td>\n",
       "      <td>NaN</td>\n",
       "      <td>6001</td>\n",
       "      <td>027_S_6001</td>\n",
       "      <td>20</td>\n",
       "      <td>bl</td>\n",
       "      <td>bl</td>\n",
       "      <td>2017-01-24</td>\n",
       "      <td>2017-01-24</td>\n",
       "      <td>2017-01-19</td>\n",
       "      <td>...</td>\n",
       "      <td>NaN</td>\n",
       "      <td>NaN</td>\n",
       "      <td>0.0</td>\n",
       "      <td>NaN</td>\n",
       "      <td>NaN</td>\n",
       "      <td>NaN</td>\n",
       "      <td>NaN</td>\n",
       "      <td>NaN</td>\n",
       "      <td>1.0</td>\n",
       "      <td>2017-10-26 14:25:11.0</td>\n",
       "    </tr>\n",
       "    <tr>\n",
       "      <th>10047</th>\n",
       "      <td>ADNI3</td>\n",
       "      <td>NaN</td>\n",
       "      <td>377</td>\n",
       "      <td>037_S_0377</td>\n",
       "      <td>27</td>\n",
       "      <td>init</td>\n",
       "      <td>m132</td>\n",
       "      <td>2017-04-14</td>\n",
       "      <td>2017-04-14</td>\n",
       "      <td>2017-04-07</td>\n",
       "      <td>...</td>\n",
       "      <td>NaN</td>\n",
       "      <td>NaN</td>\n",
       "      <td>0.0</td>\n",
       "      <td>NaN</td>\n",
       "      <td>NaN</td>\n",
       "      <td>NaN</td>\n",
       "      <td>NaN</td>\n",
       "      <td>NaN</td>\n",
       "      <td>2.0</td>\n",
       "      <td>2017-08-02 07:51:05.0</td>\n",
       "    </tr>\n",
       "    <tr>\n",
       "      <th>10055</th>\n",
       "      <td>ADNI3</td>\n",
       "      <td>NaN</td>\n",
       "      <td>4654</td>\n",
       "      <td>002_S_4654</td>\n",
       "      <td>1</td>\n",
       "      <td>init</td>\n",
       "      <td>m60</td>\n",
       "      <td>2017-05-04</td>\n",
       "      <td>2017-05-04</td>\n",
       "      <td>2017-05-02</td>\n",
       "      <td>...</td>\n",
       "      <td>NaN</td>\n",
       "      <td>NaN</td>\n",
       "      <td>0.0</td>\n",
       "      <td>NaN</td>\n",
       "      <td>NaN</td>\n",
       "      <td>NaN</td>\n",
       "      <td>NaN</td>\n",
       "      <td>NaN</td>\n",
       "      <td>2.0</td>\n",
       "      <td>2017-08-14 22:27:43.0</td>\n",
       "    </tr>\n",
       "    <tr>\n",
       "      <th>10089</th>\n",
       "      <td>ADNI3</td>\n",
       "      <td>NaN</td>\n",
       "      <td>6009</td>\n",
       "      <td>002_S_6009</td>\n",
       "      <td>1</td>\n",
       "      <td>bl</td>\n",
       "      <td>bl</td>\n",
       "      <td>2017-06-05</td>\n",
       "      <td>2017-06-05</td>\n",
       "      <td>2017-05-16</td>\n",
       "      <td>...</td>\n",
       "      <td>NaN</td>\n",
       "      <td>NaN</td>\n",
       "      <td>0.0</td>\n",
       "      <td>NaN</td>\n",
       "      <td>NaN</td>\n",
       "      <td>NaN</td>\n",
       "      <td>NaN</td>\n",
       "      <td>NaN</td>\n",
       "      <td>1.0</td>\n",
       "      <td>2017-10-26 14:25:11.0</td>\n",
       "    </tr>\n",
       "  </tbody>\n",
       "</table>\n",
       "<p>5 rows × 54 columns</p>\n",
       "</div>"
      ],
      "text/plain": [
       "       Phase  ID   RID        PTID  SITEID VISCODE VISCODE2    USERDATE  \\\n",
       "10019  ADNI3 NaN  4873  027_S_4873      20    init      m54  2017-01-06   \n",
       "10021  ADNI3 NaN  6001  027_S_6001      20      bl       bl  2017-01-24   \n",
       "10047  ADNI3 NaN   377  037_S_0377      27    init     m132  2017-04-14   \n",
       "10055  ADNI3 NaN  4654  002_S_4654       1    init      m60  2017-05-04   \n",
       "10089  ADNI3 NaN  6009  002_S_6009       1      bl       bl  2017-06-05   \n",
       "\n",
       "        USERDATE2    EXAMDATE  ...  DXPATYP  DXPOTHSP  DXDEP  DXDEPSP  \\\n",
       "10019  2017-01-06  2016-12-02  ...      NaN       NaN    0.0      NaN   \n",
       "10021  2017-01-24  2017-01-19  ...      NaN       NaN    0.0      NaN   \n",
       "10047  2017-04-14  2017-04-07  ...      NaN       NaN    0.0      NaN   \n",
       "10055  2017-05-04  2017-05-02  ...      NaN       NaN    0.0      NaN   \n",
       "10089  2017-06-05  2017-05-16  ...      NaN       NaN    0.0      NaN   \n",
       "\n",
       "       DXOTHDEM  DXODES  DXOOTHSP  DXCONFID DIAGNOSIS           update_stamp  \n",
       "10019       NaN     9.0       NaN       NaN       3.0  2021-07-29 04:17:59.0  \n",
       "10021       NaN     NaN       NaN       NaN       1.0  2017-10-26 14:25:11.0  \n",
       "10047       NaN     NaN       NaN       NaN       2.0  2017-08-02 07:51:05.0  \n",
       "10055       NaN     NaN       NaN       NaN       2.0  2017-08-14 22:27:43.0  \n",
       "10089       NaN     NaN       NaN       NaN       1.0  2017-10-26 14:25:11.0  \n",
       "\n",
       "[5 rows x 54 columns]"
      ]
     },
     "execution_count": 51,
     "metadata": {},
     "output_type": "execute_result"
    }
   ],
   "source": [
    "df1[(df2.VISCODE=='bl') & (df1.DIAGNOSIS.notnull())].head()"
   ]
  },
  {
   "cell_type": "code",
   "execution_count": 36,
   "metadata": {},
   "outputs": [
    {
     "data": {
      "text/plain": [
       "19     360\n",
       "2      340\n",
       "11     332\n",
       "47     327\n",
       "20     325\n",
       "      ... \n",
       "63      31\n",
       "105     25\n",
       "116     13\n",
       "89       5\n",
       "119      5\n",
       "Name: SITEID, Length: 87, dtype: int64"
      ]
     },
     "execution_count": 36,
     "metadata": {},
     "output_type": "execute_result"
    }
   ],
   "source": [
    "df1.SITEID.value_counts()"
   ]
  },
  {
   "cell_type": "code",
   "execution_count": 19,
   "metadata": {},
   "outputs": [],
   "source": [
    "df2 = pd.read_csv('./Diagnosis/BLCHANGE.csv')"
   ]
  },
  {
   "cell_type": "code",
   "execution_count": 21,
   "metadata": {},
   "outputs": [
    {
     "data": {
      "text/html": [
       "<div>\n",
       "<style scoped>\n",
       "    .dataframe tbody tr th:only-of-type {\n",
       "        vertical-align: middle;\n",
       "    }\n",
       "\n",
       "    .dataframe tbody tr th {\n",
       "        vertical-align: top;\n",
       "    }\n",
       "\n",
       "    .dataframe thead th {\n",
       "        text-align: right;\n",
       "    }\n",
       "</style>\n",
       "<table border=\"1\" class=\"dataframe\">\n",
       "  <thead>\n",
       "    <tr style=\"text-align: right;\">\n",
       "      <th></th>\n",
       "      <th>Phase</th>\n",
       "      <th>ID</th>\n",
       "      <th>RID</th>\n",
       "      <th>SITEID</th>\n",
       "      <th>VISCODE</th>\n",
       "      <th>VISCODE2</th>\n",
       "      <th>USERDATE</th>\n",
       "      <th>USERDATE2</th>\n",
       "      <th>EXAMDATE</th>\n",
       "      <th>BCPREDX</th>\n",
       "      <th>...</th>\n",
       "      <th>BCCDR</th>\n",
       "      <th>BCDEPRES</th>\n",
       "      <th>BCSTROKE</th>\n",
       "      <th>BCDELIR</th>\n",
       "      <th>BCEXTCIR</th>\n",
       "      <th>BCEXTSP</th>\n",
       "      <th>BCCORADL</th>\n",
       "      <th>BCCORCOG</th>\n",
       "      <th>BCSUMM</th>\n",
       "      <th>update_stamp</th>\n",
       "    </tr>\n",
       "  </thead>\n",
       "  <tbody>\n",
       "    <tr>\n",
       "      <th>0</th>\n",
       "      <td>ADNI1</td>\n",
       "      <td>2</td>\n",
       "      <td>7</td>\n",
       "      <td>10</td>\n",
       "      <td>bl</td>\n",
       "      <td>bl</td>\n",
       "      <td>2005-10-13</td>\n",
       "      <td>NaN</td>\n",
       "      <td>2005-10-06</td>\n",
       "      <td>-4.0</td>\n",
       "      <td>...</td>\n",
       "      <td>-4.0</td>\n",
       "      <td>-4.0</td>\n",
       "      <td>-4.0</td>\n",
       "      <td>-4.0</td>\n",
       "      <td>-4.0</td>\n",
       "      <td>-4</td>\n",
       "      <td>-4.0</td>\n",
       "      <td>-4.0</td>\n",
       "      <td>Patient has a three year history of gradually ...</td>\n",
       "      <td>2005-10-13 00:00:00.0</td>\n",
       "    </tr>\n",
       "    <tr>\n",
       "      <th>1</th>\n",
       "      <td>ADNI1</td>\n",
       "      <td>4</td>\n",
       "      <td>15</td>\n",
       "      <td>4</td>\n",
       "      <td>bl</td>\n",
       "      <td>bl</td>\n",
       "      <td>2005-10-19</td>\n",
       "      <td>NaN</td>\n",
       "      <td>2005-10-19</td>\n",
       "      <td>-4.0</td>\n",
       "      <td>...</td>\n",
       "      <td>-4.0</td>\n",
       "      <td>-4.0</td>\n",
       "      <td>-4.0</td>\n",
       "      <td>-4.0</td>\n",
       "      <td>-4.0</td>\n",
       "      <td>-4</td>\n",
       "      <td>-4.0</td>\n",
       "      <td>-4.0</td>\n",
       "      <td>The subject has no complaints of memory proble...</td>\n",
       "      <td>2005-10-19 00:00:00.0</td>\n",
       "    </tr>\n",
       "    <tr>\n",
       "      <th>2</th>\n",
       "      <td>ADNI1</td>\n",
       "      <td>6</td>\n",
       "      <td>30</td>\n",
       "      <td>11</td>\n",
       "      <td>bl</td>\n",
       "      <td>bl</td>\n",
       "      <td>2005-10-20</td>\n",
       "      <td>NaN</td>\n",
       "      <td>2005-10-20</td>\n",
       "      <td>-4.0</td>\n",
       "      <td>...</td>\n",
       "      <td>-4.0</td>\n",
       "      <td>-4.0</td>\n",
       "      <td>-4.0</td>\n",
       "      <td>-4.0</td>\n",
       "      <td>-4.0</td>\n",
       "      <td>-4</td>\n",
       "      <td>-4.0</td>\n",
       "      <td>-4.0</td>\n",
       "      <td>MCI-stable.  Developed severe constipation/abd...</td>\n",
       "      <td>2005-10-20 00:00:00.0</td>\n",
       "    </tr>\n",
       "    <tr>\n",
       "      <th>3</th>\n",
       "      <td>ADNI1</td>\n",
       "      <td>8</td>\n",
       "      <td>31</td>\n",
       "      <td>11</td>\n",
       "      <td>bl</td>\n",
       "      <td>bl</td>\n",
       "      <td>2005-10-24</td>\n",
       "      <td>NaN</td>\n",
       "      <td>2005-10-24</td>\n",
       "      <td>-4.0</td>\n",
       "      <td>...</td>\n",
       "      <td>-4.0</td>\n",
       "      <td>-4.0</td>\n",
       "      <td>-4.0</td>\n",
       "      <td>-4.0</td>\n",
       "      <td>-4.0</td>\n",
       "      <td>-4</td>\n",
       "      <td>-4.0</td>\n",
       "      <td>-4.0</td>\n",
       "      <td>Few minor symptoms.</td>\n",
       "      <td>2005-10-24 00:00:00.0</td>\n",
       "    </tr>\n",
       "    <tr>\n",
       "      <th>4</th>\n",
       "      <td>ADNI1</td>\n",
       "      <td>10</td>\n",
       "      <td>14</td>\n",
       "      <td>10</td>\n",
       "      <td>bl</td>\n",
       "      <td>bl</td>\n",
       "      <td>2005-11-08</td>\n",
       "      <td>NaN</td>\n",
       "      <td>2005-11-04</td>\n",
       "      <td>-4.0</td>\n",
       "      <td>...</td>\n",
       "      <td>-4.0</td>\n",
       "      <td>-4.0</td>\n",
       "      <td>-4.0</td>\n",
       "      <td>-4.0</td>\n",
       "      <td>-4.0</td>\n",
       "      <td>-4</td>\n",
       "      <td>-4.0</td>\n",
       "      <td>-4.0</td>\n",
       "      <td>A 78 year old hispanic female with no memory c...</td>\n",
       "      <td>2005-11-08 00:00:00.0</td>\n",
       "    </tr>\n",
       "  </tbody>\n",
       "</table>\n",
       "<p>5 rows × 27 columns</p>\n",
       "</div>"
      ],
      "text/plain": [
       "   Phase  ID  RID  SITEID VISCODE VISCODE2    USERDATE USERDATE2    EXAMDATE  \\\n",
       "0  ADNI1   2    7      10      bl       bl  2005-10-13       NaN  2005-10-06   \n",
       "1  ADNI1   4   15       4      bl       bl  2005-10-19       NaN  2005-10-19   \n",
       "2  ADNI1   6   30      11      bl       bl  2005-10-20       NaN  2005-10-20   \n",
       "3  ADNI1   8   31      11      bl       bl  2005-10-24       NaN  2005-10-24   \n",
       "4  ADNI1  10   14      10      bl       bl  2005-11-08       NaN  2005-11-04   \n",
       "\n",
       "   BCPREDX  ...  BCCDR  BCDEPRES  BCSTROKE  BCDELIR  BCEXTCIR  BCEXTSP  \\\n",
       "0     -4.0  ...   -4.0      -4.0      -4.0     -4.0      -4.0       -4   \n",
       "1     -4.0  ...   -4.0      -4.0      -4.0     -4.0      -4.0       -4   \n",
       "2     -4.0  ...   -4.0      -4.0      -4.0     -4.0      -4.0       -4   \n",
       "3     -4.0  ...   -4.0      -4.0      -4.0     -4.0      -4.0       -4   \n",
       "4     -4.0  ...   -4.0      -4.0      -4.0     -4.0      -4.0       -4   \n",
       "\n",
       "   BCCORADL  BCCORCOG                                             BCSUMM  \\\n",
       "0      -4.0      -4.0  Patient has a three year history of gradually ...   \n",
       "1      -4.0      -4.0  The subject has no complaints of memory proble...   \n",
       "2      -4.0      -4.0  MCI-stable.  Developed severe constipation/abd...   \n",
       "3      -4.0      -4.0                                Few minor symptoms.   \n",
       "4      -4.0      -4.0  A 78 year old hispanic female with no memory c...   \n",
       "\n",
       "            update_stamp  \n",
       "0  2005-10-13 00:00:00.0  \n",
       "1  2005-10-19 00:00:00.0  \n",
       "2  2005-10-20 00:00:00.0  \n",
       "3  2005-10-24 00:00:00.0  \n",
       "4  2005-11-08 00:00:00.0  \n",
       "\n",
       "[5 rows x 27 columns]"
      ]
     },
     "execution_count": 21,
     "metadata": {},
     "output_type": "execute_result"
    }
   ],
   "source": [
    "df2.head()"
   ]
  },
  {
   "cell_type": "code",
   "execution_count": 20,
   "metadata": {},
   "outputs": [
    {
     "data": {
      "text/plain": [
       "(13261, 27)"
      ]
     },
     "execution_count": 20,
     "metadata": {},
     "output_type": "execute_result"
    }
   ],
   "source": [
    "df2.shape"
   ]
  },
  {
   "cell_type": "code",
   "execution_count": 30,
   "metadata": {},
   "outputs": [
    {
     "data": {
      "text/plain": [
       "ADNI2     5666\n",
       "ADNI1     3871\n",
       "ADNI3     3249\n",
       "ADNIGO     475\n",
       "Name: Phase, dtype: int64"
      ]
     },
     "execution_count": 30,
     "metadata": {},
     "output_type": "execute_result"
    }
   ],
   "source": [
    "df2.Phase.value_counts()"
   ]
  },
  {
   "cell_type": "raw",
   "metadata": {},
   "source": [
    "Looks like the ADNIALL data has all the diagnosis whereas the BLCHANGE has all but the diagnosis (BL is base line)"
   ]
  },
  {
   "cell_type": "markdown",
   "metadata": {},
   "source": [
    "# Check the names from the three dfs in Diagnosis"
   ]
  },
  {
   "cell_type": "code",
   "execution_count": 33,
   "metadata": {},
   "outputs": [
    {
     "data": {
      "text/plain": [
       "Index(['Phase', 'ID', 'RID', 'SITEID', 'VISCODE', 'VISCODE2', 'USERDATE',\n",
       "       'USERDATE2', 'EXAMDATE', 'AXNAUSEA', 'AXVOMIT', 'AXDIARRH', 'AXCONSTP',\n",
       "       'AXABDOMN', 'AXSWEATN', 'AXDIZZY', 'AXENERGY', 'AXDROWSY', 'AXVISION',\n",
       "       'AXHDACHE', 'AXDRYMTH', 'AXBREATH', 'AXCOUGH', 'AXPALPIT', 'AXCHEST',\n",
       "       'AXURNDIS', 'AXURNFRQ', 'AXANKLE', 'AXMUSCLE', 'AXRASH', 'AXINSOMN',\n",
       "       'AXDPMOOD', 'AXCRYING', 'AXELMOOD', 'AXWANDER', 'AXFALL', 'AXOTHER',\n",
       "       'AXSPECIF', 'update_stamp'],\n",
       "      dtype='object')"
      ]
     },
     "execution_count": 33,
     "metadata": {},
     "output_type": "execute_result"
    }
   ],
   "source": [
    "df0.columns"
   ]
  },
  {
   "cell_type": "code",
   "execution_count": 32,
   "metadata": {},
   "outputs": [
    {
     "data": {
      "text/plain": [
       "Index(['Phase', 'ID', 'RID', 'PTID', 'SITEID', 'VISCODE', 'VISCODE2',\n",
       "       'USERDATE', 'USERDATE2', 'EXAMDATE', 'DXCHANGE', 'DXCURREN', 'DXCONV',\n",
       "       'DXCONTYP', 'DXREV', 'DXNORM', 'DXNODEP', 'DXMCI', 'DXMDES', 'DXMPTR1',\n",
       "       'DXMPTR2', 'DXMPTR3', 'DXMPTR4', 'DXMPTR5', 'DXMPTR6', 'DXMDUE',\n",
       "       'DXMOTHET', 'DXMOTHSP', 'DXDSEV', 'DXDDUE', 'DXAD', 'DXADES', 'DXAPP',\n",
       "       'DXAPROB', 'DXAMETASP', 'DXAOTHRSP', 'DXAPOSS', 'DXAATYSP', 'DXAMETSP',\n",
       "       'DXAOTHSP', 'DXPARK', 'DXPARKSP', 'DXPDES', 'DXPCOG', 'DXPATYP',\n",
       "       'DXPOTHSP', 'DXDEP', 'DXDEPSP', 'DXOTHDEM', 'DXODES', 'DXOOTHSP',\n",
       "       'DXCONFID', 'DIAGNOSIS', 'update_stamp'],\n",
       "      dtype='object')"
      ]
     },
     "execution_count": 32,
     "metadata": {},
     "output_type": "execute_result"
    }
   ],
   "source": [
    "df1.columns"
   ]
  },
  {
   "cell_type": "code",
   "execution_count": 31,
   "metadata": {},
   "outputs": [
    {
     "data": {
      "text/plain": [
       "Index(['Phase', 'ID', 'RID', 'SITEID', 'VISCODE', 'VISCODE2', 'USERDATE',\n",
       "       'USERDATE2', 'EXAMDATE', 'BCPREDX', 'BCADAS', 'BCMMSE', 'BCMMSREC',\n",
       "       'BCNMMMS', 'BCNEUPSY', 'BCNONMEM', 'BCFAQ', 'BCCDR', 'BCDEPRES',\n",
       "       'BCSTROKE', 'BCDELIR', 'BCEXTCIR', 'BCEXTSP', 'BCCORADL', 'BCCORCOG',\n",
       "       'BCSUMM', 'update_stamp'],\n",
       "      dtype='object')"
      ]
     },
     "execution_count": 31,
     "metadata": {},
     "output_type": "execute_result"
    }
   ],
   "source": [
    "df2.columns"
   ]
  },
  {
   "cell_type": "markdown",
   "metadata": {},
   "source": [
    "# Reading from raw text, copy and past"
   ]
  },
  {
   "cell_type": "raw",
   "metadata": {},
   "source": [
    "steps:\n",
    "\n",
    "text = '''\n",
    "paste content here\n",
    "'''\n",
    "\n",
    "then use diagno = pd.read_csv(io.StringIO(text),sep=',') to read"
   ]
  },
  {
   "cell_type": "code",
   "execution_count": 10,
   "metadata": {},
   "outputs": [],
   "source": [
    "# diagno = pd.read_csv(io.StringIO(text),sep=',')\n",
    "\n",
    "#diagno.to_csv('new_diagno.csv', index = False)"
   ]
  },
  {
   "cell_type": "code",
   "execution_count": 17,
   "metadata": {},
   "outputs": [],
   "source": [
    "diagno = pd.read_csv('new_diagno.csv')"
   ]
  },
  {
   "cell_type": "code",
   "execution_count": 18,
   "metadata": {
    "scrolled": true
   },
   "outputs": [
    {
     "data": {
      "text/html": [
       "<div>\n",
       "<style scoped>\n",
       "    .dataframe tbody tr th:only-of-type {\n",
       "        vertical-align: middle;\n",
       "    }\n",
       "\n",
       "    .dataframe tbody tr th {\n",
       "        vertical-align: top;\n",
       "    }\n",
       "\n",
       "    .dataframe thead th {\n",
       "        text-align: right;\n",
       "    }\n",
       "</style>\n",
       "<table border=\"1\" class=\"dataframe\">\n",
       "  <thead>\n",
       "    <tr style=\"text-align: right;\">\n",
       "      <th></th>\n",
       "      <th>Phase</th>\n",
       "      <th>ID</th>\n",
       "      <th>RID</th>\n",
       "      <th>SITEID</th>\n",
       "      <th>VISCODE</th>\n",
       "      <th>VISCODE2</th>\n",
       "      <th>USERDATE</th>\n",
       "      <th>USERDATE2</th>\n",
       "      <th>EXAMDATE</th>\n",
       "      <th>AXNAUSEA</th>\n",
       "      <th>...</th>\n",
       "      <th>AXRASH</th>\n",
       "      <th>AXINSOMN</th>\n",
       "      <th>AXDPMOOD</th>\n",
       "      <th>AXCRYING</th>\n",
       "      <th>AXELMOOD</th>\n",
       "      <th>AXWANDER</th>\n",
       "      <th>AXFALL</th>\n",
       "      <th>AXOTHER</th>\n",
       "      <th>AXSPECIF</th>\n",
       "      <th>update_stamp</th>\n",
       "    </tr>\n",
       "  </thead>\n",
       "  <tbody>\n",
       "    <tr>\n",
       "      <th>0</th>\n",
       "      <td>ADNI1</td>\n",
       "      <td>2</td>\n",
       "      <td>2</td>\n",
       "      <td>107</td>\n",
       "      <td>m06</td>\n",
       "      <td>m06</td>\n",
       "      <td>2006-03-07</td>\n",
       "      <td>NaN</td>\n",
       "      <td>2006-03-06</td>\n",
       "      <td>1</td>\n",
       "      <td>...</td>\n",
       "      <td>1</td>\n",
       "      <td>1</td>\n",
       "      <td>1</td>\n",
       "      <td>1</td>\n",
       "      <td>1</td>\n",
       "      <td>1</td>\n",
       "      <td>1</td>\n",
       "      <td>1.0</td>\n",
       "      <td>-4</td>\n",
       "      <td>2006-03-07 00:00:00.0</td>\n",
       "    </tr>\n",
       "    <tr>\n",
       "      <th>1</th>\n",
       "      <td>ADNI1</td>\n",
       "      <td>4</td>\n",
       "      <td>5</td>\n",
       "      <td>107</td>\n",
       "      <td>m06</td>\n",
       "      <td>m06</td>\n",
       "      <td>2006-03-09</td>\n",
       "      <td>NaN</td>\n",
       "      <td>2006-03-09</td>\n",
       "      <td>1</td>\n",
       "      <td>...</td>\n",
       "      <td>2</td>\n",
       "      <td>1</td>\n",
       "      <td>1</td>\n",
       "      <td>1</td>\n",
       "      <td>1</td>\n",
       "      <td>1</td>\n",
       "      <td>1</td>\n",
       "      <td>2.0</td>\n",
       "      <td>fever</td>\n",
       "      <td>2006-03-09 00:00:00.0</td>\n",
       "    </tr>\n",
       "    <tr>\n",
       "      <th>2</th>\n",
       "      <td>ADNI1</td>\n",
       "      <td>6</td>\n",
       "      <td>3</td>\n",
       "      <td>107</td>\n",
       "      <td>m06</td>\n",
       "      <td>m06</td>\n",
       "      <td>2006-03-13</td>\n",
       "      <td>NaN</td>\n",
       "      <td>2006-03-13</td>\n",
       "      <td>1</td>\n",
       "      <td>...</td>\n",
       "      <td>1</td>\n",
       "      <td>2</td>\n",
       "      <td>1</td>\n",
       "      <td>1</td>\n",
       "      <td>1</td>\n",
       "      <td>1</td>\n",
       "      <td>1</td>\n",
       "      <td>1.0</td>\n",
       "      <td>-4</td>\n",
       "      <td>2006-03-13 00:00:00.0</td>\n",
       "    </tr>\n",
       "    <tr>\n",
       "      <th>3</th>\n",
       "      <td>ADNI1</td>\n",
       "      <td>8</td>\n",
       "      <td>8</td>\n",
       "      <td>107</td>\n",
       "      <td>m06</td>\n",
       "      <td>m06</td>\n",
       "      <td>2006-03-21</td>\n",
       "      <td>NaN</td>\n",
       "      <td>2006-03-20</td>\n",
       "      <td>1</td>\n",
       "      <td>...</td>\n",
       "      <td>1</td>\n",
       "      <td>1</td>\n",
       "      <td>1</td>\n",
       "      <td>1</td>\n",
       "      <td>1</td>\n",
       "      <td>1</td>\n",
       "      <td>2</td>\n",
       "      <td>1.0</td>\n",
       "      <td>-4</td>\n",
       "      <td>2006-03-21 00:00:00.0</td>\n",
       "    </tr>\n",
       "    <tr>\n",
       "      <th>4</th>\n",
       "      <td>ADNI1</td>\n",
       "      <td>10</td>\n",
       "      <td>7</td>\n",
       "      <td>10</td>\n",
       "      <td>m06</td>\n",
       "      <td>m06</td>\n",
       "      <td>2006-04-13</td>\n",
       "      <td>NaN</td>\n",
       "      <td>2006-04-13</td>\n",
       "      <td>1</td>\n",
       "      <td>...</td>\n",
       "      <td>2</td>\n",
       "      <td>1</td>\n",
       "      <td>2</td>\n",
       "      <td>2</td>\n",
       "      <td>1</td>\n",
       "      <td>1</td>\n",
       "      <td>1</td>\n",
       "      <td>1.0</td>\n",
       "      <td>-4</td>\n",
       "      <td>2006-04-13 00:00:00.0</td>\n",
       "    </tr>\n",
       "  </tbody>\n",
       "</table>\n",
       "<p>5 rows × 39 columns</p>\n",
       "</div>"
      ],
      "text/plain": [
       "   Phase  ID  RID  SITEID VISCODE VISCODE2    USERDATE USERDATE2    EXAMDATE  \\\n",
       "0  ADNI1   2    2     107     m06      m06  2006-03-07       NaN  2006-03-06   \n",
       "1  ADNI1   4    5     107     m06      m06  2006-03-09       NaN  2006-03-09   \n",
       "2  ADNI1   6    3     107     m06      m06  2006-03-13       NaN  2006-03-13   \n",
       "3  ADNI1   8    8     107     m06      m06  2006-03-21       NaN  2006-03-20   \n",
       "4  ADNI1  10    7      10     m06      m06  2006-04-13       NaN  2006-04-13   \n",
       "\n",
       "   AXNAUSEA  ...  AXRASH  AXINSOMN  AXDPMOOD  AXCRYING  AXELMOOD  AXWANDER  \\\n",
       "0         1  ...       1         1         1         1         1         1   \n",
       "1         1  ...       2         1         1         1         1         1   \n",
       "2         1  ...       1         2         1         1         1         1   \n",
       "3         1  ...       1         1         1         1         1         1   \n",
       "4         1  ...       2         1         2         2         1         1   \n",
       "\n",
       "   AXFALL  AXOTHER  AXSPECIF           update_stamp  \n",
       "0       1      1.0        -4  2006-03-07 00:00:00.0  \n",
       "1       1      2.0     fever  2006-03-09 00:00:00.0  \n",
       "2       1      1.0        -4  2006-03-13 00:00:00.0  \n",
       "3       2      1.0        -4  2006-03-21 00:00:00.0  \n",
       "4       1      1.0        -4  2006-04-13 00:00:00.0  \n",
       "\n",
       "[5 rows x 39 columns]"
      ]
     },
     "execution_count": 18,
     "metadata": {},
     "output_type": "execute_result"
    }
   ],
   "source": [
    "diagno.head()"
   ]
  },
  {
   "cell_type": "code",
   "execution_count": 12,
   "metadata": {},
   "outputs": [
    {
     "data": {
      "text/plain": [
       "(4884, 39)"
      ]
     },
     "execution_count": 12,
     "metadata": {},
     "output_type": "execute_result"
    }
   ],
   "source": [
    "diagno.shape"
   ]
  },
  {
   "cell_type": "markdown",
   "metadata": {},
   "source": [
    "# Goal is to predict future cognitive status using baseline information via mixture models"
   ]
  },
  {
   "cell_type": "code",
   "execution_count": 52,
   "metadata": {},
   "outputs": [],
   "source": [
    "text = '''\n",
    "\"ID\",\"FLDNAME\",\"TBLNAME\",\"CRFNAME\",\"QUESTION\",\"TEXT\",\"STATUS\",\"DEPRULE\",\"TYPE\",\"LENGTH\",\"DECIML\",\"RANGEVAL\",\"RANGESQL\",\"RANGEPRL\",\"UNITS\",\"CODE\",\"NOTES\",\"OBJID\",\"COLID\",\"RANGEJSCPT\",\"NAVJSCPT\",\"FTYPE\",\"TAB\",\"DE\",\"MC\",\"VISIBLE\",\"LOGVISIBLE\",\"MTBLNAME\",\"SUBTBLNAME\",\"POPJSCPT\",\"GRID\",\"DEF\",\"update_stamp\"\n",
    "\"\",\"RID\",\"ALIQUOT_LIST\",\"Aliquot count in the LDMS database\",\"-4\",\"Participant roster ID\",\"-4\",\"-4\",\"-4\",\"-4\",\"-4\",\"-4\",\"-4\",\"-4\",\"\",\"-4\",\"The 4 digit roster ID (RID) should be used to merge data\",\"-4\",\"-4\",\"-4\",\"-4\",\"-4\",\"-4\",\"-4\",\"-4\",\"-4\",\"-4\",\"-4\",\"-4\",\"-4\",\"-4\",\"-4\",\"2020-01-24 16:29:44.0\"\n",
    "\"\",\"VISCODE\",\"ALIQUOT_LIST\",\"Aliquot count in the LDMS database\",\"-4\",\"Visit code\",\"-4\",\"-4\",\"-4\",\"-4\",\"-4\",\"-4\",\"-4\",\"-4\",\"-4\",\"-4\",\"\",\"-4\",\"-4\",\"-4\",\"-4\",\"-4\",\"-4\",\"-4\",\"-4\",\"-4\",\"-4\",\"-4\",\"-4\",\"-4\",\"-4\",\"-4\",\"2020-01-24 16:29:44.0\"\n",
    "\"\",\"VISCODE2\",\"ALIQUOT_LIST\",\"Aliquot count in the LDMS database\",\"-4\",\"Translated visit code\",\"-4\",\"-4\",\"-4\",\"-4\",\"-4\",\"-4\",\"-4\",\"-4\",\"-4\",\"-4\",\"Months from baseline rounded to nearest 6 months\",\"-4\",\"-4\",\"-4\",\"-4\",\"-4\",\"-4\",\"-4\",\"-4\",\"-4\",\"-4\",\"-4\",\"-4\",\"-4\",\"-4\",\"-4\",\"2020-01-24 16:29:44.0\"\n",
    "\"\",\"EXAMDATE\",\"ALIQUOT_LIST\",\"Aliquot count in the LDMS database\",\"-4\",\"Examination Date\",\"-4\",\"-4\",\"-4\",\"-4\",\"-4\",\"-4\",\"-4\",\"-4\",\"MM/DD/YYYY\",\"-4\",\"\",\"-4\",\"-4\",\"-4\",\"-4\",\"-4\",\"-4\",\"-4\",\"-4\",\"-4\",\"-4\",\"-4\",\"-4\",\"-4\",\"-4\",\"-4\",\"2020-01-24 16:29:44.0\"\n",
    "\"\",\"VID\",\"ALIQUOT_LIST\",\"Aliquot count in the LDMS database\",\"-4\",\"Visit number from sample tube\",\"-4\",\"-4\",\"-4\",\"-4\",\"-4\",\"-4\",\"-4\",\"-4\",\"\",\"-4\",\"This is not visit code\",\"-4\",\"-4\",\"-4\",\"-4\",\"-4\",\"-4\",\"-4\",\"-4\",\"-4\",\"-4\",\"-4\",\"-4\",\"-4\",\"-4\",\"-4\",\"2020-01-24 16:29:44.0\"\n",
    "\"\",\"PLA\",\"ALIQUOT_LIST\",\"Aliquot count in the LDMS database\",\"-4\",\"Count of pristine Plasma aliquots in storage\",\"-4\",\"-4\",\"-4\",\"-4\",\"-4\",\"-4\",\"-4\",\"-4\",\"\",\"-4\",\"\",\"-4\",\"-4\",\"-4\",\"-4\",\"-4\",\"-4\",\"-4\",\"-4\",\"-4\",\"-4\",\"-4\",\"-4\",\"-4\",\"-4\",\"-4\",\"2020-01-24 16:29:44.0\"\n",
    "\"\",\"PLAVOL\",\"ALIQUOT_LIST\",\"Aliquot count in the LDMS database\",\"-4\",\"Total volume of received Plasma\",\"-4\",\"-4\",\"-4\",\"-4\",\"-4\",\"-4\",\"-4\",\"-4\",\"mL\",\"-4\",\"\",\"-4\",\"-4\",\"-4\",\"-4\",\"-4\",\"-4\",\"-4\",\"-4\",\"-4\",\"-4\",\"-4\",\"-4\",\"-4\",\"-4\",\"-4\",\"2020-01-24 16:29:44.0\"\n",
    "\"\",\"PLA_SENT\",\"ALIQUOT_LIST\",\"Aliquot count in the LDMS database\",\"-4\",\"Count of Plasma aliquots shipped out to other investigators\",\"-4\",\"-4\",\"-4\",\"-4\",\"-4\",\"-4\",\"-4\",\"-4\",\"\",\"-4\",\"\",\"-4\",\"-4\",\"-4\",\"-4\",\"-4\",\"-4\",\"-4\",\"-4\",\"-4\",\"-4\",\"-4\",\"-4\",\"-4\",\"-4\",\"-4\",\"2020-01-24 16:29:44.0\"\n",
    "\"\",\"PLA_USED\",\"ALIQUOT_LIST\",\"Aliquot count in the LDMS database\",\"-4\",\"Count of Plasma aliquots used for analysis at Biomarker Core Lab\",\"-4\",\"-4\",\"-4\",\"-4\",\"-4\",\"-4\",\"-4\",\"-4\",\"\",\"-4\",\"\",\"-4\",\"-4\",\"-4\",\"-4\",\"-4\",\"-4\",\"-4\",\"-4\",\"-4\",\"-4\",\"-4\",\"-4\",\"-4\",\"-4\",\"-4\",\"2020-01-24 16:29:44.0\"\n",
    "\"\",\"SER\",\"ALIQUOT_LIST\",\"Aliquot count in the LDMS database\",\"-4\",\"Count of pristine Serum aliquots in storage\",\"-4\",\"-4\",\"-4\",\"-4\",\"-4\",\"-4\",\"-4\",\"-4\",\"\",\"-4\",\"\",\"-4\",\"-4\",\"-4\",\"-4\",\"-4\",\"-4\",\"-4\",\"-4\",\"-4\",\"-4\",\"-4\",\"-4\",\"-4\",\"-4\",\"-4\",\"2020-01-24 16:29:44.0\"\n",
    "\"\",\"SERVOL\",\"ALIQUOT_LIST\",\"Aliquot count in the LDMS database\",\"-4\",\"Total volume of received Serum\",\"-4\",\"-4\",\"-4\",\"-4\",\"-4\",\"-4\",\"-4\",\"-4\",\"mL\",\"-4\",\"\",\"-4\",\"-4\",\"-4\",\"-4\",\"-4\",\"-4\",\"-4\",\"-4\",\"-4\",\"-4\",\"-4\",\"-4\",\"-4\",\"-4\",\"-4\",\"2020-01-24 16:29:44.0\"\n",
    "\"\",\"SER_SENT\",\"ALIQUOT_LIST\",\"Aliquot count in the LDMS database\",\"-4\",\"Count of Serum aliquots shipped out to other investigators\",\"-4\",\"-4\",\"-4\",\"-4\",\"-4\",\"-4\",\"-4\",\"-4\",\"\",\"-4\",\"\",\"-4\",\"-4\",\"-4\",\"-4\",\"-4\",\"-4\",\"-4\",\"-4\",\"-4\",\"-4\",\"-4\",\"-4\",\"-4\",\"-4\",\"-4\",\"2020-01-24 16:29:44.0\"\n",
    "\"\",\"SER_USED\",\"ALIQUOT_LIST\",\"Aliquot count in the LDMS database\",\"-4\",\"Count of Serum aliquots used for analysis at Biomarker Core Lab\",\"-4\",\"-4\",\"-4\",\"-4\",\"-4\",\"-4\",\"-4\",\"-4\",\"\",\"-4\",\"\",\"-4\",\"-4\",\"-4\",\"-4\",\"-4\",\"-4\",\"-4\",\"-4\",\"-4\",\"-4\",\"-4\",\"-4\",\"-4\",\"-4\",\"-4\",\"2020-01-24 16:29:44.0\"\n",
    "\"\",\"CSF\",\"ALIQUOT_LIST\",\"Aliquot count in the LDMS database\",\"-4\",\"Count of pristine CSF aliquots in storage\",\"-4\",\"-4\",\"-4\",\"-4\",\"-4\",\"-4\",\"-4\",\"-4\",\"\",\"-4\",\"\",\"-4\",\"-4\",\"-4\",\"-4\",\"-4\",\"-4\",\"-4\",\"-4\",\"-4\",\"-4\",\"-4\",\"-4\",\"-4\",\"-4\",\"-4\",\"2020-01-24 16:29:44.0\"\n",
    "\"\",\"CSFVOL\",\"ALIQUOT_LIST\",\"Aliquot count in the LDMS database\",\"-4\",\"Total volume of received CSF\",\"-4\",\"-4\",\"-4\",\"-4\",\"-4\",\"-4\",\"-4\",\"-4\",\"mL\",\"-4\",\"\",\"-4\",\"-4\",\"-4\",\"-4\",\"-4\",\"-4\",\"-4\",\"-4\",\"-4\",\"-4\",\"-4\",\"-4\",\"-4\",\"-4\",\"-4\",\"2020-01-24 16:29:44.0\"\n",
    "\"\",\"CSF_SENT\",\"ALIQUOT_LIST\",\"Aliquot count in the LDMS database\",\"-4\",\"Count of CSF aliquots shipped out to other investigators\",\"-4\",\"-4\",\"-4\",\"-4\",\"-4\",\"-4\",\"-4\",\"-4\",\"\",\"-4\",\"\",\"-4\",\"-4\",\"-4\",\"-4\",\"-4\",\"-4\",\"-4\",\"-4\",\"-4\",\"-4\",\"-4\",\"-4\",\"-4\",\"-4\",\"-4\",\"2020-01-24 16:29:44.0\"\n",
    "\"\",\"CSF_USED\",\"ALIQUOT_LIST\",\"Aliquot count in the LDMS database\",\"-4\",\"Count of CSF aliquots used for analysis at Biomarker Core Lab\",\"-4\",\"-4\",\"-4\",\"-4\",\"-4\",\"-4\",\"-4\",\"-4\",\"\",\"-4\",\"\",\"-4\",\"-4\",\"-4\",\"-4\",\"-4\",\"-4\",\"-4\",\"-4\",\"-4\",\"-4\",\"-4\",\"-4\",\"-4\",\"-4\",\"-4\",\"2020-01-24 16:29:44.0\"\n",
    "\"\",\"URN\",\"ALIQUOT_LIST\",\"Aliquot count in the LDMS database\",\"-4\",\"Count of pristine Urine aliquots in storage\",\"-4\",\"-4\",\"-4\",\"-4\",\"-4\",\"-4\",\"-4\",\"-4\",\"\",\"-4\",\"\",\"-4\",\"-4\",\"-4\",\"-4\",\"-4\",\"-4\",\"-4\",\"-4\",\"-4\",\"-4\",\"-4\",\"-4\",\"-4\",\"-4\",\"-4\",\"2020-01-24 16:29:44.0\"\n",
    "\"\",\"URNVOL\",\"ALIQUOT_LIST\",\"Aliquot count in the LDMS database\",\"-4\",\"Total volume of received Urine\",\"-4\",\"-4\",\"-4\",\"-4\",\"-4\",\"-4\",\"-4\",\"-4\",\"mL\",\"-4\",\"\",\"-4\",\"-4\",\"-4\",\"-4\",\"-4\",\"-4\",\"-4\",\"-4\",\"-4\",\"-4\",\"-4\",\"-4\",\"-4\",\"-4\",\"-4\",\"2020-01-24 16:29:44.0\"\n",
    "\"\",\"URN_SENT\",\"ALIQUOT_LIST\",\"Aliquot count in the LDMS database\",\"-4\",\"Count of Urine aliquots shipped out to other investigators\",\"-4\",\"-4\",\"-4\",\"-4\",\"-4\",\"-4\",\"-4\",\"-4\",\"\",\"-4\",\"\",\"-4\",\"-4\",\"-4\",\"-4\",\"-4\",\"-4\",\"-4\",\"-4\",\"-4\",\"-4\",\"-4\",\"-4\",\"-4\",\"-4\",\"-4\",\"2020-01-24 16:29:44.0\"\n",
    "\"\",\"URN_USED\",\"ALIQUOT_LIST\",\"Aliquot count in the LDMS database\",\"-4\",\"Count of Urine aliquots used for analysis at Biomarker Core Lab\",\"-4\",\"-4\",\"-4\",\"-4\",\"-4\",\"-4\",\"-4\",\"-4\",\"\",\"-4\",\"\",\"-4\",\"-4\",\"-4\",\"-4\",\"-4\",\"-4\",\"-4\",\"-4\",\"-4\",\"-4\",\"-4\",\"-4\",\"-4\",\"-4\",\"-4\",\"2020-01-24 16:29:44.0\"\n",
    "\"\",\"QUERYDATE\",\"ALIQUOT_LIST\",\"Aliquot count in the LDMS database\",\"-4\",\"Date of LDMS database query\",\"-4\",\"-4\",\"-4\",\"-4\",\"-4\",\"-4\",\"-4\",\"-4\",\"MM/DD/YYYY\",\"-4\",\"\",\"-4\",\"-4\",\"-4\",\"-4\",\"-4\",\"-4\",\"-4\",\"-4\",\"-4\",\"-4\",\"-4\",\"-4\",\"-4\",\"-4\",\"-4\",\"2020-01-24 16:29:44.0\"\n",
    "'''"
   ]
  },
  {
   "cell_type": "code",
   "execution_count": 53,
   "metadata": {},
   "outputs": [],
   "source": [
    "dictionary = pd.read_csv(io.StringIO(text),sep=',')"
   ]
  },
  {
   "cell_type": "code",
   "execution_count": 55,
   "metadata": {},
   "outputs": [
    {
     "data": {
      "text/html": [
       "<div>\n",
       "<style scoped>\n",
       "    .dataframe tbody tr th:only-of-type {\n",
       "        vertical-align: middle;\n",
       "    }\n",
       "\n",
       "    .dataframe tbody tr th {\n",
       "        vertical-align: top;\n",
       "    }\n",
       "\n",
       "    .dataframe thead th {\n",
       "        text-align: right;\n",
       "    }\n",
       "</style>\n",
       "<table border=\"1\" class=\"dataframe\">\n",
       "  <thead>\n",
       "    <tr style=\"text-align: right;\">\n",
       "      <th></th>\n",
       "      <th>ID</th>\n",
       "      <th>FLDNAME</th>\n",
       "      <th>TBLNAME</th>\n",
       "      <th>CRFNAME</th>\n",
       "      <th>QUESTION</th>\n",
       "      <th>TEXT</th>\n",
       "      <th>STATUS</th>\n",
       "      <th>DEPRULE</th>\n",
       "      <th>TYPE</th>\n",
       "      <th>LENGTH</th>\n",
       "      <th>...</th>\n",
       "      <th>DE</th>\n",
       "      <th>MC</th>\n",
       "      <th>VISIBLE</th>\n",
       "      <th>LOGVISIBLE</th>\n",
       "      <th>MTBLNAME</th>\n",
       "      <th>SUBTBLNAME</th>\n",
       "      <th>POPJSCPT</th>\n",
       "      <th>GRID</th>\n",
       "      <th>DEF</th>\n",
       "      <th>update_stamp</th>\n",
       "    </tr>\n",
       "  </thead>\n",
       "  <tbody>\n",
       "    <tr>\n",
       "      <th>0</th>\n",
       "      <td>NaN</td>\n",
       "      <td>RID</td>\n",
       "      <td>ALIQUOT_LIST</td>\n",
       "      <td>Aliquot count in the LDMS database</td>\n",
       "      <td>-4</td>\n",
       "      <td>Participant roster ID</td>\n",
       "      <td>-4</td>\n",
       "      <td>-4</td>\n",
       "      <td>-4</td>\n",
       "      <td>-4</td>\n",
       "      <td>...</td>\n",
       "      <td>-4</td>\n",
       "      <td>-4</td>\n",
       "      <td>-4</td>\n",
       "      <td>-4</td>\n",
       "      <td>-4</td>\n",
       "      <td>-4</td>\n",
       "      <td>-4</td>\n",
       "      <td>-4</td>\n",
       "      <td>-4</td>\n",
       "      <td>2020-01-24 16:29:44.0</td>\n",
       "    </tr>\n",
       "    <tr>\n",
       "      <th>1</th>\n",
       "      <td>NaN</td>\n",
       "      <td>VISCODE</td>\n",
       "      <td>ALIQUOT_LIST</td>\n",
       "      <td>Aliquot count in the LDMS database</td>\n",
       "      <td>-4</td>\n",
       "      <td>Visit code</td>\n",
       "      <td>-4</td>\n",
       "      <td>-4</td>\n",
       "      <td>-4</td>\n",
       "      <td>-4</td>\n",
       "      <td>...</td>\n",
       "      <td>-4</td>\n",
       "      <td>-4</td>\n",
       "      <td>-4</td>\n",
       "      <td>-4</td>\n",
       "      <td>-4</td>\n",
       "      <td>-4</td>\n",
       "      <td>-4</td>\n",
       "      <td>-4</td>\n",
       "      <td>-4</td>\n",
       "      <td>2020-01-24 16:29:44.0</td>\n",
       "    </tr>\n",
       "    <tr>\n",
       "      <th>2</th>\n",
       "      <td>NaN</td>\n",
       "      <td>VISCODE2</td>\n",
       "      <td>ALIQUOT_LIST</td>\n",
       "      <td>Aliquot count in the LDMS database</td>\n",
       "      <td>-4</td>\n",
       "      <td>Translated visit code</td>\n",
       "      <td>-4</td>\n",
       "      <td>-4</td>\n",
       "      <td>-4</td>\n",
       "      <td>-4</td>\n",
       "      <td>...</td>\n",
       "      <td>-4</td>\n",
       "      <td>-4</td>\n",
       "      <td>-4</td>\n",
       "      <td>-4</td>\n",
       "      <td>-4</td>\n",
       "      <td>-4</td>\n",
       "      <td>-4</td>\n",
       "      <td>-4</td>\n",
       "      <td>-4</td>\n",
       "      <td>2020-01-24 16:29:44.0</td>\n",
       "    </tr>\n",
       "    <tr>\n",
       "      <th>3</th>\n",
       "      <td>NaN</td>\n",
       "      <td>EXAMDATE</td>\n",
       "      <td>ALIQUOT_LIST</td>\n",
       "      <td>Aliquot count in the LDMS database</td>\n",
       "      <td>-4</td>\n",
       "      <td>Examination Date</td>\n",
       "      <td>-4</td>\n",
       "      <td>-4</td>\n",
       "      <td>-4</td>\n",
       "      <td>-4</td>\n",
       "      <td>...</td>\n",
       "      <td>-4</td>\n",
       "      <td>-4</td>\n",
       "      <td>-4</td>\n",
       "      <td>-4</td>\n",
       "      <td>-4</td>\n",
       "      <td>-4</td>\n",
       "      <td>-4</td>\n",
       "      <td>-4</td>\n",
       "      <td>-4</td>\n",
       "      <td>2020-01-24 16:29:44.0</td>\n",
       "    </tr>\n",
       "    <tr>\n",
       "      <th>4</th>\n",
       "      <td>NaN</td>\n",
       "      <td>VID</td>\n",
       "      <td>ALIQUOT_LIST</td>\n",
       "      <td>Aliquot count in the LDMS database</td>\n",
       "      <td>-4</td>\n",
       "      <td>Visit number from sample tube</td>\n",
       "      <td>-4</td>\n",
       "      <td>-4</td>\n",
       "      <td>-4</td>\n",
       "      <td>-4</td>\n",
       "      <td>...</td>\n",
       "      <td>-4</td>\n",
       "      <td>-4</td>\n",
       "      <td>-4</td>\n",
       "      <td>-4</td>\n",
       "      <td>-4</td>\n",
       "      <td>-4</td>\n",
       "      <td>-4</td>\n",
       "      <td>-4</td>\n",
       "      <td>-4</td>\n",
       "      <td>2020-01-24 16:29:44.0</td>\n",
       "    </tr>\n",
       "    <tr>\n",
       "      <th>5</th>\n",
       "      <td>NaN</td>\n",
       "      <td>PLA</td>\n",
       "      <td>ALIQUOT_LIST</td>\n",
       "      <td>Aliquot count in the LDMS database</td>\n",
       "      <td>-4</td>\n",
       "      <td>Count of pristine Plasma aliquots in storage</td>\n",
       "      <td>-4</td>\n",
       "      <td>-4</td>\n",
       "      <td>-4</td>\n",
       "      <td>-4</td>\n",
       "      <td>...</td>\n",
       "      <td>-4</td>\n",
       "      <td>-4</td>\n",
       "      <td>-4</td>\n",
       "      <td>-4</td>\n",
       "      <td>-4</td>\n",
       "      <td>-4</td>\n",
       "      <td>-4</td>\n",
       "      <td>-4</td>\n",
       "      <td>-4</td>\n",
       "      <td>2020-01-24 16:29:44.0</td>\n",
       "    </tr>\n",
       "    <tr>\n",
       "      <th>6</th>\n",
       "      <td>NaN</td>\n",
       "      <td>PLAVOL</td>\n",
       "      <td>ALIQUOT_LIST</td>\n",
       "      <td>Aliquot count in the LDMS database</td>\n",
       "      <td>-4</td>\n",
       "      <td>Total volume of received Plasma</td>\n",
       "      <td>-4</td>\n",
       "      <td>-4</td>\n",
       "      <td>-4</td>\n",
       "      <td>-4</td>\n",
       "      <td>...</td>\n",
       "      <td>-4</td>\n",
       "      <td>-4</td>\n",
       "      <td>-4</td>\n",
       "      <td>-4</td>\n",
       "      <td>-4</td>\n",
       "      <td>-4</td>\n",
       "      <td>-4</td>\n",
       "      <td>-4</td>\n",
       "      <td>-4</td>\n",
       "      <td>2020-01-24 16:29:44.0</td>\n",
       "    </tr>\n",
       "    <tr>\n",
       "      <th>7</th>\n",
       "      <td>NaN</td>\n",
       "      <td>PLA_SENT</td>\n",
       "      <td>ALIQUOT_LIST</td>\n",
       "      <td>Aliquot count in the LDMS database</td>\n",
       "      <td>-4</td>\n",
       "      <td>Count of Plasma aliquots shipped out to other ...</td>\n",
       "      <td>-4</td>\n",
       "      <td>-4</td>\n",
       "      <td>-4</td>\n",
       "      <td>-4</td>\n",
       "      <td>...</td>\n",
       "      <td>-4</td>\n",
       "      <td>-4</td>\n",
       "      <td>-4</td>\n",
       "      <td>-4</td>\n",
       "      <td>-4</td>\n",
       "      <td>-4</td>\n",
       "      <td>-4</td>\n",
       "      <td>-4</td>\n",
       "      <td>-4</td>\n",
       "      <td>2020-01-24 16:29:44.0</td>\n",
       "    </tr>\n",
       "    <tr>\n",
       "      <th>8</th>\n",
       "      <td>NaN</td>\n",
       "      <td>PLA_USED</td>\n",
       "      <td>ALIQUOT_LIST</td>\n",
       "      <td>Aliquot count in the LDMS database</td>\n",
       "      <td>-4</td>\n",
       "      <td>Count of Plasma aliquots used for analysis at ...</td>\n",
       "      <td>-4</td>\n",
       "      <td>-4</td>\n",
       "      <td>-4</td>\n",
       "      <td>-4</td>\n",
       "      <td>...</td>\n",
       "      <td>-4</td>\n",
       "      <td>-4</td>\n",
       "      <td>-4</td>\n",
       "      <td>-4</td>\n",
       "      <td>-4</td>\n",
       "      <td>-4</td>\n",
       "      <td>-4</td>\n",
       "      <td>-4</td>\n",
       "      <td>-4</td>\n",
       "      <td>2020-01-24 16:29:44.0</td>\n",
       "    </tr>\n",
       "    <tr>\n",
       "      <th>9</th>\n",
       "      <td>NaN</td>\n",
       "      <td>SER</td>\n",
       "      <td>ALIQUOT_LIST</td>\n",
       "      <td>Aliquot count in the LDMS database</td>\n",
       "      <td>-4</td>\n",
       "      <td>Count of pristine Serum aliquots in storage</td>\n",
       "      <td>-4</td>\n",
       "      <td>-4</td>\n",
       "      <td>-4</td>\n",
       "      <td>-4</td>\n",
       "      <td>...</td>\n",
       "      <td>-4</td>\n",
       "      <td>-4</td>\n",
       "      <td>-4</td>\n",
       "      <td>-4</td>\n",
       "      <td>-4</td>\n",
       "      <td>-4</td>\n",
       "      <td>-4</td>\n",
       "      <td>-4</td>\n",
       "      <td>-4</td>\n",
       "      <td>2020-01-24 16:29:44.0</td>\n",
       "    </tr>\n",
       "    <tr>\n",
       "      <th>10</th>\n",
       "      <td>NaN</td>\n",
       "      <td>SERVOL</td>\n",
       "      <td>ALIQUOT_LIST</td>\n",
       "      <td>Aliquot count in the LDMS database</td>\n",
       "      <td>-4</td>\n",
       "      <td>Total volume of received Serum</td>\n",
       "      <td>-4</td>\n",
       "      <td>-4</td>\n",
       "      <td>-4</td>\n",
       "      <td>-4</td>\n",
       "      <td>...</td>\n",
       "      <td>-4</td>\n",
       "      <td>-4</td>\n",
       "      <td>-4</td>\n",
       "      <td>-4</td>\n",
       "      <td>-4</td>\n",
       "      <td>-4</td>\n",
       "      <td>-4</td>\n",
       "      <td>-4</td>\n",
       "      <td>-4</td>\n",
       "      <td>2020-01-24 16:29:44.0</td>\n",
       "    </tr>\n",
       "    <tr>\n",
       "      <th>11</th>\n",
       "      <td>NaN</td>\n",
       "      <td>SER_SENT</td>\n",
       "      <td>ALIQUOT_LIST</td>\n",
       "      <td>Aliquot count in the LDMS database</td>\n",
       "      <td>-4</td>\n",
       "      <td>Count of Serum aliquots shipped out to other i...</td>\n",
       "      <td>-4</td>\n",
       "      <td>-4</td>\n",
       "      <td>-4</td>\n",
       "      <td>-4</td>\n",
       "      <td>...</td>\n",
       "      <td>-4</td>\n",
       "      <td>-4</td>\n",
       "      <td>-4</td>\n",
       "      <td>-4</td>\n",
       "      <td>-4</td>\n",
       "      <td>-4</td>\n",
       "      <td>-4</td>\n",
       "      <td>-4</td>\n",
       "      <td>-4</td>\n",
       "      <td>2020-01-24 16:29:44.0</td>\n",
       "    </tr>\n",
       "    <tr>\n",
       "      <th>12</th>\n",
       "      <td>NaN</td>\n",
       "      <td>SER_USED</td>\n",
       "      <td>ALIQUOT_LIST</td>\n",
       "      <td>Aliquot count in the LDMS database</td>\n",
       "      <td>-4</td>\n",
       "      <td>Count of Serum aliquots used for analysis at B...</td>\n",
       "      <td>-4</td>\n",
       "      <td>-4</td>\n",
       "      <td>-4</td>\n",
       "      <td>-4</td>\n",
       "      <td>...</td>\n",
       "      <td>-4</td>\n",
       "      <td>-4</td>\n",
       "      <td>-4</td>\n",
       "      <td>-4</td>\n",
       "      <td>-4</td>\n",
       "      <td>-4</td>\n",
       "      <td>-4</td>\n",
       "      <td>-4</td>\n",
       "      <td>-4</td>\n",
       "      <td>2020-01-24 16:29:44.0</td>\n",
       "    </tr>\n",
       "    <tr>\n",
       "      <th>13</th>\n",
       "      <td>NaN</td>\n",
       "      <td>CSF</td>\n",
       "      <td>ALIQUOT_LIST</td>\n",
       "      <td>Aliquot count in the LDMS database</td>\n",
       "      <td>-4</td>\n",
       "      <td>Count of pristine CSF aliquots in storage</td>\n",
       "      <td>-4</td>\n",
       "      <td>-4</td>\n",
       "      <td>-4</td>\n",
       "      <td>-4</td>\n",
       "      <td>...</td>\n",
       "      <td>-4</td>\n",
       "      <td>-4</td>\n",
       "      <td>-4</td>\n",
       "      <td>-4</td>\n",
       "      <td>-4</td>\n",
       "      <td>-4</td>\n",
       "      <td>-4</td>\n",
       "      <td>-4</td>\n",
       "      <td>-4</td>\n",
       "      <td>2020-01-24 16:29:44.0</td>\n",
       "    </tr>\n",
       "    <tr>\n",
       "      <th>14</th>\n",
       "      <td>NaN</td>\n",
       "      <td>CSFVOL</td>\n",
       "      <td>ALIQUOT_LIST</td>\n",
       "      <td>Aliquot count in the LDMS database</td>\n",
       "      <td>-4</td>\n",
       "      <td>Total volume of received CSF</td>\n",
       "      <td>-4</td>\n",
       "      <td>-4</td>\n",
       "      <td>-4</td>\n",
       "      <td>-4</td>\n",
       "      <td>...</td>\n",
       "      <td>-4</td>\n",
       "      <td>-4</td>\n",
       "      <td>-4</td>\n",
       "      <td>-4</td>\n",
       "      <td>-4</td>\n",
       "      <td>-4</td>\n",
       "      <td>-4</td>\n",
       "      <td>-4</td>\n",
       "      <td>-4</td>\n",
       "      <td>2020-01-24 16:29:44.0</td>\n",
       "    </tr>\n",
       "    <tr>\n",
       "      <th>15</th>\n",
       "      <td>NaN</td>\n",
       "      <td>CSF_SENT</td>\n",
       "      <td>ALIQUOT_LIST</td>\n",
       "      <td>Aliquot count in the LDMS database</td>\n",
       "      <td>-4</td>\n",
       "      <td>Count of CSF aliquots shipped out to other inv...</td>\n",
       "      <td>-4</td>\n",
       "      <td>-4</td>\n",
       "      <td>-4</td>\n",
       "      <td>-4</td>\n",
       "      <td>...</td>\n",
       "      <td>-4</td>\n",
       "      <td>-4</td>\n",
       "      <td>-4</td>\n",
       "      <td>-4</td>\n",
       "      <td>-4</td>\n",
       "      <td>-4</td>\n",
       "      <td>-4</td>\n",
       "      <td>-4</td>\n",
       "      <td>-4</td>\n",
       "      <td>2020-01-24 16:29:44.0</td>\n",
       "    </tr>\n",
       "    <tr>\n",
       "      <th>16</th>\n",
       "      <td>NaN</td>\n",
       "      <td>CSF_USED</td>\n",
       "      <td>ALIQUOT_LIST</td>\n",
       "      <td>Aliquot count in the LDMS database</td>\n",
       "      <td>-4</td>\n",
       "      <td>Count of CSF aliquots used for analysis at Bio...</td>\n",
       "      <td>-4</td>\n",
       "      <td>-4</td>\n",
       "      <td>-4</td>\n",
       "      <td>-4</td>\n",
       "      <td>...</td>\n",
       "      <td>-4</td>\n",
       "      <td>-4</td>\n",
       "      <td>-4</td>\n",
       "      <td>-4</td>\n",
       "      <td>-4</td>\n",
       "      <td>-4</td>\n",
       "      <td>-4</td>\n",
       "      <td>-4</td>\n",
       "      <td>-4</td>\n",
       "      <td>2020-01-24 16:29:44.0</td>\n",
       "    </tr>\n",
       "    <tr>\n",
       "      <th>17</th>\n",
       "      <td>NaN</td>\n",
       "      <td>URN</td>\n",
       "      <td>ALIQUOT_LIST</td>\n",
       "      <td>Aliquot count in the LDMS database</td>\n",
       "      <td>-4</td>\n",
       "      <td>Count of pristine Urine aliquots in storage</td>\n",
       "      <td>-4</td>\n",
       "      <td>-4</td>\n",
       "      <td>-4</td>\n",
       "      <td>-4</td>\n",
       "      <td>...</td>\n",
       "      <td>-4</td>\n",
       "      <td>-4</td>\n",
       "      <td>-4</td>\n",
       "      <td>-4</td>\n",
       "      <td>-4</td>\n",
       "      <td>-4</td>\n",
       "      <td>-4</td>\n",
       "      <td>-4</td>\n",
       "      <td>-4</td>\n",
       "      <td>2020-01-24 16:29:44.0</td>\n",
       "    </tr>\n",
       "    <tr>\n",
       "      <th>18</th>\n",
       "      <td>NaN</td>\n",
       "      <td>URNVOL</td>\n",
       "      <td>ALIQUOT_LIST</td>\n",
       "      <td>Aliquot count in the LDMS database</td>\n",
       "      <td>-4</td>\n",
       "      <td>Total volume of received Urine</td>\n",
       "      <td>-4</td>\n",
       "      <td>-4</td>\n",
       "      <td>-4</td>\n",
       "      <td>-4</td>\n",
       "      <td>...</td>\n",
       "      <td>-4</td>\n",
       "      <td>-4</td>\n",
       "      <td>-4</td>\n",
       "      <td>-4</td>\n",
       "      <td>-4</td>\n",
       "      <td>-4</td>\n",
       "      <td>-4</td>\n",
       "      <td>-4</td>\n",
       "      <td>-4</td>\n",
       "      <td>2020-01-24 16:29:44.0</td>\n",
       "    </tr>\n",
       "    <tr>\n",
       "      <th>19</th>\n",
       "      <td>NaN</td>\n",
       "      <td>URN_SENT</td>\n",
       "      <td>ALIQUOT_LIST</td>\n",
       "      <td>Aliquot count in the LDMS database</td>\n",
       "      <td>-4</td>\n",
       "      <td>Count of Urine aliquots shipped out to other i...</td>\n",
       "      <td>-4</td>\n",
       "      <td>-4</td>\n",
       "      <td>-4</td>\n",
       "      <td>-4</td>\n",
       "      <td>...</td>\n",
       "      <td>-4</td>\n",
       "      <td>-4</td>\n",
       "      <td>-4</td>\n",
       "      <td>-4</td>\n",
       "      <td>-4</td>\n",
       "      <td>-4</td>\n",
       "      <td>-4</td>\n",
       "      <td>-4</td>\n",
       "      <td>-4</td>\n",
       "      <td>2020-01-24 16:29:44.0</td>\n",
       "    </tr>\n",
       "    <tr>\n",
       "      <th>20</th>\n",
       "      <td>NaN</td>\n",
       "      <td>URN_USED</td>\n",
       "      <td>ALIQUOT_LIST</td>\n",
       "      <td>Aliquot count in the LDMS database</td>\n",
       "      <td>-4</td>\n",
       "      <td>Count of Urine aliquots used for analysis at B...</td>\n",
       "      <td>-4</td>\n",
       "      <td>-4</td>\n",
       "      <td>-4</td>\n",
       "      <td>-4</td>\n",
       "      <td>...</td>\n",
       "      <td>-4</td>\n",
       "      <td>-4</td>\n",
       "      <td>-4</td>\n",
       "      <td>-4</td>\n",
       "      <td>-4</td>\n",
       "      <td>-4</td>\n",
       "      <td>-4</td>\n",
       "      <td>-4</td>\n",
       "      <td>-4</td>\n",
       "      <td>2020-01-24 16:29:44.0</td>\n",
       "    </tr>\n",
       "    <tr>\n",
       "      <th>21</th>\n",
       "      <td>NaN</td>\n",
       "      <td>QUERYDATE</td>\n",
       "      <td>ALIQUOT_LIST</td>\n",
       "      <td>Aliquot count in the LDMS database</td>\n",
       "      <td>-4</td>\n",
       "      <td>Date of LDMS database query</td>\n",
       "      <td>-4</td>\n",
       "      <td>-4</td>\n",
       "      <td>-4</td>\n",
       "      <td>-4</td>\n",
       "      <td>...</td>\n",
       "      <td>-4</td>\n",
       "      <td>-4</td>\n",
       "      <td>-4</td>\n",
       "      <td>-4</td>\n",
       "      <td>-4</td>\n",
       "      <td>-4</td>\n",
       "      <td>-4</td>\n",
       "      <td>-4</td>\n",
       "      <td>-4</td>\n",
       "      <td>2020-01-24 16:29:44.0</td>\n",
       "    </tr>\n",
       "  </tbody>\n",
       "</table>\n",
       "<p>22 rows × 33 columns</p>\n",
       "</div>"
      ],
      "text/plain": [
       "    ID    FLDNAME       TBLNAME                             CRFNAME  QUESTION  \\\n",
       "0  NaN        RID  ALIQUOT_LIST  Aliquot count in the LDMS database        -4   \n",
       "1  NaN    VISCODE  ALIQUOT_LIST  Aliquot count in the LDMS database        -4   \n",
       "2  NaN   VISCODE2  ALIQUOT_LIST  Aliquot count in the LDMS database        -4   \n",
       "3  NaN   EXAMDATE  ALIQUOT_LIST  Aliquot count in the LDMS database        -4   \n",
       "4  NaN        VID  ALIQUOT_LIST  Aliquot count in the LDMS database        -4   \n",
       "5  NaN        PLA  ALIQUOT_LIST  Aliquot count in the LDMS database        -4   \n",
       "6  NaN     PLAVOL  ALIQUOT_LIST  Aliquot count in the LDMS database        -4   \n",
       "7  NaN   PLA_SENT  ALIQUOT_LIST  Aliquot count in the LDMS database        -4   \n",
       "8  NaN   PLA_USED  ALIQUOT_LIST  Aliquot count in the LDMS database        -4   \n",
       "9  NaN        SER  ALIQUOT_LIST  Aliquot count in the LDMS database        -4   \n",
       "10 NaN     SERVOL  ALIQUOT_LIST  Aliquot count in the LDMS database        -4   \n",
       "11 NaN   SER_SENT  ALIQUOT_LIST  Aliquot count in the LDMS database        -4   \n",
       "12 NaN   SER_USED  ALIQUOT_LIST  Aliquot count in the LDMS database        -4   \n",
       "13 NaN        CSF  ALIQUOT_LIST  Aliquot count in the LDMS database        -4   \n",
       "14 NaN     CSFVOL  ALIQUOT_LIST  Aliquot count in the LDMS database        -4   \n",
       "15 NaN   CSF_SENT  ALIQUOT_LIST  Aliquot count in the LDMS database        -4   \n",
       "16 NaN   CSF_USED  ALIQUOT_LIST  Aliquot count in the LDMS database        -4   \n",
       "17 NaN        URN  ALIQUOT_LIST  Aliquot count in the LDMS database        -4   \n",
       "18 NaN     URNVOL  ALIQUOT_LIST  Aliquot count in the LDMS database        -4   \n",
       "19 NaN   URN_SENT  ALIQUOT_LIST  Aliquot count in the LDMS database        -4   \n",
       "20 NaN   URN_USED  ALIQUOT_LIST  Aliquot count in the LDMS database        -4   \n",
       "21 NaN  QUERYDATE  ALIQUOT_LIST  Aliquot count in the LDMS database        -4   \n",
       "\n",
       "                                                 TEXT  STATUS  DEPRULE  TYPE  \\\n",
       "0                               Participant roster ID      -4       -4    -4   \n",
       "1                                          Visit code      -4       -4    -4   \n",
       "2                               Translated visit code      -4       -4    -4   \n",
       "3                                    Examination Date      -4       -4    -4   \n",
       "4                       Visit number from sample tube      -4       -4    -4   \n",
       "5        Count of pristine Plasma aliquots in storage      -4       -4    -4   \n",
       "6                     Total volume of received Plasma      -4       -4    -4   \n",
       "7   Count of Plasma aliquots shipped out to other ...      -4       -4    -4   \n",
       "8   Count of Plasma aliquots used for analysis at ...      -4       -4    -4   \n",
       "9         Count of pristine Serum aliquots in storage      -4       -4    -4   \n",
       "10                     Total volume of received Serum      -4       -4    -4   \n",
       "11  Count of Serum aliquots shipped out to other i...      -4       -4    -4   \n",
       "12  Count of Serum aliquots used for analysis at B...      -4       -4    -4   \n",
       "13          Count of pristine CSF aliquots in storage      -4       -4    -4   \n",
       "14                       Total volume of received CSF      -4       -4    -4   \n",
       "15  Count of CSF aliquots shipped out to other inv...      -4       -4    -4   \n",
       "16  Count of CSF aliquots used for analysis at Bio...      -4       -4    -4   \n",
       "17        Count of pristine Urine aliquots in storage      -4       -4    -4   \n",
       "18                     Total volume of received Urine      -4       -4    -4   \n",
       "19  Count of Urine aliquots shipped out to other i...      -4       -4    -4   \n",
       "20  Count of Urine aliquots used for analysis at B...      -4       -4    -4   \n",
       "21                        Date of LDMS database query      -4       -4    -4   \n",
       "\n",
       "    LENGTH  ...  DE  MC  VISIBLE  LOGVISIBLE MTBLNAME  SUBTBLNAME POPJSCPT  \\\n",
       "0       -4  ...  -4  -4       -4          -4       -4          -4       -4   \n",
       "1       -4  ...  -4  -4       -4          -4       -4          -4       -4   \n",
       "2       -4  ...  -4  -4       -4          -4       -4          -4       -4   \n",
       "3       -4  ...  -4  -4       -4          -4       -4          -4       -4   \n",
       "4       -4  ...  -4  -4       -4          -4       -4          -4       -4   \n",
       "5       -4  ...  -4  -4       -4          -4       -4          -4       -4   \n",
       "6       -4  ...  -4  -4       -4          -4       -4          -4       -4   \n",
       "7       -4  ...  -4  -4       -4          -4       -4          -4       -4   \n",
       "8       -4  ...  -4  -4       -4          -4       -4          -4       -4   \n",
       "9       -4  ...  -4  -4       -4          -4       -4          -4       -4   \n",
       "10      -4  ...  -4  -4       -4          -4       -4          -4       -4   \n",
       "11      -4  ...  -4  -4       -4          -4       -4          -4       -4   \n",
       "12      -4  ...  -4  -4       -4          -4       -4          -4       -4   \n",
       "13      -4  ...  -4  -4       -4          -4       -4          -4       -4   \n",
       "14      -4  ...  -4  -4       -4          -4       -4          -4       -4   \n",
       "15      -4  ...  -4  -4       -4          -4       -4          -4       -4   \n",
       "16      -4  ...  -4  -4       -4          -4       -4          -4       -4   \n",
       "17      -4  ...  -4  -4       -4          -4       -4          -4       -4   \n",
       "18      -4  ...  -4  -4       -4          -4       -4          -4       -4   \n",
       "19      -4  ...  -4  -4       -4          -4       -4          -4       -4   \n",
       "20      -4  ...  -4  -4       -4          -4       -4          -4       -4   \n",
       "21      -4  ...  -4  -4       -4          -4       -4          -4       -4   \n",
       "\n",
       "    GRID  DEF           update_stamp  \n",
       "0     -4   -4  2020-01-24 16:29:44.0  \n",
       "1     -4   -4  2020-01-24 16:29:44.0  \n",
       "2     -4   -4  2020-01-24 16:29:44.0  \n",
       "3     -4   -4  2020-01-24 16:29:44.0  \n",
       "4     -4   -4  2020-01-24 16:29:44.0  \n",
       "5     -4   -4  2020-01-24 16:29:44.0  \n",
       "6     -4   -4  2020-01-24 16:29:44.0  \n",
       "7     -4   -4  2020-01-24 16:29:44.0  \n",
       "8     -4   -4  2020-01-24 16:29:44.0  \n",
       "9     -4   -4  2020-01-24 16:29:44.0  \n",
       "10    -4   -4  2020-01-24 16:29:44.0  \n",
       "11    -4   -4  2020-01-24 16:29:44.0  \n",
       "12    -4   -4  2020-01-24 16:29:44.0  \n",
       "13    -4   -4  2020-01-24 16:29:44.0  \n",
       "14    -4   -4  2020-01-24 16:29:44.0  \n",
       "15    -4   -4  2020-01-24 16:29:44.0  \n",
       "16    -4   -4  2020-01-24 16:29:44.0  \n",
       "17    -4   -4  2020-01-24 16:29:44.0  \n",
       "18    -4   -4  2020-01-24 16:29:44.0  \n",
       "19    -4   -4  2020-01-24 16:29:44.0  \n",
       "20    -4   -4  2020-01-24 16:29:44.0  \n",
       "21    -4   -4  2020-01-24 16:29:44.0  \n",
       "\n",
       "[22 rows x 33 columns]"
      ]
     },
     "execution_count": 55,
     "metadata": {},
     "output_type": "execute_result"
    }
   ],
   "source": [
    "dictionary"
   ]
  }
 ],
 "metadata": {
  "kernelspec": {
   "display_name": "Python 3",
   "language": "python",
   "name": "python3"
  },
  "language_info": {
   "codemirror_mode": {
    "name": "ipython",
    "version": 3
   },
   "file_extension": ".py",
   "mimetype": "text/x-python",
   "name": "python",
   "nbconvert_exporter": "python",
   "pygments_lexer": "ipython3",
   "version": "3.7.7"
  }
 },
 "nbformat": 4,
 "nbformat_minor": 4
}
